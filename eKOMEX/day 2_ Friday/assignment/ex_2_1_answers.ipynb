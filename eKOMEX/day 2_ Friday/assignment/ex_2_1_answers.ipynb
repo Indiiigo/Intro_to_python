{
  "cells": [
    {
      "cell_type": "markdown",
      "metadata": {
        "id": "SN-mb9j3Yc1X"
      },
      "source": [
        "# Exercise: Introduction to Python & Basic Concepts"
      ]
    },
    {
      "cell_type": "markdown",
      "metadata": {
        "id": "72ZcTAGWYc1b"
      },
      "source": [
        "## Exercise 1\n",
        "This exercise covers variables, lists, and if-statements. You will repeat the first exercise of the first assignment but this time with functions."
      ]
    },
    {
      "cell_type": "markdown",
      "metadata": {
        "id": "-7-5-5waYc1b"
      },
      "source": [
        "Note: Please try to utilize functions during this exercise (instead of repeating tests!).\n",
        "\n",
        "1. Make a list of names that includes at least four people.\n",
        "2. Write an if test that prints a message about the room being crowded, if there are more than three people in your list.\n",
        "3. Modify your list so that there are only two people in it. Use one of the methods for removing people from the list, don't just redefine the list.\n",
        "4. Run your if test again. There should be no output this time, because there are less than three people in the list.\n",
        "5. Add an `else` statement to your if tests. If the `else` statement is run, have it print a message that the room is not very crowded.\n",
        "6. Add some names to your list, so that there are at least six people in the list. Use one of the methods for appending people from the list, don't just redefine the list.\n",
        "7. Modify your tests so that\n",
        "  - If there are more than 5 people, a message is printed about the room being very crowded.\n",
        "  - If there are 3-5 people, a message is printed about the room being crowded.\n",
        "  - If there are 1 or 2 people, a message is printed about the room not being crowded.\n",
        "  - If there are no people in the room, a message is printed abou the room being empty."
      ]
    },
    {
      "cell_type": "code",
      "execution_count": null,
      "metadata": {
        "id": "BRivZfxYYc1b"
      },
      "outputs": [],
      "source": [
        "print(\"####### step 1\")\n",
        "# Make a list of names that includes at least four people.\n",
        "people = [\"adele\", \"ken\", \"cody\", \"caroline\"]\n",
        "print(people)\n",
        "\n",
        "print(\"####### step 2\")\n",
        "# Write an if test that prints a message about the room being crowded, if there are more than three people in your list.\n",
        "def check_room(people):\n",
        "    if len(people) >= 3:\n",
        "        print(\"The room is crowded, there are {} people.\".format(len(people)))\n",
        "\n",
        "check_room(people)\n",
        "\n",
        "print(\"####### step 3\")\n",
        "# Modify your list so that there are only two people in it.\n",
        "people.remove(\"cody\")\n",
        "people.remove(\"caroline\")\n",
        "print(people)\n",
        "\n",
        "print(\"####### step 4\")\n",
        "# Run your if test again.\n",
        "check_room(people)\n",
        "\n",
        "print(\"####### step 5\")\n",
        "# Add an else statement to your if tests.\n",
        "# If the else statement is run, have it print a message that the room is not very crowded.\n",
        "def check_room(people):\n",
        "    if len(people) >= 3:\n",
        "        print(\"The room is crowded, there are {} people.\".format(len(people)))\n",
        "    else:\n",
        "        print(\"The room is not crowded, there are {} people.\".format(len(people)))\n",
        "\n",
        "check_room(people)\n",
        "\n",
        "print(\"####### step 6\")\n",
        "# Add some names to your list, so that there are at least six people in the list.\n",
        "people.append(\"cody\")\n",
        "people.append(\"caroline\")\n",
        "people.append(\"adriana\")\n",
        "people.append(\"billy\")\n",
        "check_room(people)\n",
        "\n",
        "print(\"####### step 7\")\n",
        "# Modify your tests so that\n",
        "def check_room(people):\n",
        "    # If there are more than 5 people, a message is printed about the room being very crowded.\n",
        "    if len(people) >= 5:\n",
        "        print(\"The room is very crowded, there are {} people.\".format(len(people)))\n",
        "    # If there are 3-5 people, a message is printed about the room being crowded.\n",
        "    elif len(people) >= 3:\n",
        "        print(\"The room is crowded, there are {} people.\".format(len(people)))\n",
        "    # If there are 1 or 2 people, a message is printed about the room not being crowded.\n",
        "    elif len(people) >= 1:\n",
        "        print(\"The room is not crowded, there are {} people.\".format(len(people)))\n",
        "    # If there are no people in the room, a message is printed abou the room being empty.\n",
        "    else:\n",
        "        print(\"The room is empty.\")\n",
        "\n",
        "check_room(people)\n",
        "check_room(people[:4])\n",
        "check_room(people[:2])\n",
        "check_room([])"
      ]
    },
    {
      "cell_type": "markdown",
      "metadata": {
        "id": "K8UhXKdwYc1b"
      },
      "source": [
        "## Dictionary Exercises 1"
      ]
    },
    {
      "cell_type": "markdown",
      "metadata": {
        "id": "vCY9U6Q2Yc1b"
      },
      "source": [
        "<a id=\"Exercises-nesting\"></a>\n",
        "#### Mountain Heights 3\n",
        "- This is an extension of [Mountain Heights](#exercise_mountain_heights). Make sure you save this program under a different filename, such as *mountain\\_heights_3.py*, so that you can go back to your original program if you need to.\n",
        "    - The list of [tallest mountains in the world](http://en.wikipedia.org/wiki/List_of_mountains_by_elevation) provided all elevations in meters. Convert each of these elevations to feet, given that a meter is approximately 3.28 feet. You can do these calculations by hand at this point.\n",
        "    - Create a new dictionary, where the keys of the dictionary are still the mountains' names. This time however, the values of the dictionary should be a list of each mountain's elevation in meters, and then in feet: {'everest': [8848, 29029]}\n",
        "    - Print out just the mountains' names, by looping through the keys of your dictionary.\n",
        "    - Print out just the mountains' elevations in meters, by looping through the values of your dictionary and pulling out the first number from each list.\n",
        "    - Print out just the mountains' elevations in feet, by looping through the values of your dictionary and pulling out the second number from each list.\n",
        "    - Print out a series of statements telling how tall each mountain is: \"Everest is 8848 meters tall, or 29029 feet.\"\n",
        "- Bonus:\n",
        "    - Start with your original program from [Mountain Heights](#exercise_mountain_heights). Write a function that reads through the elevations in meters, and returns a list of elevations in feet. Use this list to create the nested dictionary described above."
      ]
    },
    {
      "cell_type": "code",
      "source": [
        "mountain_dict = {\"Mount Everest\": 8448, \"K2\": 8611, \"Kanchenjunga\":8586, \"Lhotse\" : 8516, \"Cho Oyu\" : 8201}\n",
        "\n",
        "mountain_dict_2 = {}\n",
        "\n",
        "for mountain_name in mountain_dict:\n",
        "\tmountain_dict_2[mountain_name] = [mountain_dict[mountain_name], mountain_dict[mountain_name] * 3.82 ]\n",
        "\n",
        "# Print out just the mountains' names, by looping through the keys of your dictionary.\n",
        "\n",
        "for mountain_name in mountain_dict_2:\n",
        "\tprint(\"{} is a mountain.\".format(mountain_name))\n",
        "\n",
        "# Print out just the mountains' elevations in meters, by looping through the values of your dictionary and\n",
        "# pulling out the first number from each list.\n",
        "print()\n",
        "for mountain_height in mountain_dict_2.values():\n",
        "\tprint(\"{} is a mountain's height in meters.\".format(mountain_height[0]))\n",
        "\n",
        "# Print out just the mountains' elevations in feet, by looping through the values of your dictionary and\n",
        "# pulling out the second number from each list.\n",
        "print()\n",
        "for mountain_height in mountain_dict_2.values():\n",
        "\tprint(\"{} is a mountain's height in feet.\".format(mountain_height[1]))\n",
        "\n",
        "# Print out a series of statements telling how tall each mountain is: \"Everest is 8848 meters tall, or 29029 feet.\"\n",
        "print()\n",
        "for mountain_name in mountain_dict_2:\n",
        "\tprint(\"{} is {} meters tall, or {} feet tall.\".format(mountain_name, mountain_dict_2[mountain_name][0], mountain_dict_2[mountain_name][1]))"
      ],
      "metadata": {
        "id": "ubkwD2i09qKN"
      },
      "execution_count": null,
      "outputs": []
    }
  ],
  "metadata": {
    "kernelspec": {
      "display_name": "Python 2",
      "language": "python",
      "name": "python2"
    },
    "language_info": {
      "codemirror_mode": {
        "name": "ipython",
        "version": 2
      },
      "file_extension": ".py",
      "mimetype": "text/x-python",
      "name": "python",
      "nbconvert_exporter": "python",
      "pygments_lexer": "ipython2",
      "version": "2.7.12"
    },
    "toc": {
      "base_numbering": 1,
      "nav_menu": {},
      "number_sections": false,
      "sideBar": false,
      "skip_h1_title": true,
      "title_cell": "Table of Contents",
      "title_sidebar": "Contents",
      "toc_cell": false,
      "toc_position": {},
      "toc_section_display": false,
      "toc_window_display": false
    },
    "colab": {
      "provenance": []
    }
  },
  "nbformat": 4,
  "nbformat_minor": 0
}