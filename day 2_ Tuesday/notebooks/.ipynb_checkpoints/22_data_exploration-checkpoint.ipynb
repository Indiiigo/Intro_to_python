{
 "cells": [
  {
   "cell_type": "markdown",
   "metadata": {
    "toc": true
   },
   "source": [
    "<h1>Table of Contents<span class=\"tocSkip\"></span></h1>\n",
    "<div class=\"toc\"><ul class=\"toc-item\"><li><span><a href=\"#Loading-your-data\" data-toc-modified-id=\"Loading-your-data-1\"><span class=\"toc-item-num\">1&nbsp;&nbsp;</span>Loading your data</a></span></li><li><span><a href=\"#Getting-an-overview\" data-toc-modified-id=\"Getting-an-overview-2\"><span class=\"toc-item-num\">2&nbsp;&nbsp;</span>Getting an overview</a></span></li><li><span><a href=\"#Renaming-Columns\" data-toc-modified-id=\"Renaming-Columns-3\"><span class=\"toc-item-num\">3&nbsp;&nbsp;</span>Renaming Columns</a></span></li><li><span><a href=\"#Replacing-all-occurrences-of-a-string-in-a-column\" data-toc-modified-id=\"Replacing-all-occurrences-of-a-string-in-a-column-4\"><span class=\"toc-item-num\">4&nbsp;&nbsp;</span>Replacing all occurrences of a string in a column</a></span></li><li><span><a href=\"#Selecting-data-subsets\" data-toc-modified-id=\"Selecting-data-subsets-5\"><span class=\"toc-item-num\">5&nbsp;&nbsp;</span>Selecting data subsets</a></span><ul class=\"toc-item\"><li><span><a href=\"#Selecting-Columns-of-the-data\" data-toc-modified-id=\"Selecting-Columns-of-the-data-5.1\"><span class=\"toc-item-num\">5.1&nbsp;&nbsp;</span>Selecting Columns of the data</a></span></li><li><span><a href=\"#Ex-1.1\" data-toc-modified-id=\"Ex-1.1-5.2\"><span class=\"toc-item-num\">5.2&nbsp;&nbsp;</span>Ex 1.1</a></span></li><li><span><a href=\"#Iterator\" data-toc-modified-id=\"Iterator-5.3\"><span class=\"toc-item-num\">5.3&nbsp;&nbsp;</span>Iterator</a></span></li><li><span><a href=\"#Selecting-rows-by-position\" data-toc-modified-id=\"Selecting-rows-by-position-5.4\"><span class=\"toc-item-num\">5.4&nbsp;&nbsp;</span>Selecting rows by position</a></span></li><li><span><a href=\"#Selecting-rows-by-condition\" data-toc-modified-id=\"Selecting-rows-by-condition-5.5\"><span class=\"toc-item-num\">5.5&nbsp;&nbsp;</span>Selecting rows by condition</a></span></li></ul></li><li><span><a href=\"#Sorting\" data-toc-modified-id=\"Sorting-6\"><span class=\"toc-item-num\">6&nbsp;&nbsp;</span>Sorting</a></span></li><li><span><a href=\"#Ex-2.2\" data-toc-modified-id=\"Ex-2.2-7\"><span class=\"toc-item-num\">7&nbsp;&nbsp;</span>Ex 2.2</a></span></li><li><span><a href=\"#Optional\" data-toc-modified-id=\"Optional-8\"><span class=\"toc-item-num\">8&nbsp;&nbsp;</span>Optional</a></span></li></ul></div>"
   ]
  },
  {
   "cell_type": "markdown",
   "metadata": {},
   "source": [
    "# Basic Data Analysis with Pandas"
   ]
  },
  {
   "cell_type": "markdown",
   "metadata": {},
   "source": [
    "Pandas is a popular python package for data science, it offers expressive and flexible data structures for data manipulation and analysis. And here we will focus on one of these data structures (dataframes).\n",
    "\n",
    "Dataframes are way for storing data in rectangular grids that are easy to view and work with. Each row in a dataframe corresponds to values of an instance, while each column is a vector containing values for a specific variable of instances. The rows can contain different types of values such as numeric, character, logical etc."
   ]
  },
  {
   "cell_type": "code",
   "execution_count": null,
   "metadata": {},
   "outputs": [],
   "source": [
    "# Import the pandas module for data analysis as alias pd\n",
    "import pandas as pd"
   ]
  },
  {
   "cell_type": "markdown",
   "metadata": {},
   "source": [
    "## Loading your data"
   ]
  },
  {
   "cell_type": "markdown",
   "metadata": {},
   "source": [
    "There are a lot of supported data formats for reading (and writing) with pandas including csv, tsv, excel, hdf5, sas, stata, sql...  The documentation provides more details:\n",
    "http://pandas.pydata.org/pandas-docs/stable/io.html\n",
    "\n",
    "`read_csv` has several useful arguments, e.g. \"sep\" (default is \",\"), \"header\" (default is first line), \"error_bad_lines\"..."
   ]
  },
  {
   "cell_type": "code",
   "execution_count": null,
   "metadata": {},
   "outputs": [],
   "source": [
    "# read the dataset which is in csv format\n",
    "# Recognize \"?\" values as NA/NAN.\n",
    "df = pd.read_csv(\"data/adult.csv\", na_values=\"?\")\n",
    "# instead of path, you can pass a url to an online file"
   ]
  },
  {
   "cell_type": "markdown",
   "metadata": {},
   "source": [
    "Lets see what we have now:"
   ]
  },
  {
   "cell_type": "code",
   "execution_count": null,
   "metadata": {},
   "outputs": [],
   "source": [
    "type(df)"
   ]
  },
  {
   "cell_type": "code",
   "execution_count": null,
   "metadata": {},
   "outputs": [],
   "source": [
    "df"
   ]
  },
  {
   "cell_type": "markdown",
   "metadata": {},
   "source": [
    "## Getting an overview"
   ]
  },
  {
   "cell_type": "code",
   "execution_count": null,
   "metadata": {},
   "outputs": [],
   "source": [
    "df.info()"
   ]
  },
  {
   "cell_type": "code",
   "execution_count": null,
   "metadata": {},
   "outputs": [],
   "source": [
    "len(df)"
   ]
  },
  {
   "cell_type": "code",
   "execution_count": null,
   "metadata": {
    "scrolled": true
   },
   "outputs": [],
   "source": [
    "df.columns"
   ]
  },
  {
   "cell_type": "code",
   "execution_count": null,
   "metadata": {},
   "outputs": [],
   "source": [
    "# values: Return an array representing the data in the Index object\n",
    "df.columns.values"
   ]
  },
  {
   "cell_type": "markdown",
   "metadata": {},
   "source": [
    "We can get some more details with the dtypes functions:"
   ]
  },
  {
   "cell_type": "code",
   "execution_count": null,
   "metadata": {},
   "outputs": [],
   "source": [
    "df.dtypes"
   ]
  },
  {
   "cell_type": "code",
   "execution_count": null,
   "metadata": {
    "scrolled": true
   },
   "outputs": [],
   "source": [
    "# to summary statistics of the Dataframe\n",
    "df.describe()"
   ]
  },
  {
   "cell_type": "code",
   "execution_count": null,
   "metadata": {
    "scrolled": true
   },
   "outputs": [],
   "source": [
    "# Compute pairwise correlation of columns, excluding NA/null values.\n",
    "df.corr(numeric_only=True)"
   ]
  },
  {
   "cell_type": "markdown",
   "metadata": {},
   "source": [
    "## Renaming Columns"
   ]
  },
  {
   "cell_type": "code",
   "execution_count": null,
   "metadata": {},
   "outputs": [],
   "source": [
    "df.columns.values"
   ]
  },
  {
   "cell_type": "code",
   "execution_count": null,
   "metadata": {
    "scrolled": true
   },
   "outputs": [],
   "source": [
    "df = df.rename(columns={\"sex\" : \"gender\"})\n",
    "# df.rename(columns={\"sex\" : \"gender\"}, inplace=True)"
   ]
  },
  {
   "cell_type": "code",
   "execution_count": null,
   "metadata": {},
   "outputs": [],
   "source": [
    "df.columns.values"
   ]
  },
  {
   "cell_type": "code",
   "execution_count": null,
   "metadata": {
    "scrolled": true
   },
   "outputs": [],
   "source": [
    "df2 = df.rename(columns={\"gender\" : \"sex\", \"fnlwgt\" : \"weight\"})"
   ]
  },
  {
   "cell_type": "code",
   "execution_count": null,
   "metadata": {},
   "outputs": [],
   "source": [
    "df2.columns.values"
   ]
  },
  {
   "cell_type": "markdown",
   "metadata": {},
   "source": [
    "## Replacing all occurrences of a string in a column"
   ]
  },
  {
   "cell_type": "code",
   "execution_count": null,
   "metadata": {},
   "outputs": [],
   "source": [
    "# look at values in \"education\" column\n",
    "df2"
   ]
  },
  {
   "cell_type": "code",
   "execution_count": null,
   "metadata": {},
   "outputs": [],
   "source": [
    "# df2.education = df2.education.replace([\"Bachelors\", \"HS-grad\"], [\"Bachelor\", \"Highschool\"])\n",
    "df2.education.replace([\"Bachelors\", \"HS-grad\"], [\"Bachelor\", \"Highschool\"], inplace=True)\n",
    "df2"
   ]
  },
  {
   "cell_type": "markdown",
   "metadata": {},
   "source": [
    "## Selecting data subsets"
   ]
  },
  {
   "cell_type": "markdown",
   "metadata": {},
   "source": [
    "### Selecting Columns of the data"
   ]
  },
  {
   "cell_type": "code",
   "execution_count": null,
   "metadata": {
    "scrolled": true
   },
   "outputs": [],
   "source": [
    "# Selecting a specific column of the data:\n",
    "age = df['age']\n",
    "age"
   ]
  },
  {
   "cell_type": "code",
   "execution_count": null,
   "metadata": {
    "scrolled": true
   },
   "outputs": [],
   "source": [
    "# an alternative syntax for selecting a single column\n",
    "df.age"
   ]
  },
  {
   "cell_type": "code",
   "execution_count": null,
   "metadata": {
    "scrolled": true
   },
   "outputs": [],
   "source": [
    "# For a single column that returns a pandas.Series object\n",
    "type(age)"
   ]
  },
  {
   "cell_type": "code",
   "execution_count": null,
   "metadata": {
    "scrolled": true
   },
   "outputs": [],
   "source": [
    "# We can compute basically any univariate statistic from a series\n",
    "print(\"Mean:\", age.mean())\n",
    "print(\"Standard deviation:\", age.std())\n",
    "print(\"Median:\", age.median())\n",
    "print(\"Maximum value:\", age.max())\n",
    "print(\"Index of first occurrence of maximum value:\", age.idxmax())\n",
    "print(\"Mode:\", age.mode())\n",
    "print(\"25-percentile:\", age.quantile(0.25))"
   ]
  },
  {
   "cell_type": "code",
   "execution_count": null,
   "metadata": {
    "scrolled": true
   },
   "outputs": [],
   "source": [
    "# we could simply convert this to a list object, but this is something we rarely ever need\n",
    "# list(age)"
   ]
  },
  {
   "cell_type": "code",
   "execution_count": null,
   "metadata": {
    "scrolled": true
   },
   "outputs": [],
   "source": [
    "df.gender"
   ]
  },
  {
   "cell_type": "code",
   "execution_count": null,
   "metadata": {
    "scrolled": true
   },
   "outputs": [],
   "source": [
    "df.gender.unique()"
   ]
  },
  {
   "cell_type": "code",
   "execution_count": null,
   "metadata": {
    "scrolled": true
   },
   "outputs": [],
   "source": [
    "df.gender.value_counts()"
   ]
  },
  {
   "cell_type": "code",
   "execution_count": null,
   "metadata": {},
   "outputs": [],
   "source": [
    "# array of values in each row\n",
    "df.values"
   ]
  },
  {
   "cell_type": "code",
   "execution_count": null,
   "metadata": {
    "scrolled": true
   },
   "outputs": [],
   "source": [
    "# we can also select multiple columns using a list of column names\n",
    "df2 = df[['age', 'sex', 'education']]\n",
    "type(df2)"
   ]
  },
  {
   "cell_type": "markdown",
   "metadata": {},
   "source": [
    "We get an error because we had renamed the coloumn 'sex' to 'gender'."
   ]
  },
  {
   "cell_type": "code",
   "execution_count": null,
   "metadata": {
    "scrolled": true
   },
   "outputs": [],
   "source": [
    "df2 = df[['age', 'gender', 'education']]\n",
    "type(df2)"
   ]
  },
  {
   "cell_type": "code",
   "execution_count": null,
   "metadata": {
    "scrolled": true
   },
   "outputs": [],
   "source": [
    "df2"
   ]
  },
  {
   "cell_type": "markdown",
   "metadata": {},
   "source": [
    "### Ex 1\n",
    "1. Load \"adult.csv\" into dataframe named adult_df (recognize \"?\" values as NA/NAN)\n",
    "2. Get a subset of the dataframe with columns \"age\", \"sex\", \"education\", \"hours-per-week\", \"capital-gain\"\n",
    "3. Rename column \"capital-gain\" to \"capital_gain\"\n",
    "4. Print the column names of adults_df\n",
    "5. Print number of different values for the attribute education\n",
    "6. Print the mean \"working time per week\"\n",
    "7. Print the max \"capital_gain\""
   ]
  },
  {
   "cell_type": "code",
   "execution_count": null,
   "metadata": {},
   "outputs": [],
   "source": [
    "# %load \"21_data_exploration_ex_1.py\""
   ]
  },
  {
   "cell_type": "markdown",
   "metadata": {},
   "source": [
    "### Iterator"
   ]
  },
  {
   "cell_type": "code",
   "execution_count": null,
   "metadata": {},
   "outputs": [],
   "source": [
    "# iterate over column names\n",
    "column_names = df.columns.values\n",
    "for column_name in column_names:\n",
    "    print(column_name)"
   ]
  },
  {
   "cell_type": "code",
   "execution_count": null,
   "metadata": {
    "scrolled": true
   },
   "outputs": [],
   "source": [
    "# iterate over rows as (index, Series) pairs.\n",
    "for i, row_data in df.iterrows():\n",
    "    print(i, type(row_data))\n",
    "    print(row_data)\n",
    "    print(\"-------\")\n",
    "    print(row_data.education)\n",
    "    break"
   ]
  },
  {
   "cell_type": "code",
   "execution_count": null,
   "metadata": {},
   "outputs": [],
   "source": [
    "# Iterate over DataFrame rows as namedtuples.\n",
    "for row_data in df.itertuples():\n",
    "    print(row_data[0], type(row_data))\n",
    "    print(row_data)\n",
    "    print(\"-------\")\n",
    "    print(row_data.education)\n",
    "    break"
   ]
  },
  {
   "cell_type": "markdown",
   "metadata": {},
   "source": [
    "### Selecting rows by position"
   ]
  },
  {
   "cell_type": "code",
   "execution_count": null,
   "metadata": {
    "scrolled": false
   },
   "outputs": [],
   "source": [
    "# get the first 5 rows\n",
    "# attention to most left column -> index\n",
    "df.head()"
   ]
  },
  {
   "cell_type": "code",
   "execution_count": null,
   "metadata": {
    "scrolled": true
   },
   "outputs": [],
   "source": [
    "# get the first 4 rows\n",
    "df.head(4)"
   ]
  },
  {
   "cell_type": "code",
   "execution_count": null,
   "metadata": {},
   "outputs": [],
   "source": [
    "# get the last 3 rows\n",
    "df.tail(3)"
   ]
  },
  {
   "cell_type": "code",
   "execution_count": null,
   "metadata": {
    "scrolled": true
   },
   "outputs": [],
   "source": [
    "# shows a random sample of rows\n",
    "df_sample = df.sample(3)\n",
    "df_sample"
   ]
  },
  {
   "cell_type": "code",
   "execution_count": null,
   "metadata": {
    "scrolled": true
   },
   "outputs": [],
   "source": [
    "# Selecting a specific single row \n",
    "# iloc (integer locate) works on the positions in your index (selection by position)\n",
    "# iloc is primarily integer position based (from 0 to length-1 of the axis). \n",
    "# So it uses the position of the row in the index.\n",
    "\n",
    "# get the row with index 2 (select a row by position)\n",
    "# Note that index starts with 0\n",
    "df.iloc[2]"
   ]
  },
  {
   "cell_type": "code",
   "execution_count": null,
   "metadata": {
    "scrolled": true
   },
   "outputs": [],
   "source": [
    "type(df.iloc[2])"
   ]
  },
  {
   "cell_type": "code",
   "execution_count": null,
   "metadata": {},
   "outputs": [],
   "source": [
    "df_sample.iloc[1]"
   ]
  },
  {
   "cell_type": "code",
   "execution_count": null,
   "metadata": {
    "scrolled": true
   },
   "outputs": [],
   "source": [
    "# select a specific range of rows\n",
    "df.iloc[10:20]"
   ]
  },
  {
   "cell_type": "code",
   "execution_count": null,
   "metadata": {
    "scrolled": true
   },
   "outputs": [],
   "source": [
    "df2 = df.iloc[10:20]\n",
    "df2"
   ]
  },
  {
   "cell_type": "code",
   "execution_count": null,
   "metadata": {
    "scrolled": false
   },
   "outputs": [],
   "source": [
    "df2.iloc[5]"
   ]
  },
  {
   "cell_type": "code",
   "execution_count": null,
   "metadata": {},
   "outputs": [],
   "source": [
    "# The loc function uses the label in the index, not the integer position along the index.\n",
    "# .loc[] works on labels of your index\n",
    "# select a row by label\n",
    "df2.loc[15]"
   ]
  },
  {
   "cell_type": "code",
   "execution_count": null,
   "metadata": {},
   "outputs": [],
   "source": [
    "df2.iloc[5].equals(df2.loc[15])"
   ]
  },
  {
   "cell_type": "code",
   "execution_count": null,
   "metadata": {
    "scrolled": true
   },
   "outputs": [],
   "source": [
    "# df2 has no index which has label 5\n",
    "df2.loc[5]"
   ]
  },
  {
   "cell_type": "code",
   "execution_count": null,
   "metadata": {
    "scrolled": true
   },
   "outputs": [],
   "source": [
    "# reset the current index\n",
    "# if no \"drop=True\", it tries to insert index into columns\n",
    "df2.reset_index(drop=True, inplace=True)\n",
    "df2"
   ]
  },
  {
   "cell_type": "code",
   "execution_count": null,
   "metadata": {
    "scrolled": false
   },
   "outputs": [],
   "source": [
    "df2.loc[5]"
   ]
  },
  {
   "cell_type": "code",
   "execution_count": null,
   "metadata": {},
   "outputs": [],
   "source": [
    "df2.iloc[5].equals(df2.loc[5])"
   ]
  },
  {
   "cell_type": "markdown",
   "metadata": {},
   "source": [
    "### Selecting rows by condition"
   ]
  },
  {
   "cell_type": "code",
   "execution_count": null,
   "metadata": {},
   "outputs": [],
   "source": [
    "h = df.head()"
   ]
  },
  {
   "cell_type": "markdown",
   "metadata": {},
   "source": [
    "As a reminder, given a list of strings, [] will select columns of the data."
   ]
  },
  {
   "cell_type": "code",
   "execution_count": null,
   "metadata": {},
   "outputs": [],
   "source": [
    "h[[\"age\", \"gender\"]]"
   ]
  },
  {
   "cell_type": "markdown",
   "metadata": {},
   "source": [
    "If it is used with lists of booleans, then rows are selected instead!"
   ]
  },
  {
   "cell_type": "code",
   "execution_count": null,
   "metadata": {},
   "outputs": [],
   "source": [
    "# select row with index 0, 1 and 4\n",
    "h[[True, True, False, False, True]]"
   ]
  },
  {
   "cell_type": "markdown",
   "metadata": {},
   "source": [
    "Slight excursion: We can do many computations with series just as with single numbers:"
   ]
  },
  {
   "cell_type": "code",
   "execution_count": null,
   "metadata": {
    "scrolled": true
   },
   "outputs": [],
   "source": [
    "# h.capital-gain\n",
    "h.age"
   ]
  },
  {
   "cell_type": "code",
   "execution_count": null,
   "metadata": {},
   "outputs": [],
   "source": [
    "# make floor division and multiple by 10 / remove the units digit\n",
    "# the computation on the right side is applied to each row in dataframe\n",
    "h.age // 10 * 10"
   ]
  },
  {
   "cell_type": "code",
   "execution_count": null,
   "metadata": {},
   "outputs": [],
   "source": [
    "h.age < 40"
   ]
  },
  {
   "cell_type": "code",
   "execution_count": null,
   "metadata": {},
   "outputs": [],
   "source": [
    "h[[True, False, True, False, True]]"
   ]
  },
  {
   "cell_type": "markdown",
   "metadata": {},
   "source": [
    "Instead of selecting rows manually, now let's do it programmatically."
   ]
  },
  {
   "cell_type": "code",
   "execution_count": null,
   "metadata": {},
   "outputs": [],
   "source": [
    "# now... this can be very useful\n",
    "# get the people younger than 40\n",
    "h[h[\"age\"] < 40]"
   ]
  },
  {
   "cell_type": "code",
   "execution_count": null,
   "metadata": {},
   "outputs": [],
   "source": [
    "len(df[df.age < 40])"
   ]
  },
  {
   "cell_type": "code",
   "execution_count": null,
   "metadata": {},
   "outputs": [],
   "source": [
    "young = df[df.age < 40]\n",
    "len(young)"
   ]
  },
  {
   "cell_type": "code",
   "execution_count": null,
   "metadata": {},
   "outputs": [],
   "source": [
    "len(df[df.age < 20])"
   ]
  },
  {
   "cell_type": "code",
   "execution_count": null,
   "metadata": {},
   "outputs": [],
   "source": [
    "females = df[df.gender == \"Female\"]\n",
    "females"
   ]
  },
  {
   "cell_type": "code",
   "execution_count": null,
   "metadata": {
    "scrolled": true
   },
   "outputs": [],
   "source": [
    "# to combine multiple conditions use &\n",
    "(df.age < 40) & (df.gender ==\"Female\")"
   ]
  },
  {
   "cell_type": "code",
   "execution_count": null,
   "metadata": {
    "scrolled": true
   },
   "outputs": [],
   "source": [
    "young_females = df[(df.age < 40) & (df.gender == \"Female\")]\n",
    "young_females"
   ]
  },
  {
   "cell_type": "code",
   "execution_count": null,
   "metadata": {
    "scrolled": true
   },
   "outputs": [],
   "source": [
    "young_or_female = df[(df.age < 40) | (df.gender == \"Female\")]\n",
    "young_or_female"
   ]
  },
  {
   "cell_type": "markdown",
   "metadata": {},
   "source": [
    "Note: **&** and **|** are bitwise operators. Bitwise operators are used to compare (binary) numbers.\n",
    "\n",
    "- & -> AND: Sets each bit to 1 if both bits are 1\n",
    "- |\t-> OR: Sets each bit to 1 if one of two bits is 1"
   ]
  },
  {
   "cell_type": "markdown",
   "metadata": {},
   "source": [
    "## Sorting"
   ]
  },
  {
   "cell_type": "code",
   "execution_count": null,
   "metadata": {
    "scrolled": true
   },
   "outputs": [],
   "source": [
    "df.sort_values(\"age\", inplace=True)"
   ]
  },
  {
   "cell_type": "code",
   "execution_count": null,
   "metadata": {},
   "outputs": [],
   "source": [
    "df"
   ]
  },
  {
   "cell_type": "code",
   "execution_count": null,
   "metadata": {},
   "outputs": [],
   "source": [
    "df.sort_values (\"age\", ascending=False)"
   ]
  },
  {
   "cell_type": "code",
   "execution_count": null,
   "metadata": {
    "scrolled": true
   },
   "outputs": [],
   "source": [
    "# because it was not in place.\n",
    "df"
   ]
  },
  {
   "cell_type": "code",
   "execution_count": null,
   "metadata": {
    "scrolled": true
   },
   "outputs": [],
   "source": [
    "df.sort_values([\"age\", \"hours-per-week\"]).head(25)"
   ]
  },
  {
   "cell_type": "code",
   "execution_count": null,
   "metadata": {
    "scrolled": true
   },
   "outputs": [],
   "source": [
    "df.sort_values([\"age\",\"hours-per-week\"], ascending=False).head(25)"
   ]
  },
  {
   "cell_type": "markdown",
   "metadata": {},
   "source": [
    "## Ex 2\n",
    "1. Use adult_df\n",
    "2. Get all persons with a Bachelor degree as their highest degree into 'bachelors' dataframe\n",
    "3. Print the number of those persons\n",
    "4. Print the sum of their capital_gain\n",
    "5. How many of those persons male and female?\n",
    "6. Sort them according to their capital_gain and age in descending order and save in the same object\n",
    "7. Print first 10 of those persons who has age between 20 and 40"
   ]
  },
  {
   "cell_type": "code",
   "execution_count": null,
   "metadata": {},
   "outputs": [],
   "source": [
    "# %load \"21_data_exploration_ex_2.py\"\n",
    "# ####### step 2\n",
    "bachelors = adult_df[adult_df[\"education\"] == \"Bachelors\"]\n",
    "\n",
    "print(\"####### step 3\")\n",
    "print(\"Number of persons with a Bachelor degree as their highest degree:\", len(bachelors))\n",
    "\n",
    "print(\"####### step 4\")\n",
    "print(\"Sum of their capital_gain: \", bachelors.capital_gain.sum())\n",
    "\n",
    "print(\"####### step 5\")\n",
    "print(bachelors.sex.value_counts())\n",
    "print('-------OR-------')\n",
    "print(\"Female: \", len(bachelors[bachelors[\"sex\"] == \"Female\"]))\n",
    "print(\"Male: \", len(bachelors[bachelors[\"sex\"] == \"Male\"]))\n",
    "\n",
    "# ####### step 6\n",
    "bachelors = bachelors.sort_values([\"capital_gain\", \"age\"], ascending=False)\n",
    "\n",
    "print(\"####### step 7\")\n",
    "bachelors[(bachelors[\"age\"] >= 20) & (bachelors[\"age\"] <= 40)].head(10)"
   ]
  },
  {
   "cell_type": "markdown",
   "metadata": {},
   "source": [
    "## Optional"
   ]
  },
  {
   "cell_type": "code",
   "execution_count": null,
   "metadata": {},
   "outputs": [],
   "source": [
    "df.head(10)"
   ]
  },
  {
   "cell_type": "code",
   "execution_count": null,
   "metadata": {},
   "outputs": [],
   "source": [
    "# select the row with index 9\n",
    "df.iloc[9]"
   ]
  },
  {
   "cell_type": "code",
   "execution_count": null,
   "metadata": {},
   "outputs": [],
   "source": [
    "# select row 9 and column 1 (workclass)\n",
    "# remember that index starts with 0\n",
    "df.iloc[9, 1]"
   ]
  },
  {
   "cell_type": "code",
   "execution_count": null,
   "metadata": {},
   "outputs": [],
   "source": [
    "# select the row with index 9\n",
    "df.iloc[9, :]"
   ]
  },
  {
   "cell_type": "code",
   "execution_count": null,
   "metadata": {},
   "outputs": [],
   "source": [
    "df.loc[9, \"workclass\"]"
   ]
  },
  {
   "cell_type": "code",
   "execution_count": null,
   "metadata": {
    "scrolled": true
   },
   "outputs": [],
   "source": [
    "# select column \"workclass\"\n",
    "df.loc[:, \"workclass\"]"
   ]
  },
  {
   "cell_type": "code",
   "execution_count": null,
   "metadata": {},
   "outputs": [],
   "source": [
    "# it is same as df.workclass\n",
    "df.loc[:, \"workclass\"].equals(df.workclass)"
   ]
  },
  {
   "cell_type": "code",
   "execution_count": null,
   "metadata": {
    "scrolled": true
   },
   "outputs": [],
   "source": [
    "df[[\"workclass\", \"fnlwgt\"]]"
   ]
  },
  {
   "cell_type": "code",
   "execution_count": null,
   "metadata": {
    "scrolled": true
   },
   "outputs": [],
   "source": [
    "df.iloc[:, 1:3]"
   ]
  },
  {
   "cell_type": "code",
   "execution_count": null,
   "metadata": {},
   "outputs": [],
   "source": [
    "# pandas.core.frame.DataFrame.corr() accept these methods:\n",
    "# - pearson (default) : standard correlation coefficient\n",
    "# - kendall : Kendall Tau correlation coefficient\n",
    "# - spearman : Spearman rank correlation\n",
    "\n",
    "df.corr(numeric_only=True)"
   ]
  },
  {
   "cell_type": "code",
   "execution_count": null,
   "metadata": {},
   "outputs": [],
   "source": [
    "df.corr(method=\"spearman\", numeric_only=True)"
   ]
  },
  {
   "cell_type": "code",
   "execution_count": null,
   "metadata": {},
   "outputs": [],
   "source": []
  },
  {
   "cell_type": "code",
   "execution_count": null,
   "metadata": {},
   "outputs": [],
   "source": []
  }
 ],
 "metadata": {
  "hide_input": false,
  "kernelspec": {
   "display_name": "Python 3 (ipykernel)",
   "language": "python",
   "name": "python3"
  },
  "language_info": {
   "codemirror_mode": {
    "name": "ipython",
    "version": 3
   },
   "file_extension": ".py",
   "mimetype": "text/x-python",
   "name": "python",
   "nbconvert_exporter": "python",
   "pygments_lexer": "ipython3",
   "version": "3.11.5"
  },
  "nav_menu": {},
  "toc": {
   "base_numbering": 1,
   "nav_menu": {
    "height": "322px",
    "width": "470px"
   },
   "number_sections": true,
   "sideBar": true,
   "skip_h1_title": true,
   "title_cell": "Table of Contents",
   "title_sidebar": "Contents",
   "toc_cell": true,
   "toc_position": {
    "height": "calc(100% - 180px)",
    "left": "10px",
    "top": "150px",
    "width": "256px"
   },
   "toc_section_display": true,
   "toc_window_display": false
  },
  "varInspector": {
   "cols": {
    "lenName": 16,
    "lenType": 16,
    "lenVar": 40
   },
   "kernels_config": {
    "python": {
     "delete_cmd_postfix": "",
     "delete_cmd_prefix": "del ",
     "library": "var_list.py",
     "varRefreshCmd": "print(var_dic_list())"
    },
    "r": {
     "delete_cmd_postfix": ") ",
     "delete_cmd_prefix": "rm(",
     "library": "var_list.r",
     "varRefreshCmd": "cat(var_dic_list()) "
    }
   },
   "types_to_exclude": [
    "module",
    "function",
    "builtin_function_or_method",
    "instance",
    "_Feature"
   ],
   "window_display": false
  }
 },
 "nbformat": 4,
 "nbformat_minor": 2
}
