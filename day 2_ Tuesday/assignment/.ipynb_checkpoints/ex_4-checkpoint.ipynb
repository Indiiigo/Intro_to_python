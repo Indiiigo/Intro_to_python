{
 "cells": [
  {
   "cell_type": "markdown",
   "metadata": {
    "id": "VDM62QDIgOyE"
   },
   "source": [
    "# Assignment 5: Data visualization\n",
    "Indira Sen"
   ]
  },
  {
   "cell_type": "code",
   "execution_count": null,
   "metadata": {
    "id": "LT5rZK_-gOyM"
   },
   "outputs": [],
   "source": [
    "import numpy as np\n",
    "import matplotlib.pyplot as plt\n",
    "%matplotlib inline"
   ]
  },
  {
   "cell_type": "markdown",
   "metadata": {
    "id": "f0U5WmpYgOyO"
   },
   "source": [
    "# Toy data"
   ]
  },
  {
   "cell_type": "markdown",
   "metadata": {
    "id": "Wu2xvrbngOyO"
   },
   "source": [
    "## 1. Create a scatter plot for the following data (2 points)"
   ]
  },
  {
   "cell_type": "code",
   "execution_count": null,
   "metadata": {
    "id": "WiynGMw3gOyP"
   },
   "outputs": [],
   "source": [
    "age = [32,34,19,33,57,15,62,65,32,17]\n",
    "income = [52000,27000,7000,23000,18500,50000,72000,22000,42000,0]"
   ]
  },
  {
   "cell_type": "markdown",
   "metadata": {
    "id": "O69eSsV4gOyQ"
   },
   "source": [
    "## 2. Create a simple line plot with two lines comparing the following measurements (2 points)\n",
    "\n"
   ]
  },
  {
   "cell_type": "code",
   "execution_count": null,
   "metadata": {
    "id": "HAgZc8osgOyR"
   },
   "outputs": [],
   "source": [
    "weather_station_1 = [22,17,18,19,25,26,28,17,15,12]\n",
    "weather_station_2 = [24,19,17,18,24,27,29,15,14,10]"
   ]
  },
  {
   "cell_type": "markdown",
   "metadata": {
    "id": "Mnyk81qtgOyR"
   },
   "source": [
    "## 3. Style this plot (1 point)\n",
    "The line colors should be red and blue; Add a legend; set the visible area for the y-axis from -5 to 35"
   ]
  },
  {
   "cell_type": "code",
   "execution_count": null,
   "metadata": {
    "id": "vmk570wZgOyS"
   },
   "outputs": [],
   "source": []
  },
  {
   "cell_type": "markdown",
   "metadata": {
    "id": "yL6WShOkgOyT"
   },
   "source": [
    "## 4. Visualize the following election data with a paired bar chart"
   ]
  },
  {
   "cell_type": "code",
   "execution_count": null,
   "metadata": {
    "id": "uCAM-7hygOyU"
   },
   "outputs": [],
   "source": [
    "parties = [\"CDU\",\"SPD\",\"AfD\", \"FDP\", \"DIE LINKE\", \"GRÜNE\", \"CSU\", \"Sonstige\"]\n",
    "result_2017 = [26.8,20.5,12.6,10.7,9.2,8.9,6.2,5.0]\n",
    "result_2013 = [34.1,25.7,4.7,4.8,8.6,8.4,7.4,6.2]"
   ]
  },
  {
   "cell_type": "markdown",
   "metadata": {
    "id": "gAt1VfCtgOyU"
   },
   "source": [
    "## Create two pie charts for the above election data (2 points)"
   ]
  },
  {
   "cell_type": "code",
   "execution_count": null,
   "metadata": {
    "id": "SIT_-LDKgOyV"
   },
   "outputs": [],
   "source": []
  },
  {
   "cell_type": "markdown",
   "metadata": {
    "id": "u3hmt0EngOyV"
   },
   "source": [
    "# Quality of Government dataset"
   ]
  },
  {
   "cell_type": "code",
   "execution_count": null,
   "metadata": {
    "id": "ccVBJbUKgOyV"
   },
   "outputs": [],
   "source": [
    "import pandas as pd"
   ]
  },
  {
   "cell_type": "code",
   "execution_count": null,
   "metadata": {
    "id": "SgMaL11xgOyV"
   },
   "outputs": [],
   "source": [
    "#read the data directly online:\n",
    "data = pd.read_csv (\"http://www.qogdata.pol.gu.se/dataarchive/qog_std_cs_jan17.csv\")\n",
    "df = data [[\"cname\", \"wdi_pop\", \"wdi_popgr\", \"wdi_gdpcapcur\", \"wdi_gdpcapgr\", \"wdi_area\", \"wdi_broadb\", \"ht_region\"]]\n",
    "df.columns = [\"name\", \"population\",\"population_growth\", \"gdp_per_capita\", \"gdp_growth\", \"area\", \"internet\", \"region\"]\n",
    "df.region = df.region.replace (range(1,11) , [\"Eastern Europe\", \"Latin America\", \"North Africa & Middle East\", \"Sub-Saharan Africa\", \"Western Europe and North America\", \"East Asia\",\"South-East Asia\", \"South Asia\", \"Pacific\", \"Caribbean\"])"
   ]
  },
  {
   "cell_type": "code",
   "execution_count": null,
   "metadata": {
    "id": "Af1a2CsvgOyW"
   },
   "outputs": [],
   "source": [
    "# lets pre-compute the population density for each country, we will need it a couple of times\n",
    "df [\"population_density\"] = df.population / df.area"
   ]
  },
  {
   "cell_type": "markdown",
   "metadata": {
    "id": "gya7IVaFgOyW"
   },
   "source": [
    "## 5. Plot a bar chart of the population density in each country. Sort the bars in descending order of the population density (2 points)\n",
    "\n"
   ]
  },
  {
   "cell_type": "code",
   "execution_count": null,
   "metadata": {
    "id": "sUx3nLIVgOyX"
   },
   "outputs": [],
   "source": []
  },
  {
   "cell_type": "markdown",
   "metadata": {
    "id": "u_Em-ISogOyX"
   },
   "source": [
    "## 6. Plot a bar chart for the population in each country. Test the effect of using a logarithmic scale on the y-axis (2 points)"
   ]
  },
  {
   "cell_type": "code",
   "execution_count": null,
   "metadata": {
    "id": "IwK2K9EvgOyX"
   },
   "outputs": [],
   "source": []
  },
  {
   "cell_type": "markdown",
   "metadata": {
    "id": "F85p9mX9gOyX"
   },
   "source": [
    "## 7. Plot a histogram for the attribute 'population_growth' (1 point)"
   ]
  },
  {
   "cell_type": "code",
   "execution_count": null,
   "metadata": {
    "id": "aBY3C9t5gOyX"
   },
   "outputs": [],
   "source": []
  },
  {
   "cell_type": "markdown",
   "metadata": {
    "id": "ccrLEJzFgOyY"
   },
   "source": [
    "## 8. Compute the average (per country) population_growth and gdp_per_capita for each region. Plot these in a scatter plot against each other  (2 points)"
   ]
  },
  {
   "cell_type": "code",
   "execution_count": null,
   "metadata": {
    "id": "xjVXcg8LgOyY"
   },
   "outputs": [],
   "source": []
  },
  {
   "cell_type": "markdown",
   "metadata": {
    "id": "8jHJOhgygOyY"
   },
   "source": [
    "## 9. Bonus: Add to the last plot a label  (region name) for each region  (1 point)"
   ]
  },
  {
   "cell_type": "code",
   "execution_count": null,
   "metadata": {
    "id": "f0s_TpJBgOyZ"
   },
   "outputs": [],
   "source": []
  }
 ],
 "metadata": {
  "colab": {
   "provenance": []
  },
  "kernelspec": {
   "display_name": "Python 3 (ipykernel)",
   "language": "python",
   "name": "python3"
  },
  "language_info": {
   "codemirror_mode": {
    "name": "ipython",
    "version": 3
   },
   "file_extension": ".py",
   "mimetype": "text/x-python",
   "name": "python",
   "nbconvert_exporter": "python",
   "pygments_lexer": "ipython3",
   "version": "3.11.5"
  },
  "nav_menu": {},
  "toc": {
   "base_numbering": 1,
   "nav_menu": {},
   "number_sections": true,
   "sideBar": true,
   "skip_h1_title": false,
   "title_cell": "Table of Contents",
   "title_sidebar": "Contents",
   "toc_cell": false,
   "toc_position": {},
   "toc_section_display": "block",
   "toc_window_display": false
  },
  "varInspector": {
   "cols": {
    "lenName": 16,
    "lenType": 16,
    "lenVar": 40
   },
   "kernels_config": {
    "python": {
     "delete_cmd_postfix": "",
     "delete_cmd_prefix": "del ",
     "library": "var_list.py",
     "varRefreshCmd": "print(var_dic_list())"
    },
    "r": {
     "delete_cmd_postfix": ") ",
     "delete_cmd_prefix": "rm(",
     "library": "var_list.r",
     "varRefreshCmd": "cat(var_dic_list()) "
    }
   },
   "types_to_exclude": [
    "module",
    "function",
    "builtin_function_or_method",
    "instance",
    "_Feature"
   ],
   "window_display": false
  }
 },
 "nbformat": 4,
 "nbformat_minor": 1
}
