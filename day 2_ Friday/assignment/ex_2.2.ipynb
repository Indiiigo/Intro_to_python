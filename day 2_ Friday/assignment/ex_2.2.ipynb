{
 "cells": [
  {
   "cell_type": "markdown",
   "metadata": {
    "id": "VDM62QDIgOyE"
   },
   "source": [
    "# Assignment 2.3: Data visualization\n",
    "\n",
    "In this assignment we will practice data vizualization techniques."
   ]
  },
  {
   "cell_type": "code",
   "execution_count": null,
   "metadata": {
    "id": "LT5rZK_-gOyM"
   },
   "outputs": [],
   "source": [
    "import numpy as np\n",
    "import matplotlib.pyplot as plt\n",
    "%matplotlib inline"
   ]
  },
  {
   "cell_type": "markdown",
   "metadata": {
    "id": "f0U5WmpYgOyO"
   },
   "source": [
    "# Toy data"
   ]
  },
  {
   "cell_type": "markdown",
   "metadata": {
    "id": "Wu2xvrbngOyO"
   },
   "source": [
    "## 1. Create a scatter plot for the following data"
   ]
  },
  {
   "cell_type": "code",
   "execution_count": null,
   "metadata": {
    "id": "WiynGMw3gOyP"
   },
   "outputs": [],
   "source": [
    "age = [32,34,19,33,57,15,62,65,32,17]\n",
    "income = [52000,27000,7000,23000,18500,50000,72000,22000,42000,0]"
   ]
  },
  {
   "cell_type": "markdown",
   "metadata": {
    "id": "O69eSsV4gOyQ"
   },
   "source": [
    "## 2. Create a simple line plot with two lines comparing the following measurements"
   ]
  },
  {
   "cell_type": "code",
   "execution_count": null,
   "metadata": {
    "id": "HAgZc8osgOyR"
   },
   "outputs": [],
   "source": [
    "weather_station_1 = [22,17,18,19,25,26,28,17,15,12]\n",
    "weather_station_2 = [24,19,17,18,24,27,29,15,14,10]"
   ]
  },
  {
   "cell_type": "markdown",
   "metadata": {
    "id": "Mnyk81qtgOyR"
   },
   "source": [
    "## 3. Style this plot\n",
    "The line colors should be red and blue; Add a legend; set the visible area for the y-axis from -5 to 35"
   ]
  },
  {
   "cell_type": "code",
   "execution_count": null,
   "metadata": {
    "id": "vmk570wZgOyS"
   },
   "outputs": [],
   "source": []
  },
  {
   "cell_type": "markdown",
   "metadata": {
    "id": "yL6WShOkgOyT"
   },
   "source": [
    "## 4. Visualize the following election data with a paired bar chart"
   ]
  },
  {
   "cell_type": "code",
   "execution_count": null,
   "metadata": {},
   "outputs": [],
   "source": [
    "parties = [\"CDU\",\"SPD\",\"AfD\", \"FDP\", \"DIE LINKE\", \"GRÜNE\", \"CSU\", \"Sonstige\"]\n",
    "result_2017 = [26.8,20.5,12.6,10.7,9.2,8.9,6.2,5.0]\n",
    "result_2013 = [34.1,25.7,4.7,4.8,8.6,8.4,7.4,6.2]"
   ]
  },
  {
   "cell_type": "code",
   "execution_count": null,
   "metadata": {
    "id": "uCAM-7hygOyU"
   },
   "outputs": [],
   "source": []
  },
  {
   "cell_type": "markdown",
   "metadata": {
    "id": "gAt1VfCtgOyU"
   },
   "source": [
    "## 5.Create two pie charts for the following election data"
   ]
  },
  {
   "cell_type": "code",
   "execution_count": null,
   "metadata": {
    "id": "SIT_-LDKgOyV"
   },
   "outputs": [],
   "source": []
  }
 ],
 "metadata": {
  "colab": {
   "provenance": []
  },
  "kernelspec": {
   "display_name": "Python 3 (ipykernel)",
   "language": "python",
   "name": "python3"
  },
  "language_info": {
   "codemirror_mode": {
    "name": "ipython",
    "version": 3
   },
   "file_extension": ".py",
   "mimetype": "text/x-python",
   "name": "python",
   "nbconvert_exporter": "python",
   "pygments_lexer": "ipython3",
   "version": "3.11.5"
  },
  "nav_menu": {},
  "toc": {
   "base_numbering": 1,
   "nav_menu": {},
   "number_sections": true,
   "sideBar": true,
   "skip_h1_title": false,
   "title_cell": "Table of Contents",
   "title_sidebar": "Contents",
   "toc_cell": false,
   "toc_position": {},
   "toc_section_display": "block",
   "toc_window_display": false
  },
  "varInspector": {
   "cols": {
    "lenName": 16,
    "lenType": 16,
    "lenVar": 40
   },
   "kernels_config": {
    "python": {
     "delete_cmd_postfix": "",
     "delete_cmd_prefix": "del ",
     "library": "var_list.py",
     "varRefreshCmd": "print(var_dic_list())"
    },
    "r": {
     "delete_cmd_postfix": ") ",
     "delete_cmd_prefix": "rm(",
     "library": "var_list.r",
     "varRefreshCmd": "cat(var_dic_list()) "
    }
   },
   "types_to_exclude": [
    "module",
    "function",
    "builtin_function_or_method",
    "instance",
    "_Feature"
   ],
   "window_display": false
  }
 },
 "nbformat": 4,
 "nbformat_minor": 1
}
