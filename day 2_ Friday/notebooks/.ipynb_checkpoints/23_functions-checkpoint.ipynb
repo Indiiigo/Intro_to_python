{
 "cells": [
  {
   "cell_type": "markdown",
   "metadata": {
    "id": "ZBKrySGQKyGJ",
    "toc": true
   },
   "source": [
    "<h1>Table of Contents<span class=\"tocSkip\"></span></h1>\n",
    "<div class=\"toc\"><ul class=\"toc-item\"><li><span><a href=\"#What-are-functions?\" data-toc-modified-id=\"What-are-functions?-1\"><span class=\"toc-item-num\">1&nbsp;&nbsp;</span>What are functions?</a></span><ul class=\"toc-item\"><li><span><a href=\"#General-Syntax\" data-toc-modified-id=\"General-Syntax-1.1\"><span class=\"toc-item-num\">1.1&nbsp;&nbsp;</span>General Syntax</a></span></li></ul></li><li><span><a href=\"#Basic-Examples\" data-toc-modified-id=\"Basic-Examples-2\"><span class=\"toc-item-num\">2&nbsp;&nbsp;</span>Basic Examples</a></span><ul class=\"toc-item\"><li><span><a href=\"#A-common-error\" data-toc-modified-id=\"A-common-error-2.1\"><span class=\"toc-item-num\">2.1&nbsp;&nbsp;</span>A common error</a></span></li><li><span><a href=\"#A-second-example\" data-toc-modified-id=\"A-second-example-2.2\"><span class=\"toc-item-num\">2.2&nbsp;&nbsp;</span>A second example</a></span></li><li><span><a href=\"#Ex-5.1\" data-toc-modified-id=\"Ex-5.1-2.3\"><span class=\"toc-item-num\">2.3&nbsp;&nbsp;</span>Ex 5.1</a></span></li><li><span><a href=\"#Advantages-of-using-functions\" data-toc-modified-id=\"Advantages-of-using-functions-2.4\"><span class=\"toc-item-num\">2.4&nbsp;&nbsp;</span>Advantages of using functions</a></span></li><li><span><a href=\"#Returning-a-Value\" data-toc-modified-id=\"Returning-a-Value-2.5\"><span class=\"toc-item-num\">2.5&nbsp;&nbsp;</span>Returning a Value</a></span></li><li><span><a href=\"#Ex-5.2\" data-toc-modified-id=\"Ex-5.2-2.6\"><span class=\"toc-item-num\">2.6&nbsp;&nbsp;</span>Ex 5.2</a></span></li></ul></li><li><span><a href=\"#Default-argument-values\" data-toc-modified-id=\"Default-argument-values-3\"><span class=\"toc-item-num\">3&nbsp;&nbsp;</span>Default argument values</a></span></li><li><span><a href=\"#Positional-Arguments\" data-toc-modified-id=\"Positional-Arguments-4\"><span class=\"toc-item-num\">4&nbsp;&nbsp;</span>Positional Arguments</a></span></li><li><span><a href=\"#Keyword-arguments\" data-toc-modified-id=\"Keyword-arguments-5\"><span class=\"toc-item-num\">5&nbsp;&nbsp;</span>Keyword arguments</a></span><ul class=\"toc-item\"><li><span><a href=\"#Mixing-positional-and-keyword-arguments\" data-toc-modified-id=\"Mixing-positional-and-keyword-arguments-5.1\"><span class=\"toc-item-num\">5.1&nbsp;&nbsp;</span>Mixing positional and keyword arguments</a></span></li><li><span><a href=\"#Ex-5.3\" data-toc-modified-id=\"Ex-5.3-5.2\"><span class=\"toc-item-num\">5.2&nbsp;&nbsp;</span>Ex 5.3</a></span></li></ul></li><li><span><a href=\"#Anonymous/Lambda-functions\" data-toc-modified-id=\"Anonymous/Lambda-functions-6\"><span class=\"toc-item-num\">6&nbsp;&nbsp;</span>Anonymous/Lambda functions</a></span></li><li><span><a href=\"#Optional\" data-toc-modified-id=\"Optional-7\"><span class=\"toc-item-num\">7&nbsp;&nbsp;</span>Optional</a></span><ul class=\"toc-item\"><li><span><a href=\"#Accepting-an-arbitrary-number-of-arguments\" data-toc-modified-id=\"Accepting-an-arbitrary-number-of-arguments-7.1\"><span class=\"toc-item-num\">7.1&nbsp;&nbsp;</span>Accepting an arbitrary number of arguments</a></span><ul class=\"toc-item\"><li><span><a href=\"#Accepting-a-sequence-of-arbitrary-length\" data-toc-modified-id=\"Accepting-a-sequence-of-arbitrary-length-7.1.1\"><span class=\"toc-item-num\">7.1.1&nbsp;&nbsp;</span>Accepting a sequence of arbitrary length</a></span></li><li><span><a href=\"#Accepting-an-arbitrary-number-of-keyword-arguments\" data-toc-modified-id=\"Accepting-an-arbitrary-number-of-keyword-arguments-7.1.2\"><span class=\"toc-item-num\">7.1.2&nbsp;&nbsp;</span>Accepting an arbitrary number of keyword arguments</a></span></li></ul></li></ul></li><li><span><a href=\"#License\" data-toc-modified-id=\"License-8\"><span class=\"toc-item-num\">8&nbsp;&nbsp;</span>License</a></span></li></ul></div>"
   ]
  },
  {
   "cell_type": "markdown",
   "metadata": {
    "id": "58au5JqxKyGP"
   },
   "source": [
    "This lecture is adapted from the great 'Introduction to Python' course from Eric Matthes (http://introtopython.org/) and, like the original, is available under an [MIT license](#License)."
   ]
  },
  {
   "cell_type": "markdown",
   "metadata": {
    "id": "9-Bj9wdHKyGQ"
   },
   "source": [
    "# Functions\n",
    "One of the core principles of any programming language is, \"Don't Repeat Yourself\". If you have an action that should occur many times, you can define that action once and then call that code whenever you need to carry out that action.\n",
    "\n",
    "We are already repeating ourselves in our code, so this is a good time to introduce simple functions. Functions mean less work for us as programmers, and effective use of functions results in code that is less error-prone."
   ]
  },
  {
   "cell_type": "markdown",
   "metadata": {
    "id": "JnPFnaRWKyGR"
   },
   "source": [
    "## What are functions?\n",
    "Functions are a set of actions that we group together, and give a name to. You have already used a number of functions from the core Python language, such as *str()*, *string.title()* and *list.sort()*. We can define our own functions, which allows us to \"teach\" Python new behavior."
   ]
  },
  {
   "cell_type": "markdown",
   "metadata": {
    "id": "l4AXDrPmKyGR"
   },
   "source": [
    "### General Syntax\n",
    "A general function looks something like this:"
   ]
  },
  {
   "cell_type": "code",
   "execution_count": null,
   "metadata": {
    "id": "gLaiY7wkKyGS"
   },
   "outputs": [],
   "source": [
    "# Let's define a function.\n",
    "def function_name(argument_1, argument_2):\n",
    "    # Do whatever we want this function to do, using argument_1 and argument_2 that\n",
    "    # we will have to give to the function in the brackets whenever we run it later on.\n",
    "    pass\n",
    "\n",
    "# Use function_name to call the function, pass values for the 2 arguments:\n",
    "function_name(\"value_1\", \"value_2\")"
   ]
  },
  {
   "cell_type": "markdown",
   "metadata": {
    "id": "85BTAWR5KyGU"
   },
   "source": [
    "This code will not run, but it shows how functions are used in general.\n",
    "\n",
    "- **Defining a function**\n",
    "    - Give the keyword `def`, which tells Python that you are about to *define* a function.\n",
    "    - Give your function a name. A variable name tells you what kind of value the variable contains; a function name should tell you what the function does.\n",
    "    - Give names for each value the function needs in order to do its work.\n",
    "        - These are basically variable names, but they are only used **inside** the function.\n",
    "        - They can be different names than what you use in the rest of your program.\n",
    "        - These are called the function's *arguments*.\n",
    "    - Make sure the function definition line ends with a colon.\n",
    "    - Inside the function, write whatever code you need to make the function do its work.\n",
    "- **Using your function**\n",
    "    - To *call* your function, write its name followed by parentheses.\n",
    "    - Inside the parentheses, give the values you want the function to work with.\n",
    "        - These can be variables such as `current_name` and `current_age`, or they can be actual values such as 'eric' and 5."
   ]
  },
  {
   "cell_type": "markdown",
   "metadata": {
    "id": "lDXJhNdkKyGU"
   },
   "source": [
    "## Basic Examples\n",
    "For a simple first example, we will look at a program that compliments people. Let's look at the example, and then try to understand the code. First we will look at a version of this program as we would have written it earlier, with no functions."
   ]
  },
  {
   "cell_type": "code",
   "execution_count": null,
   "metadata": {
    "id": "lMe8pb0XKyGV"
   },
   "outputs": [],
   "source": [
    "print(\"You are doing good work, Adriana!\")\n",
    "print(\"Thank you very much for your efforts on this project.\")\n",
    "\n",
    "print(\"\\nYou are doing good work, Billy!\")\n",
    "print(\"Thank you very much for your efforts on this project.\")\n",
    "\n",
    "print(\"\\nYou are doing good work, Caroline!\")\n",
    "print(\"Thank you very much for your efforts on this project.\")"
   ]
  },
  {
   "cell_type": "markdown",
   "metadata": {
    "id": "fMOZoBXvKyGV"
   },
   "source": [
    "Functions take repeated code, put it in one place, and then you call that code when you want to use it. Here's what the same program looks like with a function."
   ]
  },
  {
   "cell_type": "code",
   "execution_count": null,
   "metadata": {
    "id": "YCgQkeRwKyGW"
   },
   "outputs": [],
   "source": [
    "def thank_you(name):\n",
    "    # This function prints a two-line personalized thank you message.\n",
    "    print(\"\\nYou are doing good work, \" + name + '!')\n",
    "    print(\"Thank you very much for your efforts on this project.\")\n",
    "\n",
    "thank_you('Adriana')\n",
    "thank_you('Billy')\n",
    "thank_you('Caroline')"
   ]
  },
  {
   "cell_type": "markdown",
   "metadata": {
    "id": "yFMRvVhCKyGW"
   },
   "source": [
    "In our original code, each pair of print statements was run three times, and the only difference was the name of the person being thanked. When you see repetition like this, you can usually make your program more efficient by defining a function.\n",
    "\n",
    "The keyword *def* tells Python that we are about to define a function. We give our function a name, *thank\\_you()* in this case. A variable's name should tell us what kind of information it holds; a function's name should tell us what the variable does.  We then put parentheses. Inside these parenthese we create variable names for any variable the function will need to be given in order to do its job. In this case the function will need a name to include in the thank you message. The variable `name` will hold the value that is passed into the function *thank\\_you()*.\n",
    "\n",
    "To use a function we give the function's name, and then put any values the function needs in order to do its work. In this case we call the function three times, each time passing it a different name."
   ]
  },
  {
   "cell_type": "markdown",
   "metadata": {
    "id": "ACnjapANKyGX"
   },
   "source": [
    "### A common error\n",
    "A function must be defined before you use it in your program. For example, putting the function at the end of the program would not work."
   ]
  },
  {
   "cell_type": "code",
   "execution_count": null,
   "metadata": {
    "id": "Ln-wvn7zKyGX",
    "scrolled": false
   },
   "outputs": [],
   "source": [
    "thank_you_('Adriana')\n",
    "thank_you_('Billy')\n",
    "thank_you_('Caroline')\n",
    "\n",
    "def thank_you_(name):\n",
    "    # This function prints a two-line personalized thank you message.\n",
    "    print(\"\\nYou are doing good work, \" + name + '!')\n",
    "    print(\"Thank you very much for your efforts on this project.\")"
   ]
  },
  {
   "cell_type": "markdown",
   "metadata": {
    "id": "Y2AxvG8hKyGX"
   },
   "source": [
    "On the first line we ask Python to run the function *thank\\_you\\_()*, but Python does not yet know how to do this function. We define our functions at the beginning of our programs, and then we can use them when we need to."
   ]
  },
  {
   "cell_type": "markdown",
   "metadata": {
    "id": "myQglLShKyGX"
   },
   "source": [
    "### A second example\n",
    "It takes two lines of code to print a list using a for loop, so these two lines are repeated whenever you want to print out the contents of a list. This is the perfect opportunity to use a function, so let's see how the code looks with a function.\n",
    "\n",
    "First, let's see the code we had without a function:"
   ]
  },
  {
   "cell_type": "code",
   "execution_count": null,
   "metadata": {
    "id": "G0lw5_eCKyGX"
   },
   "outputs": [],
   "source": [
    "students = ['bernice', 'aaron', 'cody']\n",
    "\n",
    "# Put students in alphabetical order.\n",
    "students.sort()\n",
    "\n",
    "# Display the list in its current order.\n",
    "print(\"Our students are currently in alphabetical order.\")\n",
    "for student in students:\n",
    "    print(student.title())\n",
    "\n",
    "# Put students in reverse alphabetical order.\n",
    "students.sort(reverse=True)\n",
    "\n",
    "# Display the list in its current order.\n",
    "print(\"\\nOur students are now in reverse alphabetical order.\")\n",
    "for student in students:\n",
    "    print(student.title())"
   ]
  },
  {
   "cell_type": "markdown",
   "metadata": {
    "id": "s8s--1SOKyGY"
   },
   "source": [
    "Here's what the same code looks like, using a function to print out the list:"
   ]
  },
  {
   "cell_type": "code",
   "execution_count": null,
   "metadata": {
    "id": "ktWNPZNdKyGY"
   },
   "outputs": [],
   "source": [
    "# Note: even nicer to pass reverse parameter in function.\n",
    "def show_students(students, message):\n",
    "    # Print out a message, and then the list of students\n",
    "    print(message)\n",
    "    for student in students:\n",
    "        print(student.title())\n",
    "\n",
    "students = ['bernice', 'aaron', 'cody']\n",
    "\n",
    "# Put students in alphabetical order.\n",
    "students.sort()\n",
    "show_students(students, \"Our students are currently in alphabetical order.\")\n",
    "print(\"\\n\")\n",
    "# Put students in reverse alphabetical order.\n",
    "students.sort(reverse=True)\n",
    "show_students(students, \"Our students are now in reverse alphabetical order.\")"
   ]
  },
  {
   "cell_type": "markdown",
   "metadata": {
    "id": "-iGrZ3cZKyGY"
   },
   "source": [
    "This is much cleaner code. We have an action we want to take, which is to show the students in our list along with a message. We give this action a name, *show\\_students()*.\n",
    "\n",
    "This function needs two pieces of information to do its work, the list of students and a message to display. Inside the function, the code for printing the message and looping through the list is exactly as it was in the non-function code.\n",
    "\n",
    "Now the rest of our program is cleaner, because it gets to focus on the things we are changing in the list, rather than having code for printing the list. We define the list, then we sort it and call our function to print the list. We sort it again, and then call the printing function a second time, with a different message. This is much more readable code."
   ]
  },
  {
   "cell_type": "markdown",
   "metadata": {
    "id": "AsLVfZ_cKyGY"
   },
   "source": [
    "### Ex 1\n",
    "\n",
    "1. Write a function that takes in a first name and a last name and greets that person by printing out 2 lines. Your sentences could be as simple as, \"Hello, *full\\_name*.\" and \"I wish you a very nice day.\"\n",
    "2. Call your function three times, with a different name each time.\n",
    "3. **Bonus:** Store your three people in a list and call your function from a `for` loop."
   ]
  },
  {
   "cell_type": "code",
   "execution_count": null,
   "metadata": {
    "id": "pKEvoeQjKyGY"
   },
   "outputs": [],
   "source": [
    "# %load \"23_functions_ex1_1.py\""
   ]
  },
  {
   "cell_type": "markdown",
   "metadata": {
    "id": "zhkAgljYKyGZ"
   },
   "source": [
    "### Advantages of using functions\n",
    "You might be able to see some advantages of using functions, through this example:\n",
    "\n",
    "- We write a set of instructions once. We save some work in this simple example, and we save even more work in larger programs.\n",
    "- When our function works, we don't have to worry about that code anymore. Every time you repeat code in your program, you introduce an opportunity to make a mistake. Writing a function means there is one place to fix mistakes, and when those bugs are fixed, we can be confident that this function will continue to work correctly.\n",
    "- We can modify our function's behavior, and that change takes effect every time the function is called. This is much better than deciding we need some new behavior, and then having to change code in many different places in our program."
   ]
  },
  {
   "cell_type": "markdown",
   "metadata": {
    "id": "j-nbTq22KyGZ"
   },
   "source": [
    "For a quick example, let's say we decide our printed output would look better with some form of a bulleted list. Without functions, we'd have to change each print statement. With a function, we change just the print statement in the function:"
   ]
  },
  {
   "cell_type": "code",
   "execution_count": null,
   "metadata": {
    "id": "cUQMSDbZKyGZ"
   },
   "outputs": [],
   "source": [
    "def show_students(students, message):\n",
    "    # Print out a message, and then the list of students\n",
    "    print(message)\n",
    "    for student in students:\n",
    "        print(\"- \" + student.title())\n",
    "\n",
    "students = ['bernice', 'aaron', 'cody']\n",
    "\n",
    "# Put students in alphabetical order.\n",
    "students.sort()\n",
    "show_students(students, \"Our students are currently in alphabetical order.\")\n",
    "print(\"\\n\")\n",
    "# Put students in reverse alphabetical order.\n",
    "students.sort(reverse=True)\n",
    "show_students(students, \"Our students are now in reverse alphabetical order.\")"
   ]
  },
  {
   "cell_type": "markdown",
   "metadata": {
    "id": "1Cei63TnKyGZ"
   },
   "source": [
    "You can think of functions as a way to \"teach\" Python some new behavior. In this case, we taught Python how to create a list of students using hyphens; now we can tell Python to do this with our students whenever we want to."
   ]
  },
  {
   "cell_type": "markdown",
   "metadata": {
    "id": "w5cSxKiPKyGZ"
   },
   "source": [
    "### Returning a Value\n",
    "Each function you create can return a value. This can be in addition to the primary work the function does, or it can be the function's main job. The following function takes in a number, and returns the corresponding word for that number:"
   ]
  },
  {
   "cell_type": "code",
   "execution_count": null,
   "metadata": {
    "id": "oVTVKaKQKyGZ"
   },
   "outputs": [],
   "source": [
    "def get_number_word(number):\n",
    "    # Takes in a numerical value, and returns\n",
    "    # the word corresponding to that number.\n",
    "    if number == 1:\n",
    "        return 'one'\n",
    "    elif number == 2:\n",
    "        return 'two'\n",
    "    elif number == 3:\n",
    "        return 'three'\n",
    "    # the function will return None for any input except 1, 2 and 3\n",
    "\n",
    "# Let's try out our function.\n",
    "for current_number in range(0,4):\n",
    "    number_word = get_number_word(current_number)\n",
    "    print(current_number, number_word)"
   ]
  },
  {
   "cell_type": "markdown",
   "metadata": {
    "id": "nf_nRB6UKyGa"
   },
   "source": [
    "It's helpful sometimes to see programs that don't quite work as they are supposed to, and then see how those programs can be improved. In this case, there are no Python errors; all of the code has proper Python syntax. But there is a **logical error**, in the first line of the output.\n",
    "\n",
    "We want to either not include 0 in the range we send to the function, or have the function return something other than `None` when it receives a value that it doesn't know. Let's teach our function the word 'zero', but let's also add an `else` clause that returns a more informative message for numbers that are not in the if-chain."
   ]
  },
  {
   "cell_type": "code",
   "execution_count": null,
   "metadata": {
    "id": "md7mjZDVKyGa"
   },
   "outputs": [],
   "source": [
    "def get_number_word(number):\n",
    "    # Takes in a numerical value, and returns\n",
    "    # the word corresponding to that number.\n",
    "    if number == 0:\n",
    "        return 'zero'\n",
    "    elif number == 1:\n",
    "        return 'one'\n",
    "    elif number == 2:\n",
    "        return 'two'\n",
    "    elif number == 3:\n",
    "        return 'three'\n",
    "    else:\n",
    "        return \"I'm sorry, I don't know that number.\"\n",
    "\n",
    "# Let's try out our function.\n",
    "for current_number in range(0,6):\n",
    "    number_word = get_number_word(current_number)\n",
    "    print(current_number, number_word)"
   ]
  },
  {
   "cell_type": "markdown",
   "metadata": {
    "id": "lQji5KK8KyGa"
   },
   "source": [
    "If you use a return statement in one of your functions, keep in mind that the function stops executing as soon as it hits a return statement. For example, we can add a line to the *get\\_number\\_word()* function that will never execute, because it comes after the function has returned a value:"
   ]
  },
  {
   "cell_type": "code",
   "execution_count": null,
   "metadata": {
    "id": "vaJK4LmsKyGa"
   },
   "outputs": [],
   "source": [
    "def get_number_word(number):\n",
    "    # Takes in a numerical value, and returns\n",
    "    # the word corresponding to that number.\n",
    "    if number == 0:\n",
    "        return 'zero'\n",
    "    elif number == 1:\n",
    "        return 'one'\n",
    "    elif number == 2:\n",
    "        return 'two'\n",
    "    elif number == 3:\n",
    "        return 'three'\n",
    "    else:\n",
    "        return \"I'm sorry, I don't know that number.\"\n",
    "\n",
    "    # This line will never execute, because the function has already\n",
    "    # returned a value and stopped executing.\n",
    "    print(\"This message will never be printed.\")\n",
    "\n",
    "# Let's try out our function.\n",
    "for current_number in range(0,6):\n",
    "    number_word = get_number_word(current_number)\n",
    "    print(current_number, number_word)"
   ]
  },
  {
   "cell_type": "markdown",
   "metadata": {
    "id": "Vy1TDyAgKyGa"
   },
   "source": [
    "### Ex 2\n",
    "1. Write a function that takes in two numbers and adds them together and returns the sum.\n",
    "2. After calling the function, print out a sentence showing the two numbers and the result.\n",
    "3. Call your function with three different sets of numbers."
   ]
  },
  {
   "cell_type": "code",
   "execution_count": null,
   "metadata": {
    "id": "oglqhRrfKyGb"
   },
   "outputs": [],
   "source": [
    "# %load \"23_functions_ex1_2.py\""
   ]
  },
  {
   "cell_type": "markdown",
   "metadata": {
    "id": "6SQgng0hKyGb"
   },
   "source": [
    "## Default argument values\n",
    "When we first introduced functions, we started with this example:"
   ]
  },
  {
   "cell_type": "code",
   "execution_count": null,
   "metadata": {
    "id": "v8j1qOrIKyGb"
   },
   "outputs": [],
   "source": [
    "def thank_you(name):\n",
    "    # This function prints a two-line personalized thank you message.\n",
    "    print(\"\\nYou are doing good work, \" + name + '!')\n",
    "    print(\"Thank you very much for your efforts on this project.\")"
   ]
  },
  {
   "cell_type": "markdown",
   "metadata": {
    "id": "F9tfVPbUKyGb"
   },
   "source": [
    "This function works fine, but it fails if you don't pass in a value:"
   ]
  },
  {
   "cell_type": "code",
   "execution_count": null,
   "metadata": {
    "id": "0zK4XGHUKyGb"
   },
   "outputs": [],
   "source": [
    "thank_you('Adriana')  # works"
   ]
  },
  {
   "cell_type": "code",
   "execution_count": null,
   "metadata": {
    "id": "Ml3PqtVdKyGb"
   },
   "outputs": [],
   "source": [
    "thank_you()  # fails"
   ]
  },
  {
   "cell_type": "markdown",
   "metadata": {
    "id": "tuOG0icbKyGj"
   },
   "source": [
    "That makes sense; the function needs to have a name in order to do its work, so without a name it is stuck.\n",
    "\n",
    "If you want your function to do something by default, even if no information is passed to it, you can do so by giving your arguments default values. You do this by specifying the default values when you define the function:"
   ]
  },
  {
   "cell_type": "code",
   "execution_count": null,
   "metadata": {
    "id": "ALqtQXAZKyGj"
   },
   "outputs": [],
   "source": [
    "def thank_you(name=\"everyone\"):\n",
    "    # This function prints a two-line personalized thank you message.\n",
    "    print(\"\\nYou are doing good work, \" + name + '!')\n",
    "    print(\"Thank you very much for your efforts on this project.\")\n",
    "\n",
    "thank_you()"
   ]
  },
  {
   "cell_type": "markdown",
   "metadata": {
    "id": "FI1Gj2JUKyGj"
   },
   "source": [
    "This is particularly useful when you have a number of arguments in your function, and some of those arguments almost always have the same value. This allows people who use the function to only specify the values that are unique to their use of the function."
   ]
  },
  {
   "cell_type": "markdown",
   "metadata": {
    "id": "Lwo3c6SXKyGj"
   },
   "source": [
    "## Positional Arguments\n",
    "\n",
    "Much of what you will have to learn about using functions involves how to pass values from your calling statement to the function itself. The example we just looked at is pretty simple, in that the function only needed one argument in order to do its work. Let's take a look at a function that requires two arguments to do its work.\n",
    "\n",
    "Let's make a simple function that takes in three arguments. Let's make a function that takes in a person's first and last name, and then prints out everything it knows about the person.\n",
    "\n",
    "Here is a simple implementation of this function:"
   ]
  },
  {
   "cell_type": "code",
   "execution_count": null,
   "metadata": {
    "id": "zT8eRydQKyGk",
    "scrolled": true
   },
   "outputs": [],
   "source": [
    "def describe_person(first_name, last_name, age):\n",
    "    # This function takes in a person's first and last name, and their age.\n",
    "    # It then prints this information out in a simple format.\n",
    "    print(\"First name:\", first_name.title())\n",
    "    print(\"Last name:\", last_name.title())\n",
    "    print(\"Age:\", age)\n",
    "\n",
    "describe_person('brian', 'kernighan', 71)\n",
    "describe_person('ken', 'thompson', 70)\n",
    "describe_person('adele', 'goldberg', 68)"
   ]
  },
  {
   "cell_type": "markdown",
   "metadata": {
    "id": "xbAB6r8PKyGk"
   },
   "source": [
    "The arguments in this function are `first_name`, `last_name`, and `age`. These are called *positional arguments* because Python knows which value to assign to each by the order in which you give the function values. In the calling line\n",
    "\n",
    "    describe_person('brian', 'kernighan', 71)\n",
    "\n",
    "we send the values *brian*, *kernighan*, and *71* to the function. Python matches the first value *brian* with the first argument `first_name`. It matches the second value *kernighan* with the second argument `last_name`. Finally it matches the third value *71* with the third argument `age`.\n",
    "\n",
    "This is pretty straightforward, but it means we have to make sure to get the arguments in the right order. I.e., if we don't stick to the order, our program might not work anymore as intended:"
   ]
  },
  {
   "cell_type": "code",
   "execution_count": null,
   "metadata": {
    "id": "FeXTdK-tKyGk",
    "scrolled": true
   },
   "outputs": [],
   "source": [
    "describe_person('adele', 68, 'goldberg')"
   ]
  },
  {
   "cell_type": "markdown",
   "metadata": {
    "id": "Oe1ToZjBKyGk"
   },
   "source": [
    "This fails as the program expects a string value for the argument in the second position (last_name). Apart from that, the output would also no make much sense of course, as a last name would appear as the age."
   ]
  },
  {
   "cell_type": "markdown",
   "metadata": {
    "id": "Jvpiq3eKKyGk"
   },
   "source": [
    "## Keyword arguments\n",
    "\n",
    "Python allows us to use a syntax called *keyword arguments*. In this case, we can give the arguments in any order when we call the function, as long as we use the name of the arguments in our calling statement. Here is how the previous code can be made to work using keyword arguments:"
   ]
  },
  {
   "cell_type": "code",
   "execution_count": null,
   "metadata": {
    "id": "xC8r5wNuKyGl"
   },
   "outputs": [],
   "source": [
    "describe_person(first_name='adele', age=68, last_name='goldberg')"
   ]
  },
  {
   "cell_type": "markdown",
   "metadata": {
    "id": "npw28vvaKyGl"
   },
   "source": [
    "This works, because Python does not have to match values to arguments by position. It matches the value 68 with the argument `age`, because the value 68 is clearly marked to go with that argument. This syntax is a little more typing, but it makes for very readable code."
   ]
  },
  {
   "cell_type": "markdown",
   "metadata": {
    "id": "7YcijSlFKyGl"
   },
   "source": [
    "### Mixing positional and keyword arguments\n",
    "\n",
    "It can make good sense sometimes to mix positional and keyword arguments. In our previous example, we can expect this function to always take in a first name and a last name. Before we start mixing positional and keyword arguments, let's add another piece of information to our description of a person. Let's also go back to using just positional arguments for a moment:"
   ]
  },
  {
   "cell_type": "code",
   "execution_count": null,
   "metadata": {
    "id": "vDfNzo_KKyGl",
    "scrolled": true
   },
   "outputs": [],
   "source": [
    "def describe_person(first_name, last_name, age, favorite_language):\n",
    "    # This function takes in a person's first and last name,\n",
    "    # their age, and their favorite language.\n",
    "    # It then prints this information out in a simple format.\n",
    "    print(\"First name:\", first_name.title())\n",
    "    print(\"Last name:\", last_name.title())\n",
    "    print(\"Age:\", age)\n",
    "    print(\"Favorite language:\", favorite_language)\n",
    "\n",
    "describe_person('brian', 'kernighan', 71, 'C')\n",
    "describe_person('ken', 'thompson', 70, 'Go')\n",
    "describe_person('adele', 'goldberg', 68, 'Smalltalk')"
   ]
  },
  {
   "cell_type": "markdown",
   "metadata": {
    "id": "JltI6AvZKyGl"
   },
   "source": [
    "We can expect anyone who uses this function to supply a first name and a last name, in that order. But now we are starting to include some information that might not apply to everyone. We can address this by keeping positional arguments for the first name and last name, but expect keyword arguments for everything else. We can show this works by adding a few more people, and having different information about each person:"
   ]
  },
  {
   "cell_type": "code",
   "execution_count": null,
   "metadata": {
    "id": "x4xsQ1DBKyGl"
   },
   "outputs": [],
   "source": [
    "def describe_person(first_name, last_name, age=None, favorite_language=None):\n",
    "    # This function takes in a person's first and last name,\n",
    "    #  their age, and their favorite language.\n",
    "    # It then prints this information out in a simple format.\n",
    "\n",
    "    # Required information:\n",
    "    print(\"First name:\", first_name.title())\n",
    "    print(\"Last name:\", last_name.title())\n",
    "\n",
    "    # Optional information:\n",
    "    if age:\n",
    "        print(\"Age:\", age)\n",
    "    if favorite_language:\n",
    "        print(\"Favorite language:\", favorite_language)\n",
    "\n",
    "    # Blank line at end.\n",
    "    print(\"\\n\")\n",
    "\n",
    "describe_person('brian', 'kernighan', favorite_language='Python')\n",
    "describe_person('ken', 'thompson', age=70)"
   ]
  },
  {
   "cell_type": "markdown",
   "metadata": {
    "id": "KRSBeNYeKyGm"
   },
   "source": [
    "Everyone needs a first and last name, but everthing else is optional. This code takes advantage of the Python keyword `None`, which acts as an empty value for a variable. This way, the user is free to supply any of the 'extra' values they care to. Any arguments that don't receive a value are not displayed. Python matches these extra values by name, rather than by position. This is a very common and useful way to define functions."
   ]
  },
  {
   "cell_type": "markdown",
   "metadata": {
    "id": "NVwqiznjKyGm"
   },
   "source": [
    "## Anonymous/Lambda functions\n",
    "\n",
    "An anonymous function is a function that is defined without a name.\n",
    "\n",
    "While normal functions are defined using the `def` keyword, in Python anonymous functions are defined using the `lambda` keyword.\n",
    "\n",
    "Hence, anonymous functions are also called lambda functions.\n",
    "\n",
    "Lambda functions are a very concise way to write a function. These will come in handy later especially when working with Pandas.\n",
    "\n",
    "Resource: https://www.programiz.com/python-programming/anonymous-function"
   ]
  },
  {
   "cell_type": "markdown",
   "metadata": {
    "id": "a8VFWls_KyGm"
   },
   "source": [
    "Here is a regular function:"
   ]
  },
  {
   "cell_type": "code",
   "execution_count": null,
   "metadata": {
    "id": "5WcXzRAlKyGn"
   },
   "outputs": [],
   "source": [
    "def double_func(x):\n",
    "    return x * 2"
   ]
  },
  {
   "cell_type": "code",
   "execution_count": null,
   "metadata": {
    "id": "IkAFW6eJKyGn"
   },
   "outputs": [],
   "source": [
    "double_func(2)"
   ]
  },
  {
   "cell_type": "markdown",
   "metadata": {
    "id": "-1gYcu3GKyGn"
   },
   "source": [
    "The same as a lambda function:"
   ]
  },
  {
   "cell_type": "code",
   "execution_count": null,
   "metadata": {
    "id": "gMH2dsmnKyGn"
   },
   "outputs": [],
   "source": [
    "double = lambda x: x * 2 # we have to assign the lambda function to a callable"
   ]
  },
  {
   "cell_type": "code",
   "execution_count": null,
   "metadata": {
    "id": "rJJffIAGKyGn"
   },
   "outputs": [],
   "source": [
    "double(2)"
   ]
  },
  {
   "cell_type": "markdown",
   "metadata": {
    "id": "52bGVo92KyGn"
   },
   "source": [
    "We use lambda functions usually when we require a nameless function for a short period of time. We will explain them in context later."
   ]
  },
  {
   "cell_type": "markdown",
   "metadata": {
    "id": "iRJ8fAocKyGo"
   },
   "source": [
    "### Accepting an arbitrary number of arguments\n",
    "\n",
    "We have now seen that using keyword arguments can allow for much more flexible calling statements.\n",
    "\n",
    "- This benefits you in your own programs, because you can write one function that can handle many different situations you might encounter.\n",
    "- This benefits you if other programmers use your programs, because your functions can apply to a wide range of situations.\n",
    "- This benefits you when you use other programmers' functions, because their functions can apply to many situations you will care about.\n",
    "\n",
    "There is another issue that we can address, though. Let's consider a function that takes two number in, and prints out the sum of the two numbers:"
   ]
  },
  {
   "cell_type": "code",
   "execution_count": null,
   "metadata": {
    "id": "SBrVRmr9KyGo"
   },
   "outputs": [],
   "source": [
    "def adder(num_1, num_2):\n",
    "    # This function adds two numbers together, and prints the sum.\n",
    "    totalsum = num_1 + num_2\n",
    "    print(\"The sum of your numbers is\", totalsum)\n",
    "\n",
    "# Let's add some numbers.\n",
    "adder(1, 2)\n",
    "adder(-1, 2)\n",
    "adder(1, -2)"
   ]
  },
  {
   "cell_type": "markdown",
   "metadata": {
    "id": "GZWfFc8QKyGo"
   },
   "source": [
    "This function appears to work well. But what if we pass it three numbers, which is a perfectly reasonable thing to do mathematically?"
   ]
  },
  {
   "cell_type": "code",
   "execution_count": null,
   "metadata": {
    "id": "u9bxd-1aKyGo"
   },
   "outputs": [],
   "source": [
    "def adder(num_1, num_2):\n",
    "    # This function adds two numbers together, and prints the sum.\n",
    "    totalsum = num_1 + num_2\n",
    "    print(\"The sum of your numbers is\", totalsum)\n",
    "\n",
    "# Let's add some numbers.\n",
    "adder(1, 2, 3)"
   ]
  },
  {
   "cell_type": "markdown",
   "metadata": {
    "id": "4VjbD7aeKyGo"
   },
   "source": [
    "This function fails, because no matter what mix of positional and keyword arguments we use, the function is only written two accept two arguments. In fact, a function written in this way will only work with *exactly* two arguments."
   ]
  },
  {
   "cell_type": "markdown",
   "metadata": {
    "id": "pMPGGGSWKyGp"
   },
   "source": [
    "#### Accepting a sequence of arbitrary length\n",
    "\n",
    "Python gives us a syntax for letting a function accept an arbitrary number of arguments. If we place an argument at the end of the list of arguments, with an asterisk in front of it, that argument will collect any remaining values from the calling statement into a tuple. Here is an example demonstrating how this works:"
   ]
  },
  {
   "cell_type": "code",
   "execution_count": null,
   "metadata": {
    "id": "JQTXUBXKKyGp"
   },
   "outputs": [],
   "source": [
    "def example_function(arg_1, arg_2, *args):\n",
    "    # Let's look at the argument values.\n",
    "    print('\\narg_1:', arg_1)\n",
    "    print('arg_2:', arg_2)\n",
    "    print('args:', args)\n",
    "\n",
    "example_function(1, 2)\n",
    "example_function(1, 2, 3)\n",
    "example_function(1, 2, 3, 4)\n",
    "example_function(1, 2, 3, 4, 5)"
   ]
  },
  {
   "cell_type": "markdown",
   "metadata": {
    "id": "gIY_LI9yKyGp"
   },
   "source": [
    "You can use a for loop to process these other arguments:"
   ]
  },
  {
   "cell_type": "code",
   "execution_count": null,
   "metadata": {
    "id": "QcSVY04BKyGp"
   },
   "outputs": [],
   "source": [
    "def example_function(arg_1, arg_2, *args):\n",
    "    # Let's look at the argument values.\n",
    "    print('\\narg_1:', arg_1)\n",
    "    print('arg_2:', arg_2)\n",
    "    for value in args:\n",
    "        print('args value:', value)\n",
    "\n",
    "example_function(1, 2)\n",
    "example_function(1, 2, 3)\n",
    "example_function(1, 2, 3, 4)\n",
    "example_function(1, 2, 3, 4, 5)"
   ]
  },
  {
   "cell_type": "markdown",
   "metadata": {
    "id": "vqAZBhKLKyGp"
   },
   "source": [
    "We can now rewrite the adder() function to accept two or more arguments, and print the sum of those numbers:"
   ]
  },
  {
   "cell_type": "code",
   "execution_count": null,
   "metadata": {
    "id": "IoeHp_BZKyGp"
   },
   "outputs": [],
   "source": [
    "def adder(num_1, num_2, *nums):\n",
    "    # This function adds the given numbers together,\n",
    "    #  and prints the sum.\n",
    "\n",
    "    # Start by adding the first two numbers, which\n",
    "    #  will always be present.\n",
    "    totalsum = num_1 + num_2\n",
    "\n",
    "    # Then add any other numbers that were sent.\n",
    "    for num in nums:\n",
    "        totalsum = totalsum + num\n",
    "\n",
    "    # Print the results.\n",
    "    print(\"The sum of your numbers is\", totalsum)\n",
    "\n",
    "# Let's add some numbers.\n",
    "adder(1, 2, 3)"
   ]
  },
  {
   "cell_type": "markdown",
   "metadata": {
    "id": "SOD2HiO8KyGq"
   },
   "source": [
    "In this new version, Python does the following:\n",
    "\n",
    "- stores the first value in the calling statement in the argument `num_1`;\n",
    "- stores the second value in the calling statement in the argument `num_2`;\n",
    "- stores all other values in the calling statement as a tuple in the argument `nums`.\n",
    "\n",
    "We can then \"unpack\" these values, using a for loop. We can demonstrate how flexible this function is by calling it a number of times, with a different number of arguments each time."
   ]
  },
  {
   "cell_type": "code",
   "execution_count": null,
   "metadata": {
    "id": "0-QsuBhZKyGq"
   },
   "outputs": [],
   "source": [
    "def adder(num_1, num_2, *nums):\n",
    "    # This function adds the given numbers together,\n",
    "    #  and prints the sum.\n",
    "\n",
    "    # Start by adding the first two numbers, which\n",
    "    #  will always be present.\n",
    "    totalsum = num_1 + num_2\n",
    "\n",
    "    # Then add any other numbers that were sent.\n",
    "    for num in nums:\n",
    "        totalsum = totalsum + num\n",
    "\n",
    "    # Print the results.\n",
    "    print(\"The sum of your numbers is\", totalsum)\n",
    "\n",
    "\n",
    "# Let's add some numbers.\n",
    "adder(1, 2)\n",
    "adder(1, 2, 3)\n",
    "adder(1, 2, 3, 4)\n",
    "adder(1, 2, 3, 4, 5)"
   ]
  },
  {
   "cell_type": "markdown",
   "metadata": {
    "id": "6utftZwsKyGq"
   },
   "source": [
    "#### Accepting an arbitrary number of keyword arguments\n",
    "\n",
    "Python also provides a syntax for accepting an arbitrary number of keyword arguments. The syntax looks like this:"
   ]
  },
  {
   "cell_type": "code",
   "execution_count": null,
   "metadata": {
    "id": "A4OUU4LeKyGq"
   },
   "outputs": [],
   "source": [
    "def example_function(arg_1, arg_2, **kwargs):\n",
    "    # Let's look at the argument values.\n",
    "    print('\\narg_1:', arg_1)\n",
    "    print('arg_2:', arg_2)\n",
    "    print('kwargs:', kwargs)\n",
    "\n",
    "example_function('a', 'b')\n",
    "example_function('a', 'b', value_3='c')\n",
    "example_function('a', 'b', value_3='c', value_4='d')\n",
    "example_function('a', 'b', value_3='c', value_4='d', value_5='e')"
   ]
  },
  {
   "cell_type": "markdown",
   "metadata": {
    "id": "Xcz-jhGCKyGq"
   },
   "source": [
    "The third argument has two asterisks in front of it, which tells Python to collect all remaining key-value arguments in the calling statement. This argument is commonly named *kwargs*. We see in the output that these key-values are stored in a dictionary. We can loop through this dictionary to work with all of the values that are passed into the function:"
   ]
  },
  {
   "cell_type": "code",
   "execution_count": null,
   "metadata": {
    "id": "pUZOOtkUKyGq"
   },
   "outputs": [],
   "source": [
    "def example_function(arg_1, arg_2, **kwargs):\n",
    "    # Let's look at the argument values.\n",
    "    print('\\narg_1:', arg_1)\n",
    "    print('arg_2:', arg_2)\n",
    "    for key, value in kwargs.items():\n",
    "        print('kwargs value:', value)\n",
    "\n",
    "example_function('a', 'b')\n",
    "example_function('a', 'b', value_3='c')\n",
    "example_function('a', 'b', value_3='c', value_4='d')\n",
    "example_function('a', 'b', value_3='c', value_4='d', value_5='e')"
   ]
  },
  {
   "cell_type": "markdown",
   "metadata": {
    "id": "crgLhciTKyGr"
   },
   "source": [
    "Earlier we created a function that let us describe a person, and we had three things we could describe about a person. We could include their age, their favorite language, and the date they passed away. But that was the only information we could include, because it was the only information that the function was prepared to handle:"
   ]
  },
  {
   "cell_type": "code",
   "execution_count": null,
   "metadata": {
    "id": "OSG10MU0KyGr"
   },
   "outputs": [],
   "source": [
    "def describe_person(first_name, last_name, age=None, favorite_language=None):\n",
    "    # This function takes in a person's first and last name,\n",
    "    #  their age, and their favorite language.\n",
    "    # It then prints this information out in a simple format.\n",
    "\n",
    "    # Required information:\n",
    "    print(\"First name:\", first_name.title())\n",
    "    print(\"Last name:\", last_name.title())\n",
    "\n",
    "    # Optional information:\n",
    "    if age:\n",
    "        print(\"Age:\", age)\n",
    "    if favorite_language:\n",
    "        print(\"Favorite language:\", favorite_language)\n",
    "\n",
    "    # Blank line at end.\n",
    "    print(\"\\n\")\n",
    "\n",
    "describe_person('brian', 'kernighan', favorite_language='Python')\n",
    "describe_person('ken', 'thompson', age=70)"
   ]
  },
  {
   "cell_type": "markdown",
   "metadata": {
    "id": "Ikt1MM8CKyGr"
   },
   "source": [
    "We can make this function much more flexible by accepting any number of keyword arguments. Here is what the function looks like, using the syntax for accepting as many keyword arguments as the caller wants to provide:"
   ]
  },
  {
   "cell_type": "code",
   "execution_count": null,
   "metadata": {
    "id": "G3zmlUASKyGr"
   },
   "outputs": [],
   "source": [
    "def describe_person(first_name, last_name, **kwargs):\n",
    "    # This function takes in a person's first and last name,\n",
    "    #  and then an arbitrary number of keyword arguments.\n",
    "\n",
    "    # Required information:\n",
    "    print(\"First name:\", first_name.title())\n",
    "    print(\"Last name:\", last_name.title())\n",
    "\n",
    "    # Optional information:\n",
    "    for key in kwargs:\n",
    "        print(\"{}: {}\".format(key, kwargs[key]))\n",
    "\n",
    "    # Blank line at end.\n",
    "    print(\"\\n\")\n",
    "\n",
    "\n",
    "describe_person('brian', 'kernighan', favorite_language='Python')\n",
    "describe_person('ken', 'thompson', age=70)"
   ]
  },
  {
   "cell_type": "markdown",
   "metadata": {
    "id": "BQnptwBEKyGs"
   },
   "source": [
    "## License"
   ]
  },
  {
   "cell_type": "markdown",
   "metadata": {
    "id": "VMezT1rOKyGs"
   },
   "source": [
    "The MIT License (MIT)\n",
    "\n",
    "Original work Copyright (c) 2013 Eric Matthes  \n",
    "Modified work Copyright 2017 Fabian Flöck, Florian Lemmerich  \n",
    "Modified work Copyright 2019 Arnim Bleier, Indira Sen, Kenan Erdogan\n",
    "\n",
    "Modified work Copyright 2023 Indira Sen, Claire Jordan, Andri Rutschmann, Elena Solar\n",
    "\n",
    "Permission is hereby granted, free of charge, to any person obtaining a copy of\n",
    "this software and associated documentation files (the \"Software\"), to deal in\n",
    "the Software without restriction, including without limitation the rights to\n",
    "use, copy, modify, merge, publish, distribute, sublicense, and/or sell copies of\n",
    "the Software, and to permit persons to whom the Software is furnished to do so,\n",
    "subject to the following conditions:\n",
    "\n",
    "The above copyright notice and this permission notice shall be included in all\n",
    "copies or substantial portions of the Software.\n",
    "\n",
    "THE SOFTWARE IS PROVIDED \"AS IS\", WITHOUT WARRANTY OF ANY KIND, EXPRESS OR\n",
    "IMPLIED, INCLUDING BUT NOT LIMITED TO THE WARRANTIES OF MERCHANTABILITY, FITNESS\n",
    "FOR A PARTICULAR PURPOSE AND NONINFRINGEMENT. IN NO EVENT SHALL THE AUTHORS OR\n",
    "COPYRIGHT HOLDERS BE LIABLE FOR ANY CLAIM, DAMAGES OR OTHER LIABILITY, WHETHER\n",
    "IN AN ACTION OF CONTRACT, TORT OR OTHERWISE, ARISING FROM, OUT OF OR IN\n",
    "CONNECTION WITH THE SOFTWARE OR THE USE OR OTHER DEALINGS IN THE SOFTWARE."
   ]
  },
  {
   "cell_type": "code",
   "execution_count": null,
   "metadata": {},
   "outputs": [],
   "source": []
  }
 ],
 "metadata": {
  "colab": {
   "provenance": []
  },
  "hide_input": false,
  "kernelspec": {
   "display_name": "Python 3 (ipykernel)",
   "language": "python",
   "name": "python3"
  },
  "language_info": {
   "codemirror_mode": {
    "name": "ipython",
    "version": 3
   },
   "file_extension": ".py",
   "mimetype": "text/x-python",
   "name": "python",
   "nbconvert_exporter": "python",
   "pygments_lexer": "ipython3",
   "version": "3.11.5"
  },
  "nav_menu": {},
  "toc": {
   "base_numbering": 1,
   "nav_menu": {},
   "number_sections": true,
   "sideBar": true,
   "skip_h1_title": true,
   "title_cell": "Table of Contents",
   "title_sidebar": "Contents",
   "toc_cell": true,
   "toc_position": {
    "height": "calc(100% - 180px)",
    "left": "10px",
    "top": "150px",
    "width": "256px"
   },
   "toc_section_display": true,
   "toc_window_display": false
  },
  "varInspector": {
   "cols": {
    "lenName": 16,
    "lenType": 16,
    "lenVar": 40
   },
   "kernels_config": {
    "python": {
     "delete_cmd_postfix": "",
     "delete_cmd_prefix": "del ",
     "library": "var_list.py",
     "varRefreshCmd": "print(var_dic_list())"
    },
    "r": {
     "delete_cmd_postfix": ") ",
     "delete_cmd_prefix": "rm(",
     "library": "var_list.r",
     "varRefreshCmd": "cat(var_dic_list()) "
    }
   },
   "types_to_exclude": [
    "module",
    "function",
    "builtin_function_or_method",
    "instance",
    "_Feature"
   ],
   "window_display": false
  }
 },
 "nbformat": 4,
 "nbformat_minor": 1
}
