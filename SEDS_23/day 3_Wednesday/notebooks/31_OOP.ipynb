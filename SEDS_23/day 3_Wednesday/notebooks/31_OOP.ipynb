{
 "cells": [
  {
   "cell_type": "markdown",
   "metadata": {
    "id": "niuSfDeAHJla"
   },
   "source": [
    "# Object-oriented programming\n",
    "\n",
    "Adapted from Dr. Karsten Donnay, Stefan Scholz"
   ]
  },
  {
   "cell_type": "markdown",
   "metadata": {
    "id": "Rcv2oK5pHJlh"
   },
   "source": [
    "## 1. Object-oriented Programming"
   ]
  },
  {
   "cell_type": "markdown",
   "metadata": {
    "id": "6zQUPBttHJlh"
   },
   "source": [
    "**Object-oriented programming**, or short **OOP**, is a programming paradigm which provides a means of structuring programs such that properties and behaviors are bundled into individual **objects**. Another common programming paradigm is **procedural programming** which structures a program like a recipe in that it provides a set of steps, in the form of functions and code blocks, which flow sequentially in order to complete a task. **Objects** are at the center of the object-oriented programming paradigm, not only representing the data, as in procedural programming, but in the overall structure of the program as well. An object can be anything that has some characteristics and functions. Focusing first on the data, each thing or object is an **instance** of some **class**. Also **classes** are used to create new user-defined data structures that contain arbitrary information about something."
   ]
  },
  {
   "cell_type": "markdown",
   "metadata": {
    "id": "ReTJwl3THJli"
   },
   "source": [
    "Object-oriented programming offers the following **advantages**:\n",
    "\n",
    "- If code is written in classes, it can be shared by multiple instances and **reused** multiple times.\n",
    "- The modular structure, in which classes are strictly separated, ensures **clear** and **maintable** code.\n",
    "- Through the logical separation of each object, possible errors can be **traced** back to the actual problem more easily, especially with hightly nested code.\n",
    "- When a user writes his code, then it is more **clear** which object and which data he is working with.\n",
    "\n",
    "Despite these advantages, object-oriented programming also has a few **drawbacks**:\n",
    "\n",
    "- With the amount of code and the number of classes, also the overall **complexity** of the program increases.\n",
    "- If **real-world** objects and their relations are **unclear**, then it can be very difficult to find an object-oriented structure.\n",
    "\n",
    "In a few seconds you will see some **examples** of how object-oriented programming may look like."
   ]
  },
  {
   "cell_type": "markdown",
   "metadata": {
    "id": "IVPJy3ybHJlj"
   },
   "source": [
    "### 1.1 Class Objects"
   ]
  },
  {
   "cell_type": "markdown",
   "metadata": {
    "id": "Z1euZj6cHJlj"
   },
   "source": [
    "A **class** is a **blueprint** for an **object**. A class contains all the **attributes** and **methods** related to the real-world object. With the **keyword** `class` you can create such a class, followed by the **class name** and a **colon** `:`. You can initialize an object of a class exactly like you use a function. With this object you can work with its attributes and methods over **attribute references** `object.attribute` as it is common in Python.\n",
    "\n",
    "Let us create a **simple class** for dog and add two **methods**."
   ]
  },
  {
   "cell_type": "code",
   "execution_count": null,
   "metadata": {
    "id": "BPyPPCnFHJlk"
   },
   "outputs": [],
   "source": [
    "class Dog:\n",
    "    \"\"\"\n",
    "    Class Dog\n",
    "    \"\"\"\n",
    "\n",
    "    def play(self):\n",
    "        print(\"Dog plays\")\n",
    "\n",
    "    def eat(self):\n",
    "        print(\"Dog eats\")"
   ]
  },
  {
   "cell_type": "code",
   "execution_count": null,
   "metadata": {
    "id": "xc1B_IAqHJlm"
   },
   "outputs": [],
   "source": [
    "# initialize dog\n",
    "dog = Dog()\n",
    "\n",
    "# let dog play\n",
    "dog.play()\n",
    "\n",
    "# let dog eat\n",
    "dog.eat()"
   ]
  },
  {
   "cell_type": "markdown",
   "metadata": {
    "id": "8GDwNRnrHJln"
   },
   "source": [
    "As you can se you can initialize an instance like a **parameterless function** and assign it to a variable. Then you can work with the instance using the corresponding variable. In this first example we have created an **empty object**, without specialising it further during its initialization. But often we want to pass **certain attributes** to new objects. To do this, you can write an **initialization method** `__init__`. When you create your object, you can pass the **parameters** for that specific object into the class. This syntax is basically the same as with a function again.\n",
    "\n",
    "In the initialization method, `self` refers to the newly created object. In any other method, it refers to the instance whose method was called. However it is nothing more than a **convention**: the name `self` has absolutely no special meaning to Python.\n",
    "\n",
    "Let us create a **class** where we can **specify** its objects in more detail."
   ]
  },
  {
   "cell_type": "code",
   "execution_count": null,
   "metadata": {
    "id": "eY3O-G_zHJln"
   },
   "outputs": [],
   "source": [
    "class Dog:\n",
    "    \"\"\"\n",
    "    Class Dog\n",
    "    \"\"\"\n",
    "\n",
    "    def __init__(self, name, age):\n",
    "        self.name = name\n",
    "        self.age = age\n",
    "\n",
    "    def play(self):\n",
    "        print(\"Dog plays\")\n",
    "\n",
    "    def eat(self):\n",
    "        print(\"Dog eats\")"
   ]
  },
  {
   "cell_type": "code",
   "execution_count": null,
   "metadata": {
    "id": "9CpNS1wAHJlo"
   },
   "outputs": [],
   "source": [
    "# initialize dog\n",
    "dog = Dog(name=\"Lassie\", age=5)\n",
    "\n",
    "# print name dog\n",
    "print(dog.name)\n",
    "\n",
    "# print age dog\n",
    "print(dog.age)\n",
    "\n",
    "# let dog play\n",
    "dog.play()"
   ]
  },
  {
   "cell_type": "markdown",
   "metadata": {
    "id": "nK3HbkINHJlo"
   },
   "source": [
    "### 1.2 Instance Attributes"
   ]
  },
  {
   "cell_type": "markdown",
   "metadata": {
    "id": "te3XnjaVHJlo"
   },
   "source": [
    "We have already seen that we can pass **attributes** into the initialization of an object, and we can return them with the Python-typical **attribute notation**. To access an attribute we called the object name and the attribute name separated by a dot `.`.\n",
    "\n",
    "In general, the attributes can be distinguished into two categories: On the one hand the **instance  attributes** which are declared within the methods and can be **different** between each object of the same class. On the other hand the **class attributes** which are declared outside the methods and are the **same** between every object of the same class.\n",
    "\n",
    "So far we have only seen the first one, namely instance attributes. In the following we will add a class attribute to our example.\n",
    "\n",
    "Let us add a **class attribute** to our **example**."
   ]
  },
  {
   "cell_type": "code",
   "execution_count": null,
   "metadata": {
    "id": "RxW--YifHJlp"
   },
   "outputs": [],
   "source": [
    "class Dog:\n",
    "    \"\"\"\n",
    "    Class Dog\n",
    "    \"\"\"\n",
    "\n",
    "    fluffy = True\n",
    "\n",
    "    def __init__(self, name, age):\n",
    "        self.name = name\n",
    "        self.age = age\n",
    "\n",
    "    def play(self):\n",
    "        print(\"Dog plays\")\n",
    "\n",
    "    def eat(self):\n",
    "        print(\"Dog eats\")"
   ]
  },
  {
   "cell_type": "code",
   "execution_count": null,
   "metadata": {
    "id": "yX1TSh5BHJlp"
   },
   "outputs": [],
   "source": [
    "# initialize dog\n",
    "dog = Dog(name=\"Lassie\", age=5)\n",
    "\n",
    "# print name dog\n",
    "print(dog.name)\n",
    "\n",
    "# print fluffy dog\n",
    "print(dog.fluffy)"
   ]
  },
  {
   "cell_type": "code",
   "execution_count": null,
   "metadata": {
    "id": "vfKpKu2lHJlp"
   },
   "outputs": [],
   "source": [
    "# initialize dog\n",
    "dog = Dog(name=\"Sunny\", age=3)\n",
    "\n",
    "# print name dog\n",
    "print(dog.name)\n",
    "\n",
    "# print fluffy dog\n",
    "print(dog.fluffy)"
   ]
  },
  {
   "cell_type": "markdown",
   "metadata": {
    "id": "aTH9v5s7HJlp"
   },
   "source": [
    "If you want to see all the **attributes** of an object, we use the **function** `dir()`. However, note that in addition to your own attributes, also **standard attributes** and **methods** are listed here.\n",
    "\n",
    "Let us have a look at all **attributes** and **methods** of our **class object**."
   ]
  },
  {
   "cell_type": "code",
   "execution_count": null,
   "metadata": {
    "id": "ZxUyAbbfHJlq"
   },
   "outputs": [],
   "source": [
    "class Dog:\n",
    "    \"\"\"\n",
    "    Class Dog\n",
    "    \"\"\"\n",
    "\n",
    "    fluffy = True\n",
    "\n",
    "    def __init__(self, name, age):\n",
    "        self.name = name\n",
    "        self.age = age\n",
    "\n",
    "    def play(self):\n",
    "        print(\"Dog plays\")\n",
    "\n",
    "    def eat(self):\n",
    "        print(\"Dog eats\")"
   ]
  },
  {
   "cell_type": "code",
   "execution_count": null,
   "metadata": {
    "id": "ghjdWwJwHJlq"
   },
   "outputs": [],
   "source": [
    "# print attributes and methods\n",
    "print(dir(Dog))"
   ]
  },
  {
   "cell_type": "markdown",
   "metadata": {
    "id": "2tExSSEiHJlq"
   },
   "source": [
    "In this list are also many **default attributes** which contain different information. Here is a brief **overview** of common attributes:\n",
    "\n",
    "| Attribute | Description |\n",
    "| -------- | ------- |\n",
    "| `__doc__` | documentation string of instance |\n",
    "| `__module__` | name of module where instance is defined |\n",
    "| `__dict__` | namespace of instance |"
   ]
  },
  {
   "cell_type": "markdown",
   "metadata": {
    "id": "jY_ugrRUHJlq"
   },
   "source": [
    "### 1.3 Instance Methods"
   ]
  },
  {
   "cell_type": "markdown",
   "metadata": {
    "id": "p5KF1-2wHJlq"
   },
   "source": [
    "The **methods** of an instance generally provide its **functionalities**. They are called in the same way as the attributes, but with round brackets `(` `)` after the method's name, wherein possible parameters can be passed. These functions can output one or more parameters like normal functions too.\n",
    "\n",
    "There are different categories of methods: First, there are **dynamic methods** where the **instance** itself is passed with the **keyword** `self` and whose results can differ from instance to instance. Second, there are **static methods** where the instance itself is not passed because the results of the methods are the same from instance to instance. Static methods must be declared with the **decorator** `@staticmethod`."
   ]
  },
  {
   "cell_type": "markdown",
   "metadata": {
    "id": "1QfAWhWyHJlq"
   },
   "source": [
    "There are also many **default methods** which provide different functionalities. Here is a brief **overview** of common methods:\n",
    "\n",
    "| Method | Description |\n",
    "| -------- | ------- |\n",
    "| `__init__` | initialize instance |\n",
    "| `__str__` | nicely printable string representation of instance |\n",
    "| `__del__` | delete instance |\n",
    "| `__eq__` | comparison operator for instance |"
   ]
  },
  {
   "cell_type": "markdown",
   "metadata": {
    "id": "Gmt1z61lHJlr"
   },
   "source": [
    "For example, if we have not specified any **string representation** in our class, then the **memory location** of the object is shown by default. However, this is not very informative for us. Therefore, we overwrite this default method and return an **understandable description** of the object instead.\n",
    "\n",
    "Let us try out how the **string representations** differ."
   ]
  },
  {
   "cell_type": "code",
   "execution_count": null,
   "metadata": {
    "id": "2lCZ3lbKHJlr"
   },
   "outputs": [],
   "source": [
    "class Dog:\n",
    "    \"\"\"\n",
    "    Class Dog\n",
    "    \"\"\"\n",
    "\n",
    "    fluffy = True\n",
    "\n",
    "    def __init__(self, name, age):\n",
    "        self.name = name\n",
    "        self.age = age\n",
    "\n",
    "    def play(self):\n",
    "        print(\"Dog plays\")\n",
    "\n",
    "    def eat(self):\n",
    "        print(\"Dog eats\")"
   ]
  },
  {
   "cell_type": "code",
   "execution_count": null,
   "metadata": {
    "id": "qAyvg_P3HJlr"
   },
   "outputs": [],
   "source": [
    "# initialize dog\n",
    "dog = Dog(name=\"Sunny\", age=3)\n",
    "\n",
    "# print representation dog\n",
    "print(dog)"
   ]
  },
  {
   "cell_type": "code",
   "execution_count": null,
   "metadata": {
    "id": "bb6gVimMHJlr"
   },
   "outputs": [],
   "source": [
    "class Dog:\n",
    "    \"\"\"\n",
    "    Class Dog\n",
    "    \"\"\"\n",
    "\n",
    "    fluffy = True\n",
    "\n",
    "    def __init__(self, name, age):\n",
    "        self.name = name\n",
    "        self.age = age\n",
    "\n",
    "    def __str__(self):\n",
    "        return \"Dog Class Object\"\n",
    "\n",
    "    def play(self):\n",
    "        print(\"Dog plays\")\n",
    "\n",
    "    def eat(self):\n",
    "        print(\"Dog eats\")"
   ]
  },
  {
   "cell_type": "code",
   "execution_count": null,
   "metadata": {
    "id": "q-889UkcHJls"
   },
   "outputs": [],
   "source": [
    "# initialize dog\n",
    "dog = Dog(name=\"Sunny\", age=3)\n",
    "\n",
    "# print representation dog\n",
    "print(dog)"
   ]
  },
  {
   "cell_type": "markdown",
   "metadata": {
    "id": "2z-YQ63eHJls"
   },
   "source": [
    "These were just a few simple examples of how you can customize your own classes, but in practice many many other attributes and methods are used."
   ]
  },
  {
   "cell_type": "markdown",
   "metadata": {
    "id": "hUMmg1y3HJls"
   },
   "source": [
    "### Exercise 1\n",
    "\n",
    "Create the class parrot. A parrot has a name, age, and a list of words it can say. \n",
    "- Add a method that allows to add new words to the list of words of a parrot. \n",
    "- Add a method that returns the number of words a parrot can say. \n",
    "- Add a method that describes the attributes of a parrot."
   ]
  },
  {
   "cell_type": "code",
   "execution_count": 5,
   "metadata": {
    "id": "-EFu1iapHJls"
   },
   "outputs": [],
   "source": [
    "# %load \"31_OOP_ex1.py\""
   ]
  },
  {
   "cell_type": "code",
   "execution_count": null,
   "metadata": {
    "id": "5jJQoDcDHJls"
   },
   "outputs": [],
   "source": []
  },
  {
   "cell_type": "markdown",
   "metadata": {
    "id": "rlzMwQGRHJls"
   },
   "source": [
    "## 2 OOP Concepts"
   ]
  },
  {
   "cell_type": "markdown",
   "metadata": {
    "id": "XS9kOYHgHJls"
   },
   "source": [
    "Object-oriented programming is associated with **Encapsulation**, **Abstraction**, **Inheritance** and **Polymorphism**. We will discuss these concepts using some examples."
   ]
  },
  {
   "cell_type": "markdown",
   "metadata": {
    "id": "rn62W3YyHJls"
   },
   "source": [
    "### Encapsulation"
   ]
  },
  {
   "cell_type": "markdown",
   "metadata": {
    "id": "FBhfgbPWHJlt"
   },
   "source": [
    "**Encapsulation** is achieved when each object keeps its **state private**, inside a class. Other objects do not have direct access to this state. Instead, they can only call a list of **public functions** - called methods. That is why we have **access modifiers** in Python which we can use to restrict access to objects. There are **public**, **protected** and **private** modifiers.\n",
    "\n",
    "- To use **private modifiers**, we must prefix the name of the attributes or methods with **two underscores**. These are then private and can only be accessed **inside** the **object** itself.\n",
    "- To use **protected modifiers**, we must prefix the name of the attributes or methods with **one underscore**. These are then protected and can only be accessed **within** their **package**.\n",
    "- To use **public modifiers**, it is best to write the name of the attributes or methods **without** a leading **underscore**. They are then public and can be accessed from **anywhere**."
   ]
  },
  {
   "cell_type": "markdown",
   "metadata": {
    "id": "yhb64IVXHJlt"
   },
   "source": [
    "In this format, the attributes and methods would look as follows:\n",
    "\n",
    "| Modifier | Attribute | Method |\n",
    "| -------- | ------- | ------- |\n",
    "| Private | `__private_var` | `__private_method()` |\n",
    "| Protected | `_protected_var` | `_protected_method()` |\n",
    "| Public | `public_var` | `public_method()` |\n",
    "\n",
    "Let us see how you **do not** and **do** access **private attributes** and **methods**."
   ]
  },
  {
   "cell_type": "code",
   "execution_count": null,
   "metadata": {
    "id": "0sohxnOwHJlt"
   },
   "outputs": [],
   "source": [
    "class Dog:\n",
    "    \"\"\"\n",
    "    Class Dog\n",
    "    \"\"\"\n",
    "\n",
    "    __fluffy = True\n",
    "\n",
    "    def __init__(self, name, age):\n",
    "        self.name = name\n",
    "        self.age = age\n",
    "\n",
    "    def __str__(self):\n",
    "        return \"Dog Class Object\"\n",
    "\n",
    "    def __vaccinate(self):\n",
    "        print(\"Dog vaccinated\")\n",
    "\n",
    "    def doctor(self):\n",
    "        self.__vaccinate()\n",
    "\n",
    "    def pet(self):\n",
    "        return self.__fluffy"
   ]
  },
  {
   "cell_type": "code",
   "execution_count": null,
   "metadata": {
    "id": "teeHYjbcHJl2"
   },
   "outputs": [],
   "source": [
    "# initialize dog\n",
    "dog = Dog(name=\"Sunny\", age=3)\n",
    "\n",
    "# access private attribute directly\n",
    "print(dog.__fluffy)"
   ]
  },
  {
   "cell_type": "code",
   "execution_count": null,
   "metadata": {
    "id": "uX1jn5PoHJl2"
   },
   "outputs": [],
   "source": [
    "# initialize dog\n",
    "dog = Dog(name=\"Sunny\", age=3)\n",
    "\n",
    "# access private method directly\n",
    "dog.__vaccinate()"
   ]
  },
  {
   "cell_type": "code",
   "execution_count": null,
   "metadata": {
    "id": "wzEtrvegHJl3"
   },
   "outputs": [],
   "source": [
    "# initialize dog\n",
    "dog = Dog(name=\"Sunny\", age=3)\n",
    "\n",
    "# access private attribute indirectly\n",
    "print(dog.pet())"
   ]
  },
  {
   "cell_type": "code",
   "execution_count": null,
   "metadata": {
    "id": "FvZj93dMHJl3"
   },
   "outputs": [],
   "source": [
    "# initialize dog\n",
    "dog = Dog(name=\"Sunny\", age=3)\n",
    "\n",
    "# access private method indirectly\n",
    "dog.doctor()"
   ]
  },
  {
   "cell_type": "markdown",
   "metadata": {
    "id": "OVJEu-4pHJl3"
   },
   "source": [
    "### Abstraction"
   ]
  },
  {
   "cell_type": "markdown",
   "metadata": {
    "id": "hJVkJP19HJl3"
   },
   "source": [
    "**Abstraction** can be thought of as a natural extension of **encapsulation**. It is a process of **hiding** the **implementation details** from the user, only the **functionality** will be provided to the user. In object-oriented design, programs are often extremely large. And separate objects communicate with each other a lot. So maintaining a large codebase like this for years - with changes along the way - is difficult. Abstraction is a concept aiming to ease this problem.\n",
    "\n",
    "Applying abstraction means that each object should only expose a high-level mechanism for using it. This mechanism should hide internal implementation details. It should only reveal operations relevant for the other objects. Instead of how it does it, the user will have the information on what it does."
   ]
  },
  {
   "cell_type": "markdown",
   "metadata": {
    "id": "Lpx3-Qh3HJl4"
   },
   "source": [
    "The **idea** of **abstraction** is described in the following **visualization**. The surgeon and the old lady designed (or visualized) the animal differently. In the same way, you would put different features in the Cat class, depending upon the need of the application.\n",
    "\n",
    "<img src=\"abstraction.png\" style=\"height:30em\">"
   ]
  },
  {
   "cell_type": "markdown",
   "metadata": {
    "id": "-MFGeFz0HJl4"
   },
   "source": [
    "In the following we will **abstract** our **object** according to its **components**. So the class dog has e.g. a mouth, nose, fur, but these will be implemented as classes by themselves. These classes can then be further divided into their components. The goal is to implement attributes and methods along with their actual object. This way the high-level class remains clear.\n",
    "\n",
    "Let us start **abstracting** our **example**."
   ]
  },
  {
   "cell_type": "code",
   "execution_count": null,
   "metadata": {
    "id": "nmK69Y0pHJl4"
   },
   "outputs": [],
   "source": [
    "class Dog:\n",
    "    \"\"\"\n",
    "    Class Dog\n",
    "    \"\"\"\n",
    "\n",
    "    __fluffy = True\n",
    "\n",
    "    def __init__(self, name, age, mouth, nose, fur):\n",
    "        self.name = name\n",
    "        self.age = age\n",
    "        self.mouth = mouth\n",
    "        self.nose = nose\n",
    "        self.fur = fur\n",
    "\n",
    "    def __str__(self):\n",
    "        return \"Dog Class Object\""
   ]
  },
  {
   "cell_type": "code",
   "execution_count": null,
   "metadata": {
    "id": "HB1Fv_DlHJl4"
   },
   "outputs": [],
   "source": [
    "class Mouth():\n",
    "    \"\"\"\n",
    "    Class Mouth\n",
    "    \"\"\"\n",
    "\n",
    "    def __init__(self, tongue, teeth):\n",
    "        self.teeth = teeth\n",
    "        self.tongue = tongue\n",
    "\n",
    "    def __str__(self):\n",
    "        return \"Mouth Class Object\""
   ]
  },
  {
   "cell_type": "code",
   "execution_count": null,
   "metadata": {
    "id": "Ep9DYx1JHJl4"
   },
   "outputs": [],
   "source": [
    "class Tooth():\n",
    "    \"\"\"\n",
    "    Class Tooth\n",
    "    \"\"\"\n",
    "\n",
    "    def __init__(self, color, caries):\n",
    "        self.color = color\n",
    "        self.caries = caries\n",
    "\n",
    "    def __str__(self):\n",
    "        return \"Tooth Class Object\""
   ]
  },
  {
   "cell_type": "markdown",
   "metadata": {
    "id": "0V0pqiafHJl4"
   },
   "source": [
    "### Inheritance"
   ]
  },
  {
   "cell_type": "markdown",
   "metadata": {
    "id": "UNLN9UKGHJl4"
   },
   "source": [
    "**Inheritance** is the process by which one class takes on the attributes and methods of another. Newly formed classes are called **child** classes, and the classes that child classes are derived from are called **parent** classes. Child classes override or extend the functionality (e.g., attributes and behaviors) of parent classes. In other words, child classes **inherit** all of the **parent’s attributes** and **methods** but can also specify different functionalities to follow.\n",
    "\n",
    "<img src=\"inheritance.png\" style=\"height:30em\">"
   ]
  },
  {
   "cell_type": "code",
   "execution_count": null,
   "metadata": {
    "id": "rWvCMqp6HJl5"
   },
   "outputs": [],
   "source": [
    "class Animal:\n",
    "    \"\"\"\n",
    "    Class Animal\n",
    "    \"\"\"\n",
    "\n",
    "    sleeps = True\n",
    "    eats = [\"Meat\", \"Plants\"]\n",
    "\n",
    "    def __init__(self, age):\n",
    "        self.age = age\n",
    "\n",
    "    def __str__(self):\n",
    "        return \"Animal Class Object\""
   ]
  },
  {
   "cell_type": "code",
   "execution_count": null,
   "metadata": {
    "id": "nPpUj7IjHJl5"
   },
   "outputs": [],
   "source": [
    "class Dog(Animal):\n",
    "    \"\"\"\n",
    "    Class Dog\n",
    "    \"\"\"\n",
    "\n",
    "    eats = [\"Meat\", \"Plants\"]\n",
    "\n",
    "    def __init__(self, name, age):\n",
    "        self.name = name\n",
    "        self.age = age\n",
    "\n",
    "    def __str__(self):\n",
    "        return \"Dog Class Object\"\n",
    "\n",
    "    def play(self):\n",
    "        print(\"Dog plays\")"
   ]
  },
  {
   "cell_type": "code",
   "execution_count": null,
   "metadata": {
    "id": "6oSfXmGaHJl5"
   },
   "outputs": [],
   "source": [
    "# initialize animal\n",
    "animal = Animal(age=99)\n",
    "\n",
    "# print animal eats\n",
    "print(animal.eats)\n",
    "\n",
    "# try play animal\n",
    "animal.play()"
   ]
  },
  {
   "cell_type": "code",
   "execution_count": null,
   "metadata": {
    "id": "SsV4VXkUHJl5"
   },
   "outputs": [],
   "source": [
    "# initialize dog\n",
    "dog = Dog(name=\"Sunny\", age=3)\n",
    "\n",
    "# print dog eats\n",
    "print(animal.eats)\n",
    "\n",
    "# play dog\n",
    "dog.play()"
   ]
  },
  {
   "cell_type": "markdown",
   "metadata": {
    "id": "zakoPtgZHJl6"
   },
   "source": [
    "If you want to know if a **class** is **subclass** of another class, you can check this with the **function** `issubclass(subclass, class)`.\n",
    "\n",
    "If you want to know if an **object** is an **instance** of a certain class, you can check this with the **function** `isinstance(object, class)`.\n",
    "\n",
    "Let us check our classes and objects once."
   ]
  },
  {
   "cell_type": "code",
   "execution_count": null,
   "metadata": {
    "id": "WA1IhTXpHJl6"
   },
   "outputs": [],
   "source": [
    "# print whether animal subclass of dog\n",
    "print(issubclass(Animal, Dog))"
   ]
  },
  {
   "cell_type": "code",
   "execution_count": null,
   "metadata": {
    "id": "qPI6sJ9FHJl6"
   },
   "outputs": [],
   "source": [
    "# initialize dog\n",
    "dog = Dog(name=\"Sunny\", age=3)\n",
    "\n",
    "# print whether dog instance of dog\n",
    "print(isinstance(dog, Dog))"
   ]
  },
  {
   "cell_type": "markdown",
   "metadata": {
    "id": "dvVYukq1HJl6"
   },
   "source": [
    "### Polymorphism"
   ]
  },
  {
   "cell_type": "markdown",
   "metadata": {
    "id": "ViMaiZUpHJl6"
   },
   "source": [
    "**Polymorphism** is the characteristic of being able to assign **different meanings** or **usages** to something in different contexts - specifically, to allow an entity such as a function, or an object to have more than one form. The term polymorphism literally means having **multiple forms**. In the context of object-oriented programming, polymorphism refers to the ability of an object to behave in **multiple ways**.\n",
    "\n",
    "In Python polymorphism is implemented via **method-overloading** and **method-overriding**.\n",
    "\n",
    "**Method overloading** refers to the ability that different **numbers of parameters** can be passed into a method by making some parameters **optional**. If more parameters are passed, the method gets overloaded, and also involves the optional parameters.\n",
    "\n",
    "**Method overriding**, on the other hand, refers to the **same method** being implemented in a **subclass** and in a **superclass**. This means that the name of the method remains the same. In this case, the method in the subclass overwrites the method in the superclass.\n",
    "\n",
    "Let us illustrate both **concepts** with our **example**."
   ]
  },
  {
   "cell_type": "code",
   "execution_count": null,
   "metadata": {
    "id": "MiPuuiB0HJl6"
   },
   "outputs": [],
   "source": [
    "class Animal:\n",
    "    \"\"\"\n",
    "    Class Animal\n",
    "    \"\"\"\n",
    "\n",
    "    sleeps = True\n",
    "    eats = [\"Meat\", \"Plants\"]\n",
    "\n",
    "    def __init__(self, age, name=None):\n",
    "        self.age = age\n",
    "        self.name = name\n",
    "\n",
    "    def __str__(self):\n",
    "        return \"Animal Class Object\"\n",
    "\n",
    "    def play(self):\n",
    "        raise NotImplementedError(\"Subclass must implement play\")"
   ]
  },
  {
   "cell_type": "code",
   "execution_count": null,
   "metadata": {
    "id": "Q0tjEWItHJl6"
   },
   "outputs": [],
   "source": [
    "class Dog(Animal):\n",
    "    \"\"\"\n",
    "    Class Dog\n",
    "    \"\"\"\n",
    "\n",
    "    eats = [\"Meat\", \"Plants\"]\n",
    "\n",
    "    def __init__(self, age, name):\n",
    "        self.age = age\n",
    "        self.name = name\n",
    "\n",
    "    def __str__(self):\n",
    "        return \"Dog Class Object\"\n",
    "\n",
    "    def play(self):\n",
    "        print(\"Dog plays\")"
   ]
  },
  {
   "cell_type": "code",
   "execution_count": null,
   "metadata": {
    "id": "eWIQ_5KcHJl7"
   },
   "outputs": [],
   "source": [
    "# initialize animal\n",
    "animal = Animal(age=99)\n",
    "\n",
    "# play animal\n",
    "animal.play()"
   ]
  },
  {
   "cell_type": "code",
   "execution_count": null,
   "metadata": {
    "id": "2cDTHkgrHJl7"
   },
   "outputs": [],
   "source": [
    "# initialize dog\n",
    "dog = Dog(name=\"Sunny\", age=3)\n",
    "\n",
    "# play dog\n",
    "dog.play()"
   ]
  },
  {
   "cell_type": "code",
   "execution_count": null,
   "metadata": {
    "id": "oK3WlVorHJl7"
   },
   "outputs": [],
   "source": []
  },
  {
   "cell_type": "code",
   "execution_count": null,
   "metadata": {
    "id": "9trZBbUbHJl7"
   },
   "outputs": [],
   "source": []
  },
  {
   "cell_type": "markdown",
   "metadata": {
    "id": "06dtqQ0uHJl7"
   },
   "source": [
    "## 3 Optional: Application In Packages"
   ]
  },
  {
   "cell_type": "markdown",
   "metadata": {
    "id": "Kd_feI9cHJl7"
   },
   "source": [
    "**Object-oriented programming** is particularly used in **large packages**. But it is worthwhile to write even for smaller projects the code in packages. The structure of packages allows the code and its classes to be structured in **folders** and **files**, which can relate to one another. At the end you can use the code very simple, as with all large modules and packages, you simply import the package and its code is available.\n",
    "\n",
    "We will demonstate with a small demo package how you can easily package your previously written classes. The best way to do this is to start with how you can structure the folders and files. The following is an **example** with a possible **hierarchical filesystem**:"
   ]
  },
  {
   "cell_type": "markdown",
   "metadata": {
    "id": "ZVQTLjDrHJl8"
   },
   "source": [
    "```text\n",
    ".\n",
    "├── script.py\n",
    "└── demo\n",
    "    ├── __init__.py\n",
    "    ├── animal.py\n",
    "    └── bird\n",
    "        ├── __init__.py\n",
    "        ├── bird.py\n",
    "        └── parrot.py\n",
    "```"
   ]
  },
  {
   "cell_type": "markdown",
   "metadata": {
    "id": "8hZqQIxVHJl8"
   },
   "source": [
    "First of all you should create a **folder** which you give the name of your **package**, in our case `demo`. Then you need to create a file `__init__.py` that **initializes** the **package** and makes sure that the Python files can be imported later. In the easiest case, this file can be empty, or execute some kind of starting code alternatively. Then you can create **Python files** either directly in the folder of the package or in new subfolders, which need a file `__init__.py` again."
   ]
  },
  {
   "cell_type": "markdown",
   "metadata": {
    "id": "Q31oadC3HJl8"
   },
   "source": [
    "To use a **specific class** or **function** from a specific Python file, you must **import** it first. To do this, you access it with a kind of **relative path** consisting of the folder names and the file name separated by **dots**.\n",
    "\n",
    "Assuming in your working directory, where your code is running, the folder `demo` is also located. For example, if you want to **import** the `bird.py`, there are two ways:\n",
    "\n",
    "```python\n",
    "# script.py\n",
    "import demo.bird.bird\n",
    "\n",
    "# initialize bird\n",
    "demo.bird.bird.Bird(age=10, name=\"Ben\")\n",
    "```\n",
    "\n",
    "```python\n",
    "# script.py\n",
    "from demo.bird.bird import Bird\n",
    "\n",
    "# initialize bird\n",
    "Bird(age=10, name=\"Ben\")\n",
    "```"
   ]
  },
  {
   "cell_type": "markdown",
   "metadata": {
    "id": "KSXo7JCEHJl8"
   },
   "source": [
    "If you want to use a functionality from anywhere in your package elsewhere, you may have to import it from the **same** or even a **parent directory**. Again, it is a good idea to do relative imports, also for **intra-package references**. For example, if you want to access from the file `parrot.py` the class `Bird` in the file `bird.py`, you can do this as follows:\n",
    "\n",
    "```python\n",
    "# demo/bird/parrot.py\n",
    "from .bird import Bird\n",
    "\n",
    "# initialize bird\n",
    "Bird(age=10, name=\"Ben\")\n",
    "```\n",
    "\n",
    "Assuming you want to access from the same file `parrot.py` the class `Animal` from `animal.py`, then this works as follows:\n",
    "\n",
    "\n",
    "```python\n",
    "# demo/bird/parrot.py\n",
    "from ..animal import Animal\n",
    "\n",
    "# initialize bird\n",
    "Animal(age=10)\n",
    "```"
   ]
  }
 ],
 "metadata": {
  "colab": {
   "provenance": []
  },
  "kernelspec": {
   "display_name": "Python 3 (ipykernel)",
   "language": "python",
   "name": "python3"
  },
  "language_info": {
   "codemirror_mode": {
    "name": "ipython",
    "version": 3
   },
   "file_extension": ".py",
   "mimetype": "text/x-python",
   "name": "python",
   "nbconvert_exporter": "python",
   "pygments_lexer": "ipython3",
   "version": "3.11.5"
  }
 },
 "nbformat": 4,
 "nbformat_minor": 1
}
