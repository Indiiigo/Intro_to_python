{
 "cells": [
  {
   "cell_type": "markdown",
   "metadata": {
    "id": "bGIGSnHXLvId"
   },
   "source": [
    "# Assignment 3:  Loops, Functions, and Data Exploration with Pandas\n",
    "\n",
    "Indira Sen, Claire Jordan, Elena Solar, Andri Rutschmann\n",
    "\n",
    "Winter Term 2023 / 2024\n",
    "\n",
    "You can score up to 15 points in this assignment. Please submit your solutions inside this notebook in your repository on GitHub. The deadline for submission is on Wednesday, October 18, 23:00 hours. You will get individual feedback in your repository."
   ]
  },
  {
   "cell_type": "markdown",
   "metadata": {
    "id": "0tfnt0QN-98D"
   },
   "source": [
    "# Ex 1: Quality of Government Dataset (Total: 4.5 points)\n",
    "Read in the government dataset directly from \"http://www.qogdata.pol.gu.se/data/qog_std_cs_jan19.csv\"\n",
    "\n",
    "A. How many rows does this dataset have? (0.5 points)\n",
    "\n",
    "B. How many columns does this dataset have? (0.5 points)\n",
    "\n",
    "C. Select the following columns from the dataset:\n",
    "\"cname\", \"wdi_pop\", \"wdi_popgr\", \"wdi_gdpcapcur\", \"wdi_gdpcapgr\", \"wdi_area\", \"wdi_broadb\", \"ht_region\" into another dataframe (0.5 points)\n",
    "\n",
    "D. Rename the columns to: \"country\", \"population\",\"population_growth\", \"gdp_per_capita\", \"gdp_growth\", \"area\", \"internet\", \"region\" (0.5 points)\n",
    "\n",
    "E. Rename the region codes 1-10 with\n",
    "\"Eastern Europe\", \"Latin America\", \"North Africa & Middle East\", \"Sub-Saharan Africa\", \"Western Europe and North America\", \"East Asia\",\"South-East Asia\", \"South Asia\", \"Pacific\", \"Caribbean\" (1 point)\n",
    "\n",
    "F. What are the mean values for each attribute? (1 point)\n",
    "\n",
    "G. Which country has the highest population in the region \"Eastern Europe\"? (0.5 points)"
   ]
  },
  {
   "cell_type": "code",
   "execution_count": null,
   "metadata": {
    "id": "yhJWcviy-98G"
   },
   "outputs": [],
   "source": []
  },
  {
   "cell_type": "markdown",
   "metadata": {
    "id": "Svgbispj-98J"
   },
   "source": [
    "#  Ex 2: Book and Movie shop (Total: 5 points)"
   ]
  },
  {
   "cell_type": "markdown",
   "metadata": {
    "id": "ZPpYj_nt-98K"
   },
   "source": [
    "For a virtual shop that sells movies and books, we have four tables:\n",
    "    \n",
    "    1. pd_customers: Gives first- and lastname for each customer\n",
    "    2. pd_books: Gives the raw price for all books that are being sold\n",
    "    3. pd_movies: Gives the raw price for all movies that are being sold\n",
    "    4. pd_transactions: Gives the list of all transactions being made (which customer bought which item)\n",
    "\n",
    "Do the following:\n",
    "\n",
    "A. Load all 4 datasets in separate dataframes (2 points)\n",
    "\n",
    "B. Compile a listing of all items (=books and movies) that have been sold in one dataframe\n",
    "The dataframe should contain two columns: \"item_name\" and \"price\" (1 point)\n",
    "\n",
    "C. Compute lists of the top 10 bestselling items, both by count and by sum of prices (2 points)"
   ]
  },
  {
   "cell_type": "code",
   "execution_count": null,
   "metadata": {
    "id": "AOr8rbkk-98K"
   },
   "outputs": [],
   "source": []
  },
  {
   "cell_type": "markdown",
   "metadata": {},
   "source": [
    "# Ex 3: Revisiting Adults.csv (Total: 5.5 points)"
   ]
  },
  {
   "cell_type": "markdown",
   "metadata": {},
   "source": [
    "A. Use adult_df from the morning session (0.5 points)\n",
    "\n",
    "B. Get all persons with a Bachelor degree as their highest degree into 'bachelors' dataframe (1 point)\n",
    "\n",
    "C. Print the number of those persons (0.5 points)\n",
    "\n",
    "D. Print the sum of their capital_gain (1 point)\n",
    "\n",
    "E. Sort them according to their capital_gain and age in descending order and save in the same object (0.5 points)\n",
    "\n",
    "F. Print first 10 of those persons who has age between 20 and 40 (0.5 points)\n",
    "\n",
    "G. Print the correlation between age and capital gain based on different educations levels. Write a 2-sentence takeaway on your findings (1.5 points)"
   ]
  },
  {
   "cell_type": "code",
   "execution_count": null,
   "metadata": {},
   "outputs": [],
   "source": []
  }
 ],
 "metadata": {
  "colab": {
   "provenance": []
  },
  "hide_input": false,
  "kernelspec": {
   "display_name": "Python 3 (ipykernel)",
   "language": "python",
   "name": "python3"
  },
  "language_info": {
   "codemirror_mode": {
    "name": "ipython",
    "version": 3
   },
   "file_extension": ".py",
   "mimetype": "text/x-python",
   "name": "python",
   "nbconvert_exporter": "python",
   "pygments_lexer": "ipython3",
   "version": "3.11.5"
  },
  "nav_menu": {},
  "toc": {
   "base_numbering": 1,
   "nav_menu": {},
   "number_sections": true,
   "sideBar": true,
   "skip_h1_title": false,
   "title_cell": "Table of Contents",
   "title_sidebar": "Contents",
   "toc_cell": false,
   "toc_position": {},
   "toc_section_display": false,
   "toc_window_display": false
  },
  "varInspector": {
   "cols": {
    "lenName": 16,
    "lenType": 16,
    "lenVar": 40
   },
   "kernels_config": {
    "python": {
     "delete_cmd_postfix": "",
     "delete_cmd_prefix": "del ",
     "library": "var_list.py",
     "varRefreshCmd": "print(var_dic_list())"
    },
    "r": {
     "delete_cmd_postfix": ") ",
     "delete_cmd_prefix": "rm(",
     "library": "var_list.r",
     "varRefreshCmd": "cat(var_dic_list()) "
    }
   },
   "types_to_exclude": [
    "module",
    "function",
    "builtin_function_or_method",
    "instance",
    "_Feature"
   ],
   "window_display": false
  }
 },
 "nbformat": 4,
 "nbformat_minor": 1
}
