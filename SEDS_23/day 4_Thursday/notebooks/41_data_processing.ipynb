{
 "cells": [
  {
   "cell_type": "markdown",
   "metadata": {
    "id": "_O0xbKsGDptg",
    "toc": true
   },
   "source": [
    "<h1>Table of Contents<span class=\"tocSkip\"></span></h1>\n",
    "<div class=\"toc\"><ul class=\"toc-item\"><li><span><a href=\"#Data-Exploration-with-Pandas\" data-toc-modified-id=\"Data-Exploration-with-Pandas-1\"><span class=\"toc-item-num\">1&nbsp;&nbsp;</span>Data Exploration with Pandas</a></span><ul class=\"toc-item\"><li><span><a href=\"#Edit-the-data\" data-toc-modified-id=\"Edit-the-data-1.1\"><span class=\"toc-item-num\">1.1&nbsp;&nbsp;</span>Edit the data</a></span><ul class=\"toc-item\"><li><span><a href=\"#Remove-rows\" data-toc-modified-id=\"Remove-rows-1.1.1\"><span class=\"toc-item-num\">1.1.1&nbsp;&nbsp;</span>Remove rows</a></span></li><li><span><a href=\"#Remove-columns\" data-toc-modified-id=\"Remove-columns-1.1.2\"><span class=\"toc-item-num\">1.1.2&nbsp;&nbsp;</span>Remove columns</a></span></li><li><span><a href=\"#Append-rows\" data-toc-modified-id=\"Append-rows-1.1.3\"><span class=\"toc-item-num\">1.1.3&nbsp;&nbsp;</span>Append rows</a></span></li><li><span><a href=\"#Adding-columns\" data-toc-modified-id=\"Adding-columns-1.1.4\"><span class=\"toc-item-num\">1.1.4&nbsp;&nbsp;</span>Adding columns</a></span></li><li><span><a href=\"#The-apply-function\" data-toc-modified-id=\"The-apply-function-1.1.5\"><span class=\"toc-item-num\">1.1.5&nbsp;&nbsp;</span>The apply function</a></span></li></ul></li><li><span><a href=\"#Handling-missing-values\" data-toc-modified-id=\"Handling-missing-values-1.2\"><span class=\"toc-item-num\">1.2&nbsp;&nbsp;</span>Handling missing values</a></span></li><li><span><a href=\"#Group-by\" data-toc-modified-id=\"Group-by-1.3\"><span class=\"toc-item-num\">1.3&nbsp;&nbsp;</span>Group-by</a></span></li><li><span><a href=\"#Ex-2.2-A\" data-toc-modified-id=\"Ex-2.2-A-1.4\"><span class=\"toc-item-num\">1.4&nbsp;&nbsp;</span>Ex 2.2 A</a></span></li><li><span><a href=\"#Concatenate-and-join\" data-toc-modified-id=\"Concatenate-and-join-1.5\"><span class=\"toc-item-num\">1.5&nbsp;&nbsp;</span>Concatenate and join</a></span></li><li><span><a href=\"#Working-with-specific-data-types\" data-toc-modified-id=\"Working-with-specific-data-types-1.6\"><span class=\"toc-item-num\">1.6&nbsp;&nbsp;</span>Working with specific data types</a></span><ul class=\"toc-item\"><li><span><a href=\"#String-objects\" data-toc-modified-id=\"String-objects-1.6.1\"><span class=\"toc-item-num\">1.6.1&nbsp;&nbsp;</span>String objects</a></span></li><li><span><a href=\"#Time-objects\" data-toc-modified-id=\"Time-objects-1.6.2\"><span class=\"toc-item-num\">1.6.2&nbsp;&nbsp;</span>Time objects</a></span></li></ul></li><li><span><a href=\"#Data-export\" data-toc-modified-id=\"Data-export-1.7\"><span class=\"toc-item-num\">1.7&nbsp;&nbsp;</span>Data export</a></span></li><li><span><a href=\"#Styling\" data-toc-modified-id=\"Styling-1.8\"><span class=\"toc-item-num\">1.8&nbsp;&nbsp;</span>Styling</a></span></li><li><span><a href=\"#Transpose\" data-toc-modified-id=\"Transpose-1.9\"><span class=\"toc-item-num\">1.9&nbsp;&nbsp;</span>Transpose</a></span></li><li><span><a href=\"#Ex-2.2-B\" data-toc-modified-id=\"Ex-2.2-B-1.10\"><span class=\"toc-item-num\">1.10&nbsp;&nbsp;</span>Ex 2.2 B</a></span></li><li><span><a href=\"#OPTIONAL\" data-toc-modified-id=\"OPTIONAL-1.11\"><span class=\"toc-item-num\">1.11&nbsp;&nbsp;</span>OPTIONAL</a></span></li><li><span><a href=\"#More-material:\" data-toc-modified-id=\"More-material:-1.12\"><span class=\"toc-item-num\">1.12&nbsp;&nbsp;</span>More material:</a></span></li></ul></li></ul></div>"
   ]
  },
  {
   "cell_type": "markdown",
   "metadata": {
    "id": "Pl6zwYveDptm"
   },
   "source": [
    "# Data Exploration with Pandas"
   ]
  },
  {
   "cell_type": "code",
   "execution_count": null,
   "metadata": {
    "executionInfo": {
     "elapsed": 274,
     "status": "ok",
     "timestamp": 1696798565502,
     "user": {
      "displayName": "Indira Sen",
      "userId": "11191672663586892835"
     },
     "user_tz": -120
    },
    "id": "GatzuVeBDptn"
   },
   "outputs": [],
   "source": [
    "## setup\n",
    "import pandas as pd\n",
    "import numpy as np"
   ]
  },
  {
   "cell_type": "code",
   "execution_count": null,
   "metadata": {
    "colab": {
     "base_uri": "https://localhost:8080/",
     "height": 322
    },
    "executionInfo": {
     "elapsed": 254,
     "status": "error",
     "timestamp": 1696798767946,
     "user": {
      "displayName": "Indira Sen",
      "userId": "11191672663586892835"
     },
     "user_tz": -120
    },
    "id": "EsaoII5YDptp",
    "outputId": "185c3669-5f23-4d8f-8432-891a7688267f"
   },
   "outputs": [],
   "source": [
    "df = pd.read_csv (\"data/adult.csv\", na_values=\"?\")"
   ]
  },
  {
   "cell_type": "code",
   "execution_count": null,
   "metadata": {
    "executionInfo": {
     "elapsed": 57,
     "status": "aborted",
     "timestamp": 1696798565864,
     "user": {
      "displayName": "Indira Sen",
      "userId": "11191672663586892835"
     },
     "user_tz": -120
    },
    "id": "mb6OZ-XIDptp"
   },
   "outputs": [],
   "source": [
    "df.head()"
   ]
  },
  {
   "cell_type": "markdown",
   "metadata": {
    "id": "2hddUnW3Dptq"
   },
   "source": [
    "## Edit the data"
   ]
  },
  {
   "cell_type": "code",
   "execution_count": null,
   "metadata": {
    "executionInfo": {
     "elapsed": 57,
     "status": "aborted",
     "timestamp": 1696798565864,
     "user": {
      "displayName": "Indira Sen",
      "userId": "11191672663586892835"
     },
     "user_tz": -120
    },
    "id": "KD29kt8uDptq"
   },
   "outputs": [],
   "source": [
    "df2 = df[[\"age\", \"sex\", \"race\"]].head()\n",
    "df2"
   ]
  },
  {
   "cell_type": "markdown",
   "metadata": {
    "id": "b__nX_FHDptr"
   },
   "source": [
    "### Remove rows"
   ]
  },
  {
   "cell_type": "code",
   "execution_count": null,
   "metadata": {
    "executionInfo": {
     "elapsed": 52,
     "status": "aborted",
     "timestamp": 1696798565865,
     "user": {
      "displayName": "Indira Sen",
      "userId": "11191672663586892835"
     },
     "user_tz": -120
    },
    "id": "8muJvspIDptr"
   },
   "outputs": [],
   "source": [
    "df2.drop([1,2], inplace=True, axis=0)\n",
    "df2\n",
    "# The axis argument is either 0 when it indicates rows and 1 when it is used to drop columns.\n",
    "#axis : int or axis name. To drop labels from the rows (0 / ‘rows’)"
   ]
  },
  {
   "cell_type": "markdown",
   "metadata": {
    "id": "xb1eowJhDpts"
   },
   "source": [
    "### Remove columns"
   ]
  },
  {
   "cell_type": "code",
   "execution_count": null,
   "metadata": {
    "executionInfo": {
     "elapsed": 47,
     "status": "aborted",
     "timestamp": 1696798565865,
     "user": {
      "displayName": "Indira Sen",
      "userId": "11191672663586892835"
     },
     "user_tz": -120
    },
    "id": "L46iVxeWDptt",
    "scrolled": false
   },
   "outputs": [],
   "source": [
    "df2.drop(\"age\", axis=1, inplace=True)\n",
    "df2.head()\n",
    "\n",
    "# You can set inplace to True to delete the column without having to reassign the DataFrame.\n",
    "#axis : int or axis name. To drop labels from the columns (1 / ‘columns’)\n"
   ]
  },
  {
   "cell_type": "markdown",
   "metadata": {
    "id": "tkIDV0VvDptt"
   },
   "source": [
    "### Append rows"
   ]
  },
  {
   "cell_type": "code",
   "execution_count": null,
   "metadata": {
    "executionInfo": {
     "elapsed": 59,
     "status": "aborted",
     "timestamp": 1696798565866,
     "user": {
      "displayName": "Indira Sen",
      "userId": "11191672663586892835"
     },
     "user_tz": -120
    },
    "id": "6WttM4rHDptt"
   },
   "outputs": [],
   "source": [
    "# Append is deprecated: https://stackoverflow.com/questions/75956209/error-dataframe-object-has-no-attribute-append\n",
    "# df2.append({\"sex\": \"Male\", \"race\" : \"White\"}, ignore_index=True)\n",
    "# Note that here, the index gets filled up, but the new instances is added at the end.\n",
    "# Append rows to the end of caller, returning a new object.\n",
    "# ignore_index: If True, do not use the index labels."
   ]
  },
  {
   "cell_type": "code",
   "execution_count": null,
   "metadata": {},
   "outputs": [],
   "source": [
    "df2 = pd.concat([df2, pd.DataFrame([{\"sex\": \"Male\", \"race\" : \"White\"}])], ignore_index = True)"
   ]
  },
  {
   "cell_type": "code",
   "execution_count": null,
   "metadata": {
    "executionInfo": {
     "elapsed": 61,
     "status": "aborted",
     "timestamp": 1696798565880,
     "user": {
      "displayName": "Indira Sen",
      "userId": "11191672663586892835"
     },
     "user_tz": -120
    },
    "id": "CRWjbv_VDptu"
   },
   "outputs": [],
   "source": [
    "df2"
   ]
  },
  {
   "cell_type": "markdown",
   "metadata": {
    "id": "3wa9492qDptv"
   },
   "source": [
    "### Adding columns"
   ]
  },
  {
   "cell_type": "code",
   "execution_count": null,
   "metadata": {
    "executionInfo": {
     "elapsed": 58,
     "status": "aborted",
     "timestamp": 1696798565882,
     "user": {
      "displayName": "Indira Sen",
      "userId": "11191672663586892835"
     },
     "user_tz": -120
    },
    "id": "b5U6CI6dDptv"
   },
   "outputs": [],
   "source": [
    "df[\"age\"].head()"
   ]
  },
  {
   "cell_type": "code",
   "execution_count": null,
   "metadata": {
    "executionInfo": {
     "elapsed": 59,
     "status": "aborted",
     "timestamp": 1696798565883,
     "user": {
      "displayName": "Indira Sen",
      "userId": "11191672663586892835"
     },
     "user_tz": -120
    },
    "id": "IQVu12RuDptv"
   },
   "outputs": [],
   "source": [
    "decade = df[\"age\"] // 10 * 10\n",
    "decade.head()\n",
    "#type(s)"
   ]
  },
  {
   "cell_type": "code",
   "execution_count": null,
   "metadata": {
    "executionInfo": {
     "elapsed": 58,
     "status": "aborted",
     "timestamp": 1696798565883,
     "user": {
      "displayName": "Indira Sen",
      "userId": "11191672663586892835"
     },
     "user_tz": -120
    },
    "id": "_A3zuCBkDptv",
    "scrolled": true
   },
   "outputs": [],
   "source": [
    "df ['age_group'] = decade\n",
    "df.head()"
   ]
  },
  {
   "cell_type": "code",
   "execution_count": null,
   "metadata": {
    "executionInfo": {
     "elapsed": 58,
     "status": "aborted",
     "timestamp": 1696798565883,
     "user": {
      "displayName": "Indira Sen",
      "userId": "11191672663586892835"
     },
     "user_tz": -120
    },
    "id": "IiL-NVklDptv",
    "scrolled": true
   },
   "outputs": [],
   "source": [
    "df [\"is_white\"] = df.race == \"White\"\n",
    "df.head()"
   ]
  },
  {
   "cell_type": "code",
   "execution_count": null,
   "metadata": {
    "executionInfo": {
     "elapsed": 56,
     "status": "aborted",
     "timestamp": 1696798565883,
     "user": {
      "displayName": "Indira Sen",
      "userId": "11191672663586892835"
     },
     "user_tz": -120
    },
    "id": "WQMg_ZMnDptv",
    "scrolled": true
   },
   "outputs": [],
   "source": [
    "df [\"capital\"] = [\"capital-win\" if x > 0 else \"no-capital-win\" for x in df [\"capital-gain\"]]\n",
    "df.head()"
   ]
  },
  {
   "cell_type": "code",
   "execution_count": null,
   "metadata": {
    "executionInfo": {
     "elapsed": 56,
     "status": "aborted",
     "timestamp": 1696798565884,
     "user": {
      "displayName": "Indira Sen",
      "userId": "11191672663586892835"
     },
     "user_tz": -120
    },
    "id": "c1efXqDfDptw"
   },
   "outputs": [],
   "source": [
    "df[\"capital_status\"] = [\"capital-win\" if win > 0 else \"capital-loss\" if loss > 0 else \"neutral-capital\"\n",
    "                        for win, loss in df[[\"capital-gain\", \"capital-loss\"]].itertuples(index=False)]\n",
    "\n",
    "df.head()"
   ]
  },
  {
   "cell_type": "markdown",
   "metadata": {
    "id": "8MaiUUJwDptw"
   },
   "source": [
    "### The apply function"
   ]
  },
  {
   "cell_type": "markdown",
   "metadata": {
    "id": "zOYbLAvkDptw"
   },
   "source": [
    "Apply a function along an axis of the DataFrame. You can use .apply to send a single column to a function. This is useful when cleaning up data - converting formats, altering values etc. (http://jonathansoma.com/lede/foundations/classes/pandas%20columns%20and%20functions/apply-a-function-to-every-row-in-a-pandas-dataframe/)"
   ]
  },
  {
   "cell_type": "code",
   "execution_count": null,
   "metadata": {
    "executionInfo": {
     "elapsed": 56,
     "status": "aborted",
     "timestamp": 1696798565884,
     "user": {
      "displayName": "Indira Sen",
      "userId": "11191672663586892835"
     },
     "user_tz": -120
    },
    "id": "YrsG6LgrDptw"
   },
   "outputs": [],
   "source": [
    "df2 = df[[\"age\", \"sex\", \"workclass\"]]\n",
    "df2.head(10)"
   ]
  },
  {
   "cell_type": "code",
   "execution_count": null,
   "metadata": {
    "executionInfo": {
     "elapsed": 55,
     "status": "aborted",
     "timestamp": 1696798565884,
     "user": {
      "displayName": "Indira Sen",
      "userId": "11191672663586892835"
     },
     "user_tz": -120
    },
    "id": "JExl4vEmDptw",
    "scrolled": true
   },
   "outputs": [],
   "source": [
    "### We can also use apply on a single column:\n",
    "def my_function (row):\n",
    "    if row['workclass'] is np.NaN:\n",
    "        return \"Unknown\"\n",
    "    elif \"State\" in row['workclass']:\n",
    "        return \"official\"\n",
    "    else:\n",
    "        return \"other\"\n",
    "\n"
   ]
  },
  {
   "cell_type": "code",
   "execution_count": null,
   "metadata": {
    "executionInfo": {
     "elapsed": 54,
     "status": "aborted",
     "timestamp": 1696798565884,
     "user": {
      "displayName": "Indira Sen",
      "userId": "11191672663586892835"
     },
     "user_tz": -120
    },
    "id": "NV5FIujLDptw"
   },
   "outputs": [],
   "source": [
    "my_function(df2.loc[0])"
   ]
  },
  {
   "cell_type": "code",
   "execution_count": null,
   "metadata": {
    "executionInfo": {
     "elapsed": 55,
     "status": "aborted",
     "timestamp": 1696798565885,
     "user": {
      "displayName": "Indira Sen",
      "userId": "11191672663586892835"
     },
     "user_tz": -120
    },
    "id": "F8bcpQD6Dptw"
   },
   "outputs": [],
   "source": [
    "#Apply a function along an axis of the DataFrame.\n",
    "#Objects passed to the function are Series objects whose index\n",
    "#is either the DataFrame’s index (axis=0) or the DataFrame’s columns (axis=1).\n",
    "\n",
    "df2[\"my_val\"] = df2.apply(my_function, axis=1)\n",
    "df2.head()"
   ]
  },
  {
   "cell_type": "code",
   "execution_count": null,
   "metadata": {
    "executionInfo": {
     "elapsed": 54,
     "status": "aborted",
     "timestamp": 1696798565885,
     "user": {
      "displayName": "Indira Sen",
      "userId": "11191672663586892835"
     },
     "user_tz": -120
    },
    "id": "6iD2xr47Dptx"
   },
   "outputs": [],
   "source": [
    "def my_function_2(row):\n",
    "    if row[\"workclass\"] is np.NaN:\n",
    "        return \"Unknown\"\n",
    "    if (row[\"age\"] < 30) or (\"State\" in row[\"workclass\"]):\n",
    "        return \"Young or official\"\n",
    "    elif (row[\"sex\"] == \"Male\"):\n",
    "        return \"Male\"\n",
    "    else:\n",
    "        return 'Unknown'\n",
    "\n",
    "df2[\"my_val_2\"] = df2.apply(my_function_2, axis = 1)\n",
    "df2.head()"
   ]
  },
  {
   "cell_type": "markdown",
   "metadata": {
    "id": "5v4lEcqKDptx"
   },
   "source": [
    "## Handling missing values"
   ]
  },
  {
   "cell_type": "markdown",
   "metadata": {
    "id": "H0v8T_VUDptx"
   },
   "source": [
    "Useful reading: https://jakevdp.github.io/PythonDataScienceHandbook/03.04-missing-values.html"
   ]
  },
  {
   "cell_type": "code",
   "execution_count": null,
   "metadata": {
    "executionInfo": {
     "elapsed": 53,
     "status": "aborted",
     "timestamp": 1696798565885,
     "user": {
      "displayName": "Indira Sen",
      "userId": "11191672663586892835"
     },
     "user_tz": -120
    },
    "id": "9ZQjMEZnDptx",
    "scrolled": false
   },
   "outputs": [],
   "source": [
    "## lets create a small artficial dataset\n",
    "# missing data representation -- NaN (acronym for Not a Number) is a special floating-point value recognized by all systems that use the standard IEEE floating-point representation\n",
    "data = [[1, np.nan,3,4], [2, 3,4,np.nan], [np.nan,10,11,12], [4, 14,\"b\", 16], [5, 1,2,3]]\n",
    "df2 = pd.DataFrame(data, columns=[\"i\", \"c1\", \"c2\", \"c3\"])\n",
    "#df2.dtype\n",
    "df2"
   ]
  },
  {
   "cell_type": "code",
   "execution_count": null,
   "metadata": {
    "executionInfo": {
     "elapsed": 52,
     "status": "aborted",
     "timestamp": 1696798565885,
     "user": {
      "displayName": "Indira Sen",
      "userId": "11191672663586892835"
     },
     "user_tz": -120
    },
    "id": "df29-LuIDptx"
   },
   "outputs": [],
   "source": [
    "df2.c3.sum() / len(df2)"
   ]
  },
  {
   "cell_type": "code",
   "execution_count": null,
   "metadata": {
    "executionInfo": {
     "elapsed": 52,
     "status": "aborted",
     "timestamp": 1696798565885,
     "user": {
      "displayName": "Indira Sen",
      "userId": "11191672663586892835"
     },
     "user_tz": -120
    },
    "id": "AMA9zR03Dptx"
   },
   "outputs": [],
   "source": [
    "df2.dropna()"
   ]
  },
  {
   "cell_type": "code",
   "execution_count": null,
   "metadata": {
    "executionInfo": {
     "elapsed": 52,
     "status": "aborted",
     "timestamp": 1696798565886,
     "user": {
      "displayName": "Indira Sen",
      "userId": "11191672663586892835"
     },
     "user_tz": -120
    },
    "id": "JTRgPKXpDptx",
    "scrolled": false
   },
   "outputs": [],
   "source": [
    "df2.dropna(subset=[\"c3\"])\n"
   ]
  },
  {
   "cell_type": "code",
   "execution_count": null,
   "metadata": {
    "executionInfo": {
     "elapsed": 51,
     "status": "aborted",
     "timestamp": 1696798565886,
     "user": {
      "displayName": "Indira Sen",
      "userId": "11191672663586892835"
     },
     "user_tz": -120
    },
    "id": "euLLYmSZDpty",
    "scrolled": true
   },
   "outputs": [],
   "source": [
    "df2.dropna(axis=1)"
   ]
  },
  {
   "cell_type": "code",
   "execution_count": null,
   "metadata": {
    "executionInfo": {
     "elapsed": 51,
     "status": "aborted",
     "timestamp": 1696798565886,
     "user": {
      "displayName": "Indira Sen",
      "userId": "11191672663586892835"
     },
     "user_tz": -120
    },
    "id": "reFOciW4Dpty"
   },
   "outputs": [],
   "source": [
    "df2"
   ]
  },
  {
   "cell_type": "code",
   "execution_count": null,
   "metadata": {
    "executionInfo": {
     "elapsed": 50,
     "status": "aborted",
     "timestamp": 1696798565886,
     "user": {
      "displayName": "Indira Sen",
      "userId": "11191672663586892835"
     },
     "user_tz": -120
    },
    "id": "4AveIZzVDpty"
   },
   "outputs": [],
   "source": [
    "df2.fillna(-1)"
   ]
  },
  {
   "cell_type": "code",
   "execution_count": null,
   "metadata": {
    "executionInfo": {
     "elapsed": 49,
     "status": "aborted",
     "timestamp": 1696798565886,
     "user": {
      "displayName": "Indira Sen",
      "userId": "11191672663586892835"
     },
     "user_tz": -120
    },
    "id": "Dj_TG93MDpt5"
   },
   "outputs": [],
   "source": [
    "df2.c1.fillna(df2.c2)"
   ]
  },
  {
   "cell_type": "code",
   "execution_count": null,
   "metadata": {
    "executionInfo": {
     "elapsed": 50,
     "status": "aborted",
     "timestamp": 1696798565887,
     "user": {
      "displayName": "Indira Sen",
      "userId": "11191672663586892835"
     },
     "user_tz": -120
    },
    "id": "byHaS0ytDpt5"
   },
   "outputs": [],
   "source": [
    "df2"
   ]
  },
  {
   "cell_type": "code",
   "execution_count": null,
   "metadata": {
    "executionInfo": {
     "elapsed": 49,
     "status": "aborted",
     "timestamp": 1696798565887,
     "user": {
      "displayName": "Indira Sen",
      "userId": "11191672663586892835"
     },
     "user_tz": -120
    },
    "id": "sa4pAqiNDpt5"
   },
   "outputs": [],
   "source": [
    "#{‘backfill’, ‘bfill’, ‘pad’, ‘ffill’, None}, default None\n",
    "#Method to use for filling holes in reindexed Series\n",
    "#pad / ffill: propagate last valid observation forward to next valid\n",
    "#backfill / bfill: use NEXT valid observation to fill gap\n",
    "\n",
    "df2.fillna(method=\"ffill\")"
   ]
  },
  {
   "cell_type": "code",
   "execution_count": null,
   "metadata": {
    "executionInfo": {
     "elapsed": 48,
     "status": "aborted",
     "timestamp": 1696798565887,
     "user": {
      "displayName": "Indira Sen",
      "userId": "11191672663586892835"
     },
     "user_tz": -120
    },
    "id": "Xz7Asw07Dpt6"
   },
   "outputs": [],
   "source": [
    "df2.fillna(method=\"bfill\")"
   ]
  },
  {
   "cell_type": "code",
   "execution_count": null,
   "metadata": {
    "executionInfo": {
     "elapsed": 49,
     "status": "aborted",
     "timestamp": 1696798565888,
     "user": {
      "displayName": "Indira Sen",
      "userId": "11191672663586892835"
     },
     "user_tz": -120
    },
    "id": "2NGDdcw-Dpt6",
    "scrolled": false
   },
   "outputs": [],
   "source": [
    "# Lets go back to our main dataset:\n",
    "# The count function counts only non-missing values:\n",
    "df.count()"
   ]
  },
  {
   "cell_type": "code",
   "execution_count": null,
   "metadata": {
    "executionInfo": {
     "elapsed": 48,
     "status": "aborted",
     "timestamp": 1696798565888,
     "user": {
      "displayName": "Indira Sen",
      "userId": "11191672663586892835"
     },
     "user_tz": -120
    },
    "id": "qCKd_pLFDpt6",
    "scrolled": true
   },
   "outputs": [],
   "source": [
    "len(df) - df.count()"
   ]
  },
  {
   "cell_type": "code",
   "execution_count": null,
   "metadata": {
    "executionInfo": {
     "elapsed": 50,
     "status": "aborted",
     "timestamp": 1696798565890,
     "user": {
      "displayName": "Indira Sen",
      "userId": "11191672663586892835"
     },
     "user_tz": -120
    },
    "id": "bMoEc6nvDpt6"
   },
   "outputs": [],
   "source": [
    "#show the respective instances:\n",
    "df [df[\"workclass\"].isnull()]"
   ]
  },
  {
   "cell_type": "code",
   "execution_count": null,
   "metadata": {
    "executionInfo": {
     "elapsed": 1861,
     "status": "aborted",
     "timestamp": 1696798565891,
     "user": {
      "displayName": "Indira Sen",
      "userId": "11191672663586892835"
     },
     "user_tz": -120
    },
    "id": "J_t3GywsDpt6"
   },
   "outputs": [],
   "source": [
    "df2 = df.dropna()\n",
    "len(df2)"
   ]
  },
  {
   "cell_type": "code",
   "execution_count": null,
   "metadata": {
    "executionInfo": {
     "elapsed": 1860,
     "status": "aborted",
     "timestamp": 1696798565891,
     "user": {
      "displayName": "Indira Sen",
      "userId": "11191672663586892835"
     },
     "user_tz": -120
    },
    "id": "ahSldo_MDpt6"
   },
   "outputs": [],
   "source": [
    "len(df)"
   ]
  },
  {
   "cell_type": "code",
   "execution_count": null,
   "metadata": {
    "executionInfo": {
     "elapsed": 1860,
     "status": "aborted",
     "timestamp": 1696798565891,
     "user": {
      "displayName": "Indira Sen",
      "userId": "11191672663586892835"
     },
     "user_tz": -120
    },
    "id": "3gMtJKW9Dpt6"
   },
   "outputs": [],
   "source": [
    "df3 = df.fillna('')\n",
    "df3.loc[20:30]"
   ]
  },
  {
   "cell_type": "markdown",
   "metadata": {
    "id": "XuLDfbFjDpt7"
   },
   "source": [
    "## Group-by"
   ]
  },
  {
   "cell_type": "markdown",
   "metadata": {
    "id": "9ejierwwDpt7"
   },
   "source": [
    "By “group by” we are referring to a process involving one or more of the following steps:\n",
    "\n",
    "    - Splitting the data into groups based on some criteria.\n",
    "    - Applying a function to each group independently.\n",
    "    - Combining the results into a data structure.\n",
    "\n",
    "More: https://pandas.pydata.org/pandas-docs/stable/user_guide/groupby.html"
   ]
  },
  {
   "cell_type": "code",
   "execution_count": null,
   "metadata": {
    "executionInfo": {
     "elapsed": 1860,
     "status": "aborted",
     "timestamp": 1696798565892,
     "user": {
      "displayName": "Indira Sen",
      "userId": "11191672663586892835"
     },
     "user_tz": -120
    },
    "id": "GkbsPmItDpt7"
   },
   "outputs": [],
   "source": [
    "df.head()"
   ]
  },
  {
   "cell_type": "code",
   "execution_count": null,
   "metadata": {
    "executionInfo": {
     "elapsed": 1860,
     "status": "aborted",
     "timestamp": 1696798565892,
     "user": {
      "displayName": "Indira Sen",
      "userId": "11191672663586892835"
     },
     "user_tz": -120
    },
    "id": "BGUA2SM5Dpt7"
   },
   "outputs": [],
   "source": [
    "df.head().groupby([\"sex\"])"
   ]
  },
  {
   "cell_type": "code",
   "execution_count": null,
   "metadata": {
    "executionInfo": {
     "elapsed": 1859,
     "status": "aborted",
     "timestamp": 1696798565892,
     "user": {
      "displayName": "Indira Sen",
      "userId": "11191672663586892835"
     },
     "user_tz": -120
    },
    "id": "MFPrq5yXDpt7"
   },
   "outputs": [],
   "source": [
    "for name, group in df.head().groupby([\"sex\"]):\n",
    "    print (name)\n",
    "    print (group)\n",
    "    print (type(group))\n"
   ]
  },
  {
   "cell_type": "code",
   "execution_count": null,
   "metadata": {},
   "outputs": [],
   "source": [
    "number_df = df[['sex', 'age', 'education-num', 'capital-gain']]"
   ]
  },
  {
   "cell_type": "code",
   "execution_count": null,
   "metadata": {
    "executionInfo": {
     "elapsed": 1860,
     "status": "aborted",
     "timestamp": 1696798565893,
     "user": {
      "displayName": "Indira Sen",
      "userId": "11191672663586892835"
     },
     "user_tz": -120
    },
    "id": "FYinM80fDpt7"
   },
   "outputs": [],
   "source": [
    "g = number_df.groupby([\"sex\"])\n",
    "g.size()"
   ]
  },
  {
   "cell_type": "code",
   "execution_count": null,
   "metadata": {
    "executionInfo": {
     "elapsed": 1860,
     "status": "aborted",
     "timestamp": 1696798565893,
     "user": {
      "displayName": "Indira Sen",
      "userId": "11191672663586892835"
     },
     "user_tz": -120
    },
    "id": "jdu1Ce3FDpt7"
   },
   "outputs": [],
   "source": [
    "df[\"sex\"].value_counts()"
   ]
  },
  {
   "cell_type": "code",
   "execution_count": null,
   "metadata": {
    "executionInfo": {
     "elapsed": 1860,
     "status": "aborted",
     "timestamp": 1696798565894,
     "user": {
      "displayName": "Indira Sen",
      "userId": "11191672663586892835"
     },
     "user_tz": -120
    },
    "id": "6W0GsU0UDpt8"
   },
   "outputs": [],
   "source": [
    "g.mean()[\"age\"]"
   ]
  },
  {
   "cell_type": "code",
   "execution_count": null,
   "metadata": {
    "executionInfo": {
     "elapsed": 1860,
     "status": "aborted",
     "timestamp": 1696798565895,
     "user": {
      "displayName": "Indira Sen",
      "userId": "11191672663586892835"
     },
     "user_tz": -120
    },
    "id": "gpx2YW9oDpt8"
   },
   "outputs": [],
   "source": [
    "g.mean().loc[\"Male\"]"
   ]
  },
  {
   "cell_type": "markdown",
   "metadata": {
    "id": "4zBMvQchDpt8"
   },
   "source": [
    "We can also group by multiple attributes:"
   ]
  },
  {
   "cell_type": "code",
   "execution_count": null,
   "metadata": {
    "executionInfo": {
     "elapsed": 1860,
     "status": "aborted",
     "timestamp": 1696798565895,
     "user": {
      "displayName": "Indira Sen",
      "userId": "11191672663586892835"
     },
     "user_tz": -120
    },
    "id": "1mhKRvVvDpt8",
    "scrolled": false
   },
   "outputs": [],
   "source": [
    "number_df = df[['sex', 'race', 'age', 'education-num', 'capital-gain']]\n",
    "g = number_df.groupby([\"sex\",\"race\"]).mean()\n",
    "g"
   ]
  },
  {
   "cell_type": "code",
   "execution_count": null,
   "metadata": {
    "executionInfo": {
     "elapsed": 1861,
     "status": "aborted",
     "timestamp": 1696798565896,
     "user": {
      "displayName": "Indira Sen",
      "userId": "11191672663586892835"
     },
     "user_tz": -120
    },
    "id": "xdUZ9s_kDpt9",
    "scrolled": true
   },
   "outputs": [],
   "source": [
    "g.loc[\"Male\"]"
   ]
  },
  {
   "cell_type": "code",
   "execution_count": null,
   "metadata": {
    "executionInfo": {
     "elapsed": 1860,
     "status": "aborted",
     "timestamp": 1696798565896,
     "user": {
      "displayName": "Indira Sen",
      "userId": "11191672663586892835"
     },
     "user_tz": -120
    },
    "id": "4Xwny-SyDpt9"
   },
   "outputs": [],
   "source": [
    "g.loc[\"Male\"].loc[\"White\"]"
   ]
  },
  {
   "cell_type": "code",
   "execution_count": null,
   "metadata": {
    "executionInfo": {
     "elapsed": 1861,
     "status": "aborted",
     "timestamp": 1696798565897,
     "user": {
      "displayName": "Indira Sen",
      "userId": "11191672663586892835"
     },
     "user_tz": -120
    },
    "id": "iidhMgtbDpt9",
    "scrolled": true
   },
   "outputs": [],
   "source": [
    "g = df.groupby([\"sex\",\"race\", \"education\"]).size()\n",
    "g"
   ]
  },
  {
   "cell_type": "code",
   "execution_count": null,
   "metadata": {
    "executionInfo": {
     "elapsed": 1860,
     "status": "aborted",
     "timestamp": 1696798565897,
     "user": {
      "displayName": "Indira Sen",
      "userId": "11191672663586892835"
     },
     "user_tz": -120
    },
    "id": "Q7MaBFOlDpt9",
    "scrolled": false
   },
   "outputs": [],
   "source": [
    "#  Pivot a level of the (necessarily hierarchical) index labels,\n",
    "# returning a DataFrame having a new level of column labels whose\n",
    "#inner-most level consists of the pivoted index labels.\n",
    "\n",
    "g.unstack()"
   ]
  },
  {
   "cell_type": "code",
   "execution_count": null,
   "metadata": {
    "executionInfo": {
     "elapsed": 1861,
     "status": "aborted",
     "timestamp": 1696798565898,
     "user": {
      "displayName": "Indira Sen",
      "userId": "11191672663586892835"
     },
     "user_tz": -120
    },
    "id": "LjYyZ7xIDpt9",
    "scrolled": false
   },
   "outputs": [],
   "source": [
    "g.unstack ([\"race\",\"sex\"])"
   ]
  },
  {
   "cell_type": "markdown",
   "metadata": {
    "id": "Q0rudssZDpt9"
   },
   "source": [
    "## Ex 1\n",
    "\n",
    "Use Census data, aka, adult.csv\n",
    "\n",
    "A. Show for each combination of sex and race, how many instances(people) are contained in the dataset\n",
    "\n",
    "B. What is the mean age of men and women in this dataset?\n",
    "\n",
    "C. Show for each combination of marital-Status and race, how many males/females over 40 years have a bachelor degree as their highest degree?"
   ]
  },
  {
   "cell_type": "code",
   "execution_count": 7,
   "metadata": {
    "executionInfo": {
     "elapsed": 1860,
     "status": "aborted",
     "timestamp": 1696798565898,
     "user": {
      "displayName": "Indira Sen",
      "userId": "11191672663586892835"
     },
     "user_tz": -120
    },
    "id": "ESzEZdnCDpt9"
   },
   "outputs": [],
   "source": [
    "# %load \"41_data_preprocessing_ex1.py\""
   ]
  },
  {
   "cell_type": "markdown",
   "metadata": {
    "id": "4KKdhQRvDpt-"
   },
   "source": [
    "## Concatenate and join"
   ]
  },
  {
   "cell_type": "markdown",
   "metadata": {
    "id": "vGLA9SBvDpt-"
   },
   "source": [
    "There several methods to bring data from different dataset together, most importantly *concat* and *merge*"
   ]
  },
  {
   "cell_type": "code",
   "execution_count": null,
   "metadata": {
    "executionInfo": {
     "elapsed": 1860,
     "status": "aborted",
     "timestamp": 1696798565900,
     "user": {
      "displayName": "Indira Sen",
      "userId": "11191672663586892835"
     },
     "user_tz": -120
    },
    "id": "kY-2TeJRDpt-"
   },
   "outputs": [],
   "source": [
    "df1 = pd.DataFrame ([[\"Student 1\", 2.0, 1.5],\n",
    "                     [\"Student 2\", 3.0, 2.5],\n",
    "                     [\"Student 3\", 1.5, 2.0],\n",
    "                     [\"Student 4\", 1.0, 4.0]],columns = [\"Student\", \"course_A\", \"course_B\"])\n",
    "df1"
   ]
  },
  {
   "cell_type": "code",
   "execution_count": null,
   "metadata": {
    "executionInfo": {
     "elapsed": 1859,
     "status": "aborted",
     "timestamp": 1696798565900,
     "user": {
      "displayName": "Indira Sen",
      "userId": "11191672663586892835"
     },
     "user_tz": -120
    },
    "id": "Sdw5N4ZsDpt-"
   },
   "outputs": [],
   "source": [
    "df2 = pd.DataFrame ([[\"Student 5\", 2.3, 2.5],\n",
    "                     [\"Student 6\", 3.0, 1.0],\n",
    "                     [\"Student 7\", 2.5, 2.0],\n",
    "                     [\"Student 8\", 1.7, 3.5]],columns = [\"Student\", \"course_A\", \"course_B\"])\n",
    "df2"
   ]
  },
  {
   "cell_type": "code",
   "execution_count": null,
   "metadata": {
    "executionInfo": {
     "elapsed": 1860,
     "status": "aborted",
     "timestamp": 1696798565901,
     "user": {
      "displayName": "Indira Sen",
      "userId": "11191672663586892835"
     },
     "user_tz": -120
    },
    "id": "_dt_j1YiDpt_",
    "scrolled": true
   },
   "outputs": [],
   "source": [
    "df_all = pd.concat ([df1,df2])\n",
    "df_all"
   ]
  },
  {
   "cell_type": "code",
   "execution_count": null,
   "metadata": {
    "executionInfo": {
     "elapsed": 1859,
     "status": "aborted",
     "timestamp": 1696798565901,
     "user": {
      "displayName": "Indira Sen",
      "userId": "11191672663586892835"
     },
     "user_tz": -120
    },
    "id": "n_BRbs8hDpt_",
    "scrolled": true
   },
   "outputs": [],
   "source": [
    "df_all.reset_index(drop=True,inplace=True)\n",
    "df_all"
   ]
  },
  {
   "cell_type": "code",
   "execution_count": null,
   "metadata": {
    "executionInfo": {
     "elapsed": 1860,
     "status": "aborted",
     "timestamp": 1696798565902,
     "user": {
      "displayName": "Indira Sen",
      "userId": "11191672663586892835"
     },
     "user_tz": -120
    },
    "id": "I7aT2Oj1Dpt_"
   },
   "outputs": [],
   "source": [
    "df_ab = pd.concat([df1, df2], ignore_index=True)\n",
    "df_ab"
   ]
  },
  {
   "cell_type": "code",
   "execution_count": null,
   "metadata": {
    "executionInfo": {
     "elapsed": 1859,
     "status": "aborted",
     "timestamp": 1696798565902,
     "user": {
      "displayName": "Indira Sen",
      "userId": "11191672663586892835"
     },
     "user_tz": -120
    },
    "id": "cf7Ow10SDpt_",
    "scrolled": true
   },
   "outputs": [],
   "source": [
    "df3 = pd.DataFrame ([[\"Student 1\", 1.3],\n",
    "                     [\"Student 2\", 2.3],\n",
    "                     [\"Student 5\", 4.0],\n",
    "                     [\"Student 8\", 1.5],\n",
    "                     [\"Student 10\", 1.5]\n",
    "                    ],columns = [\"Student\", \"course_C\"])\n",
    "df3"
   ]
  },
  {
   "cell_type": "code",
   "execution_count": null,
   "metadata": {
    "executionInfo": {
     "elapsed": 1860,
     "status": "aborted",
     "timestamp": 1696798565903,
     "user": {
      "displayName": "Indira Sen",
      "userId": "11191672663586892835"
     },
     "user_tz": -120
    },
    "id": "1gZFZdh8Dpt_",
    "scrolled": true
   },
   "outputs": [],
   "source": [
    "# by default, inner join is performed.\n",
    "# use intersection of keys from both frames, similar to a SQL inner join;\n",
    "# preserve the order of the left keys.\n",
    "\n",
    "pd.merge (df_ab, df3, on=\"Student\") #, how=\"inner\""
   ]
  },
  {
   "cell_type": "markdown",
   "metadata": {
    "id": "NLXfBbP6Dpt_"
   },
   "source": [
    "This is called an \"inner\" join: only those rows occur that are present in both tables.\n"
   ]
  },
  {
   "cell_type": "code",
   "execution_count": null,
   "metadata": {
    "executionInfo": {
     "elapsed": 1859,
     "status": "aborted",
     "timestamp": 1696798565903,
     "user": {
      "displayName": "Indira Sen",
      "userId": "11191672663586892835"
     },
     "user_tz": -120
    },
    "id": "NuTrGgGxDpt_"
   },
   "outputs": [],
   "source": [
    "#\"Left Join\"\n",
    "# use only keys from left frame, similar to a SQL left outer join; preserve key order.\n",
    "pd.merge (df_ab, df3, on=\"Student\", how=\"left\")"
   ]
  },
  {
   "cell_type": "code",
   "execution_count": null,
   "metadata": {
    "executionInfo": {
     "elapsed": 1860,
     "status": "aborted",
     "timestamp": 1696798565904,
     "user": {
      "displayName": "Indira Sen",
      "userId": "11191672663586892835"
     },
     "user_tz": -120
    },
    "id": "4JCuUsMsDpuA"
   },
   "outputs": [],
   "source": [
    "#\"Outer Join\"\n",
    "# use union of keys from both frames, similar to a SQL full outer join; sort keys lexicographically.\n",
    "pd.merge (df_ab, df3, on=\"Student\", how=\"outer\")"
   ]
  },
  {
   "cell_type": "code",
   "execution_count": null,
   "metadata": {
    "executionInfo": {
     "elapsed": 22,
     "status": "aborted",
     "timestamp": 1696798566613,
     "user": {
      "displayName": "Indira Sen",
      "userId": "11191672663586892835"
     },
     "user_tz": -120
    },
    "id": "NVJg1N6dDpuA"
   },
   "outputs": [],
   "source": [
    "# Left and right key do not need to have the same column name\n",
    "# left: use only keys from left frame, similar to a SQL left outer join; preserve key order.\n",
    "# right: use only keys from right frame, similar to a SQL right outer join; preserve key order.\n",
    "df4 = pd.DataFrame ([[\"Student 1\", 1.3],\n",
    "                     [\"Student 2\", 2.3],\n",
    "                     [\"Student 5\", 4.0],\n",
    "                     [\"Student 6\", 1.5],\n",
    "                     [\"Student 12\", 1.5]\n",
    "                    ],columns = [\"Student_name\", \"course_D\"])\n",
    "df4"
   ]
  },
  {
   "cell_type": "code",
   "execution_count": null,
   "metadata": {
    "executionInfo": {
     "elapsed": 22,
     "status": "aborted",
     "timestamp": 1696798566614,
     "user": {
      "displayName": "Indira Sen",
      "userId": "11191672663586892835"
     },
     "user_tz": -120
    },
    "id": "NfsEZQ9mDpuA"
   },
   "outputs": [],
   "source": [
    "df_ab"
   ]
  },
  {
   "cell_type": "code",
   "execution_count": null,
   "metadata": {
    "executionInfo": {
     "elapsed": 22,
     "status": "aborted",
     "timestamp": 1696798566614,
     "user": {
      "displayName": "Indira Sen",
      "userId": "11191672663586892835"
     },
     "user_tz": -120
    },
    "id": "-vK8e24HDpuA",
    "scrolled": true
   },
   "outputs": [],
   "source": [
    "df_abd = pd.merge (df_ab, df4, left_on=\"Student\", right_on=\"Student_name\", how=\"outer\")\n",
    "df_abd"
   ]
  },
  {
   "cell_type": "code",
   "execution_count": null,
   "metadata": {
    "executionInfo": {
     "elapsed": 23,
     "status": "aborted",
     "timestamp": 1696798566615,
     "user": {
      "displayName": "Indira Sen",
      "userId": "11191672663586892835"
     },
     "user_tz": -120
    },
    "id": "V4bBOGKpDpuA"
   },
   "outputs": [],
   "source": [
    "df_abd[\"Student\"] = df_abd[\"Student\"].fillna(df_abd[\"Student_name\"])\n",
    "df_abd"
   ]
  },
  {
   "cell_type": "code",
   "execution_count": null,
   "metadata": {
    "executionInfo": {
     "elapsed": 24,
     "status": "aborted",
     "timestamp": 1696798566616,
     "user": {
      "displayName": "Indira Sen",
      "userId": "11191672663586892835"
     },
     "user_tz": -120
    },
    "id": "Ock0OEg6DpuA",
    "scrolled": true
   },
   "outputs": [],
   "source": [
    "df_abd.drop(\"Student_name\", axis=1)"
   ]
  },
  {
   "cell_type": "code",
   "execution_count": null,
   "metadata": {
    "executionInfo": {
     "elapsed": 23,
     "status": "aborted",
     "timestamp": 1696798566616,
     "user": {
      "displayName": "Indira Sen",
      "userId": "11191672663586892835"
     },
     "user_tz": -120
    },
    "id": "9OhhfT6lDpuB"
   },
   "outputs": [],
   "source": [
    "# There can be more occurrences of a student in a table; then ALL combinations are formed.\n",
    "df5 = pd.DataFrame ([[\"Student 1\", 1.3],\n",
    "                     [\"Student 1\", 2.3],\n",
    "                     [\"Student 2\", 4.0],\n",
    "                     [\"Student 2\", 1.5],\n",
    "                     [\"Student 2\", 3.5]\n",
    "                    ],columns = [\"Student\", \"course_E\"])\n",
    "df5"
   ]
  },
  {
   "cell_type": "code",
   "execution_count": null,
   "metadata": {
    "executionInfo": {
     "elapsed": 24,
     "status": "aborted",
     "timestamp": 1696798566617,
     "user": {
      "displayName": "Indira Sen",
      "userId": "11191672663586892835"
     },
     "user_tz": -120
    },
    "id": "9E8LqFSbDpuB"
   },
   "outputs": [],
   "source": [
    "df1"
   ]
  },
  {
   "cell_type": "code",
   "execution_count": null,
   "metadata": {
    "executionInfo": {
     "elapsed": 24,
     "status": "aborted",
     "timestamp": 1696798566617,
     "user": {
      "displayName": "Indira Sen",
      "userId": "11191672663586892835"
     },
     "user_tz": -120
    },
    "id": "z9W1jcrDDpuB",
    "scrolled": true
   },
   "outputs": [],
   "source": [
    "df_abe = pd.merge(df1,df5,how = \"outer\")\n",
    "df_abe"
   ]
  },
  {
   "cell_type": "code",
   "execution_count": null,
   "metadata": {
    "executionInfo": {
     "elapsed": 24,
     "status": "aborted",
     "timestamp": 1696798566617,
     "user": {
      "displayName": "Indira Sen",
      "userId": "11191672663586892835"
     },
     "user_tz": -120
    },
    "id": "rDuqrFnxDpuB"
   },
   "outputs": [],
   "source": [
    "df_abe = df_abe.sort_values([\"Student\", \"course_E\"])\n",
    "df_abe"
   ]
  },
  {
   "cell_type": "code",
   "execution_count": null,
   "metadata": {
    "executionInfo": {
     "elapsed": 24,
     "status": "aborted",
     "timestamp": 1696798566617,
     "user": {
      "displayName": "Indira Sen",
      "userId": "11191672663586892835"
     },
     "user_tz": -120
    },
    "id": "sxOl0Y6KDpuB"
   },
   "outputs": [],
   "source": [
    "df_abe.drop_duplicates(\"Student\")\n",
    "\n",
    "#keep : {‘first’, ‘last’, False}, default ‘first’\n",
    "#first : Drop duplicates except for the first occurrence. (default)\n",
    "#last : Drop duplicates except for the last occurrence.\n",
    "#False : Drop all duplicates."
   ]
  },
  {
   "cell_type": "code",
   "execution_count": null,
   "metadata": {
    "executionInfo": {
     "elapsed": 24,
     "status": "aborted",
     "timestamp": 1696798566618,
     "user": {
      "displayName": "Indira Sen",
      "userId": "11191672663586892835"
     },
     "user_tz": -120
    },
    "id": "mgmHkF6iDpuB"
   },
   "outputs": [],
   "source": []
  },
  {
   "cell_type": "markdown",
   "metadata": {
    "id": "vmzwwCOuDpuB"
   },
   "source": [
    "## Working with specific data types"
   ]
  },
  {
   "cell_type": "markdown",
   "metadata": {
    "id": "tpfSSqGcDpuB"
   },
   "source": [
    "### String objects"
   ]
  },
  {
   "cell_type": "code",
   "execution_count": null,
   "metadata": {
    "executionInfo": {
     "elapsed": 24,
     "status": "aborted",
     "timestamp": 1696798566618,
     "user": {
      "displayName": "Indira Sen",
      "userId": "11191672663586892835"
     },
     "user_tz": -120
    },
    "id": "26vRkW0cDpuC"
   },
   "outputs": [],
   "source": [
    "df.head()"
   ]
  },
  {
   "cell_type": "code",
   "execution_count": null,
   "metadata": {
    "executionInfo": {
     "elapsed": 24,
     "status": "aborted",
     "timestamp": 1696798566618,
     "user": {
      "displayName": "Indira Sen",
      "userId": "11191672663586892835"
     },
     "user_tz": -120
    },
    "id": "chAn8oIlDpuC",
    "scrolled": true
   },
   "outputs": [],
   "source": [
    "df ['marital-status'].unique()"
   ]
  },
  {
   "cell_type": "code",
   "execution_count": null,
   "metadata": {
    "executionInfo": {
     "elapsed": 25,
     "status": "aborted",
     "timestamp": 1696798566619,
     "user": {
      "displayName": "Indira Sen",
      "userId": "11191672663586892835"
     },
     "user_tz": -120
    },
    "id": "ONECaMvkDpuC",
    "scrolled": true
   },
   "outputs": [],
   "source": [
    "df ['marital-status'].value_counts()"
   ]
  },
  {
   "cell_type": "code",
   "execution_count": null,
   "metadata": {
    "executionInfo": {
     "elapsed": 25,
     "status": "aborted",
     "timestamp": 1696798566619,
     "user": {
      "displayName": "Indira Sen",
      "userId": "11191672663586892835"
     },
     "user_tz": -120
    },
    "id": "LMOHUWZDDpuC",
    "scrolled": false
   },
   "outputs": [],
   "source": [
    "# Select those with a specific value\n",
    "df [df ['marital-status'] == \"Never-married\"].head()"
   ]
  },
  {
   "cell_type": "code",
   "execution_count": null,
   "metadata": {
    "executionInfo": {
     "elapsed": 26,
     "status": "aborted",
     "timestamp": 1696798566620,
     "user": {
      "displayName": "Indira Sen",
      "userId": "11191672663586892835"
     },
     "user_tz": -120
    },
    "id": "IXNylRelDpuC",
    "scrolled": true
   },
   "outputs": [],
   "source": [
    "# Try and select rows, in which the marital-status string begins with a certain value\n",
    "\n",
    "df ['marital-status'].str.startswith (\"Married\")"
   ]
  },
  {
   "cell_type": "code",
   "execution_count": null,
   "metadata": {
    "executionInfo": {
     "elapsed": 27,
     "status": "aborted",
     "timestamp": 1696798566621,
     "user": {
      "displayName": "Indira Sen",
      "userId": "11191672663586892835"
     },
     "user_tz": -120
    },
    "id": "yboy52dBDpuC"
   },
   "outputs": [],
   "source": [
    "df [df ['marital-status'].str.startswith (\"Married\")]"
   ]
  },
  {
   "cell_type": "markdown",
   "metadata": {
    "id": "0gyTv6p0DpuC"
   },
   "source": [
    "### Time objects"
   ]
  },
  {
   "cell_type": "code",
   "execution_count": null,
   "metadata": {
    "executionInfo": {
     "elapsed": 26,
     "status": "aborted",
     "timestamp": 1696798566621,
     "user": {
      "displayName": "Indira Sen",
      "userId": "11191672663586892835"
     },
     "user_tz": -120
    },
    "id": "QeW1eAKFDpuC"
   },
   "outputs": [],
   "source": [
    "df = pd.read_csv (\"data/weather.csv\")"
   ]
  },
  {
   "cell_type": "code",
   "execution_count": null,
   "metadata": {
    "executionInfo": {
     "elapsed": 27,
     "status": "aborted",
     "timestamp": 1696798566622,
     "user": {
      "displayName": "Indira Sen",
      "userId": "11191672663586892835"
     },
     "user_tz": -120
    },
    "id": "Qgfu7ObeDpuD"
   },
   "outputs": [],
   "source": [
    "df.head()"
   ]
  },
  {
   "cell_type": "code",
   "execution_count": null,
   "metadata": {
    "executionInfo": {
     "elapsed": 27,
     "status": "aborted",
     "timestamp": 1696798566622,
     "user": {
      "displayName": "Indira Sen",
      "userId": "11191672663586892835"
     },
     "user_tz": -120
    },
    "id": "K4B-vfdLDpuD"
   },
   "outputs": [],
   "source": [
    "df.dtypes"
   ]
  },
  {
   "cell_type": "code",
   "execution_count": null,
   "metadata": {
    "executionInfo": {
     "elapsed": 28,
     "status": "aborted",
     "timestamp": 1696798566623,
     "user": {
      "displayName": "Indira Sen",
      "userId": "11191672663586892835"
     },
     "user_tz": -120
    },
    "id": "bNcfZzBGDpuD"
   },
   "outputs": [],
   "source": [
    "df[\"time\"].head()"
   ]
  },
  {
   "cell_type": "code",
   "execution_count": null,
   "metadata": {
    "executionInfo": {
     "elapsed": 28,
     "status": "aborted",
     "timestamp": 1696798566623,
     "user": {
      "displayName": "Indira Sen",
      "userId": "11191672663586892835"
     },
     "user_tz": -120
    },
    "id": "ahcAxpPmDpuD"
   },
   "outputs": [],
   "source": [
    "df[\"time\"] = pd.to_datetime(df.time)\n",
    "df.head()"
   ]
  },
  {
   "cell_type": "code",
   "execution_count": null,
   "metadata": {
    "executionInfo": {
     "elapsed": 28,
     "status": "aborted",
     "timestamp": 1696798566623,
     "user": {
      "displayName": "Indira Sen",
      "userId": "11191672663586892835"
     },
     "user_tz": -120
    },
    "id": "YT4L3YhzDpuD"
   },
   "outputs": [],
   "source": [
    "df.dtypes"
   ]
  },
  {
   "cell_type": "code",
   "execution_count": null,
   "metadata": {
    "executionInfo": {
     "elapsed": 28,
     "status": "aborted",
     "timestamp": 1696798566623,
     "user": {
      "displayName": "Indira Sen",
      "userId": "11191672663586892835"
     },
     "user_tz": -120
    },
    "id": "fPNRgIk_DpuD"
   },
   "outputs": [],
   "source": [
    "type(df.time)"
   ]
  },
  {
   "cell_type": "code",
   "execution_count": null,
   "metadata": {
    "executionInfo": {
     "elapsed": 28,
     "status": "aborted",
     "timestamp": 1696798566624,
     "user": {
      "displayName": "Indira Sen",
      "userId": "11191672663586892835"
     },
     "user_tz": -120
    },
    "id": "WveYADRfDpuD"
   },
   "outputs": [],
   "source": [
    "df[\"weekday\"] = df.time.dt.day_name()\n",
    "df.head()"
   ]
  },
  {
   "cell_type": "code",
   "execution_count": null,
   "metadata": {
    "executionInfo": {
     "elapsed": 29,
     "status": "aborted",
     "timestamp": 1696798566625,
     "user": {
      "displayName": "Indira Sen",
      "userId": "11191672663586892835"
     },
     "user_tz": -120
    },
    "id": "H2KOmaeWDpuE"
   },
   "outputs": [],
   "source": [
    "df[\"hours\"] = df.time.dt.hour\n",
    "df.head()\n"
   ]
  },
  {
   "cell_type": "code",
   "execution_count": null,
   "metadata": {
    "executionInfo": {
     "elapsed": 29,
     "status": "aborted",
     "timestamp": 1696798566625,
     "user": {
      "displayName": "Indira Sen",
      "userId": "11191672663586892835"
     },
     "user_tz": -120
    },
    "id": "wOtbnKyXDpuE"
   },
   "outputs": [],
   "source": [
    "df[\"time_from_last_measurement\"] = df.time.diff()\n",
    "df.head()"
   ]
  },
  {
   "cell_type": "code",
   "execution_count": null,
   "metadata": {
    "executionInfo": {
     "elapsed": 30,
     "status": "aborted",
     "timestamp": 1696798566626,
     "user": {
      "displayName": "Indira Sen",
      "userId": "11191672663586892835"
     },
     "user_tz": -120
    },
    "id": "VmsCgG5vDpuE",
    "scrolled": true
   },
   "outputs": [],
   "source": [
    "df[\"reformatted_date\"] = df.time.dt.strftime(\"%y-%m-%d\")\n",
    "df"
   ]
  },
  {
   "cell_type": "code",
   "execution_count": null,
   "metadata": {
    "executionInfo": {
     "elapsed": 30,
     "status": "aborted",
     "timestamp": 1696798566626,
     "user": {
      "displayName": "Indira Sen",
      "userId": "11191672663586892835"
     },
     "user_tz": -120
    },
    "id": "Z0HITmYoDpuE"
   },
   "outputs": [],
   "source": [
    "df.dtypes"
   ]
  },
  {
   "cell_type": "code",
   "execution_count": null,
   "metadata": {
    "executionInfo": {
     "elapsed": 31,
     "status": "aborted",
     "timestamp": 1696798566627,
     "user": {
      "displayName": "Indira Sen",
      "userId": "11191672663586892835"
     },
     "user_tz": -120
    },
    "id": "yia8EzEyDpuE"
   },
   "outputs": [],
   "source": []
  },
  {
   "cell_type": "markdown",
   "metadata": {
    "id": "lh0qEaKfDpuE"
   },
   "source": [
    "## Data export"
   ]
  },
  {
   "cell_type": "code",
   "execution_count": null,
   "metadata": {
    "executionInfo": {
     "elapsed": 30,
     "status": "aborted",
     "timestamp": 1696798566627,
     "user": {
      "displayName": "Indira Sen",
      "userId": "11191672663586892835"
     },
     "user_tz": -120
    },
    "id": "zH3X_HY9DpuE"
   },
   "outputs": [],
   "source": [
    "# for storing / reloading for later: use pickle\n",
    "import pickle\n",
    "pickle.dump(df, open(\"my_df.p\", \"wb\" ))"
   ]
  },
  {
   "cell_type": "code",
   "execution_count": null,
   "metadata": {
    "executionInfo": {
     "elapsed": 36,
     "status": "aborted",
     "timestamp": 1696798566633,
     "user": {
      "displayName": "Indira Sen",
      "userId": "11191672663586892835"
     },
     "user_tz": -120
    },
    "id": "WRljrq1ADpuE"
   },
   "outputs": [],
   "source": [
    "df_loaded = pickle.load(open(\"my_df.p\", \"rb\" ))\n",
    "df_loaded.head()"
   ]
  },
  {
   "cell_type": "code",
   "execution_count": null,
   "metadata": {
    "executionInfo": {
     "elapsed": 37,
     "status": "aborted",
     "timestamp": 1696798566634,
     "user": {
      "displayName": "Indira Sen",
      "userId": "11191672663586892835"
     },
     "user_tz": -120
    },
    "id": "HNjwSLGxDpuE"
   },
   "outputs": [],
   "source": [
    "df_exp = df[df.hours == 11]\n",
    "df_exp = df[[\"reformatted_date\", \"weekday\", \"status\", \"temperature\"]]\n",
    "df_exp.head()"
   ]
  },
  {
   "cell_type": "code",
   "execution_count": null,
   "metadata": {
    "executionInfo": {
     "elapsed": 37,
     "status": "aborted",
     "timestamp": 1696798566634,
     "user": {
      "displayName": "Indira Sen",
      "userId": "11191672663586892835"
     },
     "user_tz": -120
    },
    "id": "z6Z-6yHcDpuF"
   },
   "outputs": [],
   "source": [
    "df_exp.to_csv(\"weather_export.csv\")\n",
    "# df.to_csv('weather_export.csv', sep='\\t', encoding='utf-8')"
   ]
  },
  {
   "cell_type": "code",
   "execution_count": null,
   "metadata": {
    "executionInfo": {
     "elapsed": 37,
     "status": "aborted",
     "timestamp": 1696798566634,
     "user": {
      "displayName": "Indira Sen",
      "userId": "11191672663586892835"
     },
     "user_tz": -120
    },
    "id": "yiFe1vylDpuF"
   },
   "outputs": [],
   "source": [
    "df_exp.to_html(\"weather_export.html\")"
   ]
  },
  {
   "cell_type": "code",
   "execution_count": null,
   "metadata": {
    "executionInfo": {
     "elapsed": 38,
     "status": "aborted",
     "timestamp": 1696798566635,
     "user": {
      "displayName": "Indira Sen",
      "userId": "11191672663586892835"
     },
     "user_tz": -120
    },
    "id": "Y2Md4ZeJDpuF"
   },
   "outputs": [],
   "source": [
    "df_exp.to_latex()"
   ]
  },
  {
   "cell_type": "markdown",
   "metadata": {
    "id": "LAalGNvZDpuF"
   },
   "source": [
    "## Styling"
   ]
  },
  {
   "cell_type": "code",
   "execution_count": null,
   "metadata": {
    "executionInfo": {
     "elapsed": 37,
     "status": "aborted",
     "timestamp": 1696798566635,
     "user": {
      "displayName": "Indira Sen",
      "userId": "11191672663586892835"
     },
     "user_tz": -120
    },
    "id": "pNX9RMDvDpuF"
   },
   "outputs": [],
   "source": [
    "df = pd.DataFrame(np.random.randint(0,100,size=(10, 4)), columns=list('ABCD'))"
   ]
  },
  {
   "cell_type": "code",
   "execution_count": null,
   "metadata": {
    "executionInfo": {
     "elapsed": 37,
     "status": "aborted",
     "timestamp": 1696798566635,
     "user": {
      "displayName": "Indira Sen",
      "userId": "11191672663586892835"
     },
     "user_tz": -120
    },
    "id": "RfmxgYV4DpuF"
   },
   "outputs": [],
   "source": [
    "df"
   ]
  },
  {
   "cell_type": "code",
   "execution_count": null,
   "metadata": {
    "executionInfo": {
     "elapsed": 37,
     "status": "aborted",
     "timestamp": 1696798566635,
     "user": {
      "displayName": "Indira Sen",
      "userId": "11191672663586892835"
     },
     "user_tz": -120
    },
    "id": "Tp6eD4c-DpuF",
    "scrolled": true
   },
   "outputs": [],
   "source": [
    "df.style.background_gradient()"
   ]
  },
  {
   "cell_type": "code",
   "execution_count": null,
   "metadata": {
    "executionInfo": {
     "elapsed": 37,
     "status": "aborted",
     "timestamp": 1696798566635,
     "user": {
      "displayName": "Indira Sen",
      "userId": "11191672663586892835"
     },
     "user_tz": -120
    },
    "id": "UJeAY4hUDpuG"
   },
   "outputs": [],
   "source": [
    "df.style.highlight_max()"
   ]
  },
  {
   "cell_type": "code",
   "execution_count": null,
   "metadata": {
    "executionInfo": {
     "elapsed": 37,
     "status": "aborted",
     "timestamp": 1696798566636,
     "user": {
      "displayName": "Indira Sen",
      "userId": "11191672663586892835"
     },
     "user_tz": -120
    },
    "id": "lrTWVtUrDpuG"
   },
   "outputs": [],
   "source": [
    "df.style.set_properties(**{'background-color': 'black',\n",
    "                           'color': 'lawngreen',\n",
    "                           'border-color': 'white'})"
   ]
  },
  {
   "cell_type": "code",
   "execution_count": null,
   "metadata": {
    "executionInfo": {
     "elapsed": 38,
     "status": "aborted",
     "timestamp": 1696798566637,
     "user": {
      "displayName": "Indira Sen",
      "userId": "11191672663586892835"
     },
     "user_tz": -120
    },
    "id": "92syaDa2DpuG"
   },
   "outputs": [],
   "source": []
  },
  {
   "cell_type": "code",
   "execution_count": null,
   "metadata": {
    "executionInfo": {
     "elapsed": 2576,
     "status": "aborted",
     "timestamp": 1696798566637,
     "user": {
      "displayName": "Indira Sen",
      "userId": "11191672663586892835"
     },
     "user_tz": -120
    },
    "id": "zgGNmxP0DpuG"
   },
   "outputs": [],
   "source": []
  },
  {
   "cell_type": "markdown",
   "metadata": {
    "id": "nzwIAIZ2DpuG"
   },
   "source": [
    "## Transpose\n"
   ]
  },
  {
   "cell_type": "code",
   "execution_count": null,
   "metadata": {
    "executionInfo": {
     "elapsed": 2576,
     "status": "aborted",
     "timestamp": 1696798566637,
     "user": {
      "displayName": "Indira Sen",
      "userId": "11191672663586892835"
     },
     "user_tz": -120
    },
    "id": "_iMjqudADpuG"
   },
   "outputs": [],
   "source": [
    "h=df.head(5)\n",
    "h"
   ]
  },
  {
   "cell_type": "code",
   "execution_count": null,
   "metadata": {
    "executionInfo": {
     "elapsed": 2576,
     "status": "aborted",
     "timestamp": 1696798566638,
     "user": {
      "displayName": "Indira Sen",
      "userId": "11191672663586892835"
     },
     "user_tz": -120
    },
    "id": "xJM0LN7PDpuG",
    "scrolled": true
   },
   "outputs": [],
   "source": [
    "h.T"
   ]
  },
  {
   "cell_type": "code",
   "execution_count": null,
   "metadata": {
    "executionInfo": {
     "elapsed": 2576,
     "status": "aborted",
     "timestamp": 1696798566638,
     "user": {
      "displayName": "Indira Sen",
      "userId": "11191672663586892835"
     },
     "user_tz": -120
    },
    "id": "_cqa-PS4DpuH"
   },
   "outputs": [],
   "source": [
    "h.loc[3]"
   ]
  },
  {
   "cell_type": "code",
   "execution_count": null,
   "metadata": {
    "executionInfo": {
     "elapsed": 2576,
     "status": "aborted",
     "timestamp": 1696798566638,
     "user": {
      "displayName": "Indira Sen",
      "userId": "11191672663586892835"
     },
     "user_tz": -120
    },
    "id": "x1YtS440DpuH"
   },
   "outputs": [],
   "source": [
    "h.T[3]"
   ]
  },
  {
   "cell_type": "markdown",
   "metadata": {
    "id": "lmf3q1lPDpuI"
   },
   "source": [
    "## OPTIONAL"
   ]
  },
  {
   "cell_type": "code",
   "execution_count": null,
   "metadata": {},
   "outputs": [],
   "source": [
    "df = pd.read_csv('data/adult.csv')"
   ]
  },
  {
   "cell_type": "code",
   "execution_count": null,
   "metadata": {
    "executionInfo": {
     "elapsed": 2576,
     "status": "aborted",
     "timestamp": 1696798566639,
     "user": {
      "displayName": "Indira Sen",
      "userId": "11191672663586892835"
     },
     "user_tz": -120
    },
    "id": "BeRLMvizDpuI",
    "scrolled": true
   },
   "outputs": [],
   "source": [
    "df2 = df[[\"age\", \"sex\", \"workclass\"]]\n",
    "df2.head(10)"
   ]
  },
  {
   "cell_type": "code",
   "execution_count": null,
   "metadata": {
    "executionInfo": {
     "elapsed": 2576,
     "status": "aborted",
     "timestamp": 1696798566639,
     "user": {
      "displayName": "Indira Sen",
      "userId": "11191672663586892835"
     },
     "user_tz": -120
    },
    "id": "Ys83yA1eDpuI"
   },
   "outputs": [],
   "source": [
    "### Apply is also often used in combination with a lambda function:\n",
    "df2[\"my_val_3\"] = df2.apply (lambda x: \"Young\" if x.age < 30 else x.sex, axis=1)\n",
    "df2.head(20)"
   ]
  },
  {
   "cell_type": "code",
   "execution_count": null,
   "metadata": {
    "executionInfo": {
     "elapsed": 2576,
     "status": "aborted",
     "timestamp": 1696798566640,
     "user": {
      "displayName": "Indira Sen",
      "userId": "11191672663586892835"
     },
     "user_tz": -120
    },
    "id": "-hnIcw7dDpuJ"
   },
   "outputs": [],
   "source": [
    "df[df ['marital-status'].str.match(\"Married-(.*)-spouse\")].sample(4)"
   ]
  },
  {
   "cell_type": "markdown",
   "metadata": {
    "collapsed": true,
    "id": "qQhd6dM3DpuJ"
   },
   "source": [
    "## More material:"
   ]
  },
  {
   "cell_type": "markdown",
   "metadata": {
    "id": "0ZY7U1pxDpuJ"
   },
   "source": [
    "* The official pandas documentation: https://pandas.pydata.org/\n",
    "* A tutorial by Brandon Rhodes from PyCon 2015:\n",
    "https://www.youtube.com/watch?v=5JnMutdy6Fw\n",
    " with material and exercises\n",
    "https://github.com/brandon-rhodes/pycon-pandas-tutorial\n",
    "\n",
    "* Daniel Chan: Introduction to pandas: https://www.youtube.com/watch?v=dye7rDktJ2E"
   ]
  },
  {
   "cell_type": "code",
   "execution_count": null,
   "metadata": {
    "executionInfo": {
     "elapsed": 2576,
     "status": "aborted",
     "timestamp": 1696798566640,
     "user": {
      "displayName": "Indira Sen",
      "userId": "11191672663586892835"
     },
     "user_tz": -120
    },
    "id": "GIOlFnUEDpuJ"
   },
   "outputs": [],
   "source": []
  }
 ],
 "metadata": {
  "colab": {
   "provenance": []
  },
  "hide_input": false,
  "kernelspec": {
   "display_name": "Python 3 (ipykernel)",
   "language": "python",
   "name": "python3"
  },
  "language_info": {
   "codemirror_mode": {
    "name": "ipython",
    "version": 3
   },
   "file_extension": ".py",
   "mimetype": "text/x-python",
   "name": "python",
   "nbconvert_exporter": "python",
   "pygments_lexer": "ipython3",
   "version": "3.11.5"
  },
  "nav_menu": {},
  "toc": {
   "base_numbering": 1,
   "nav_menu": {},
   "number_sections": true,
   "sideBar": true,
   "skip_h1_title": false,
   "title_cell": "Table of Contents",
   "title_sidebar": "Contents",
   "toc_cell": true,
   "toc_position": {},
   "toc_section_display": "block",
   "toc_window_display": false
  },
  "varInspector": {
   "cols": {
    "lenName": 16,
    "lenType": 16,
    "lenVar": 40
   },
   "kernels_config": {
    "python": {
     "delete_cmd_postfix": "",
     "delete_cmd_prefix": "del ",
     "library": "var_list.py",
     "varRefreshCmd": "print(var_dic_list())"
    },
    "r": {
     "delete_cmd_postfix": ") ",
     "delete_cmd_prefix": "rm(",
     "library": "var_list.r",
     "varRefreshCmd": "cat(var_dic_list()) "
    }
   },
   "types_to_exclude": [
    "module",
    "function",
    "builtin_function_or_method",
    "instance",
    "_Feature"
   ],
   "window_display": false
  }
 },
 "nbformat": 4,
 "nbformat_minor": 1
}
