{
 "cells": [
  {
   "cell_type": "markdown",
   "id": "0a404715",
   "metadata": {
    "id": "0a404715"
   },
   "source": [
    "# Assignment 4: Data Collection and Preprocessing\n",
    "Indira Sen, Claire Jordan, Elena Solar, Andri Rutschmann\n",
    "\n",
    "Winter Term 2023 / 2024\n",
    "\n",
    "In this assignment we will practice how to extract data from the web with Python. You can score up to 15 points in this assignment. Please submit your solutions inside this notebook in your repository on GitHub. The deadline for submission is on Thursday, October 19, 23:59 hours. You will get individual feedback in your repository."
   ]
  },
  {
   "cell_type": "markdown",
   "id": "Ou_Yq99wDpuH",
   "metadata": {
    "id": "Ou_Yq99wDpuH"
   },
   "source": [
    "### Exercise 1 (total 6 points)\n",
    "\n",
    "Explore the Quality of Government Dataset\n",
    "\n",
    "A. Create a new column \"population_density\" (1 point)\n",
    "\n",
    "B. How many countries are in each region? (1 point)\n",
    "\n",
    "C. What is the per country mean population density for each region\n",
    "(= sum of densities for each country / number of countries) (0.5 points)\n",
    "\n",
    "D. Show the population densities for countries in 'Western Europe and North America'\n",
    "Obviously, the results are heavily influenced by some outliers. How to avoid that? (1.5 points)\n",
    "\n",
    "E. What is the actual population density in each region\n",
    "(= Sum of population in the region / Sum of areas in the region) (1 points)\n",
    "\n",
    "Hint: Compute first the population sum and the area sum for each region\n",
    "\n",
    "F. What countries have the maximum and minimum population growth? (1 point)"
   ]
  },
  {
   "cell_type": "code",
   "execution_count": null,
   "id": "DbCihYnxEqgI",
   "metadata": {
    "id": "DbCihYnxEqgI"
   },
   "outputs": [],
   "source": []
  },
  {
   "cell_type": "markdown",
   "id": "9065912e",
   "metadata": {
    "id": "9065912e"
   },
   "source": [
    "### Exercise 2 (total: 5 points)\n",
    "\n",
    "Revisiting the Book and Movie shop. You may reuse the codeyou wrote yesterday. \n",
    "\n",
    "Recall our virtual shop that sells movies and books, where we have four tables: \n",
    "* pd_customers: Gives first- and lastname for each customer \n",
    "* pd_books: Gives the raw price for all books that are being sold \n",
    "* pd_movies: Gives the raw price for all movies that are being sold \n",
    "* pd_transactions: Gives the list of all transactions being made (which customer bought which item)\n",
    "\n",
    "A. Reload all 4 datasets in separate dataframes (0.5 points)\n",
    "\n",
    "\n",
    "B. Compile a listing of all items (=books and movies) that have been sold in one dataframe. The dataframe should contain two columns: \"item_name\" and \"price\" (0.5 points)\n",
    "\n",
    "\n",
    "C. Join the information on customer names, transactions, and prices in one dataframe (1 point)\n",
    "\n",
    "\n",
    "D. Compute a table of customers. For all customers give the number of items bought, the sum of these items, and the average price of the item. (1 point)\n",
    "\n",
    "\n",
    "E. Extend that list such that it also contains customers without purchases (1 point)\n",
    "\n",
    "\n",
    "F. Round the price mean and the price sum to two digits and export the table to a .csv file (1 point)"
   ]
  },
  {
   "cell_type": "code",
   "execution_count": null,
   "id": "N2Gh5KSJCx1f",
   "metadata": {
    "id": "N2Gh5KSJCx1f"
   },
   "outputs": [],
   "source": []
  },
  {
   "cell_type": "markdown",
   "id": "bf0e28d8",
   "metadata": {
    "id": "bf0e28d8"
   },
   "source": [
    "### Exercise 3 (total: 4 points)\n",
    "Let's scrape more content"
   ]
  },
  {
   "cell_type": "markdown",
   "id": "7b01a72b",
   "metadata": {
    "id": "7b01a72b"
   },
   "source": [
    "A. Reuse the list of users (). Write a function to extract the gender of users per userbox info. Don't run it on the whole dataframe, just make sure it works with several examples. (2 points)\n",
    "    \n",
    "B. Go to the start page of 'waz.de' and get all the news story titles you can. (2 points)"
   ]
  },
  {
   "cell_type": "code",
   "execution_count": null,
   "id": "KC4cWWZbC3AT",
   "metadata": {
    "id": "KC4cWWZbC3AT"
   },
   "outputs": [],
   "source": []
  }
 ],
 "metadata": {
  "colab": {
   "provenance": []
  },
  "kernelspec": {
   "display_name": "Python 3 (ipykernel)",
   "language": "python",
   "name": "python3"
  },
  "language_info": {
   "codemirror_mode": {
    "name": "ipython",
    "version": 3
   },
   "file_extension": ".py",
   "mimetype": "text/x-python",
   "name": "python",
   "nbconvert_exporter": "python",
   "pygments_lexer": "ipython3",
   "version": "3.11.5"
  },
  "vscode": {
   "interpreter": {
    "hash": "8a31fc8654382fa70e01b8b1b084ed875bc80468ef06668984d01fe98600013e"
   }
  }
 },
 "nbformat": 4,
 "nbformat_minor": 5
}
