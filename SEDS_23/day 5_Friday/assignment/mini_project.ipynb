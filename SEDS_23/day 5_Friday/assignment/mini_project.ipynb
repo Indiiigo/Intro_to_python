{
 "cells": [
  {
   "cell_type": "markdown",
   "id": "04278307",
   "metadata": {
    "id": "04278307"
   },
   "source": [
    "# <b>Project</b>\n",
    "In this final assignment you will get the chance to complete a small data project on data you are personally interested in. You will need to get your own data, preprocess and analyze the data and visualize your findings. In this way, you will wrap up everything what you have learned in this course.\n",
    "<br>\n",
    "There is a lot of interesting data in the internet. We want to give you the opportunity to explore data which is in your own personal interest.\n",
    "<br>\n",
    "<br>\n",
    "<b>Note:</b> Please make sure comment your code and use new code chunks at relevant positions (i.e. after print()-statements). This makes corrections way easier.\n",
    "<br>\n",
    "<br>\n",
    "*adapted from: Prof. Dr. Karsten Donnay, Stefan Scholz (see [github repo](https://github.com/stefan-scholz/python-block-course-2019))*"
   ]
  },
  {
   "cell_type": "markdown",
   "id": "51d31cb5",
   "metadata": {
    "id": "51d31cb5"
   },
   "source": [
    "### Data collection:"
   ]
  },
  {
   "cell_type": "markdown",
   "id": "e3cb7d51",
   "metadata": {
    "id": "e3cb7d51"
   },
   "source": [
    "<div class=\"alert alert-block alert-info\">\n",
    "    <b>Exercise (5 Points)</b>: Think of a data set, you want to build your project upon and look for one online. Describe what this data set is and for what reason it is interesting. Retrieve the data by either using webscraping or an API. If you are unsure, how to do this, have a look at the notebook (also feel free to get help online, i.e. YouTube Videos).\n",
    "    <br>\n",
    "    <br>\n",
    "    <b>Note:</b> In the worst case, if you really can not come up with a dataset, downloading a csv-file and importing it is fine. But we can only give one point for this task. Sources could be kaggle.com or the dataset search by google.\n",
    "</div>"
   ]
  },
  {
   "cell_type": "code",
   "execution_count": null,
   "id": "a8004c82",
   "metadata": {
    "id": "a8004c82",
    "outputId": "48651024-9ffc-4f26-8dc1-ca20ec954d41"
   },
   "outputs": [],
   "source": []
  },
  {
   "cell_type": "markdown",
   "id": "48544e42",
   "metadata": {
    "id": "48544e42"
   },
   "source": [
    "### Data preprocessing:"
   ]
  },
  {
   "cell_type": "markdown",
   "id": "e80dd06e",
   "metadata": {
    "id": "e80dd06e"
   },
   "source": [
    "<div class=\"alert alert-block alert-info\">\n",
    "    <b>Exercise (5 Points)</b>: Get familiar with your data. Depending on your data, adjust and modify them using the methods we indroduced (i.e changing column names, or data types, select relevant columns, handle missing values, group and compute summary statistics).\n",
    "</div>"
   ]
  },
  {
   "cell_type": "code",
   "execution_count": null,
   "id": "f3dfd58c",
   "metadata": {
    "id": "f3dfd58c",
    "outputId": "d29506f0-e96e-4fc5-8954-e681b552842c"
   },
   "outputs": [],
   "source": []
  },
  {
   "cell_type": "markdown",
   "id": "0638e602",
   "metadata": {
    "id": "0638e602"
   },
   "source": [
    "### Data analysis and visualization:"
   ]
  },
  {
   "cell_type": "markdown",
   "id": "206f210b",
   "metadata": {
    "id": "206f210b"
   },
   "source": [
    "<div class=\"alert alert-block alert-info\">\n",
    "    <b>Exercise (5 Points)</b>: Visualize your 2-3 most important findings with the help of interesting visualizations. Use different types of plots and make sure to define a plots characteristics like colors, legends or else. Describe what you see and how to interprete the findings.\n",
    "    If you have more things, you'd like to visualize and play around - feel free :)\n",
    "</div>"
   ]
  },
  {
   "cell_type": "code",
   "execution_count": null,
   "id": "1388ede9",
   "metadata": {
    "id": "1388ede9",
    "outputId": "d6566d60-160b-49e0-ab2f-cb310374b31c"
   },
   "outputs": [],
   "source": []
  }
 ],
 "metadata": {
  "colab": {
   "provenance": []
  },
  "kernelspec": {
   "display_name": "Python 3 (ipykernel)",
   "language": "python",
   "name": "python3"
  },
  "language_info": {
   "codemirror_mode": {
    "name": "ipython",
    "version": 3
   },
   "file_extension": ".py",
   "mimetype": "text/x-python",
   "name": "python",
   "nbconvert_exporter": "python",
   "pygments_lexer": "ipython3",
   "version": "3.9.13"
  },
  "vscode": {
   "interpreter": {
    "hash": "8a31fc8654382fa70e01b8b1b084ed875bc80468ef06668984d01fe98600013e"
   }
  }
 },
 "nbformat": 4,
 "nbformat_minor": 5
}
