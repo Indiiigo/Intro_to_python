{
 "cells": [
  {
   "cell_type": "markdown",
   "metadata": {
    "id": "SN-mb9j3Yc1X"
   },
   "source": [
    "# Assignment 1: Python basics and programming fundamentals\n",
    "Indira Sen, Claire Jordan, Elena Solar, Andri Rutschmann\n",
    "\n",
    "Winter Term 2023 / 2024\n",
    "\n",
    "In this first assignment we will practice how to use Jupyter Notebooks and how to execute Python code. You can score up to 15 points in this assignment. Please submit your solutions inside this notebook in your repository on GitHub. The deadline for submission is on Monday, October 16, 23:59 hours. You will get individual feedback in your repository."
   ]
  },
  {
   "cell_type": "markdown",
   "metadata": {
    "id": "QjcesK4dZSw4"
   },
   "source": [
    "## Ex 1\n",
    "\n",
    "This exercise covers variables. (total: 6 points)\n",
    "\n",
    "1. Use some of the arithmetic operations you want and do some calculations. (1 point)\n",
    "Bonus: By using `.format()` method to print outputs in such a format \"1+1=2\" (1 point)\n",
    "\n",
    "2. Define variables a = 16, b = 4 and c = 2.\n",
    "\n",
    " a.Print result of a/b*c+c (1 points)\n",
    "\n",
    " b.Do the same calculation but force multiplication to be first and then sum and finally division (by using parentheses) (1 point)\n",
    "\n",
    "3. Define a sentence and print it's length in a sentence in format of \"The length of 'sentence' is 8.\" (use `.format()` method) (2 points)"
   ]
  },
  {
   "cell_type": "code",
   "execution_count": null,
   "metadata": {
    "id": "VscuYWW0ZWlM"
   },
   "outputs": [],
   "source": []
  },
  {
   "cell_type": "markdown",
   "metadata": {
    "id": "SeX48MfjYc1Z"
   },
   "source": [
    "## Ex 2\n",
    "This exercise covers variables, lists, and if-statements (total: 5 points)"
   ]
  },
  {
   "cell_type": "markdown",
   "metadata": {
    "id": "0SF9mdqjYc1a"
   },
   "source": [
    "1. Make a list of names that includes at least five people. (1 point)\n",
    "2. Write an if test that prints a message about the room being crowded, if there are more than four people in your list. (1 point)\n",
    "3. Modify your list so that there are only two people in it. Use one of the methods for removing people from the list, don't just redefine the list. (2 points)\n",
    "4. Add some names to your list, so that there are at least seven people in the list. Use one of the methods for appending people from the list, don't just redefine the list. (1 point)"
   ]
  },
  {
   "cell_type": "code",
   "execution_count": null,
   "metadata": {
    "id": "t4SnJYWHYc1a"
   },
   "outputs": [],
   "source": []
  },
  {
   "cell_type": "markdown",
   "metadata": {
    "id": "72ZcTAGWYc1b"
   },
   "source": [
    "## Ex 3\n",
    "This exercise covers variables, lists, and if-statements (total: 4 points)"
   ]
  },
  {
   "cell_type": "markdown",
   "metadata": {
    "id": "-7-5-5waYc1b"
   },
   "source": [
    "1. Create a list of lists where each sub list holds the arguments for the function. Loop this list of lists and first check if the length of inner list is not 2, then print an error message \"Length of numbers must be 2!\" and continue to the next iteration (use the `continue` statement). Otherwise call the function and print the result of the function. (2 points)\n",
    "\n",
    "2. Test your code by this list of lists: `number_lists = [[1, 1], [\"five\", 3], [5, \"three\"], [2, 2, 2], [5.5, 8]]` (1 point)\n",
    "\n",
    "3. Replace `continue` statement with `break` statement and run your code again. Could you notice the difference? (1 point)"
   ]
  },
  {
   "cell_type": "code",
   "execution_count": null,
   "metadata": {
    "id": "BRivZfxYYc1b"
   },
   "outputs": [],
   "source": []
  }
 ],
 "metadata": {
  "colab": {
   "provenance": []
  },
  "kernelspec": {
   "display_name": "Python 3 (ipykernel)",
   "language": "python",
   "name": "python3"
  },
  "language_info": {
   "codemirror_mode": {
    "name": "ipython",
    "version": 3
   },
   "file_extension": ".py",
   "mimetype": "text/x-python",
   "name": "python",
   "nbconvert_exporter": "python",
   "pygments_lexer": "ipython3",
   "version": "3.11.5"
  },
  "toc": {
   "base_numbering": 1,
   "nav_menu": {},
   "number_sections": false,
   "sideBar": false,
   "skip_h1_title": true,
   "title_cell": "Table of Contents",
   "title_sidebar": "Contents",
   "toc_cell": false,
   "toc_position": {},
   "toc_section_display": false,
   "toc_window_display": false
  }
 },
 "nbformat": 4,
 "nbformat_minor": 1
}
