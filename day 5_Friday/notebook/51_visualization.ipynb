{
 "cells": [
  {
   "cell_type": "markdown",
   "metadata": {},
   "source": [
    "# Data visualization with matplotlib "
   ]
  },
  {
   "cell_type": "markdown",
   "metadata": {},
   "source": [
    "## Basics\n",
    "\n",
    "We start by importing the matplotlib library -- it is the Python data visualization package. \n",
    "\n",
    "In particular, we import the pyplot module of the matplotlib library under the alias plt. It provides an interface that allows us to automatically create figures and axes for our plot."
   ]
  },
  {
   "cell_type": "code",
   "execution_count": null,
   "metadata": {},
   "outputs": [],
   "source": [
    "import numpy as np\n",
    "import matplotlib.pyplot as plt\n",
    "\n",
    "#to embed the plots inside the notebook. \n",
    "%matplotlib inline      "
   ]
  },
  {
   "cell_type": "markdown",
   "metadata": {},
   "source": [
    "## The structure of a figure\n",
    "\n",
    "   \n",
    "   \n",
    " Figure is the overall window or page that everything is drawn on. It comprises of axes, title, legend and gridlines. \n",
    " \n",
    " The Axes is the area on which the data is plotted. The axes have the axis labels.\n",
    " Each Axes has an x-axis and a y-axis, which contain ticks, which have major and minor ticklines and ticklabels.\n",
    " \n",
    " Spines are lines that connect the axis tick marks and that designate the boundaries of the data area."
   ]
  },
  {
   "cell_type": "markdown",
   "metadata": {},
   "source": [
    "  <tr>\n",
    "    <td> <img src=\"http://matplotlib.org/1.4.0/_images/fig_map.png\" alt=\"Drawing\" style=\"width: 400px;\"/> </td>\n",
    "    <td> <img src=\"http://matplotlib.org/2.0.2/_images/anatomy1.png\" alt=\"Drawing\" style=\"width: 600px;\"/> </td>\n",
    "   </tr>\n",
    "   \n"
   ]
  },
  {
   "cell_type": "markdown",
   "metadata": {},
   "source": [
    "## Line plots\n",
    "\n",
    "### Single line plots\n",
    "Let's generate some data to visualize.\n"
   ]
  },
  {
   "cell_type": "code",
   "execution_count": null,
   "metadata": {},
   "outputs": [],
   "source": [
    "x = [1,2,4,5,6,7,8,10]\n",
    "y = [2.5,3.2,4.1,1.0,6,2, 0.5, -2.1]"
   ]
  },
  {
   "cell_type": "markdown",
   "metadata": {},
   "source": [
    "First, we plot the data as a line plot.\n",
    "\n",
    "You basically just need two functions for it: plot() to start plotting and show() for showing the plot you generated. "
   ]
  },
  {
   "cell_type": "code",
   "execution_count": null,
   "metadata": {},
   "outputs": [],
   "source": [
    "plt.plot(x,y)\n",
    "plt.show()"
   ]
  },
  {
   "cell_type": "markdown",
   "metadata": {},
   "source": [
    "The pyplot module of python has defaults that are initialized so that you can quickly plot something without instantiating any Figures or Axes components."
   ]
  },
  {
   "cell_type": "markdown",
   "metadata": {},
   "source": [
    "### Multiple lines\n",
    "\n",
    "We can also plot mulitple lines in one plot"
   ]
  },
  {
   "cell_type": "code",
   "execution_count": null,
   "metadata": {
    "scrolled": false
   },
   "outputs": [],
   "source": [
    "x2 = [1,3,4,5,6,8,9,10]\n",
    "y2 = [1.3,3,4,15,6,2, 0.2, -1]\n",
    "plt.plot (x,y)\n",
    "plt.plot (x2,y2)"
   ]
  },
  {
   "cell_type": "markdown",
   "metadata": {},
   "source": [
    "Add some description to the plot. Here we add x and y axes labels, as well as the plot title."
   ]
  },
  {
   "cell_type": "code",
   "execution_count": null,
   "metadata": {},
   "outputs": [],
   "source": [
    "x2 = [1,3,4,5,6,8,9,10]\n",
    "y2 = [1.3,3,4,15,6,2, 0.2, -1]\n",
    "plt.plot (x,y)\n",
    "plt.plot (x2,y2)\n",
    "plt.ylabel (\"my y\")\n",
    "plt.xlabel (\"my x\")\n",
    "plt.title(\"Nice Plot!\")"
   ]
  },
  {
   "cell_type": "markdown",
   "metadata": {},
   "source": [
    "Let us try to format the axes labels and the title further by changing font colour and size."
   ]
  },
  {
   "cell_type": "code",
   "execution_count": null,
   "metadata": {},
   "outputs": [],
   "source": [
    "x2 = [1,3,4,5,6,8,9,10]\n",
    "y2 = [1.3,3,4,15,6,2, 0.2, -1]\n",
    "plt.plot (x,y)\n",
    "plt.plot (x2,y2)\n",
    "plt.ylabel (\"my y\", color=\"red\")\n",
    "plt.xlabel (\"my x\", color=\"#00FF00\",)\n",
    "plt.title(\"Nice \\nPlot!\", fontsize=24)\n",
    "plt.plot (x,y)"
   ]
  },
  {
   "cell_type": "markdown",
   "metadata": {},
   "source": [
    "Use different line styles and colors\n",
    "\n",
    "**Important resource:** https://matplotlib.org/api/_as_gen/matplotlib.pyplot.plot.html  "
   ]
  },
  {
   "cell_type": "code",
   "execution_count": null,
   "metadata": {
    "scrolled": false
   },
   "outputs": [],
   "source": [
    "x2 = [1,3,4,5,6,8,9,10]\n",
    "y2 = [1.3,3,4,15,6,2, 0.2, -1]\n",
    "x3 = [1,2,3,4,5,6,7,8,9,10]\n",
    "y3 = [1.3,5,4,3,4,8,6.1, 0.2, -1,3]\n",
    "plt.plot (x,y, marker= \"v\", color = \"red\")\n",
    "plt.plot (x2,y2, marker=\"*\", color=\"green\")\n",
    "plt.plot (x3,y3, marker=\"o\", color= \"black\")"
   ]
  },
  {
   "cell_type": "code",
   "execution_count": null,
   "metadata": {
    "scrolled": true
   },
   "outputs": [],
   "source": [
    "x2 = [1,3,4,5,6,8,9,10]\n",
    "y2 = [1.3,3,4,15,6,2, 0.2, -1]\n",
    "x3 = [1,2,3,4,5,6,7,8,9,10]\n",
    "y3 = [1.3,5,4,3,4,8,6.1, 0.2, -1,3]\n",
    "plt.plot (x,y, marker= \"v\", linestyle=\":\", color = \"red\")  \n",
    "plt.plot (x2,y2, marker= \"v\", linestyle=\"--\", color=\"green\")\n",
    "plt.plot (x3,y3, marker= \"v\", linestyle=\"-.\", color= \"black\")"
   ]
  },
  {
   "cell_type": "markdown",
   "metadata": {},
   "source": [
    "** We can also do the same in a more concise (but less understandable) way:  fmt = '[color][marker][line]'**\n"
   ]
  },
  {
   "cell_type": "code",
   "execution_count": null,
   "metadata": {},
   "outputs": [],
   "source": [
    "plt.plot(x, y, 'r*:', x2, y2, 'go--', x3, y3, 'kv-.')"
   ]
  },
  {
   "cell_type": "code",
   "execution_count": null,
   "metadata": {},
   "outputs": [],
   "source": [
    "plt.plot (x,y, \"ro\", color=\"black\") # no line"
   ]
  },
  {
   "cell_type": "code",
   "execution_count": null,
   "metadata": {},
   "outputs": [],
   "source": [
    "plt.plot (x,y, \"ro:\", color=\"red\")\n",
    "plt.plot(x2, y2, \"bs\") #, color=\"green\") #overwrite color"
   ]
  },
  {
   "cell_type": "markdown",
   "metadata": {},
   "source": [
    "Adding a legend for the plot using legend() function and by adding labels for each line plot."
   ]
  },
  {
   "cell_type": "code",
   "execution_count": null,
   "metadata": {},
   "outputs": [],
   "source": [
    "plt.plot (x,y, \"ro\", color=\"red\", label=\"red ones\")\n",
    "plt.plot(x2, y2, \"bs\", color=\"green\", label = \"fancy ones\")\n",
    "plt.xlabel (\"my_x\")\n",
    "plt.ylabel (\"my_y\")\n",
    "plt.legend()"
   ]
  },
  {
   "cell_type": "markdown",
   "metadata": {},
   "source": [
    "We can also cutomize the legend. \n",
    "\n",
    "For instance, the location of the legend, which can be set to 'upper left', 'upper right', 'lower left', 'lower right' that place the legend at the corresponding corner of the axes/figure; 'upper center', 'lower center', 'center left', 'center right' place the legend at the center of the corresponding edge of the axes/figure; 'center' places the legend at the center of the axes/figure.\n",
    "\n",
    "bbox_to_anchor is the box that is used to position the legend in conjunction with loc and allows arbitrary placement of the legend. A 2-tuple (x, y) places the corner of the legend specified by loc at x, y. \n",
    "\n"
   ]
  },
  {
   "cell_type": "code",
   "execution_count": null,
   "metadata": {
    "scrolled": false
   },
   "outputs": [],
   "source": [
    "plt.plot (x,y, \"ro\", color=\"red\", label=\"red ones\")\n",
    "plt.plot(x2, y2, \"bs\", color=\"green\", label = \"fancy ones\")\n",
    "plt.xlabel (\"my_x\")\n",
    "plt.ylabel (\"my_y\")\n",
    "\n",
    "#manual placement of the legend\n",
    "plt.legend(loc=\"lower left\",bbox_to_anchor=(0, 0))"
   ]
  },
  {
   "cell_type": "markdown",
   "metadata": {},
   "source": [
    "Lets take another example."
   ]
  },
  {
   "cell_type": "code",
   "execution_count": null,
   "metadata": {},
   "outputs": [],
   "source": [
    "y = [10,210,54000,250, 8,3, 2400, 20,520, 230000, 25, 25000]"
   ]
  },
  {
   "cell_type": "markdown",
   "metadata": {},
   "source": [
    "What if we skip x, and only use y for plotting?"
   ]
  },
  {
   "cell_type": "code",
   "execution_count": null,
   "metadata": {},
   "outputs": [],
   "source": [
    "plt.plot(y)              # plot y using x as index array 0..N-1"
   ]
  },
  {
   "cell_type": "code",
   "execution_count": null,
   "metadata": {},
   "outputs": [],
   "source": [
    "x = range(12)\n",
    "plt.plot(x,y)"
   ]
  },
  {
   "cell_type": "markdown",
   "metadata": {},
   "source": [
    "We can also limit the visible range of either axes."
   ]
  },
  {
   "cell_type": "code",
   "execution_count": null,
   "metadata": {},
   "outputs": [],
   "source": [
    "x = range(12)\n",
    "plt.plot(x,y)\n",
    "plt.ylim(0, 250000)"
   ]
  },
  {
   "cell_type": "markdown",
   "metadata": {},
   "source": [
    "We can also apply scale type to axis (yscale or xscale) -- linear, log."
   ]
  },
  {
   "cell_type": "code",
   "execution_count": null,
   "metadata": {},
   "outputs": [],
   "source": [
    "plt.plot(x,y)  \n",
    "plt.yscale(\"log\")"
   ]
  },
  {
   "cell_type": "markdown",
   "metadata": {},
   "source": [
    "### Exercise 3.1\n",
    "\n",
    "1. Create a simple line plot with two lines comparing the following measurements¶"
   ]
  },
  {
   "cell_type": "code",
   "execution_count": null,
   "metadata": {},
   "outputs": [],
   "source": [
    "weather_station_1 = [22,17,18,19,25,26,28,17,15,12]\n",
    "weather_station_2 = [24,19,17,18,24,27,29,15,14,10]"
   ]
  },
  {
   "cell_type": "code",
   "execution_count": null,
   "metadata": {},
   "outputs": [],
   "source": []
  },
  {
   "cell_type": "markdown",
   "metadata": {},
   "source": [
    "2. Style this plot, such that the line colors are red and blue; add a legend; set the visible area for the y-axis from -5 to 35"
   ]
  },
  {
   "cell_type": "code",
   "execution_count": null,
   "metadata": {},
   "outputs": [],
   "source": []
  },
  {
   "cell_type": "markdown",
   "metadata": {},
   "source": [
    "## Bar Charts and Histograms"
   ]
  },
  {
   "cell_type": "markdown",
   "metadata": {},
   "source": [
    "The range() function returns a sequence of numbers, starting from 0 by default, and increments by 1 (by default), and stops before a specified number. \n",
    "\n",
    "Syntax: range(start, stop, step)\n",
    "\n",
    "Let us create a list of numbers from 1 to 6, in increments of 2"
   ]
  },
  {
   "cell_type": "code",
   "execution_count": null,
   "metadata": {},
   "outputs": [],
   "source": [
    "list(range(1,6,2))"
   ]
  },
  {
   "cell_type": "markdown",
   "metadata": {},
   "source": [
    "The arange() function from numpy generates a numpy array with evenly spaced values."
   ]
  },
  {
   "cell_type": "code",
   "execution_count": null,
   "metadata": {},
   "outputs": [],
   "source": [
    "list(np.arange(1,6,2))"
   ]
  },
  {
   "cell_type": "code",
   "execution_count": null,
   "metadata": {},
   "outputs": [],
   "source": [
    "list(np.arange(1,6)-0.2)"
   ]
  },
  {
   "cell_type": "markdown",
   "metadata": {},
   "source": [
    "### Bar plot"
   ]
  },
  {
   "cell_type": "markdown",
   "metadata": {},
   "source": [
    "Let us create a simple bar plot using bar() function, with some dummy data.\n",
    "\n",
    "bar(x,y)  --> The bars are positioned at x, where x is a sequence of scalars. And y are the heights of the bars, where y is sequence of scalars."
   ]
  },
  {
   "cell_type": "code",
   "execution_count": null,
   "metadata": {
    "scrolled": false
   },
   "outputs": [],
   "source": [
    "y = [10, 30, 50, 20, 40, 80]\n",
    "plt.bar(range(6), y)"
   ]
  },
  {
   "cell_type": "markdown",
   "metadata": {},
   "source": [
    "Let us make a plot with multiple bars and add tick labels, and customize bar style (position, labels, width and color)."
   ]
  },
  {
   "cell_type": "code",
   "execution_count": null,
   "metadata": {},
   "outputs": [],
   "source": [
    "y = [10, 30, 50, 20, 40, 80]\n",
    "y2 = [12, 32, 52, 22, 36, 56]\n",
    "la = [\"apples\", \"oranges\", \"melons\", \"peaches\", \"pears\", \"plums\"]\n",
    "plt.bar(np.arange(6) -0.2, y, width=0.4, color=\"blue\")\n",
    "plt.bar(np.arange(6), y, tick_label=la, width=0.0)        #for adding labels\n",
    "plt.bar(np.arange(6) + 0.2, y2, width=0.4, color=\"red\")"
   ]
  },
  {
   "cell_type": "markdown",
   "metadata": {},
   "source": [
    "### Histogram\n"
   ]
  },
  {
   "cell_type": "markdown",
   "metadata": {},
   "source": [
    "Let us generate some floating point data."
   ]
  },
  {
   "cell_type": "code",
   "execution_count": null,
   "metadata": {},
   "outputs": [],
   "source": [
    "# generates an array of shape (d0, d1, ..., dn), filled with random floats sampled from a \n",
    "# univariate “normal” (Gaussian) distribution of mean 0 and variance 1.\n",
    "# we add a arbitrary float to ensure the  generated random numbers are positive.\n",
    "\n",
    "x = np.random.randn(1000) +2.7\n",
    "x"
   ]
  },
  {
   "cell_type": "markdown",
   "metadata": {},
   "source": [
    "Let us now plot the above data in a histogram by computing and drawing the histogram of x."
   ]
  },
  {
   "cell_type": "code",
   "execution_count": null,
   "metadata": {
    "scrolled": true
   },
   "outputs": [],
   "source": [
    "plt.hist(x)"
   ]
  },
  {
   "cell_type": "markdown",
   "metadata": {},
   "source": [
    "If we pass an integer as the bins argument, we can define the number of equal-width bins in the range.\n",
    "\n",
    "The default value for bins is 10. (See the plot above!)."
   ]
  },
  {
   "cell_type": "code",
   "execution_count": null,
   "metadata": {},
   "outputs": [],
   "source": [
    "plt.hist(x, bins=50)"
   ]
  },
  {
   "cell_type": "markdown",
   "metadata": {},
   "source": [
    "If we set the density argument to True, then we draw and return a probability density (note the y axis).\n",
    "\n",
    "Each bin will display the bin's raw count divided by the total number of counts and the bin width."
   ]
  },
  {
   "cell_type": "code",
   "execution_count": null,
   "metadata": {},
   "outputs": [],
   "source": [
    "plt.hist(x, bins=20, density=True)"
   ]
  },
  {
   "cell_type": "markdown",
   "metadata": {},
   "source": [
    "rwidth argument sets the relative width of the bars as a fraction of the bin width"
   ]
  },
  {
   "cell_type": "code",
   "execution_count": null,
   "metadata": {},
   "outputs": [],
   "source": [
    "plt.hist(x, bins=20, density = True, rwidth=0.8)"
   ]
  },
  {
   "cell_type": "markdown",
   "metadata": {},
   "source": [
    "Lets add another dataset."
   ]
  },
  {
   "cell_type": "code",
   "execution_count": null,
   "metadata": {},
   "outputs": [],
   "source": [
    "x2 = np.random.randn(2000) +1.4"
   ]
  },
  {
   "cell_type": "markdown",
   "metadata": {},
   "source": [
    "Now we can plot both the datasets in the same histogram, and specify the color of the bars for both."
   ]
  },
  {
   "cell_type": "code",
   "execution_count": null,
   "metadata": {},
   "outputs": [],
   "source": [
    "plt.hist([x,x2], bins=20, rwidth=0.8, color=[\"red\", \"blue\"], density=False) "
   ]
  },
  {
   "cell_type": "markdown",
   "metadata": {},
   "source": [
    "### Exercise 3.2\n",
    "\n",
    "Visualize the following election data with a paired bar chart"
   ]
  },
  {
   "cell_type": "code",
   "execution_count": null,
   "metadata": {},
   "outputs": [],
   "source": [
    "parties = [\"CDU\",\"SPD\",\"AfD\", \"FDP\", \"DIE LINKE\", \"GRÜNE\", \"CSU\", \"Sonstige\"]\n",
    "result_2017 = [26.8,20.5,12.6,10.7,9.2,8.9,6.2,5.0]\n",
    "result_2013 = [34.1,25.7,4.7,4.8,8.6,8.4,7.4,6.2]"
   ]
  },
  {
   "cell_type": "code",
   "execution_count": null,
   "metadata": {},
   "outputs": [],
   "source": []
  },
  {
   "cell_type": "markdown",
   "metadata": {},
   "source": [
    "## Scatter Plot"
   ]
  },
  {
   "cell_type": "markdown",
   "metadata": {},
   "source": [
    "Let us generate some sample data to plot.\n",
    "We create two data sequences of length 200 using random numbers."
   ]
  },
  {
   "cell_type": "code",
   "execution_count": null,
   "metadata": {},
   "outputs": [],
   "source": [
    "x = np.concatenate([np.random.randn(100)/5 + 1, np.random.randn(100)/5 + 1.4])\n",
    "y = np.concatenate([np.random.randn(100)/5 - 1, np.random.randn(100)/5 + 1])"
   ]
  },
  {
   "cell_type": "code",
   "execution_count": null,
   "metadata": {},
   "outputs": [],
   "source": [
    "plt.plot(x,range(200), 'o')"
   ]
  },
  {
   "cell_type": "code",
   "execution_count": null,
   "metadata": {
    "scrolled": false
   },
   "outputs": [],
   "source": [
    "plt.plot(y,range(200), 'o') "
   ]
  },
  {
   "cell_type": "code",
   "execution_count": null,
   "metadata": {
    "scrolled": false
   },
   "outputs": [],
   "source": [
    "plt.plot(x,y, \"o\")   # here the first in x is plotted against first in y, second in x with second in y and so on"
   ]
  },
  {
   "cell_type": "code",
   "execution_count": null,
   "metadata": {},
   "outputs": [],
   "source": [
    "# We can do a very similar thing using the scatter function \n",
    "plt.scatter(x,y)"
   ]
  },
  {
   "cell_type": "markdown",
   "metadata": {},
   "source": [
    "### Exercise 3.3\n",
    "\n",
    "Create a scatter plot for the following data."
   ]
  },
  {
   "cell_type": "code",
   "execution_count": null,
   "metadata": {},
   "outputs": [],
   "source": [
    "age = [32,34,19,33,57,15,62,65,32,17]\n",
    "income = [52000,27000,7000,23000,18500,50000,72000,22000,42000,0]"
   ]
  },
  {
   "cell_type": "code",
   "execution_count": null,
   "metadata": {},
   "outputs": [],
   "source": []
  },
  {
   "cell_type": "markdown",
   "metadata": {},
   "source": [
    "## Pie charts\n"
   ]
  },
  {
   "cell_type": "markdown",
   "metadata": {},
   "source": [
    "Make a pie chart of an array (say x). \n",
    "The fractional area of each wedge is given by x/sum(x).\n",
    "\n",
    "The wedges are plotted counterclockwise, by default starting from the x-axis."
   ]
  },
  {
   "cell_type": "code",
   "execution_count": null,
   "metadata": {},
   "outputs": [],
   "source": [
    "proportions = [4,5,11,3]\n",
    "labels = [\"Apple\", \"Plums\", \"Bananas\", \"Peaches\"]\n",
    "plt.pie(proportions, labels=labels)"
   ]
  },
  {
   "cell_type": "markdown",
   "metadata": {},
   "source": [
    "Details about various options: https://matplotlib.org/3.3.1/api/_as_gen/matplotlib.pyplot.pie.html"
   ]
  },
  {
   "cell_type": "code",
   "execution_count": null,
   "metadata": {},
   "outputs": [],
   "source": [
    "proportions = [4,5,11,3]\n",
    "labels = [\"Apple\", \"Plums\", \"Bananas\", \"Peaches\"]\n",
    "plt.pie(proportions, labels=labels, colors=[\"#999900\", \"r\", \"b\", \"g\"], labeldistance=1.1, explode=[0.1,0,0,0], startangle=90, counterclock=False, autopct='%.0f%%')"
   ]
  },
  {
   "cell_type": "markdown",
   "metadata": {},
   "source": [
    "In the above example we set the following options:\n",
    "\n",
    "explode is a len(x) array which specifies the fraction of the radius with which to offset each wedge.\n",
    "\n",
    "startangle is the angle by which the start of the pie is rotated, counterclockwise from the x-axis.\n",
    "\n",
    "counterclock sets the fractions direction, clockwise or counterclockwise\n",
    "\n",
    "autopct is used to label the wedges with their numeric value. The label will be placed inside the wedge.\n"
   ]
  },
  {
   "cell_type": "markdown",
   "metadata": {},
   "source": [
    "### Exercise 3.4\n",
    "\n",
    "Create two pie charts for the following election data"
   ]
  },
  {
   "cell_type": "code",
   "execution_count": null,
   "metadata": {},
   "outputs": [],
   "source": [
    "parties = [\"CDU\",\"SPD\",\"AfD\", \"FDP\", \"DIE LINKE\", \"GRÜNE\", \"CSU\", \"Sonstige\"]\n",
    "result_2017 = [26.8,20.5,12.6,10.7,9.2,8.9,6.2,5.0]\n",
    "result_2013 = [34.1,25.7,4.7,4.8,8.6,8.4,7.4,6.2]"
   ]
  },
  {
   "cell_type": "code",
   "execution_count": null,
   "metadata": {},
   "outputs": [],
   "source": []
  },
  {
   "cell_type": "code",
   "execution_count": null,
   "metadata": {},
   "outputs": [],
   "source": []
  },
  {
   "cell_type": "markdown",
   "metadata": {},
   "source": [
    "## Annotations\n"
   ]
  },
  {
   "cell_type": "code",
   "execution_count": null,
   "metadata": {},
   "outputs": [],
   "source": [
    "#Return evenly spaced floating numbers over a specified interval (start, stop, number of samples)\n",
    "x = np.linspace(0,10,100) \n",
    "y = np.sin(x)"
   ]
  },
  {
   "cell_type": "code",
   "execution_count": null,
   "metadata": {},
   "outputs": [],
   "source": [
    "plt.plot(x,y)"
   ]
  },
  {
   "cell_type": "code",
   "execution_count": null,
   "metadata": {},
   "outputs": [],
   "source": [
    "plt.plot(x,y)\n",
    "plt.ylim(-1.5, 1.5)\n",
    "plt.annotate('local max', xy=(0.6, 1.2), color=\"k\", fontsize=15) #xytext defaults to xy"
   ]
  },
  {
   "cell_type": "code",
   "execution_count": null,
   "metadata": {},
   "outputs": [],
   "source": [
    "plt.plot(x,y)\n",
    "plt.ylim(-1.5, 1.5)\n",
    "plt.annotate('local max', xytext=(3, 1.2), xy=(1.65, 1), color=\"k\", fontsize=15,arrowprops={'facecolor':'black'}) #xytext defaults to xy"
   ]
  },
  {
   "cell_type": "code",
   "execution_count": null,
   "metadata": {},
   "outputs": [],
   "source": [
    "plt.plot(x,y)\n",
    "ax = plt.gca()\n",
    "ax.set_ylim((-1.5, 1.5))\n"
   ]
  },
  {
   "cell_type": "code",
   "execution_count": null,
   "metadata": {},
   "outputs": [],
   "source": [
    "plt.plot(x,y)\n",
    "plt.ylim(-1.5, 1.5)\n",
    "plt.annotate('local max', xytext=(3, 1.2), xy=(1.65, 1), color=\"k\", fontsize=15,arrowprops={'facecolor':'black'}) #xytext defaults to xy\n",
    "plt.savefig(\"myfig.jpg\")"
   ]
  },
  {
   "cell_type": "markdown",
   "metadata": {},
   "source": [
    "More savefig options available at: https://matplotlib.org/3.1.1/api/_as_gen/matplotlib.pyplot.savefig.html"
   ]
  },
  {
   "cell_type": "markdown",
   "metadata": {},
   "source": [
    "# Plotting with Pandas"
   ]
  },
  {
   "cell_type": "markdown",
   "metadata": {},
   "source": [
    "Pandas also has plotting functions directly integrated. These are basically shortcuts to matplotlib"
   ]
  },
  {
   "cell_type": "code",
   "execution_count": null,
   "metadata": {},
   "outputs": [],
   "source": [
    "import pandas as pd\n",
    "\n",
    "df = pd.read_csv (\"adult.csv\", na_values=\"?\")\n",
    "h = df.head(100)\n",
    "h"
   ]
  },
  {
   "cell_type": "markdown",
   "metadata": {},
   "source": [
    "Let us get the number of males and females"
   ]
  },
  {
   "cell_type": "code",
   "execution_count": null,
   "metadata": {},
   "outputs": [],
   "source": [
    "df.sex.value_counts()"
   ]
  },
  {
   "cell_type": "markdown",
   "metadata": {},
   "source": [
    "Now lets try to use Pandas plotting functionality. Its call plot(). \n",
    "We can specify different \"kind\" in plot() -- ‘line’ : line plot (default); ‘bar’ : vertical bar plot; ‘barh’ : horizontal bar plot; \n",
    "‘hist’ : histogram; ‘pie’ : pie plot; ‘scatter’ : scatter plot\n",
    "\n",
    "\n",
    "Lets start by creating bar plot for the number of males and females."
   ]
  },
  {
   "cell_type": "markdown",
   "metadata": {},
   "source": [
    "## Bar"
   ]
  },
  {
   "cell_type": "code",
   "execution_count": null,
   "metadata": {},
   "outputs": [],
   "source": [
    "df.sex.value_counts().plot(kind=\"bar\")"
   ]
  },
  {
   "cell_type": "markdown",
   "metadata": {},
   "source": [
    "What if we want to plot the densities instead of counts."
   ]
  },
  {
   "cell_type": "code",
   "execution_count": null,
   "metadata": {},
   "outputs": [],
   "source": [
    "(df.sex.value_counts() / len(df)).plot(kind=\"bar\")"
   ]
  },
  {
   "cell_type": "markdown",
   "metadata": {},
   "source": [
    "## Histogram\n",
    "\n",
    "Now lets try to plot the histogram of the ages."
   ]
  },
  {
   "cell_type": "code",
   "execution_count": null,
   "metadata": {},
   "outputs": [],
   "source": [
    "df[\"age\"].hist(bins=[20,25,30,35,40,50])"
   ]
  },
  {
   "cell_type": "code",
   "execution_count": null,
   "metadata": {},
   "outputs": [],
   "source": [
    "# since its a shortcut to matplotlib, we can just add matplotlib parameters\n",
    "df[\"age\"].hist(bins=[20, 25,30,35,40,50], rwidth=0.5, color=\"red\")"
   ]
  },
  {
   "cell_type": "markdown",
   "metadata": {},
   "source": [
    "## Scatter"
   ]
  },
  {
   "cell_type": "code",
   "execution_count": null,
   "metadata": {},
   "outputs": [],
   "source": [
    "h.plot(x=\"age\", y=\"hours-per-week\", kind=\"scatter\")"
   ]
  },
  {
   "cell_type": "markdown",
   "metadata": {},
   "source": [
    "## Exercise 3.5\n",
    "\n",
    "1. Plot a bar graph the average age of males and females."
   ]
  },
  {
   "cell_type": "code",
   "execution_count": null,
   "metadata": {},
   "outputs": [],
   "source": []
  },
  {
   "cell_type": "code",
   "execution_count": null,
   "metadata": {},
   "outputs": [],
   "source": []
  },
  {
   "cell_type": "markdown",
   "metadata": {},
   "source": [
    "# Seaborn"
   ]
  },
  {
   "cell_type": "markdown",
   "metadata": {},
   "source": [
    "Seaborn is another visualization library built on top of matplotlib and pandas. It offers new styles, simple creation of more standardized plots and easy acces from pandas\n"
   ]
  },
  {
   "cell_type": "code",
   "execution_count": null,
   "metadata": {},
   "outputs": [],
   "source": [
    "import seaborn as sns"
   ]
  },
  {
   "cell_type": "code",
   "execution_count": null,
   "metadata": {},
   "outputs": [],
   "source": [
    "sns.factorplot(x=\"sex\", y=\"age\", data=df)"
   ]
  },
  {
   "cell_type": "code",
   "execution_count": null,
   "metadata": {},
   "outputs": [],
   "source": [
    "sns.factorplot(x=\"race\", y=\"age\", hue=\"sex\", data=df, kind=\"bar\")"
   ]
  },
  {
   "cell_type": "code",
   "execution_count": null,
   "metadata": {},
   "outputs": [],
   "source": [
    "sns.factorplot(x=\"race\", y=\"age\", hue=\"sex\", data=df, kind=\"bar\",  aspect=3)"
   ]
  },
  {
   "cell_type": "code",
   "execution_count": null,
   "metadata": {},
   "outputs": [],
   "source": [
    "sns.regplot (\"age\", \"hours-per-week\", data=df.head(1000))"
   ]
  },
  {
   "cell_type": "code",
   "execution_count": null,
   "metadata": {},
   "outputs": [],
   "source": [
    "sns.distplot(df.age, bins=20)"
   ]
  },
  {
   "cell_type": "code",
   "execution_count": null,
   "metadata": {},
   "outputs": [],
   "source": [
    "c = df.corr()\n",
    "c"
   ]
  },
  {
   "cell_type": "code",
   "execution_count": null,
   "metadata": {},
   "outputs": [],
   "source": [
    "sns.heatmap(c)"
   ]
  },
  {
   "cell_type": "code",
   "execution_count": null,
   "metadata": {},
   "outputs": [],
   "source": [
    "plt.figure(figsize=(10,5))\n",
    "g = sns.lmplot(x=\"age\", y=\"hours-per-week\", hue=\"sex\",\n",
    "               truncate=True, size=5, data=h)"
   ]
  },
  {
   "cell_type": "code",
   "execution_count": null,
   "metadata": {},
   "outputs": [],
   "source": [
    "sns.jointplot(df.age, df[\"education-num\"], kind=\"kde\", color=\"#4CB391\")"
   ]
  },
  {
   "cell_type": "code",
   "execution_count": null,
   "metadata": {},
   "outputs": [],
   "source": [
    "sns.pairplot(data=df.sample(1000), hue=\"sex\")"
   ]
  },
  {
   "cell_type": "code",
   "execution_count": null,
   "metadata": {},
   "outputs": [],
   "source": [
    "f = plt.figure()\n",
    "plt.gca().plot(x,y)"
   ]
  },
  {
   "cell_type": "code",
   "execution_count": null,
   "metadata": {},
   "outputs": [],
   "source": [
    "f.suptitle(\"Hallo\")\n",
    "f"
   ]
  },
  {
   "cell_type": "markdown",
   "metadata": {},
   "source": [
    "# Optional\n",
    "\n",
    "## Scatter plots"
   ]
  },
  {
   "cell_type": "code",
   "execution_count": null,
   "metadata": {},
   "outputs": [],
   "source": [
    "x = np.concatenate([np.random.randn(10000)/5 + 1, np.random.randn(10000)/5 + 1.4])\n",
    "y = np.concatenate([np.random.randn(10000)/5 - 1, np.random.randn(10000)/5 + 1])"
   ]
  },
  {
   "cell_type": "code",
   "execution_count": null,
   "metadata": {},
   "outputs": [],
   "source": [
    "plt.scatter(x,y, color=\"blue\", alpha=0.005)"
   ]
  },
  {
   "cell_type": "code",
   "execution_count": null,
   "metadata": {},
   "outputs": [],
   "source": [
    "x = np.concatenate([np.random.randint(5, size=1000), np.random.randint(5, size=20) + 3])\n",
    "y = np.concatenate([np.random.randint(5, size=1000), np.random.randint(5, size=20) -1])"
   ]
  },
  {
   "cell_type": "code",
   "execution_count": null,
   "metadata": {
    "scrolled": true
   },
   "outputs": [],
   "source": [
    "x[:40]"
   ]
  },
  {
   "cell_type": "code",
   "execution_count": null,
   "metadata": {},
   "outputs": [],
   "source": [
    "x[-40:]"
   ]
  },
  {
   "cell_type": "code",
   "execution_count": null,
   "metadata": {},
   "outputs": [],
   "source": [
    "len(x)"
   ]
  },
  {
   "cell_type": "code",
   "execution_count": null,
   "metadata": {},
   "outputs": [],
   "source": [
    "plt.scatter (x,y)"
   ]
  },
  {
   "cell_type": "code",
   "execution_count": null,
   "metadata": {
    "scrolled": true
   },
   "outputs": [],
   "source": [
    "# add \"jitter\"\n",
    "x_jit = x + np.random.randn(len(x)) * 0.1\n",
    "y_jit = y + np.random.randn(len(y)) * 0.1\n",
    "plt.scatter(x_jit,y_jit, alpha= 0.2)"
   ]
  },
  {
   "cell_type": "code",
   "execution_count": null,
   "metadata": {},
   "outputs": [],
   "source": []
  },
  {
   "cell_type": "markdown",
   "metadata": {},
   "source": [
    "## Style Sheets"
   ]
  },
  {
   "cell_type": "markdown",
   "metadata": {},
   "source": [
    "The style package adds support for easy-to-switch plotting \"styles\". There are a number of pre-defined styles provided by Matplotlib.\n",
    "\n",
    "Reference: https://matplotlib.org/3.1.0/gallery/style_sheets/style_sheets_reference.html\n",
    "\n",
    "Lets display all available styles."
   ]
  },
  {
   "cell_type": "code",
   "execution_count": null,
   "metadata": {},
   "outputs": [],
   "source": [
    "print(plt.style.available)"
   ]
  },
  {
   "cell_type": "markdown",
   "metadata": {},
   "source": [
    "For example, there's a pre-defined style called \"ggplot\", which emulates the aesthetics of ggplot (a popular plotting package for R)."
   ]
  },
  {
   "cell_type": "code",
   "execution_count": null,
   "metadata": {},
   "outputs": [],
   "source": [
    "plt.style.use('ggplot')"
   ]
  },
  {
   "cell_type": "code",
   "execution_count": null,
   "metadata": {},
   "outputs": [],
   "source": [
    "y = [10, 30, 50, 20, 40, 80]\n",
    "y2 = [12, 32, 52, 22, 36, 56]\n",
    "l = [\"apples\", \"oranges\", \"melons\", \"peaches\", \"pears\", \"plums\"]\n",
    "plt.bar(np.arange(6), y, tick_label=l, width=0.4)"
   ]
  },
  {
   "cell_type": "code",
   "execution_count": null,
   "metadata": {},
   "outputs": [],
   "source": [
    "plt.style.use('dark_background')\n",
    "y = [10, 30, 50, 20, 40, 80]\n",
    "y2 = [12, 32, 52, 22, 36, 56]\n",
    "l = [\"apples\", \"oranges\", \"melons\", \"peaches\", \"pears\", \"plums\"]\n",
    "plt.bar(np.arange(6), y, tick_label=l, width=0.4)"
   ]
  },
  {
   "cell_type": "code",
   "execution_count": null,
   "metadata": {},
   "outputs": [],
   "source": [
    "plt.style.use('bmh')\n",
    "y = [10, 30, 50, 20, 40, 80]\n",
    "y2 = [12, 32, 52, 22, 36, 56]\n",
    "l = [\"apples\", \"oranges\", \"melons\", \"peaches\", \"pears\", \"plums\"]\n",
    "plt.bar(np.arange(6), y, tick_label=l, width=0.4)"
   ]
  },
  {
   "cell_type": "code",
   "execution_count": null,
   "metadata": {},
   "outputs": [],
   "source": [
    "plt.style.use('classic')\n",
    "y = [10, 30, 50, 20, 40, 80]\n",
    "y2 = [12, 32, 52, 22, 36, 56]\n",
    "l = [\"apples\", \"oranges\", \"melons\", \"peaches\", \"pears\", \"plums\"]\n",
    "plt.bar(np.arange(6), y, tick_label=l, width=0.4)"
   ]
  },
  {
   "cell_type": "code",
   "execution_count": null,
   "metadata": {},
   "outputs": [],
   "source": []
  },
  {
   "cell_type": "markdown",
   "metadata": {},
   "source": [
    "## Subplots"
   ]
  },
  {
   "cell_type": "code",
   "execution_count": null,
   "metadata": {
    "scrolled": true
   },
   "outputs": [],
   "source": [
    "#plt.style.use('classic')\n",
    "x= [1,2,3,4]\n",
    "y= [1,4,9,16]\n",
    "\n",
    "plt.figure(figsize=(10,4))  # an empty figure with no axes"
   ]
  },
  {
   "cell_type": "code",
   "execution_count": null,
   "metadata": {},
   "outputs": [],
   "source": [
    "plt.plot (x,y)"
   ]
  },
  {
   "cell_type": "code",
   "execution_count": null,
   "metadata": {},
   "outputs": [],
   "source": [
    "plt.subplots(3)"
   ]
  },
  {
   "cell_type": "code",
   "execution_count": null,
   "metadata": {},
   "outputs": [],
   "source": [
    "_, ax_lst = plt.subplots(3) "
   ]
  },
  {
   "cell_type": "code",
   "execution_count": null,
   "metadata": {},
   "outputs": [],
   "source": [
    "type(_)"
   ]
  },
  {
   "cell_type": "code",
   "execution_count": null,
   "metadata": {},
   "outputs": [],
   "source": [
    "ax_lst"
   ]
  },
  {
   "cell_type": "code",
   "execution_count": null,
   "metadata": {},
   "outputs": [],
   "source": [
    "type(ax_lst)"
   ]
  },
  {
   "cell_type": "code",
   "execution_count": null,
   "metadata": {},
   "outputs": [],
   "source": [
    "for i,ax in enumerate(ax_lst):\n",
    "    print(i,ax)"
   ]
  },
  {
   "cell_type": "code",
   "execution_count": null,
   "metadata": {},
   "outputs": [],
   "source": [
    "x = [1,2,3,4]\n",
    "y =  [[1,2,3,4],[1,4,9,16],[1,10,20,25]]\n",
    "_, ax_lst = plt.subplots(3, figsize=(5,10))\n",
    "for i,ax in enumerate(ax_lst):\n",
    "    ax.plot(x,y[i])"
   ]
  },
  {
   "cell_type": "code",
   "execution_count": null,
   "metadata": {},
   "outputs": [],
   "source": [
    "x = [1,2,3,4]\n",
    "y =  [[1,2,3,4],[1,4,9,16],[1,10,20,25]]\n",
    "_, ax_lst = plt.subplots(3, figsize=(5,10))\n",
    "for i,ax in enumerate(ax_lst):\n",
    "    ax.plot(x,y[i])\n",
    "    ax.set_ylim((0,25))\n",
    "    ax.set_ylabel (\"my y\")\n",
    "    if (i==1):\n",
    "        ax.grid(True)"
   ]
  },
  {
   "cell_type": "code",
   "execution_count": null,
   "metadata": {},
   "outputs": [],
   "source": [
    "fig = plt.figure(figsize=(4,6))\n",
    "ax1 = fig.add_subplot(211) # short for ...add_subplot(2,1,1), which means: 2x1 grid, subplot number 1\n",
    "ax1.plot([1,2,3,4],[1,2,10,3])\n",
    "ax2 = fig.add_subplot(212, sharex=ax1, sharey=ax1) # short for ...add_subplot(2,1,1), which means: 2x1 grid, subplot number 2\n",
    "ax2.plot([1,2,3,3.5],[1,2,5,3])"
   ]
  },
  {
   "cell_type": "markdown",
   "metadata": {},
   "source": [
    "Non-object-oriented:"
   ]
  },
  {
   "cell_type": "code",
   "execution_count": null,
   "metadata": {},
   "outputs": [],
   "source": [
    "plt.figure(figsize=(4,6))\n",
    "plt.subplot(211) \n",
    "plt.plot([1,2,3,4],[1,2,10,3])\n",
    "plt.subplot(212,  sharex=plt.gca(), sharey=plt.gca()) \n",
    "plt.plot([1,2,3,3.5],[1,2,5,3])"
   ]
  },
  {
   "cell_type": "code",
   "execution_count": null,
   "metadata": {},
   "outputs": [],
   "source": [
    "fig = plt.figure(figsize=(5,3))\n",
    "ax = fig.add_subplot(111) # short for ...add_subplot(1,1,1), which means: 1x1 grid, subplot number 1\n",
    "axis = ax.xaxis\n",
    "axis.set_ticks ([0.5,1.5,3,4])\n",
    "axis.set_ticklabels ([\"Zero\", \"one.5\", \"three\", \"four\"])"
   ]
  },
  {
   "cell_type": "code",
   "execution_count": null,
   "metadata": {},
   "outputs": [],
   "source": [
    "fig = plt.figure(figsize=(5,3))\n",
    "ax = fig.add_subplot(111) # short for ...add_subplot(1,1,1), which means: 1x1 grid, subplot number 1\n",
    "axis = ax.xaxis\n",
    "axis.set_ticks ([1,1.5,3,4])\n",
    "axis.set_ticklabels ([\"1\", \"one.5\", \"three\", \"four\"])\n",
    "for label in axis.get_ticklabels():\n",
    "    label.set_color('red')\n",
    "    label.set_rotation(45)\n",
    "    label.set_fontsize(16)\n",
    "rect = ax.patch\n",
    "rect.set_facecolor('#991111')\n",
    "#ax.set_xlim((-1.5, 4))\n",
    "ax.plot([1,2,3,4],[0,2,3,4], color=\"k\")"
   ]
  },
  {
   "cell_type": "code",
   "execution_count": null,
   "metadata": {},
   "outputs": [],
   "source": [
    "plt.figure(figsize=(5,3))\n",
    "plt.subplot(111, facecolor='#991111') # short for ...add_subplot(1,1,1), which means: 1x1 grid, subplot number 1\n",
    "plt.xticks ([1,1.5,3,4], [\"1\", \"one.5\", \"three\", \"four\"])\n",
    "for label in plt.gca().xaxis.get_ticklabels():\n",
    "    label.set_color('red')\n",
    "    label.set_rotation(45)\n",
    "    label.set_fontsize(16)\n",
    "plt.plot([1,2,3,4],[0,2,3,4], color=\"k\")"
   ]
  },
  {
   "cell_type": "markdown",
   "metadata": {},
   "source": [
    "# Further reading\n",
    "\n",
    "1. https://www.datacamp.com/community/tutorials/matplotlib-tutorial-python\n",
    "\n",
    "2. "
   ]
  },
  {
   "cell_type": "code",
   "execution_count": null,
   "metadata": {},
   "outputs": [],
   "source": []
  }
 ],
 "metadata": {
  "kernelspec": {
   "display_name": "Python 3",
   "language": "python",
   "name": "python3"
  },
  "language_info": {
   "codemirror_mode": {
    "name": "ipython",
    "version": 3
   },
   "file_extension": ".py",
   "mimetype": "text/x-python",
   "name": "python",
   "nbconvert_exporter": "python",
   "pygments_lexer": "ipython3",
   "version": "3.10.11"
  },
  "nav_menu": {},
  "toc": {
   "base_numbering": 1,
   "nav_menu": {},
   "number_sections": true,
   "sideBar": true,
   "skip_h1_title": false,
   "title_cell": "Table of Contents",
   "title_sidebar": "Contents",
   "toc_cell": false,
   "toc_position": {},
   "toc_section_display": "block",
   "toc_window_display": true
  },
  "varInspector": {
   "cols": {
    "lenName": 16,
    "lenType": 16,
    "lenVar": 40
   },
   "kernels_config": {
    "python": {
     "delete_cmd_postfix": "",
     "delete_cmd_prefix": "del ",
     "library": "var_list.py",
     "varRefreshCmd": "print(var_dic_list())"
    },
    "r": {
     "delete_cmd_postfix": ") ",
     "delete_cmd_prefix": "rm(",
     "library": "var_list.r",
     "varRefreshCmd": "cat(var_dic_list()) "
    }
   },
   "types_to_exclude": [
    "module",
    "function",
    "builtin_function_or_method",
    "instance",
    "_Feature"
   ],
   "window_display": false
  }
 },
 "nbformat": 4,
 "nbformat_minor": 2
}
