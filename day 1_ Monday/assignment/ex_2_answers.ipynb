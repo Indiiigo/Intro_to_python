{
 "cells": [
  {
   "cell_type": "markdown",
   "metadata": {
    "id": "SN-mb9j3Yc1X"
   },
   "source": [
    "# Exercise: Introduction to Python & Basic Concepts"
   ]
  },
  {
   "cell_type": "markdown",
   "metadata": {
    "id": "K8UhXKdwYc1b"
   },
   "source": [
    "## Dictionary Exercises 1"
   ]
  },
  {
   "cell_type": "markdown",
   "metadata": {
    "id": "vCY9U6Q2Yc1b"
   },
   "source": [
    "<a id=\"Exercises-nesting\"></a>\n",
    "#### Mountain Heights 3\n",
    "- This is an extension of [Mountain Heights](#exercise_mountain_heights). Make sure you save this program under a different filename, such as *mountain\\_heights_3.py*, so that you can go back to your original program if you need to.\n",
    "    - The list of [tallest mountains in the world](http://en.wikipedia.org/wiki/List_of_mountains_by_elevation) provided all elevations in meters. Convert each of these elevations to feet, given that a meter is approximately 3.28 feet. You can do these calculations by hand at this point.\n",
    "    - Create a new dictionary, where the keys of the dictionary are still the mountains' names. This time however, the values of the dictionary should be a list of each mountain's elevation in meters, and then in feet: {'everest': [8848, 29029]}\n",
    "    - Print out just the mountains' names, by looping through the keys of your dictionary.\n",
    "    - Print out just the mountains' elevations in meters, by looping through the values of your dictionary and pulling out the first number from each list.\n",
    "    - Print out just the mountains' elevations in feet, by looping through the values of your dictionary and pulling out the second number from each list.\n",
    "    - Print out a series of statements telling how tall each mountain is: \"Everest is 8848 meters tall, or 29029 feet.\"\n",
    "- Bonus:\n",
    "    - Start with your original program from [Mountain Heights](#exercise_mountain_heights). Write a function that reads through the elevations in meters, and returns a list of elevations in feet. Use this list to create the nested dictionary described above."
   ]
  },
  {
   "cell_type": "code",
   "execution_count": null,
   "metadata": {
    "id": "ubkwD2i09qKN"
   },
   "outputs": [],
   "source": [
    "mountain_dict = {\"Mount Everest\": 8448, \"K2\": 8611, \"Kanchenjunga\":8586, \"Lhotse\" : 8516, \"Cho Oyu\" : 8201}\n",
    "\n",
    "mountain_dict_2 = {}\n",
    "\n",
    "for mountain_name in mountain_dict:\n",
    "\tmountain_dict_2[mountain_name] = [mountain_dict[mountain_name], mountain_dict[mountain_name] * 3.82 ]\n",
    "\n",
    "# Print out just the mountains' names, by looping through the keys of your dictionary.\n",
    "\n",
    "for mountain_name in mountain_dict_2:\n",
    "\tprint(\"{} is a mountain.\".format(mountain_name))\n",
    "\n",
    "# Print out just the mountains' elevations in meters, by looping through the values of your dictionary and\n",
    "# pulling out the first number from each list.\n",
    "print()\n",
    "for mountain_height in mountain_dict_2.values():\n",
    "\tprint(\"{} is a mountain's height in meters.\".format(mountain_height[0]))\n",
    "\n",
    "# Print out just the mountains' elevations in feet, by looping through the values of your dictionary and\n",
    "# pulling out the second number from each list.\n",
    "print()\n",
    "for mountain_height in mountain_dict_2.values():\n",
    "\tprint(\"{} is a mountain's height in feet.\".format(mountain_height[1]))\n",
    "\n",
    "# Print out a series of statements telling how tall each mountain is: \"Everest is 8848 meters tall, or 29029 feet.\"\n",
    "print()\n",
    "for mountain_name in mountain_dict_2:\n",
    "\tprint(\"{} is {} meters tall, or {} feet tall.\".format(mountain_name, mountain_dict_2[mountain_name][0], mountain_dict_2[mountain_name][1]))"
   ]
  },
  {
   "cell_type": "markdown",
   "metadata": {
    "id": "drk1BMvSYc1c"
   },
   "source": [
    "## Dictionary Exercises 2"
   ]
  },
  {
   "cell_type": "markdown",
   "metadata": {
    "id": "u8IfFneKYc1c"
   },
   "source": [
    "#### Mountain Heights 4\n",
    "- This is one more extension of Mountain Heights.\n",
    "    - Create a new dictionary, where the keys of the dictionary are once again the mountains' names. This time, the values of the dictionary are another dictionary. This dictionary should contain the elevation in either meters or feet, and the range that contains the mountain. For example: {'everest': {'elevation': 8848, 'range': 'himalaya'}}.\n",
    "    - Print out just the mountains' names.\n",
    "    - Print out just the mountains' elevations.\n",
    "    - Print out just the range for each mountain.\n",
    "    - Print out a series of statements that say everything you know about each mountain: \"Everest is an 8848-meter tall mountain in the Himalaya range.\""
   ]
  },
  {
   "cell_type": "code",
   "execution_count": null,
   "metadata": {
    "id": "wPiWEzm1Yc1c"
   },
   "outputs": [],
   "source": [
    "mountain_dict = {\"Mount Everest\": {'elevation': 8848, 'range': 'himalaya'},\n",
    "\t\t\t\t \"K2\": {'elevation': 8611, 'range': 'himalaya'},\n",
    "\t\t\t\t \"Kanchenjunga\": {'elevation': 8586, 'range': 'hindu kush'},\n",
    "\t\t\t\t \"Lhotse\" : {'elevation': 8516, 'range': 'himalaya'},\n",
    "\t\t\t\t \"Cho Oyu\" : {'elevation': 8201, 'range': 'himalaya'}}\n",
    "\n",
    "\n",
    "# Print out just the mountains' names.\n",
    "\n",
    "for mountain_name in mountain_dict:\n",
    "\tprint(\"{} is a mountain.\".format(mountain_name))\n",
    "\n",
    "# Print out just the mountains' elevations.\n",
    "print()\n",
    "for mountain_name in mountain_dict:\n",
    "\tprint(\"{} is a mountain's elevation.\".format(mountain_dict[mountain_name]['elevation']))\n",
    "\n",
    "# Print out just the range for each mountain.\n",
    "print()\n",
    "for mountain_name in mountain_dict:\n",
    "\tprint(\"{} is a mountain's elevation.\".format(mountain_dict[mountain_name]['range']))\n",
    "\n",
    "# Print out a series of statements that say everything you know about each mountain: \"Everest is an 8848-meter tall mountain in the Himalaya range.\"\n",
    "print()\n",
    "for mountain_name in mountain_dict:\n",
    "\tprint(\"{} is a {}-meter tall mountain in the {} range.\".format(mountain_name, mountain_dict[mountain_name]['elevation'], mountain_dict[mountain_name]['range']))"
   ]
  }
 ],
 "metadata": {
  "colab": {
   "provenance": []
  },
  "kernelspec": {
   "display_name": "Python 3 (ipykernel)",
   "language": "python",
   "name": "python3"
  },
  "language_info": {
   "codemirror_mode": {
    "name": "ipython",
    "version": 3
   },
   "file_extension": ".py",
   "mimetype": "text/x-python",
   "name": "python",
   "nbconvert_exporter": "python",
   "pygments_lexer": "ipython3",
   "version": "3.11.5"
  },
  "toc": {
   "base_numbering": 1,
   "nav_menu": {},
   "number_sections": false,
   "sideBar": false,
   "skip_h1_title": true,
   "title_cell": "Table of Contents",
   "title_sidebar": "Contents",
   "toc_cell": false,
   "toc_position": {},
   "toc_section_display": false,
   "toc_window_display": false
  }
 },
 "nbformat": 4,
 "nbformat_minor": 1
}
