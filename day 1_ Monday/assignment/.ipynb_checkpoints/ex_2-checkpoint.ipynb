{
 "cells": [
  {
   "cell_type": "markdown",
   "metadata": {
    "id": "SN-mb9j3Yc1X"
   },
   "source": [
    "# Assignment 2: Python basics and programming fundamentals\n",
    "Indira Sen\n",
    "\n",
    "In this assignment we will practice how to use more advanced data structure like dictionaries."
   ]
  },
  {
   "cell_type": "markdown",
   "metadata": {
    "id": "K8UhXKdwYc1b"
   },
   "source": [
    "## Ex 1"
   ]
  },
  {
   "cell_type": "markdown",
   "metadata": {
    "id": "vCY9U6Q2Yc1b"
   },
   "source": [
    "<a id=\"Exercises-nesting\"></a>\n",
    "#### Mountain Heights 3\n",
    "- This is an extension of [Mountain Heights](#exercise_mountain_heights). Make sure you save this program under a different filename, such as *mountain\\_heights_3.py*, so that you can go back to your original program if you need to.\n",
    "\n",
    "A. The list of [tallest mountains in the world](http://en.wikipedia.org/wiki/List_of_mountains_by_elevation) provided all elevations in meters. Convert each of these elevations to feet, given that a meter is approximately 3.28 feet. You can do these calculations by hand at this point. (1 point)\n",
    "\n",
    "B. Create a new dictionary, where the keys of the dictionary are still the mountains' names. This time however, the values of the dictionary should be a list of each mountain's elevation in meters, and then in feet: {'everest': [8848, 29029]} (1 point)\n",
    "\n",
    "C. Print out just the mountains' names, by looping through the keys of your dictionary. (0.5 points)\n",
    "\n",
    "D. Print out just the mountains' elevations in meters, by looping through the values of your dictionary and pulling out the first number from each list. (0.5 points)\n",
    "\n",
    "E. Print out just the mountains' elevations in feet, by looping through the values of your dictionary and pulling out the second number from each list. (0.5 points)\n",
    "\n",
    "F. Print out a series of statements telling how tall each mountain is: \"Everest is 8848 meters tall, or 29029 feet.\" (1 point)\n",
    "\n",
    "G. Bonus: Start with your original program from [Mountain Heights](#exercise_mountain_heights). Write a function that reads through the elevations in meters, and returns a list of elevations in feet. Use this list to create the nested dictionary described above. (1 point)"
   ]
  },
  {
   "cell_type": "code",
   "execution_count": null,
   "metadata": {
    "id": "ubkwD2i09qKN"
   },
   "outputs": [],
   "source": []
  },
  {
   "cell_type": "markdown",
   "metadata": {
    "id": "drk1BMvSYc1c"
   },
   "source": [
    "## Ex 2"
   ]
  },
  {
   "cell_type": "markdown",
   "metadata": {
    "id": "u8IfFneKYc1c"
   },
   "source": [
    "#### Mountain Heights 4\n",
    "- This is one more extension of Mountain Heights.\n",
    "\n",
    "A. Create a new dictionary, where the keys of the dictionary are once again the mountains' names. This time, the values of the dictionary are another dictionary. This dictionary should contain the elevation in either meters or feet, and the range that contains the mountain. For example: {'everest': {'elevation': 8848, 'range': 'himalaya'}}. (2 points)\n",
    "\n",
    "B. Print out just the mountains' names. (0.5 points)\n",
    "\n",
    "C. Print out just the mountains' elevations. (0.5 points)\n",
    "\n",
    "D. Print out just the range for each mountain. (0.5 points)\n",
    "\n",
    "E. Print out a series of statements that say everything you know about each mountain: \"Everest is an 8848-meter tall mountain in the Himalaya range.\" (2 points)"
   ]
  },
  {
   "cell_type": "code",
   "execution_count": null,
   "metadata": {
    "id": "wPiWEzm1Yc1c"
   },
   "outputs": [],
   "source": []
  }
 ],
 "metadata": {
  "colab": {
   "provenance": []
  },
  "kernelspec": {
   "display_name": "Python 3 (ipykernel)",
   "language": "python",
   "name": "python3"
  },
  "language_info": {
   "codemirror_mode": {
    "name": "ipython",
    "version": 3
   },
   "file_extension": ".py",
   "mimetype": "text/x-python",
   "name": "python",
   "nbconvert_exporter": "python",
   "pygments_lexer": "ipython3",
   "version": "3.11.5"
  },
  "toc": {
   "base_numbering": 1,
   "nav_menu": {},
   "number_sections": false,
   "sideBar": false,
   "skip_h1_title": true,
   "title_cell": "Table of Contents",
   "title_sidebar": "Contents",
   "toc_cell": false,
   "toc_position": {},
   "toc_section_display": false,
   "toc_window_display": false
  }
 },
 "nbformat": 4,
 "nbformat_minor": 1
}
