{
 "cells": [
  {
   "cell_type": "markdown",
   "metadata": {
    "id": "wz92VLHQWCmN",
    "toc": true
   },
   "source": [
    "<h1>Table of Contents<span class=\"tocSkip\"></span></h1>\n",
    "<div class=\"toc\"><ul class=\"toc-item\"><li><span><a href=\"#Lists-and-Tuples\" data-toc-modified-id=\"Lists-and-Tuples-1\"><span class=\"toc-item-num\">1&nbsp;&nbsp;</span>Lists and Tuples</a></span></li><li><span><a href=\"#Introducing-Lists\" data-toc-modified-id=\"Introducing-Lists-2\"><span class=\"toc-item-num\">2&nbsp;&nbsp;</span>Introducing Lists</a></span><ul class=\"toc-item\"><li><span><a href=\"#Example\" data-toc-modified-id=\"Example-2.1\"><span class=\"toc-item-num\">2.1&nbsp;&nbsp;</span>Example</a></span></li><li><span><a href=\"#Naming-and-defining-a-list\" data-toc-modified-id=\"Naming-and-defining-a-list-2.2\"><span class=\"toc-item-num\">2.2&nbsp;&nbsp;</span>Naming and defining a list</a></span></li><li><span><a href=\"#Accessing-one-item-in-a-list\" data-toc-modified-id=\"Accessing-one-item-in-a-list-2.3\"><span class=\"toc-item-num\">2.3&nbsp;&nbsp;</span>Accessing one item in a list</a></span><ul class=\"toc-item\"><li><span><a href=\"#Accessing-the-last-items-in-a-list\" data-toc-modified-id=\"Accessing-the-last-items-in-a-list-2.3.1\"><span class=\"toc-item-num\">2.3.1&nbsp;&nbsp;</span>Accessing the last items in a list</a></span></li></ul></li><li><span><a href=\"#Exercises\" data-toc-modified-id=\"Exercises-2.4\"><span class=\"toc-item-num\">2.4&nbsp;&nbsp;</span>Exercises</a></span><ul class=\"toc-item\"><li><ul class=\"toc-item\"><li><span><a href=\"#First-Neat-List\" data-toc-modified-id=\"First-Neat-List-2.4.0.1\"><span class=\"toc-item-num\">2.4.0.1&nbsp;&nbsp;</span>First Neat List</a></span></li><li><span><a href=\"#Your-First-List\" data-toc-modified-id=\"Your-First-List-2.4.0.2\"><span class=\"toc-item-num\">2.4.0.2&nbsp;&nbsp;</span>Your First List</a></span></li></ul></li></ul></li></ul></li><li><span><a href=\"#Lists-and-Looping\" data-toc-modified-id=\"Lists-and-Looping-3\"><span class=\"toc-item-num\">3&nbsp;&nbsp;</span>Lists and Looping</a></span><ul class=\"toc-item\"><li><span><a href=\"#Accessing-all-elements-in-a-list\" data-toc-modified-id=\"Accessing-all-elements-in-a-list-3.1\"><span class=\"toc-item-num\">3.1&nbsp;&nbsp;</span>Accessing all elements in a list</a></span><ul class=\"toc-item\"><li><span><a href=\"#Doing-more-with-each-item\" data-toc-modified-id=\"Doing-more-with-each-item-3.1.1\"><span class=\"toc-item-num\">3.1.1&nbsp;&nbsp;</span>Doing more with each item</a></span></li><li><span><a href=\"#Inside-and-outside-the-loop\" data-toc-modified-id=\"Inside-and-outside-the-loop-3.1.2\"><span class=\"toc-item-num\">3.1.2&nbsp;&nbsp;</span>Inside and outside the loop</a></span></li></ul></li><li><span><a href=\"#Enumerating-a-list\" data-toc-modified-id=\"Enumerating-a-list-3.2\"><span class=\"toc-item-num\">3.2&nbsp;&nbsp;</span>Enumerating a list</a></span><ul class=\"toc-item\"><li><span><a href=\"#A-common-looping-error\" data-toc-modified-id=\"A-common-looping-error-3.2.1\"><span class=\"toc-item-num\">3.2.1&nbsp;&nbsp;</span>A common looping error</a></span></li><li><span><a href=\"#Strings-as-lists\" data-toc-modified-id=\"Strings-as-lists-3.2.2\"><span class=\"toc-item-num\">3.2.2&nbsp;&nbsp;</span>Strings as lists</a></span></li></ul></li><li><span><a href=\"#Exercises\" data-toc-modified-id=\"Exercises-3.3\"><span class=\"toc-item-num\">3.3&nbsp;&nbsp;</span>Exercises</a></span><ul class=\"toc-item\"><li><ul class=\"toc-item\"><li><span><a href=\"#First-Neat-List---Loop\" data-toc-modified-id=\"First-Neat-List---Loop-3.3.0.1\"><span class=\"toc-item-num\">3.3.0.1&nbsp;&nbsp;</span>First Neat List - Loop</a></span></li><li><span><a href=\"#Your-First-List---Loop\" data-toc-modified-id=\"Your-First-List---Loop-3.3.0.2\"><span class=\"toc-item-num\">3.3.0.2&nbsp;&nbsp;</span>Your First List - Loop</a></span></li></ul></li></ul></li></ul></li><li><span><a href=\"#Common-List-Operations\" data-toc-modified-id=\"Common-List-Operations-4\"><span class=\"toc-item-num\">4&nbsp;&nbsp;</span>Common List Operations</a></span><ul class=\"toc-item\"><li><span><a href=\"#Modifying-elements-in-a-list\" data-toc-modified-id=\"Modifying-elements-in-a-list-4.1\"><span class=\"toc-item-num\">4.1&nbsp;&nbsp;</span>Modifying elements in a list</a></span></li><li><span><a href=\"#Finding-an-element-in-a-list\" data-toc-modified-id=\"Finding-an-element-in-a-list-4.2\"><span class=\"toc-item-num\">4.2&nbsp;&nbsp;</span>Finding an element in a list</a></span></li><li><span><a href=\"#Testing-whether-an-item-is-in-a-list\" data-toc-modified-id=\"Testing-whether-an-item-is-in-a-list-4.3\"><span class=\"toc-item-num\">4.3&nbsp;&nbsp;</span>Testing whether an item is in a list</a></span></li><li><span><a href=\"#Adding-items-to-a-list\" data-toc-modified-id=\"Adding-items-to-a-list-4.4\"><span class=\"toc-item-num\">4.4&nbsp;&nbsp;</span>Adding items to a list</a></span><ul class=\"toc-item\"><li><span><a href=\"#Appending-items-to-the-end-of-a-list\" data-toc-modified-id=\"Appending-items-to-the-end-of-a-list-4.4.1\"><span class=\"toc-item-num\">4.4.1&nbsp;&nbsp;</span>Appending items to the end of a list</a></span></li><li><span><a href=\"#Inserting-items-into-a-list\" data-toc-modified-id=\"Inserting-items-into-a-list-4.4.2\"><span class=\"toc-item-num\">4.4.2&nbsp;&nbsp;</span>Inserting items into a list</a></span></li><li><span><a href=\"#Replacing-items-in-a-list\" data-toc-modified-id=\"Replacing-items-in-a-list-4.4.3\"><span class=\"toc-item-num\">4.4.3&nbsp;&nbsp;</span>Replacing items in a list</a></span></li></ul></li><li><span><a href=\"#Creating-an-empty-list\" data-toc-modified-id=\"Creating-an-empty-list-4.5\"><span class=\"toc-item-num\">4.5&nbsp;&nbsp;</span>Creating an empty list</a></span></li><li><span><a href=\"#Sorting-a-List\" data-toc-modified-id=\"Sorting-a-List-4.6\"><span class=\"toc-item-num\">4.6&nbsp;&nbsp;</span>Sorting a List</a></span><ul class=\"toc-item\"><li><span><a href=\"#sorted()-vs.-sort()\" data-toc-modified-id=\"sorted()-vs.-sort()-4.6.1\"><span class=\"toc-item-num\">4.6.1&nbsp;&nbsp;</span><em>sorted()</em> vs. <em>sort()</em></a></span></li></ul></li></ul></li><li><span><a href=\"#OPTIONAL\" data-toc-modified-id=\"OPTIONAL-5\"><span class=\"toc-item-num\">5&nbsp;&nbsp;</span>OPTIONAL</a></span></li><li><span><a href=\"#Tuples\" data-toc-modified-id=\"Tuples-6\"><span class=\"toc-item-num\">6&nbsp;&nbsp;</span>Tuples</a></span><ul class=\"toc-item\"><li><span><a href=\"#Defining-tuples,-and-accessing-elements\" data-toc-modified-id=\"Defining-tuples,-and-accessing-elements-6.1\"><span class=\"toc-item-num\">6.1&nbsp;&nbsp;</span>Defining tuples, and accessing elements</a></span></li></ul></li><li><span><a href=\"#Sets\" data-toc-modified-id=\"Sets-7\"><span class=\"toc-item-num\">7&nbsp;&nbsp;</span>Sets</a></span></li><li><span><a href=\"#License\" data-toc-modified-id=\"License-8\"><span class=\"toc-item-num\">8&nbsp;&nbsp;</span>License</a></span></li></ul></div>"
   ]
  },
  {
   "cell_type": "markdown",
   "metadata": {
    "id": "I99AuMEIWCmS"
   },
   "source": [
    "This lecture is adapted from the great 'Introduction to Python' course from Eric Matthes (http://introtopython.org/)\n",
    "and, like the original, is available under a [MIT license](#License)."
   ]
  },
  {
   "cell_type": "markdown",
   "metadata": {
    "id": "T8ybcLeCWCmT"
   },
   "source": [
    "Lists and Tuples\n",
    "===\n",
    "In this notebook, you will learn to store more than one value in a single variable. This by itself is one of the most powerful ideas in programming, and it introduces a number of other central concepts such as loops. If this section ends up making sense to you, you will be able to start writing some interesting programs, and you can be more confident that you will be able to develop overall competence as a programmer."
   ]
  },
  {
   "cell_type": "markdown",
   "metadata": {
    "id": "Vmbaf3feWCmT"
   },
   "source": [
    "Introducing Lists\n",
    "===\n",
    "Example\n",
    "---\n",
    "Lists are the most commonly used data structure. It represents an ordered, modifiable set of objects.\n",
    "Lists are written as sequences of data, separated by a comma and enclosed in square brackets.\n",
    "\n",
    "Lists are declared by just equating a variable to '[ ]' or list."
   ]
  },
  {
   "cell_type": "code",
   "execution_count": 1,
   "metadata": {
    "id": "pkvFJjFGWCmU"
   },
   "outputs": [],
   "source": [
    "list_1 = []\n",
    "\n",
    "# a list with integer objects\n",
    "list_2 = [3, 5, 7, 9]\n",
    "\n",
    "# a list of strings\n",
    "list_3 = ['Monday', 'Tuesday', 'Wednesday',\n",
    "          'Thursday', 'Friday', 'Saturday', 'Sunday']\n",
    "\n",
    "# a list of mixed types\n",
    "list_4 = [2, 5, \"Elephant\", 6, 8.2, True]"
   ]
  },
  {
   "cell_type": "code",
   "execution_count": 2,
   "metadata": {
    "id": "r8O6Bx5pWCmW"
   },
   "outputs": [
    {
     "name": "stdout",
     "output_type": "stream",
     "text": [
      "[2, 5, 'Elephant', 6, 8.2, True]\n"
     ]
    }
   ],
   "source": [
    "print(list_4)"
   ]
  },
  {
   "cell_type": "code",
   "execution_count": 3,
   "metadata": {},
   "outputs": [
    {
     "data": {
      "text/plain": [
       "[2, 5, 'Elephant', 6, 8.2, True]"
      ]
     },
     "execution_count": 3,
     "metadata": {},
     "output_type": "execute_result"
    }
   ],
   "source": [
    "list_4"
   ]
  },
  {
   "cell_type": "markdown",
   "metadata": {
    "id": "xlIsjtCuWCmW"
   },
   "source": [
    "Naming and defining a list\n",
    "---\n",
    "Since lists are collection of objects, it is good practice to give them a plural name. If each item in your list is a car, call the list 'cars'. If each item is a dog, call your list 'dogs'. This gives you a straightforward way to refer to the entire list ('dogs'), and to a single item in the list ('dog').\n",
    "\n",
    "In Python, square brackets designate a list. To define a list, you give the name of the list, the equals sign, and the values you want to include in your list within square brackets."
   ]
  },
  {
   "cell_type": "code",
   "execution_count": 6,
   "metadata": {
    "id": "qCisdYC3WCmW"
   },
   "outputs": [],
   "source": [
    "dogs = ['border collie', 'australian cattle dog', 'labrador retriever']"
   ]
  },
  {
   "cell_type": "code",
   "execution_count": 7,
   "metadata": {},
   "outputs": [
    {
     "data": {
      "text/plain": [
       "list"
      ]
     },
     "execution_count": 7,
     "metadata": {},
     "output_type": "execute_result"
    }
   ],
   "source": [
    "type(dogs)"
   ]
  },
  {
   "cell_type": "code",
   "execution_count": 8,
   "metadata": {},
   "outputs": [
    {
     "data": {
      "text/plain": [
       "['border collie', 'australian cattle dog', 'labrador retriever']"
      ]
     },
     "execution_count": 8,
     "metadata": {},
     "output_type": "execute_result"
    }
   ],
   "source": [
    "dogs"
   ]
  },
  {
   "cell_type": "markdown",
   "metadata": {
    "id": "pEVpOYmqWCmX"
   },
   "source": [
    "Accessing one item in a list\n",
    "---\n",
    "Items in a list are identified by their position in the list, starting with zero. This will almost certainly trip you up at some point. Programmers even joke about how often we all make \"off-by-one\" errors, so don't feel bad when you make this kind of error.\n",
    "\n",
    "To access the first element in a list, you give the name of the list, followed by a zero in square brackets."
   ]
  },
  {
   "cell_type": "code",
   "execution_count": 9,
   "metadata": {
    "id": "wMiZ_bT7WCmX"
   },
   "outputs": [
    {
     "name": "stdout",
     "output_type": "stream",
     "text": [
      "australian cattle dog\n"
     ]
    }
   ],
   "source": [
    "dogs = ['border collie', 'australian cattle dog', 'labrador retriever']\n",
    "print(dogs[1])"
   ]
  },
  {
   "cell_type": "code",
   "execution_count": 10,
   "metadata": {
    "id": "O4Ad_df-WCmY"
   },
   "outputs": [
    {
     "name": "stdout",
     "output_type": "stream",
     "text": [
      "border collie\n"
     ]
    }
   ],
   "source": [
    "print(dogs[0])"
   ]
  },
  {
   "cell_type": "code",
   "execution_count": 11,
   "metadata": {
    "id": "9CShKRNCWCmY"
   },
   "outputs": [
    {
     "name": "stdout",
     "output_type": "stream",
     "text": [
      "labrador retriever\n"
     ]
    }
   ],
   "source": [
    "print(dogs[2])"
   ]
  },
  {
   "cell_type": "markdown",
   "metadata": {
    "id": "wAmKk1iwWCmY"
   },
   "source": [
    "The number in parentheses is called the **index** of the item. Because lists start at zero, the index of an item is always one less than its position in the list. So to get the second item in the list, we need to use an index of 1."
   ]
  },
  {
   "cell_type": "code",
   "execution_count": 12,
   "metadata": {
    "id": "6HW1GYdVWCmZ"
   },
   "outputs": [
    {
     "name": "stdout",
     "output_type": "stream",
     "text": [
      "australian cattle dog\n"
     ]
    }
   ],
   "source": [
    "dogs = ['border collie', 'australian cattle dog', 'labrador retriever']\n",
    "\n",
    "dog = dogs[1]\n",
    "print(dog)"
   ]
  },
  {
   "cell_type": "markdown",
   "metadata": {
    "id": "fUtLCJASWCmZ"
   },
   "source": [
    "### Accessing the last items in a list\n",
    "You can probably see that to get the last item in this list, we would use an index of 2. This works, but it would only work because our list has exactly three items. To get the last item in a list, no matter how long the list is, you can use an index of -1."
   ]
  },
  {
   "cell_type": "code",
   "execution_count": 13,
   "metadata": {
    "id": "6L1DjnSVWCmZ"
   },
   "outputs": [
    {
     "name": "stdout",
     "output_type": "stream",
     "text": [
      "labrador retriever\n"
     ]
    }
   ],
   "source": [
    "\n",
    "dogs = ['border collie', 'australian cattle dog', 'labrador retriever']\n",
    "\n",
    "dog = dogs[-1]\n",
    "print(dog)"
   ]
  },
  {
   "cell_type": "markdown",
   "metadata": {
    "id": "RAVxAqXkWCma"
   },
   "source": [
    "This syntax also works for the second to last item, the third to last, and so forth."
   ]
  },
  {
   "cell_type": "code",
   "execution_count": 14,
   "metadata": {
    "id": "mex_ZloHWCma"
   },
   "outputs": [
    {
     "name": "stdout",
     "output_type": "stream",
     "text": [
      "australian cattle dog\n"
     ]
    }
   ],
   "source": [
    "\n",
    "dogs = ['border collie', 'australian cattle dog', 'labrador retriever']\n",
    "\n",
    "dog = dogs[-2]\n",
    "print(dog)"
   ]
  },
  {
   "cell_type": "markdown",
   "metadata": {
    "id": "xEQKq77LWCma"
   },
   "source": [
    "You can't use a negative number larger than the length of the list, however."
   ]
  },
  {
   "cell_type": "code",
   "execution_count": 15,
   "metadata": {
    "id": "QBRhzL5dWCma",
    "scrolled": true
   },
   "outputs": [
    {
     "ename": "IndexError",
     "evalue": "list index out of range",
     "output_type": "error",
     "traceback": [
      "\u001b[1;31m---------------------------------------------------------------------------\u001b[0m",
      "\u001b[1;31mIndexError\u001b[0m                                Traceback (most recent call last)",
      "Cell \u001b[1;32mIn[15], line 3\u001b[0m\n\u001b[0;32m      1\u001b[0m dogs \u001b[38;5;241m=\u001b[39m [\u001b[38;5;124m'\u001b[39m\u001b[38;5;124mborder collie\u001b[39m\u001b[38;5;124m'\u001b[39m, \u001b[38;5;124m'\u001b[39m\u001b[38;5;124maustralian cattle dog\u001b[39m\u001b[38;5;124m'\u001b[39m, \u001b[38;5;124m'\u001b[39m\u001b[38;5;124mlabrador retriever\u001b[39m\u001b[38;5;124m'\u001b[39m]\n\u001b[1;32m----> 3\u001b[0m dog \u001b[38;5;241m=\u001b[39m dogs[\u001b[38;5;241m-\u001b[39m\u001b[38;5;241m4\u001b[39m]\n\u001b[0;32m      4\u001b[0m \u001b[38;5;28mprint\u001b[39m(dog)\n",
      "\u001b[1;31mIndexError\u001b[0m: list index out of range"
     ]
    }
   ],
   "source": [
    "dogs = ['border collie', 'australian cattle dog', 'labrador retriever']\n",
    "\n",
    "dog = dogs[-4]\n",
    "print(dog)"
   ]
  },
  {
   "cell_type": "markdown",
   "metadata": {
    "id": "6Au69ZT4WCmb"
   },
   "source": [
    "[top](#)"
   ]
  },
  {
   "cell_type": "markdown",
   "metadata": {
    "id": "qYQRbAk1WCmb"
   },
   "source": [
    "<a id=\"Exercises-lists\"></a>\n",
    "Exercises\n",
    "---\n",
    "\n",
    "#### First Neat List\n",
    "- Store the values 'python', 'c', and 'java' in a list. Print a statement about each of these values, using their position in the list.\n",
    "- Your statement could simply be, 'A nice programming language is *value*.'\n",
    "\n",
    "#### Your First List\n",
    "- Think of something you can store in a list. Make a list with three or four items, and then print a message that includes at least one item from your list. Your sentence could be as simple as, \"One item in my list is a ____.\""
   ]
  },
  {
   "cell_type": "code",
   "execution_count": 29,
   "metadata": {},
   "outputs": [
    {
     "name": "stdout",
     "output_type": "stream",
     "text": [
      "A nice programming language is python\n"
     ]
    }
   ],
   "source": [
    "langs = ['python', 'c', 'java', 'c++']\n",
    "print('A nice programming language is {}'.format(langs[0]))"
   ]
  },
  {
   "cell_type": "code",
   "execution_count": 30,
   "metadata": {},
   "outputs": [
    {
     "name": "stdout",
     "output_type": "stream",
     "text": [
      "A nice programming language is java\n"
     ]
    }
   ],
   "source": [
    "print('A nice programming language is ' + langs[2])"
   ]
  },
  {
   "cell_type": "code",
   "execution_count": 31,
   "metadata": {},
   "outputs": [
    {
     "name": "stdout",
     "output_type": "stream",
     "text": [
      "A nice programming language is java\n"
     ]
    }
   ],
   "source": [
    "print('A nice programming language is ' + langs[-2])"
   ]
  },
  {
   "cell_type": "code",
   "execution_count": null,
   "metadata": {
    "id": "wN49Xk5qWCmb"
   },
   "outputs": [],
   "source": [
    "# %load \"12_lists_tuples-1_ex1_1.py\""
   ]
  },
  {
   "cell_type": "markdown",
   "metadata": {
    "id": "_IWbXNpiWCmb"
   },
   "source": [
    "[top](#)"
   ]
  },
  {
   "cell_type": "markdown",
   "metadata": {
    "id": "jxTKr7TMWCmb"
   },
   "source": [
    "Lists and Looping\n",
    "==="
   ]
  },
  {
   "cell_type": "markdown",
   "metadata": {
    "id": "xH4wnK4LWCmb"
   },
   "source": [
    "Accessing all elements in a list\n",
    "---\n",
    "This is one of the most important concepts related to lists. You can have a list with a million items in it, and in three lines of code you can write a sentence for each of those million items. If you want to understand lists, and become a competent programmer, make sure you take the time to understand this section.\n",
    "\n",
    "We use a loop to access all the elements in a list. A loop is a block of code that repeats itself until it runs out of items to work with, or until a certain condition is met. In this case, our loop will run once for every item in our list. With a list that is three items long, our loop will run three times.\n",
    "\n",
    "Loops reference: http://elbo.gs.washington.edu/courses/GS_559_11_wi/slides/5B-For_loops.pdf\n",
    "\n",
    "Let's take a look at how we access all the items in a list, and then try to understand how it works."
   ]
  },
  {
   "cell_type": "code",
   "execution_count": 32,
   "metadata": {
    "id": "TKEds_1QWCmc"
   },
   "outputs": [
    {
     "name": "stdout",
     "output_type": "stream",
     "text": [
      "border collie\n",
      "australian cattle dog\n",
      "labrador retriever\n"
     ]
    }
   ],
   "source": [
    "dogs = ['border collie', 'australian cattle dog', 'labrador retriever']\n",
    "\n",
    "for dog in dogs:\n",
    "    print(dog)"
   ]
  },
  {
   "cell_type": "code",
   "execution_count": 36,
   "metadata": {},
   "outputs": [
    {
     "name": "stdout",
     "output_type": "stream",
     "text": [
      "border collie\n",
      "hi\n",
      "australian cattle dog\n",
      "hi\n",
      "labrador retriever\n",
      "hi\n",
      "hello\n"
     ]
    }
   ],
   "source": [
    "for dog in dogs:\n",
    "    print(dog)\n",
    "    print('hi')\n",
    "print('hello')"
   ]
  },
  {
   "cell_type": "markdown",
   "metadata": {
    "id": "xvP6jNiLWCmc"
   },
   "source": [
    "We have already seen how to create a list, so we are really just trying to understand how the last two lines work. These last two lines make up a loop, and the language here can help us see what is happening:\n",
    "\n",
    "    for dog in dogs:\n",
    "\n",
    "- The keyword \"for\" tells Python to get ready to use a loop.\n",
    "- The variable \"dog\", with no \"s\" on it, is a temporary placeholder variable. This is the variable that Python will place each item in the list into, one at a time.\n",
    "- The first time through the loop, the value of \"dog\" will be 'border collie'.\n",
    "- The second time through the loop, the value of \"dog\" will be 'australian cattle dog'.\n",
    "- The third time through, \"dog\" will be 'labrador retriever'.\n",
    "- After this, there are no more items in the list, and the loop will end.\n",
    "\n",
    "The site <a href=\"http://pythontutor.com/visualize.html#code=dogs+%3D+%5B'border+collie',+'australian+cattle+dog',+'labrador+retriever'%5D%0A%0Afor+dog+in+dogs%3A%0A++++print(dog)&mode=display&cumulative=false&heapPrimitives=false&drawParentPointers=false&textReferences=false&showOnlyOutputs=false&py=3&curInstr=0\">pythontutor.com</a> allows you to run Python code one line at a time. As you run the code, there is also a visualization on the screen that shows you how the variable \"dog\" holds different values as the loop progresses. There is also an arrow that moves around your code, showing you how some lines are run just once, while other lines are run multiple tiimes. If you would like to see this in action, click the Forward button and watch the visualization, and the output as it is printed to the screen. Tools like this are incredibly valuable for seeing what Python is doing with your code.\n",
    "\n",
    "### Doing more with each item\n",
    "\n",
    "We can do whatever we want with the value of \"dog\" inside the loop. In this case, we just print the name of the dog.\n",
    "\n",
    "    print(dog)\n",
    "\n",
    "We are not limited to just printing the word dog. We can do whatever we want with this value, and this action will be carried out for every item in the list. Let's say something about each dog in our list."
   ]
  },
  {
   "cell_type": "code",
   "execution_count": 49,
   "metadata": {
    "id": "XLcvbO0BWCmc"
   },
   "outputs": [
    {
     "name": "stdout",
     "output_type": "stream",
     "text": [
      "border\n",
      "australian\n",
      "labrador\n",
      "poodle\n"
     ]
    }
   ],
   "source": [
    "\n",
    "dogs = [['border collie'], 'australian cattle dog', 'labrador retriever', 'poodle']\n",
    "dogs2 = [['border', 'collie'],\n",
    "         ['australian', 'cattle', 'dog'],\n",
    "         ['labrador', 'retriever'],\n",
    "         ['poodle']]\n",
    "\n",
    "for cat in dogs2:\n",
    "    # print(cat)\n",
    "    print(cat[0])"
   ]
  },
  {
   "cell_type": "markdown",
   "metadata": {
    "id": "RgycK9u2WCmc"
   },
   "source": [
    "Visualize this on <a href=\"http://pythontutor.com/visualize.html#code=dogs+%3D+%5B'border+collie',+'australian+cattle+dog',+'labrador+retriever'%5D%0A%0Afor+dog+in+dogs%3A%0A++++print('I+like+'+%2B+dog+%2B+'s.')&mode=display&cumulative=false&heapPrimitives=false&drawParentPointers=false&textReferences=false&showOnlyOutputs=false&py=3&curInstr=0\">pythontutor</a>.\n",
    "\n",
    "### Inside and outside the loop\n",
    "\n",
    "Python uses indentation to decide what is inside the loop and what is outside the loop. Code that is inside the loop will be run for every item in the list. Code that is not indented, which comes after the loop, will be run once just like regular code."
   ]
  },
  {
   "cell_type": "code",
   "execution_count": 39,
   "metadata": {
    "id": "U0cWPc8pWCmc"
   },
   "outputs": [
    {
     "name": "stdout",
     "output_type": "stream",
     "text": [
      "I like border collies.\n",
      "No, I really really like border collies!\n",
      "\n",
      "I like australian cattle dogs.\n",
      "No, I really really like australian cattle dogs!\n",
      "\n",
      "I like labrador retrievers.\n",
      "No, I really really like labrador retrievers!\n",
      "\n",
      "\n",
      "That's just how I feel about dogs.\n"
     ]
    }
   ],
   "source": [
    "\n",
    "dogs = ['border collie', 'australian cattle dog', 'labrador retriever']\n",
    "\n",
    "for dog in dogs:\n",
    "    print('I like ' + dog + 's.')\n",
    "    print('No, I really really like ' + dog +'s!\\n')\n",
    "\n",
    "print(\"\\nThat's just how I feel about dogs.\")"
   ]
  },
  {
   "cell_type": "markdown",
   "metadata": {
    "id": "zNYiEkxsWCmc"
   },
   "source": [
    "Notice that the last line only runs once, after the loop is completed. Also notice the use of newlines (\"\\n\") to make the output easier to read. Run this code on <a href=\"http://pythontutor.com/visualize.html#code=dogs+%3D+%5B'border+collie',+'australian+cattle+dog',+'labrador+retriever'%5D%0A%0Afor+dog+in+dogs%3A%0A++++print('I+like+'+%2B+dog+%2B+'s.')%0A++++print('No,+I+really+really+like+'+%2B+dog+%2B's!%5Cn')%0A++++%0Aprint(%22%5CnThat's+just+how+I+feel+about+dogs.%22)&mode=display&cumulative=false&heapPrimitives=false&drawParentPointers=false&textReferences=false&showOnlyOutputs=false&py=3&curInstr=0\">pythontutor</a>."
   ]
  },
  {
   "cell_type": "markdown",
   "metadata": {
    "id": "4q0C_IqyWCmd"
   },
   "source": [
    "[top](#)"
   ]
  },
  {
   "cell_type": "markdown",
   "metadata": {
    "id": "xDrRoN9eWCmd"
   },
   "source": [
    "Enumerating a list\n",
    "---\n",
    "When you are looping through a list, you may want to know the index of the current item. You could always use the *list.index(value)* syntax, but there is a simpler way. The *enumerate()* function tracks the index of each item for you, as it loops through the list:"
   ]
  },
  {
   "cell_type": "code",
   "execution_count": 50,
   "metadata": {},
   "outputs": [
    {
     "name": "stdout",
     "output_type": "stream",
     "text": [
      "['border collie']\n",
      "australian cattle dog\n",
      "labrador retriever\n",
      "poodle\n"
     ]
    }
   ],
   "source": [
    "for dog in dogs:\n",
    "    print(dog)"
   ]
  },
  {
   "cell_type": "code",
   "execution_count": 51,
   "metadata": {},
   "outputs": [],
   "source": [
    "dogs = ['border collie', 'australian cattle dog', 'labrador retriever']"
   ]
  },
  {
   "cell_type": "code",
   "execution_count": null,
   "metadata": {},
   "outputs": [],
   "source": [
    "0, border\n",
    "1, aust\n",
    "2, labrad"
   ]
  },
  {
   "cell_type": "code",
   "execution_count": 54,
   "metadata": {
    "id": "SJhkFZSQWCmd"
   },
   "outputs": [
    {
     "name": "stdout",
     "output_type": "stream",
     "text": [
      "Results for the dog show are as follows:\n",
      "\n",
      "Place: 0 Dog: border collie\n",
      "Place: 0 Dog: border collie\n",
      "Place: 1 Dog: australian cattle dog\n",
      "Place: 1 Dog: australian cattle dog\n",
      "Place: 2 Dog: labrador retriever\n",
      "Place: 2 Dog: labrador retriever\n"
     ]
    }
   ],
   "source": [
    "dogs = ['border collie', 'australian cattle dog', 'labrador retriever']\n",
    "\n",
    "print(\"Results for the dog show are as follows:\\n\")\n",
    "for index, dog in enumerate(dogs):\n",
    "    place = str(index)\n",
    "    print(\"Place: {} Dog: {}\".format(index, dog))\n",
    "    print(\"Place: \" + place + \" Dog: \" + dog)"
   ]
  },
  {
   "cell_type": "markdown",
   "metadata": {
    "id": "vAjrr1CJWCmd"
   },
   "source": [
    "To enumerate a list, you need to add an *index* variable to hold the current index. So instead of\n",
    "\n",
    "    for dog in dogs:\n",
    "    \n",
    "You have\n",
    "\n",
    "    for index, dog in enumerate(dogs)\n",
    "    \n",
    "The value in the variable *index* is always an integer. If you want to print it in a string, you have to turn the integer into a string:\n",
    "\n",
    "    str(index)\n",
    "    \n",
    "The index always starts at 0, so in this example the value of *place* should actually be the current index, plus one:"
   ]
  },
  {
   "cell_type": "code",
   "execution_count": 55,
   "metadata": {
    "id": "wEI9PkzoWCmd"
   },
   "outputs": [
    {
     "name": "stdout",
     "output_type": "stream",
     "text": [
      "Results for the dog show are as follows:\n",
      "\n",
      "Place: 1 Dog: border collie\n",
      "Place: 2 Dog: australian cattle dog\n",
      "Place: 3 Dog: labrador retriever\n"
     ]
    }
   ],
   "source": [
    "\n",
    "dogs = ['border collie', 'australian cattle dog', 'labrador retriever']\n",
    "\n",
    "print(\"Results for the dog show are as follows:\\n\")\n",
    "for index, dog in enumerate(dogs):\n",
    "    place = str(index + 1)\n",
    "    print(\"Place: \" + place + \" Dog: \" + dog)"
   ]
  },
  {
   "cell_type": "markdown",
   "metadata": {
    "id": "JgJR6R8xWCme"
   },
   "source": [
    "### A common looping error\n",
    "One common looping error occurs when instead of using the single variable *dog* inside the loop, we accidentally use the variable that holds the entire list:"
   ]
  },
  {
   "cell_type": "code",
   "execution_count": 56,
   "metadata": {
    "id": "8E6vxk9iWCme"
   },
   "outputs": [
    {
     "name": "stdout",
     "output_type": "stream",
     "text": [
      "['border collie', 'australian cattle dog', 'labrador retriever']\n",
      "['border collie', 'australian cattle dog', 'labrador retriever']\n",
      "['border collie', 'australian cattle dog', 'labrador retriever']\n"
     ]
    }
   ],
   "source": [
    "\n",
    "dogs = ['border collie', 'australian cattle dog', 'labrador retriever']\n",
    "\n",
    "for dog in dogs:\n",
    "    print(dogs)"
   ]
  },
  {
   "cell_type": "markdown",
   "metadata": {
    "id": "NMK6Il0VWCmq"
   },
   "source": [
    "In this example, instead of printing each dog in the list, we print the entire list every time we go through the loop. Python puts each individual item in the list into the variable *dog*, but we never use that variable. Sometimes you will just get an error if you try to do this:"
   ]
  },
  {
   "cell_type": "code",
   "execution_count": 57,
   "metadata": {
    "id": "LPPmjyLsWCmq"
   },
   "outputs": [
    {
     "ename": "TypeError",
     "evalue": "can only concatenate str (not \"list\") to str",
     "output_type": "error",
     "traceback": [
      "\u001b[1;31m---------------------------------------------------------------------------\u001b[0m",
      "\u001b[1;31mTypeError\u001b[0m                                 Traceback (most recent call last)",
      "Cell \u001b[1;32mIn[57], line 4\u001b[0m\n\u001b[0;32m      1\u001b[0m dogs \u001b[38;5;241m=\u001b[39m [\u001b[38;5;124m'\u001b[39m\u001b[38;5;124mborder collie\u001b[39m\u001b[38;5;124m'\u001b[39m, \u001b[38;5;124m'\u001b[39m\u001b[38;5;124maustralian cattle dog\u001b[39m\u001b[38;5;124m'\u001b[39m, \u001b[38;5;124m'\u001b[39m\u001b[38;5;124mlabrador retriever\u001b[39m\u001b[38;5;124m'\u001b[39m]\n\u001b[0;32m      3\u001b[0m \u001b[38;5;28;01mfor\u001b[39;00m dog \u001b[38;5;129;01min\u001b[39;00m dogs:\n\u001b[1;32m----> 4\u001b[0m     \u001b[38;5;28mprint\u001b[39m(\u001b[38;5;124m'\u001b[39m\u001b[38;5;124mI like \u001b[39m\u001b[38;5;124m'\u001b[39m \u001b[38;5;241m+\u001b[39m dogs \u001b[38;5;241m+\u001b[39m \u001b[38;5;124m'\u001b[39m\u001b[38;5;124ms.\u001b[39m\u001b[38;5;124m'\u001b[39m)\n",
      "\u001b[1;31mTypeError\u001b[0m: can only concatenate str (not \"list\") to str"
     ]
    }
   ],
   "source": [
    "\n",
    "dogs = ['border collie', 'australian cattle dog', 'labrador retriever']\n",
    "\n",
    "for dog in dogs:\n",
    "    print('I like ' + dogs + 's.')"
   ]
  },
  {
   "cell_type": "markdown",
   "metadata": {
    "id": "qSfnIkKgWCmr"
   },
   "source": [
    "### Strings as lists ###"
   ]
  },
  {
   "cell_type": "markdown",
   "metadata": {
    "id": "WcvUe4eyWCmr"
   },
   "source": [
    "Strings are treated similar to lists in Python, with single characters being the list items."
   ]
  },
  {
   "cell_type": "code",
   "execution_count": 59,
   "metadata": {},
   "outputs": [
    {
     "ename": "TypeError",
     "evalue": "can only concatenate str (not \"list\") to str",
     "output_type": "error",
     "traceback": [
      "\u001b[1;31m---------------------------------------------------------------------------\u001b[0m",
      "\u001b[1;31mTypeError\u001b[0m                                 Traceback (most recent call last)",
      "Cell \u001b[1;32mIn[59], line 1\u001b[0m\n\u001b[1;32m----> 1\u001b[0m x \u001b[38;5;241m+\u001b[39m [\u001b[38;5;124m'\u001b[39m\u001b[38;5;124mthis is a house\u001b[39m\u001b[38;5;124m'\u001b[39m]\n",
      "\u001b[1;31mTypeError\u001b[0m: can only concatenate str (not \"list\") to str"
     ]
    }
   ],
   "source": [
    "x + ['this is a house']"
   ]
  },
  {
   "cell_type": "code",
   "execution_count": 58,
   "metadata": {
    "id": "Hye6-MouWCmr"
   },
   "outputs": [
    {
     "name": "stdout",
     "output_type": "stream",
     "text": [
      "t\n",
      "h\n",
      "i\n",
      "s\n",
      " \n",
      "i\n",
      "s\n",
      " \n",
      "a\n",
      " \n",
      "h\n",
      "o\n",
      "u\n",
      "s\n",
      "e\n"
     ]
    }
   ],
   "source": [
    "x = 'this is a house'\n",
    "for i in x:\n",
    "    print(i)"
   ]
  },
  {
   "cell_type": "markdown",
   "metadata": {
    "id": "_YfOVlJeWCmr"
   },
   "source": [
    "<a id=\"Exercises-loops\"></a>\n",
    "Exercises\n",
    "---\n",
    "#### First Neat List - Loop\n",
    "- Repeat *First Neat List*, but this time use a loop to print out your statements. Make sure you are writing the same sentence for all values in your list. Loops are not effective when you are trying to generate different output for each value in your list.\n",
    "\n",
    "#### Your First List - Loop\n",
    "- Repeat *Your First List*, but this time use a loop to print out your message for each item in your list. Again, if you came up with different messages for each value in your list, decide on one message to repeat for each value in your list."
   ]
  },
  {
   "cell_type": "code",
   "execution_count": null,
   "metadata": {
    "id": "nFuVVSuoWCmr"
   },
   "outputs": [],
   "source": [
    "# %load \"12_lists_tuples-1_ex1_2.py\""
   ]
  },
  {
   "cell_type": "code",
   "execution_count": 60,
   "metadata": {},
   "outputs": [
    {
     "data": {
      "text/plain": [
       "['python', 'c', 'java', 'c++']"
      ]
     },
     "execution_count": 60,
     "metadata": {},
     "output_type": "execute_result"
    }
   ],
   "source": [
    "langs"
   ]
  },
  {
   "cell_type": "code",
   "execution_count": 62,
   "metadata": {},
   "outputs": [
    {
     "name": "stdout",
     "output_type": "stream",
     "text": [
      "I love python\n",
      "python is a nice language\n",
      "\n",
      "I love c\n",
      "c is a nice language\n",
      "\n",
      "I love java\n",
      "java is a nice language\n",
      "\n",
      "I love c++\n",
      "c++ is a nice language\n",
      "\n"
     ]
    }
   ],
   "source": [
    "for i in langs:\n",
    "    print(\"I love \"+i)\n",
    "    print(\"{} is a nice language\".format(i))\n",
    "    print()"
   ]
  },
  {
   "cell_type": "markdown",
   "metadata": {
    "id": "TCX3k8S4WCms"
   },
   "source": [
    "[top](#)"
   ]
  },
  {
   "cell_type": "markdown",
   "metadata": {
    "id": "SrtLZRQ4WCms"
   },
   "source": [
    "Common List Operations\n",
    "==="
   ]
  },
  {
   "cell_type": "markdown",
   "metadata": {
    "id": "rc1biKplWCms"
   },
   "source": [
    "Modifying elements in a list\n",
    "---\n",
    "You can change the value of any element in a list if you know the position of that item."
   ]
  },
  {
   "cell_type": "code",
   "execution_count": 65,
   "metadata": {
    "id": "auBIfq31WCms"
   },
   "outputs": [
    {
     "name": "stdout",
     "output_type": "stream",
     "text": [
      "['border collie', 'australian shepherd', 'labrador retriever']\n"
     ]
    }
   ],
   "source": [
    "dogs = ['border collie', 'australian cattle dog', 'labrador retriever']\n",
    "\n",
    "dogs[1] = 'australian shepherd'\n",
    "print(dogs)"
   ]
  },
  {
   "cell_type": "markdown",
   "metadata": {
    "id": "z6-vabspWCms"
   },
   "source": [
    "Finding an element in a list\n",
    "---\n",
    "If you want to find out the position of an element in a list, you can use the index() function."
   ]
  },
  {
   "cell_type": "code",
   "execution_count": 66,
   "metadata": {
    "id": "EdVWh2SZWCmt"
   },
   "outputs": [
    {
     "name": "stdout",
     "output_type": "stream",
     "text": [
      "1\n"
     ]
    }
   ],
   "source": [
    "dogs = ['border collie', 'australian cattle dog', 'labrador retriever']\n",
    "\n",
    "print(dogs.index('australian cattle dog'))"
   ]
  },
  {
   "cell_type": "markdown",
   "metadata": {
    "id": "QcC3RvBTWCmt"
   },
   "source": [
    "This method returns a ValueError if the requested item is not in the list."
   ]
  },
  {
   "cell_type": "code",
   "execution_count": 67,
   "metadata": {
    "id": "47aoNSPpWCmt"
   },
   "outputs": [
    {
     "ename": "ValueError",
     "evalue": "'poodle' is not in list",
     "output_type": "error",
     "traceback": [
      "\u001b[1;31m---------------------------------------------------------------------------\u001b[0m",
      "\u001b[1;31mValueError\u001b[0m                                Traceback (most recent call last)",
      "Cell \u001b[1;32mIn[67], line 3\u001b[0m\n\u001b[0;32m      1\u001b[0m dogs \u001b[38;5;241m=\u001b[39m [\u001b[38;5;124m'\u001b[39m\u001b[38;5;124mborder collie\u001b[39m\u001b[38;5;124m'\u001b[39m, \u001b[38;5;124m'\u001b[39m\u001b[38;5;124maustralian cattle dog\u001b[39m\u001b[38;5;124m'\u001b[39m, \u001b[38;5;124m'\u001b[39m\u001b[38;5;124mlabrador retriever\u001b[39m\u001b[38;5;124m'\u001b[39m]\n\u001b[1;32m----> 3\u001b[0m \u001b[38;5;28mprint\u001b[39m(dogs\u001b[38;5;241m.\u001b[39mindex(\u001b[38;5;124m'\u001b[39m\u001b[38;5;124mpoodle\u001b[39m\u001b[38;5;124m'\u001b[39m))\n",
      "\u001b[1;31mValueError\u001b[0m: 'poodle' is not in list"
     ]
    }
   ],
   "source": [
    "\n",
    "dogs = ['border collie', 'australian cattle dog', 'labrador retriever']\n",
    "\n",
    "print(dogs.index('poodle'))"
   ]
  },
  {
   "cell_type": "markdown",
   "metadata": {
    "id": "C-I61zwEWCmt"
   },
   "source": [
    "Testing whether an item is in a list\n",
    "---\n",
    "You can test whether an item is in a list using the \"in\" keyword. This will become more useful after learning how to use if-else statements."
   ]
  },
  {
   "cell_type": "code",
   "execution_count": 68,
   "metadata": {
    "id": "pI9LZRUpWCmu",
    "scrolled": true
   },
   "outputs": [
    {
     "name": "stdout",
     "output_type": "stream",
     "text": [
      "True\n",
      "False\n"
     ]
    }
   ],
   "source": [
    "dogs = ['border collie', 'australian cattle dog', 'labrador retriever']\n",
    "\n",
    "print('australian cattle dog' in dogs)\n",
    "print('poodle' in dogs)"
   ]
  },
  {
   "cell_type": "markdown",
   "metadata": {
    "id": "FX45dEl6WCmu"
   },
   "source": [
    "Adding items to a list\n",
    "---\n",
    "### Appending items to the end of a list\n",
    "We can add an item to a list using the append() method. This method adds the new item to the end of the list."
   ]
  },
  {
   "cell_type": "code",
   "execution_count": 70,
   "metadata": {
    "id": "kELaKU8OWCmu"
   },
   "outputs": [
    {
     "name": "stdout",
     "output_type": "stream",
     "text": [
      "border collies are cool.\n",
      "australian cattle dogs are cool.\n",
      "labrador retrievers are cool.\n",
      "poodles are cool.\n"
     ]
    }
   ],
   "source": [
    "dogs = ['border collie', 'australian cattle dog', 'labrador retriever']\n",
    "dogs.append('poodle')\n",
    "\n",
    "for dog in dogs:\n",
    "    print(dog + \"s are cool.\")"
   ]
  },
  {
   "cell_type": "markdown",
   "metadata": {
    "id": "nffgBNd4WCmu"
   },
   "source": [
    "### Inserting items into a list\n",
    "We can also insert items anywhere we want in a list, using the **insert()** function. We specify the position we want the item to have, and everything from that point on is shifted one position to the right. In other words, the index of every item after the new item is increased by one."
   ]
  },
  {
   "cell_type": "code",
   "execution_count": 73,
   "metadata": {
    "id": "3DopvfwHWCmu"
   },
   "outputs": [
    {
     "name": "stdout",
     "output_type": "stream",
     "text": [
      "['border collie', 'australian cattle dog', 'labrador retriever', 'poodle']\n"
     ]
    }
   ],
   "source": [
    "dogs = ['border collie', 'australian cattle dog', 'labrador retriever']\n",
    "dogs.insert(10, 'poodle')\n",
    "\n",
    "print(dogs)"
   ]
  },
  {
   "cell_type": "code",
   "execution_count": 74,
   "metadata": {},
   "outputs": [
    {
     "data": {
      "text/plain": [
       "3"
      ]
     },
     "execution_count": 74,
     "metadata": {},
     "output_type": "execute_result"
    }
   ],
   "source": [
    "dogs.index('poodle')"
   ]
  },
  {
   "cell_type": "markdown",
   "metadata": {
    "id": "HLDPG2ySWCmv"
   },
   "source": [
    "Note that you have to give the position of the new item first, and then the value of the new item. If you do it in the reverse order, you will get an error."
   ]
  },
  {
   "cell_type": "markdown",
   "metadata": {
    "id": "CiLrqH6KWCmv"
   },
   "source": [
    "### Replacing items in a list\n",
    "We can also just overwrite elements of a list"
   ]
  },
  {
   "cell_type": "code",
   "execution_count": 75,
   "metadata": {
    "id": "7306Y_r6WCmv"
   },
   "outputs": [
    {
     "data": {
      "text/plain": [
       "['border collie', 'australian cattle dog', 'pug', 'poodle']"
      ]
     },
     "execution_count": 75,
     "metadata": {},
     "output_type": "execute_result"
    }
   ],
   "source": [
    "dogs[2] = 'pug'\n",
    "dogs"
   ]
  },
  {
   "cell_type": "code",
   "execution_count": 76,
   "metadata": {
    "id": "yg2BbMW6WCmv"
   },
   "outputs": [
    {
     "ename": "IndexError",
     "evalue": "list assignment index out of range",
     "output_type": "error",
     "traceback": [
      "\u001b[1;31m---------------------------------------------------------------------------\u001b[0m",
      "\u001b[1;31mIndexError\u001b[0m                                Traceback (most recent call last)",
      "Cell \u001b[1;32mIn[76], line 1\u001b[0m\n\u001b[1;32m----> 1\u001b[0m dogs[\u001b[38;5;241m10\u001b[39m] \u001b[38;5;241m=\u001b[39m \u001b[38;5;124m'\u001b[39m\u001b[38;5;124mmaltese\u001b[39m\u001b[38;5;124m'\u001b[39m\n",
      "\u001b[1;31mIndexError\u001b[0m: list assignment index out of range"
     ]
    }
   ],
   "source": [
    "dogs[10] = 'maltese'  # cannot set an element that does not exist yet"
   ]
  },
  {
   "cell_type": "code",
   "execution_count": null,
   "metadata": {
    "id": "-wNbBHQ1WCmw"
   },
   "outputs": [],
   "source": []
  },
  {
   "cell_type": "markdown",
   "metadata": {
    "id": "tueYSF5kWCmw"
   },
   "source": [
    "Creating an empty list\n",
    "---\n",
    "Now that we know how to add items to a list after it is created, we can use lists more dynamically. We are no longer stuck defining our entire list at once.\n",
    "\n",
    "A common approach with lists is to define an empty list, and then let your program add items to the list as necessary. This approach works, for example, when starting to build an interactive web site. Your list of users might start out empty, and then as people register for the site it will grow. This is a simplified approach to how web sites actually work, but the idea is realistic.\n",
    "\n",
    "Here is a brief example of how to start with an empty list, start to fill it up, and work with the items in the list. The only new thing here is the way we define an empty list, which is just an empty set of square brackets."
   ]
  },
  {
   "cell_type": "code",
   "execution_count": 78,
   "metadata": {
    "id": "oyOkZCJPWCmw"
   },
   "outputs": [
    {
     "name": "stdout",
     "output_type": "stream",
     "text": [
      "Welcome, bernice!\n",
      "Welcome, cody!\n",
      "Welcome, aaron!\n"
     ]
    }
   ],
   "source": [
    "# Create an empty list to hold our users.\n",
    "usernames = []\n",
    "\n",
    "# Add some users.\n",
    "usernames.append('bernice')\n",
    "usernames.append('cody')\n",
    "usernames.append('aaron')\n",
    "\n",
    "# Greet all of our users.\n",
    "for username in usernames:\n",
    "    print(\"Welcome, \" + username + '!')"
   ]
  },
  {
   "cell_type": "markdown",
   "metadata": {
    "id": "DF7wPV-WWCmx"
   },
   "source": [
    "If we don't change the order in our list, we can use the list to figure out who our oldest and newest users are."
   ]
  },
  {
   "cell_type": "code",
   "execution_count": 79,
   "metadata": {
    "id": "cjWVCYBkWCmx"
   },
   "outputs": [
    {
     "name": "stdout",
     "output_type": "stream",
     "text": [
      "Welcome, bernice!\n",
      "Welcome, cody!\n",
      "Welcome, aaron!\n",
      "\n",
      "Thank you for being our very first user, bernice!\n",
      "And a warm welcome to our newest user, aaron!\n"
     ]
    }
   ],
   "source": [
    "\n",
    "# Create an empty list to hold our users.\n",
    "usernames = []\n",
    "\n",
    "# Add some users.\n",
    "usernames.append('bernice')\n",
    "usernames.append('cody')\n",
    "usernames.append('aaron')\n",
    "\n",
    "# Greet all of our users.\n",
    "for username in usernames:\n",
    "    print(\"Welcome, \" + username + '!')\n",
    "\n",
    "# Recognize our first user, and welcome our newest user.\n",
    "print(\"\\nThank you for being our very first user, \" + usernames[0] + '!')\n",
    "print(\"And a warm welcome to our newest user, \" + usernames[-1] + '!')"
   ]
  },
  {
   "cell_type": "markdown",
   "metadata": {
    "id": "RmZEC4uWWCmx"
   },
   "source": [
    "Note that the code welcoming our newest user will always work, because we have used the index -1. If we had used the index 2 we would always get the third user, even as our list of users grows and grows."
   ]
  },
  {
   "cell_type": "markdown",
   "metadata": {
    "id": "iwNd6wBVWCmy"
   },
   "source": [
    "Sorting a List\n",
    "---\n",
    "We can sort a list alphabetically, in either order."
   ]
  },
  {
   "cell_type": "code",
   "execution_count": 84,
   "metadata": {},
   "outputs": [
    {
     "data": {
      "text/plain": [
       "'Anna'"
      ]
     },
     "execution_count": 84,
     "metadata": {},
     "output_type": "execute_result"
    }
   ],
   "source": [
    "string_var = 'anna'\n",
    "string_var.title()"
   ]
  },
  {
   "cell_type": "code",
   "execution_count": 85,
   "metadata": {},
   "outputs": [
    {
     "data": {
      "text/plain": [
       "'anna'"
      ]
     },
     "execution_count": 85,
     "metadata": {},
     "output_type": "execute_result"
    }
   ],
   "source": [
    "string_var"
   ]
  },
  {
   "cell_type": "code",
   "execution_count": null,
   "metadata": {},
   "outputs": [],
   "source": [
    "print(string_var)\n",
    "sorted(students)"
   ]
  },
  {
   "cell_type": "code",
   "execution_count": 81,
   "metadata": {
    "id": "1qWancwqWCmy"
   },
   "outputs": [
    {
     "name": "stdout",
     "output_type": "stream",
     "text": [
      "Our students are currently in alphabetical order.\n",
      "aaron\n",
      "bernice\n",
      "cody\n",
      "\n",
      "Our students are now in reverse alphabetical order.\n",
      "cody\n",
      "bernice\n",
      "aaron\n"
     ]
    }
   ],
   "source": [
    "students = ['bernice', 'aaron', 'cody']\n",
    "\n",
    "# Put students in alphabetical order.\n",
    "students.sort()\n",
    "\n",
    "# Display the list in its current order.\n",
    "print(\"Our students are currently in alphabetical order.\")\n",
    "for student in students:\n",
    "    print(student)\n",
    "\n",
    "#Put students in reverse alphabetical order.\n",
    "students.sort(reverse=True)\n",
    "\n",
    "# Display the list in its current order.\n",
    "print(\"\\nOur students are now in reverse alphabetical order.\")\n",
    "for student in students:\n",
    "    print(student)"
   ]
  },
  {
   "cell_type": "code",
   "execution_count": 82,
   "metadata": {},
   "outputs": [
    {
     "data": {
      "text/plain": [
       "['cody', 'bernice', 'aaron']"
      ]
     },
     "execution_count": 82,
     "metadata": {},
     "output_type": "execute_result"
    }
   ],
   "source": [
    "students"
   ]
  },
  {
   "cell_type": "markdown",
   "metadata": {
    "id": "Di5J0JedWCmy"
   },
   "source": [
    "### *sorted()* vs. *sort()*\n",
    "Whenever you consider sorting a list, keep in mind that you can not recover the original order. If you want to display a list in sorted order, but preserve the original order, you can use the *sorted()* function. The *sorted()* function also accepts the optional *reverse=True* argument."
   ]
  },
  {
   "cell_type": "code",
   "execution_count": 83,
   "metadata": {
    "id": "fAYIfj9hWCmy",
    "scrolled": true
   },
   "outputs": [
    {
     "name": "stdout",
     "output_type": "stream",
     "text": [
      "Here is the list in alphabetical order:\n",
      "aaron\n",
      "bernice\n",
      "cody\n",
      "\n",
      "Here is the list in reverse alphabetical order:\n",
      "cody\n",
      "bernice\n",
      "aaron\n",
      "\n",
      "Here is the list in its original order:\n",
      "bernice\n",
      "aaron\n",
      "cody\n"
     ]
    }
   ],
   "source": [
    "students = ['bernice', 'aaron', 'cody']\n",
    "\n",
    "# Display students in alphabetical order, but keep the original order.\n",
    "print(\"Here is the list in alphabetical order:\")\n",
    "for student in sorted(students):\n",
    "    print(student)\n",
    "\n",
    "# Display students in reverse alphabetical order, but keep the original order.\n",
    "print(\"\\nHere is the list in reverse alphabetical order:\")\n",
    "for student in sorted(students, reverse=True):\n",
    "    print(student)\n",
    "\n",
    "print(\"\\nHere is the list in its original order:\")\n",
    "# Show that the list is still in its original order.\n",
    "for student in students:\n",
    "    print(student)"
   ]
  },
  {
   "cell_type": "markdown",
   "metadata": {
    "id": "k1c_lh-rWCmz"
   },
   "source": [
    "# OPTIONAL"
   ]
  },
  {
   "cell_type": "markdown",
   "metadata": {
    "id": "88cmq7SXWCmz"
   },
   "source": [
    "Tuples\n",
    "===\n",
    "Tuples are basically lists that can never be changed. Lists are quite dynamic; they can grow as you append and insert items, and they can shrink as you remove items. You can modify any element you want to in a list. Sometimes we like this behavior, but other times we may want to ensure that no user or no part of a program can change a list. That's what tuples are for.\n",
    "\n",
    "Technically, lists are *mutable* objects and tuples are *immutable* objects. Mutable objects can change (think of *mutations*), and immutable objects can not change.\n",
    "\n",
    "Defining tuples, and accessing elements\n",
    "---\n",
    "\n",
    "You define a tuple just like you define a list, except you use parentheses instead of square brackets. Once you have a tuple, you can access individual elements just like you can with a list, and you can loop through the tuple with a *for* loop:"
   ]
  },
  {
   "cell_type": "code",
   "execution_count": null,
   "metadata": {
    "id": "IvualsFJWCmz"
   },
   "outputs": [],
   "source": [
    "colors = ('red', 'green', 'blue')\n",
    "print(\"The first color is: \" + colors[0])\n",
    "\n",
    "print(\"\\nThe available colors are:\")\n",
    "for color in colors:\n",
    "    print(\"- \" + color)"
   ]
  },
  {
   "cell_type": "markdown",
   "metadata": {
    "id": "9Wtgtv_vWCmz"
   },
   "source": [
    "If you try to add something to a tuple, you will get an error:"
   ]
  },
  {
   "cell_type": "code",
   "execution_count": null,
   "metadata": {
    "id": "B0RmaLuWWCm0"
   },
   "outputs": [],
   "source": [
    "colors = ('red', 'green', 'blue')\n",
    "colors.append('purple')"
   ]
  },
  {
   "cell_type": "markdown",
   "metadata": {
    "id": "nq_n_GlnWCm0"
   },
   "source": [
    "The same kind of thing happens when you try to remove something from a tuple, or modify one of its elements. Once you define a tuple, you can be confident that its values will not change."
   ]
  },
  {
   "cell_type": "markdown",
   "metadata": {
    "id": "imUXqiJ2WCm0"
   },
   "source": [
    "# Sets"
   ]
  },
  {
   "cell_type": "markdown",
   "metadata": {
    "id": "27S5h2wTWCm0"
   },
   "source": [
    "Sets are similar to lists, but are not ordered and cannot contain the same element multiple times."
   ]
  },
  {
   "cell_type": "code",
   "execution_count": null,
   "metadata": {
    "id": "M5n36ZojWCm1"
   },
   "outputs": [],
   "source": [
    "st = set([5, 4, 3, 1, 5, 2, 3, 4, 5])\n",
    "st"
   ]
  },
  {
   "cell_type": "code",
   "execution_count": null,
   "metadata": {
    "id": "NoxuNwskWCm1"
   },
   "outputs": [],
   "source": [
    "list1 = ['me', 'you', 'them']\n",
    "list2 = ['you', 'others', 'me']\n",
    "st = set(list1+list2)\n",
    "st"
   ]
  },
  {
   "cell_type": "markdown",
   "metadata": {
    "id": "IEzhF0mRWCm1"
   },
   "source": [
    "[top](#)"
   ]
  },
  {
   "cell_type": "markdown",
   "metadata": {
    "id": "r0zq_HZOWCm2"
   },
   "source": [
    "# License"
   ]
  },
  {
   "cell_type": "markdown",
   "metadata": {
    "id": "jCINEMFmWCm2"
   },
   "source": [
    "The MIT License (MIT)\n",
    "\n",
    "Original work Copyright (c) 2013 Eric Matthes  \n",
    "Modified work Copyright 2017 Fabian Flöck, Florian Lemmerich\n",
    "\n",
    "Permission is hereby granted, free of charge, to any person obtaining a copy of\n",
    "this software and associated documentation files (the \"Software\"), to deal in\n",
    "the Software without restriction, including without limitation the rights to\n",
    "use, copy, modify, merge, publish, distribute, sublicense, and/or sell copies of\n",
    "the Software, and to permit persons to whom the Software is furnished to do so,\n",
    "subject to the following conditions:\n",
    "\n",
    "The above copyright notice and this permission notice shall be included in all\n",
    "copies or substantial portions of the Software.\n",
    "\n",
    "THE SOFTWARE IS PROVIDED \"AS IS\", WITHOUT WARRANTY OF ANY KIND, EXPRESS OR\n",
    "IMPLIED, INCLUDING BUT NOT LIMITED TO THE WARRANTIES OF MERCHANTABILITY, FITNESS\n",
    "FOR A PARTICULAR PURPOSE AND NONINFRINGEMENT. IN NO EVENT SHALL THE AUTHORS OR\n",
    "COPYRIGHT HOLDERS BE LIABLE FOR ANY CLAIM, DAMAGES OR OTHER LIABILITY, WHETHER\n",
    "IN AN ACTION OF CONTRACT, TORT OR OTHERWISE, ARISING FROM, OUT OF OR IN\n",
    "CONNECTION WITH THE SOFTWARE OR THE USE OR OTHER DEALINGS IN THE SOFTWARE."
   ]
  },
  {
   "cell_type": "markdown",
   "metadata": {
    "id": "V4RhGd6AWCm2"
   },
   "source": [
    "[top](#)"
   ]
  }
 ],
 "metadata": {
  "colab": {
   "provenance": []
  },
  "kernelspec": {
   "display_name": "Python 3 (ipykernel)",
   "language": "python",
   "name": "python3"
  },
  "language_info": {
   "codemirror_mode": {
    "name": "ipython",
    "version": 3
   },
   "file_extension": ".py",
   "mimetype": "text/x-python",
   "name": "python",
   "nbconvert_exporter": "python",
   "pygments_lexer": "ipython3",
   "version": "3.11.5"
  },
  "nav_menu": {},
  "toc": {
   "base_numbering": 1,
   "nav_menu": {},
   "number_sections": true,
   "sideBar": true,
   "skip_h1_title": false,
   "title_cell": "Table of Contents",
   "title_sidebar": "Contents",
   "toc_cell": true,
   "toc_position": {},
   "toc_section_display": "block",
   "toc_window_display": false
  },
  "varInspector": {
   "cols": {
    "lenName": 16,
    "lenType": 16,
    "lenVar": 40
   },
   "kernels_config": {
    "python": {
     "delete_cmd_postfix": "",
     "delete_cmd_prefix": "del ",
     "library": "var_list.py",
     "varRefreshCmd": "print(var_dic_list())"
    },
    "r": {
     "delete_cmd_postfix": ") ",
     "delete_cmd_prefix": "rm(",
     "library": "var_list.r",
     "varRefreshCmd": "cat(var_dic_list()) "
    }
   },
   "types_to_exclude": [
    "module",
    "function",
    "builtin_function_or_method",
    "instance",
    "_Feature"
   ],
   "window_display": false
  }
 },
 "nbformat": 4,
 "nbformat_minor": 1
}
