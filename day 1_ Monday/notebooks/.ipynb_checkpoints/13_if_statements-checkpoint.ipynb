{
 "cells": [
  {
   "cell_type": "markdown",
   "metadata": {
    "id": "Duhlqt0bV5yq",
    "toc": true
   },
   "source": [
    "<h1>Table of Contents<span class=\"tocSkip\"></span></h1>\n",
    "<div class=\"toc\"><ul class=\"toc-item\"><li><span><a href=\"#What-is-an-if-statement?\" data-toc-modified-id=\"What-is-an-if-statement?-1\"><span class=\"toc-item-num\">1&nbsp;&nbsp;</span>What is an <em>if</em> statement?</a></span><ul class=\"toc-item\"><li><span><a href=\"#Example\" data-toc-modified-id=\"Example-1.1\"><span class=\"toc-item-num\">1.1&nbsp;&nbsp;</span>Example</a></span></li></ul></li><li><span><a href=\"#Logical-tests\" data-toc-modified-id=\"Logical-tests-2\"><span class=\"toc-item-num\">2&nbsp;&nbsp;</span>Logical tests</a></span><ul class=\"toc-item\"><li><span><a href=\"#Comparison-Operators\" data-toc-modified-id=\"Comparison-Operators-2.1\"><span class=\"toc-item-num\">2.1&nbsp;&nbsp;</span>Comparison Operators</a></span></li><li><span><a href=\"#Checking-if-an-item-is-in-a-list\" data-toc-modified-id=\"Checking-if-an-item-is-in-a-list-2.2\"><span class=\"toc-item-num\">2.2&nbsp;&nbsp;</span>Checking if an item is in a list</a></span></li><li><span><a href=\"#Ex-4.1\" data-toc-modified-id=\"Ex-4.1-2.3\"><span class=\"toc-item-num\">2.3&nbsp;&nbsp;</span>Ex 4.1</a></span></li></ul></li><li><span><a href=\"#The-if-elif...else-chain\" data-toc-modified-id=\"The-if-elif...else-chain-3\"><span class=\"toc-item-num\">3&nbsp;&nbsp;</span>The if-elif...else chain</a></span><ul class=\"toc-item\"><li><span><a href=\"#Simple-if-statements\" data-toc-modified-id=\"Simple-if-statements-3.1\"><span class=\"toc-item-num\">3.1&nbsp;&nbsp;</span>Simple if statements</a></span></li><li><span><a href=\"#if-else-statements\" data-toc-modified-id=\"if-else-statements-3.2\"><span class=\"toc-item-num\">3.2&nbsp;&nbsp;</span>if-else statements</a></span></li><li><span><a href=\"#if-elif...else-chains\" data-toc-modified-id=\"if-elif...else-chains-3.3\"><span class=\"toc-item-num\">3.3&nbsp;&nbsp;</span>if-elif...else chains</a></span></li><li><span><a href=\"#Ex-4.2\" data-toc-modified-id=\"Ex-4.2-3.4\"><span class=\"toc-item-num\">3.4&nbsp;&nbsp;</span>Ex 4.2</a></span></li></ul></li><li><span><a href=\"#Optional\" data-toc-modified-id=\"Optional-4\"><span class=\"toc-item-num\">4&nbsp;&nbsp;</span>Optional</a></span><ul class=\"toc-item\"><li><span><a href=\"#break,-continue-and-pass-statements\" data-toc-modified-id=\"break,-continue-and-pass-statements-4.1\"><span class=\"toc-item-num\">4.1&nbsp;&nbsp;</span>break, continue and pass statements</a></span></li><li><span><a href=\"#Logical-operators\" data-toc-modified-id=\"Logical-operators-4.2\"><span class=\"toc-item-num\">4.2&nbsp;&nbsp;</span>Logical operators</a></span></li><li><span><a href=\"#Conditional-Expressions\" data-toc-modified-id=\"Conditional-Expressions-4.3\"><span class=\"toc-item-num\">4.3&nbsp;&nbsp;</span>Conditional Expressions</a></span></li><li><span><a href=\"#More-than-one-passing-test\" data-toc-modified-id=\"More-than-one-passing-test-4.4\"><span class=\"toc-item-num\">4.4&nbsp;&nbsp;</span>More than one passing test</a></span></li><li><span><a href=\"#True-and-False-values\" data-toc-modified-id=\"True-and-False-values-4.5\"><span class=\"toc-item-num\">4.5&nbsp;&nbsp;</span>True and False values</a></span></li></ul></li><li><span><a href=\"#License\" data-toc-modified-id=\"License-5\"><span class=\"toc-item-num\">5&nbsp;&nbsp;</span>License</a></span></li></ul></div>"
   ]
  },
  {
   "cell_type": "markdown",
   "metadata": {
    "id": "ELiklhGgV5yv"
   },
   "source": [
    "This lecture is adapted from the great 'Introduction to Python' course from Eric Matthes (http://introtopython.org/) and, like the original, is available under an [MIT license](#License)."
   ]
  },
  {
   "cell_type": "markdown",
   "metadata": {
    "id": "ekq3BVEyV5yv"
   },
   "source": [
    "# If Statements\n",
    "\n",
    "By allowing you to respond selectively to different situations and conditions, if statements open up whole new possibilities for your programs. In this section, you will learn how to test for certain conditions, and then respond in appropriate ways to those conditions."
   ]
  },
  {
   "cell_type": "markdown",
   "metadata": {
    "id": "DRRVx3wdV5yw"
   },
   "source": [
    "## What is an *if* statement?\n",
    "\n",
    "An *if* statement tests for a condition, and then responds to that condition. If the condition is true, then whatever action is listed next gets carried out. You can test for multiple conditions at the same time, and respond appropriately to each condition."
   ]
  },
  {
   "cell_type": "markdown",
   "metadata": {
    "id": "GD8Zh5d7V5yw"
   },
   "source": [
    "### Example\n",
    "\n",
    "Here is an example that shows a number of the desserts I like. It lists those desserts, but lets you know which one is my favorite."
   ]
  },
  {
   "cell_type": "code",
   "execution_count": null,
   "metadata": {
    "id": "F0SUDt3jV5yx"
   },
   "outputs": [],
   "source": [
    "# A list of desserts I like.\n",
    "desserts = ['chocolate', 'ice cream', 'apple crisp', 'cookies']\n",
    "favorite_dessert = 'ice cream'\n",
    "\n",
    "# Print the desserts out, but let everyone know my favorite dessert.\n",
    "for dessert in desserts:\n",
    "    if dessert == favorite_dessert:\n",
    "        # This dessert is my favorite, let's let everyone know!\n",
    "        print(\"{} is my favorite dessert!\".format(dessert.title()))\n",
    "    else:\n",
    "        # I like these desserts, but they are not my favorite.\n",
    "        print(\"I like {}.\".format(dessert))"
   ]
  },
  {
   "cell_type": "markdown",
   "metadata": {
    "id": "cJ7jDlKeV5yy"
   },
   "source": [
    "**What happens in this program?**\n",
    "\n",
    "Visualize it in [Pythontutor](http://pythontutor.com/visualize.html#code=%23%20A%20list%20of%20desserts%20I%20like.%0Adesserts%20%3D%20%5B'ice%20cream',%20'chocolate',%20'apple%20crisp',%20'cookies'%5D%0Afavorite_dessert%20%3D%20'apple%20crisp'%0A%0A%23%20Print%20the%20desserts%20out,%20but%20let%20everyone%20know%20my%20favorite%20dessert.%0Afor%20dessert%20in%20desserts%3A%0A%20%20%20%20if%20dessert%20%3D%3D%20favorite_dessert%3A%0A%20%20%20%20%20%20%20%20%23%20This%20dessert%20is%20my%20favorite,%20let's%20let%20everyone%20know!%0A%20%20%20%20%20%20%20%20print%28%22%7B%7D%20is%20my%20favorite%20dessert!%22.format%28dessert.title%28%29%29%29%0A%20%20%20%20else%3A%0A%20%20%20%20%20%20%20%20%23%20I%20like%20these%20desserts,%20but%20they%20are%20not%20my%20favorite.%0A%20%20%20%20%20%20%20%20print%28%22I%20like%20%7B%7D.%22.format%28dessert%29%29&cumulative=false&curInstr=0&heapPrimitives=nevernest&mode=display&origin=opt-frontend.js&py=3&rawInputLstJSON=%5B%5D&textReferences=false)\n",
    "\n",
    "- The program starts out with a list of desserts, and one dessert is identified as a favorite.\n",
    "- The for loop runs through all the desserts.\n",
    "- Inside the for loop, each item in the list is tested.\n",
    "    - If the current value of *dessert* is equal to the value of *favorite_dessert*, a message is printed that this is my favorite.\n",
    "    - If the current value of *dessert* is not equal to the value of *favorite_dessert*, a message is printed that I just like the dessert.\n",
    "    \n",
    "You can test as many conditions as you want in an if statement, as you will see in a little bit."
   ]
  },
  {
   "cell_type": "markdown",
   "metadata": {
    "id": "GYRl-QPpV5yy"
   },
   "source": [
    "## Logical tests\n",
    "\n",
    "Python evaluates if a given statement is either True or False and return the corresponding boolean value."
   ]
  },
  {
   "cell_type": "markdown",
   "metadata": {
    "id": "ylXJmHFmV5yz"
   },
   "source": [
    "### Comparison Operators"
   ]
  },
  {
   "cell_type": "markdown",
   "metadata": {
    "id": "P0H7-yOJV5yz"
   },
   "source": [
    "| Operator | Description |\n",
    "|----|---|\n",
    "| == | True, if both sides are equal |\n",
    "| !=  | True, if both sides are not equal |\n",
    "| < |True, if the left side is smaller |\n",
    "| > | True, if the left side is greater |\n",
    "| <=  | True, if the left side is smaller or equal to the right side |\n",
    "| >=  | True, if the left side is greater or equal to the right side |"
   ]
  },
  {
   "cell_type": "code",
   "execution_count": null,
   "metadata": {
    "id": "vd0J_Pt8V5yz"
   },
   "outputs": [],
   "source": [
    "5 == 3"
   ]
  },
  {
   "cell_type": "code",
   "execution_count": null,
   "metadata": {
    "id": "1_HFXPfEV5y0"
   },
   "outputs": [],
   "source": [
    "5.0 == 5"
   ]
  },
  {
   "cell_type": "code",
   "execution_count": null,
   "metadata": {
    "id": "ihSun1ueV5y0"
   },
   "outputs": [],
   "source": [
    "5 != '5'"
   ]
  },
  {
   "cell_type": "code",
   "execution_count": null,
   "metadata": {
    "id": "qT_eOLALV5y0"
   },
   "outputs": [],
   "source": [
    "3 > 3"
   ]
  },
  {
   "cell_type": "code",
   "execution_count": null,
   "metadata": {
    "id": "QHmN5Nw3V5y1"
   },
   "outputs": [],
   "source": [
    "3 >= 3"
   ]
  },
  {
   "cell_type": "code",
   "execution_count": null,
   "metadata": {
    "id": "fJoAEMV5V5y1"
   },
   "outputs": [],
   "source": [
    "6 == 'a random string'"
   ]
  },
  {
   "cell_type": "code",
   "execution_count": null,
   "metadata": {
    "id": "7o-scbb2V5y1"
   },
   "outputs": [],
   "source": [
    "'eric' == 'eric'"
   ]
  },
  {
   "cell_type": "code",
   "execution_count": null,
   "metadata": {
    "id": "TiK4g6ZUV5y1"
   },
   "outputs": [],
   "source": [
    "'Eric' != 'eric'"
   ]
  },
  {
   "cell_type": "markdown",
   "metadata": {
    "id": "icGbu3bEV5y1"
   },
   "source": [
    "### Checking if an item is in a list\n",
    "\n",
    "You can check if an item is **in** or **not in** a list using the **membership** operators:\n",
    "\n",
    "| Operator | Description |\n",
    "|--------|-------|\n",
    "| in | Returns True if the item is in the list |\n",
    "| not in  | Returns True if the item is in the list |\n"
   ]
  },
  {
   "cell_type": "code",
   "execution_count": null,
   "metadata": {
    "id": "okThd54aV5y2"
   },
   "outputs": [],
   "source": [
    "vowels = ['a', 'e', 'i', 'o', 'u']"
   ]
  },
  {
   "cell_type": "code",
   "execution_count": null,
   "metadata": {
    "id": "RRFLhN0fV5y2"
   },
   "outputs": [],
   "source": [
    "'a' in vowels"
   ]
  },
  {
   "cell_type": "code",
   "execution_count": null,
   "metadata": {
    "id": "gIAIYCvOV5y2"
   },
   "outputs": [],
   "source": [
    "'b' not in vowels"
   ]
  },
  {
   "cell_type": "markdown",
   "metadata": {
    "id": "CpthGv27V5y2"
   },
   "source": [
    "### Ex 4.1\n",
    "\n",
    "**Gymnast Scores - 2**\n",
    "\n",
    "1. A gymnast can earn a score between 1 and 10 from each judge; nothing lower, nothing higher. All scores are integer values; there are no decimal scores from a single judge.\n",
    "2. Loop through possible scores (use `range()` function) and print out \"A judge can give a gymnast _ points.\" if the score is greater than 1 and print out \"A judge can give a gymnast _ point.\" if score is 1.\n",
    "3. Do the same thing by using different comparison operators (`==`, `!=`, `>`, `>=`)\n",
    "\n",
    "**Numbers**\n",
    "\n",
    "1. In a list, which is named `saved_numbers`, store some numbers.\n",
    "2. In another list, which is named `new_numbers`, store a different list of numbers. Some of those numbers should also be contained in `saved_numbers` list.\n",
    "3. Now loop through the new numbers and check if a new number is not in the saved numbers, add it into the `saved_numbers` and print a message \"_ is now saved.\". If the number is already in the list, print a message \"_ is already saved\"."
   ]
  },
  {
   "cell_type": "code",
   "execution_count": 4,
   "metadata": {
    "id": "DQ7dh8HTV5y2"
   },
   "outputs": [],
   "source": [
    "# %load \"13_if_statements_ex4_1.py\""
   ]
  },
  {
   "cell_type": "markdown",
   "metadata": {
    "id": "6TeNLKd_V5y2"
   },
   "source": [
    "## The if-elif...else chain\n",
    "\n",
    "You can test whatever series of conditions you want to, and you can test your conditions in any combination you want."
   ]
  },
  {
   "cell_type": "markdown",
   "metadata": {
    "id": "mCAr9dd0V5y3"
   },
   "source": [
    "### Simple if statements\n",
    "\n",
    "The simplest test has a single **if** statement, and a single statement to execute if the condition is **True**."
   ]
  },
  {
   "cell_type": "code",
   "execution_count": null,
   "metadata": {
    "id": "tBaNxPNaV5y3"
   },
   "outputs": [],
   "source": [
    "dogs = ['willie', 'hootz', 'peso', 'juno']\n",
    "\n",
    "if len(dogs) > 3:\n",
    "    print(\"Wow, we have a lot of dogs here!\")"
   ]
  },
  {
   "cell_type": "markdown",
   "metadata": {
    "id": "XaqLxkBTV5y3"
   },
   "source": [
    "In this situation, nothing happens if the test does not pass."
   ]
  },
  {
   "cell_type": "code",
   "execution_count": null,
   "metadata": {
    "id": "v9p8OwMcV5y3"
   },
   "outputs": [],
   "source": [
    "dogs = ['willie', 'hootz']\n",
    "\n",
    "if len(dogs) > 3:\n",
    "    print(\"Wow, we have a lot of dogs here!\")"
   ]
  },
  {
   "cell_type": "markdown",
   "metadata": {
    "id": "OuQHf6eWV5y3"
   },
   "source": [
    "Notice that there are no errors. The condition `len(dogs) > 3` evaluates to False, and the program moves on to any lines after the **if** block."
   ]
  },
  {
   "cell_type": "markdown",
   "metadata": {
    "id": "88O3Pfh6V5y3"
   },
   "source": [
    "### if-else statements\n",
    "\n",
    "Many times you will want to respond in two possible ways to a test. If the test evaluates to **True**, you will want to do one thing. If the test evaluates to **False**, you will want to do something else. The **if-else** structure lets you do that easily. Here's what it looks like:"
   ]
  },
  {
   "cell_type": "code",
   "execution_count": null,
   "metadata": {
    "id": "V3f96wvgV5y3"
   },
   "outputs": [],
   "source": [
    "dogs = ['willie', 'hootz', 'peso', 'juno']\n",
    "\n",
    "if len(dogs) > 3:\n",
    "    print(\"Wow, we have a lot of dogs here!\")\n",
    "else:\n",
    "    print(\"Okay, this is a reasonable number of dogs.\")"
   ]
  },
  {
   "cell_type": "markdown",
   "metadata": {
    "id": "y-wZz1xVV5y4"
   },
   "source": [
    "Our results have not changed in this case, because if the test evaluates to **True** only the statements under the **if** statement are executed. The statements under **else** area only executed if the test fails:"
   ]
  },
  {
   "cell_type": "code",
   "execution_count": null,
   "metadata": {
    "id": "uEh2ZS_1V5y5"
   },
   "outputs": [],
   "source": [
    "dogs = ['willie', 'hootz']\n",
    "\n",
    "if len(dogs) > 3:\n",
    "    print(\"Wow, we have a lot of dogs here!\")\n",
    "else:\n",
    "    print(\"Okay, this is a reasonable number of dogs.\")"
   ]
  },
  {
   "cell_type": "markdown",
   "metadata": {
    "id": "oJnajJ2IV5y5"
   },
   "source": [
    "The test evaluated to **False**, so only the statement under `else` is run."
   ]
  },
  {
   "cell_type": "markdown",
   "metadata": {
    "id": "dji5UzDGV5y5"
   },
   "source": [
    "### if-elif...else chains\n",
    "\n",
    "Many times, you will want to test a series of conditions, rather than just an either-or situation. You can do this with a series of if-elif-else statements\n",
    "\n",
    "There is no limit to how many conditions you can test. You always need one if statement to start the chain, and you can never have more than one else statement. But you can have as many elif statements as you want."
   ]
  },
  {
   "cell_type": "code",
   "execution_count": null,
   "metadata": {
    "id": "iRFdpVeFV5y5"
   },
   "outputs": [],
   "source": [
    "dogs = ['willie', 'hootz', 'peso', 'monty', 'juno', 'turkey']\n",
    "\n",
    "if len(dogs) >= 5:\n",
    "    print(\"Holy mackerel, we might as well start a dog hostel!\")\n",
    "# Note that: even length of list is >= 3, second print is not executed.\n",
    "elif len(dogs) >= 3:\n",
    "    print(\"Wow, we have a lot of dogs here!\")\n",
    "else:\n",
    "    print(\"Okay, this is a reasonable number of dogs.\")"
   ]
  },
  {
   "cell_type": "markdown",
   "metadata": {
    "id": "IW-15zgAV5y6"
   },
   "source": [
    "It is important to note that in situations like this, only the first test is evaluated. In an if-elif-else chain, **once a test passes the rest of the conditions are ignored.**"
   ]
  },
  {
   "cell_type": "code",
   "execution_count": null,
   "metadata": {
    "id": "yv47tObKV5y6"
   },
   "outputs": [],
   "source": [
    "dogs = ['willie', 'hootz', 'peso', 'monty']\n",
    "\n",
    "if len(dogs) >= 5:\n",
    "    print(\"Holy mackerel, we might as well start a dog hostel!\")\n",
    "elif len(dogs) >= 3:\n",
    "    print(\"Wow, we have a lot of dogs here!\")\n",
    "else:\n",
    "    print(\"Okay, this is a reasonable number of dogs.\")"
   ]
  },
  {
   "cell_type": "markdown",
   "metadata": {
    "id": "HYs7IrIsV5zN"
   },
   "source": [
    "The first test failed, so Python evaluated the second test. That test passed, so the statement corresponding to `len(dogs) >= 3` is executed."
   ]
  },
  {
   "cell_type": "code",
   "execution_count": null,
   "metadata": {
    "id": "dMSSHnJBV5zO"
   },
   "outputs": [],
   "source": [
    "dogs = ['willie', 'hootz']\n",
    "\n",
    "if len(dogs) >= 5:\n",
    "    print(\"Holy mackerel, we might as well start a dog hostel!\")\n",
    "elif len(dogs) >= 3:\n",
    "    print(\"Wow, we have a lot of dogs here!\")\n",
    "else:\n",
    "    print(\"Okay, this is a reasonable number of dogs.\")"
   ]
  },
  {
   "cell_type": "markdown",
   "metadata": {
    "id": "gI3DSqltV5zO"
   },
   "source": [
    "In this situation, the first two tests fail, so the statement in the else clause is executed. Note that this statement would be executed even if there are no dogs at all:"
   ]
  },
  {
   "cell_type": "code",
   "execution_count": null,
   "metadata": {
    "id": "A69MDBj-V5zO"
   },
   "outputs": [],
   "source": [
    "dogs = []\n",
    "\n",
    "if len(dogs) >= 5:\n",
    "    print(\"Holy mackerel, we might as well start a dog hostel!\")\n",
    "elif len(dogs) >= 3:\n",
    "    print(\"Wow, we have a lot of dogs here!\")\n",
    "else:\n",
    "    print(\"Okay, this is a reasonable number of dogs.\")"
   ]
  },
  {
   "cell_type": "markdown",
   "metadata": {
    "id": "1O1SE3pBV5zO"
   },
   "source": [
    "Note that you don't have to take any action at all when you start a series of if statements. You could simply do nothing in the situation that there are no dogs by replacing the `else` clause with another `elif` clause:"
   ]
  },
  {
   "cell_type": "code",
   "execution_count": null,
   "metadata": {
    "id": "6xqlrKchV5zO"
   },
   "outputs": [],
   "source": [
    "dogs = []\n",
    "\n",
    "if len(dogs) >= 5:\n",
    "    print(\"Holy mackerel, we might as well start a dog hostel!\")\n",
    "elif len(dogs) >= 3:\n",
    "    print(\"Wow, we have a lot of dogs here!\")\n",
    "elif len(dogs) >= 1:\n",
    "    print(\"Okay, this is a reasonable number of dogs.\")"
   ]
  },
  {
   "cell_type": "markdown",
   "metadata": {
    "id": "mdMenj96V5zO"
   },
   "source": [
    "In this case, we only print a message if there is at least one dog present. Of course, you could add a new `else` clause to respond to the situation in which there are no dogs at all:"
   ]
  },
  {
   "cell_type": "code",
   "execution_count": null,
   "metadata": {
    "id": "UxsVHttaV5zP"
   },
   "outputs": [],
   "source": [
    "dogs = []\n",
    "\n",
    "if len(dogs) >= 5:\n",
    "    print(\"Holy mackerel, we might as well start a dog hostel!\")\n",
    "elif len(dogs) >= 3:\n",
    "    print(\"Wow, we have a lot of dogs here!\")\n",
    "elif len(dogs) >= 1:\n",
    "    print(\"Okay, this is a reasonable number of dogs.\")\n",
    "else:\n",
    "    # this is executed only when there is no dogs\n",
    "    print(\"I wish we had a dog here.\")"
   ]
  },
  {
   "cell_type": "markdown",
   "metadata": {
    "id": "y26PajNAV5zP"
   },
   "source": [
    "As you can see, the if-elif-else chain lets you respond in very specific ways to any given situation."
   ]
  },
  {
   "cell_type": "markdown",
   "metadata": {
    "id": "U8l4-r2aV5zP"
   },
   "source": [
    "### Ex 4.2\n",
    "\n",
    "**Alien Points**\n",
    "\n",
    "1. Make a list of ten aliens, each of which is one color: 'red', 'green', or 'blue'.\n",
    "2. Red aliens are worth 5 points, green aliens are worth 10 points, and blue aliens are worth 20 points.\n",
    "3. Use a for loop to determine the number of points a player would earn for destroying all of the aliens in your list. Print a message if there is an unknown color.\n",
    "\n",
    "\n",
    "Hints\n",
    "- After you define your list of aliens, set a variable called current_score or current_points equal to 0.\n",
    "- Inside your for loop, write a series of if tests to determine how many points to add to the current score.\n",
    "- To keep a running total, use the syntax current_score = current_score + points, where points is the number of points for the current alien."
   ]
  },
  {
   "cell_type": "code",
   "execution_count": 6,
   "metadata": {
    "id": "cP0PisDVV5zP"
   },
   "outputs": [],
   "source": [
    "# %load \"13_if_statements_ex4_2.py\""
   ]
  },
  {
   "cell_type": "markdown",
   "metadata": {
    "id": "_d_WxS6uV5zP"
   },
   "source": [
    "## Optional"
   ]
  },
  {
   "cell_type": "markdown",
   "metadata": {
    "id": "HSQENSYzV5zP"
   },
   "source": [
    "### break, continue and pass statements\n",
    "\n",
    "https://docs.python.org/3/tutorial/controlflow.html#break-and-continue-statements-and-else-clauses-on-loops"
   ]
  },
  {
   "cell_type": "markdown",
   "metadata": {
    "id": "3VyRlCczV5zP"
   },
   "source": [
    "The `break` statement breaks out of the innermost enclosing loop."
   ]
  },
  {
   "cell_type": "code",
   "execution_count": null,
   "metadata": {
    "id": "8kMh8TmFV5zQ"
   },
   "outputs": [],
   "source": [
    "dogs = ['willie', 'hootz', 'peso', 'monty', 'juno', 'turkey']\n",
    "\n",
    "# Go through all the dogs that are present, and stop looping when we find the dog we are looking for.\n",
    "for dog in dogs:\n",
    "    if dog == 'peso':\n",
    "        print(\"Hello, {}! I was looking for you.\".format(dog.title()))\n",
    "        break\n",
    "    print(\"Hello, {}! Sorry but I am not looking for you.\".format(dog.title()))"
   ]
  },
  {
   "cell_type": "markdown",
   "metadata": {
    "id": "HkRNnyliV5zQ"
   },
   "source": [
    "The `continue` statement continues with the next iteration of the loop:"
   ]
  },
  {
   "cell_type": "code",
   "execution_count": null,
   "metadata": {
    "id": "3-Tn-husV5zQ"
   },
   "outputs": [],
   "source": [
    "for num in range(2, 10):\n",
    "    if num % 2 == 0:\n",
    "        print(\"Found an even number\", num)\n",
    "        # when it is an even number, continue to the next iteration (don't execute the last print)\n",
    "        continue\n",
    "    print(\"Found a number\", num)"
   ]
  },
  {
   "cell_type": "markdown",
   "metadata": {
    "id": "Y2kAfrmrV5zQ"
   },
   "source": [
    "The `pass` statement does nothing. It can be used when a statement is required syntactically but the program requires no action. For example:"
   ]
  },
  {
   "cell_type": "code",
   "execution_count": null,
   "metadata": {
    "id": "P-UUcLW9V5zQ"
   },
   "outputs": [],
   "source": [
    "var_1 = 7\n",
    "var_2 = 7\n",
    "if var_1 == var_2:\n",
    "    pass\n",
    "else:\n",
    "    print(\"Variables are not equal.\")"
   ]
  },
  {
   "cell_type": "markdown",
   "metadata": {
    "id": "cJd_lIQYV5zQ"
   },
   "source": [
    "### Logical operators\n",
    "\n",
    "With logical operators you can combine your tests, you can test multiple conditions together.\n",
    "\n",
    "| Operator | Description |\n",
    "|--------|-------|\n",
    "| and | Returns True if both statements are true |\n",
    "| or | Returns True if one of the statements is true |\n",
    "| not | Reverse the result |\n",
    "\n",
    "https://www.w3schools.com/python/python_operators.asp"
   ]
  },
  {
   "cell_type": "code",
   "execution_count": null,
   "metadata": {
    "id": "AG-z18SxV5zR"
   },
   "outputs": [],
   "source": [
    "vowels = ['a', 'e', 'i', 'o', 'u']"
   ]
  },
  {
   "cell_type": "code",
   "execution_count": null,
   "metadata": {
    "id": "MbXZkbXpV5zR"
   },
   "outputs": [],
   "source": [
    "if len(vowels) > 0 and 'a' in vowels and 'b' not in vowels:\n",
    "    print(\"All statements are true\")"
   ]
  },
  {
   "cell_type": "code",
   "execution_count": null,
   "metadata": {
    "id": "xtlV-pjBV5zR"
   },
   "outputs": [],
   "source": [
    "if len(vowels) > 10 or 'a' in vowels or 'b' in vowels:\n",
    "    print(\"One of statements is true\")  # 'a' in vowels"
   ]
  },
  {
   "cell_type": "markdown",
   "metadata": {
    "id": "v6N-49kxV5zR"
   },
   "source": [
    "You can use `in` to find out if a string contains a sub-string:"
   ]
  },
  {
   "cell_type": "code",
   "execution_count": null,
   "metadata": {
    "id": "GsxLRplmV5zR"
   },
   "outputs": [],
   "source": [
    "s = \"Python is my new favorite language\""
   ]
  },
  {
   "cell_type": "code",
   "execution_count": null,
   "metadata": {
    "id": "PUfZJVN4V5zX"
   },
   "outputs": [],
   "source": [
    "'new' in s"
   ]
  },
  {
   "cell_type": "markdown",
   "metadata": {
    "id": "QIREzai9V5zX"
   },
   "source": [
    "### Conditional Expressions\n",
    "\n",
    "This simply allows to **test a condition in a single line** replacing the multiline if-else making the code compact.\n",
    "\n",
    "\n",
    "The expression `x if C else y` first evaluates the condition, C rather than x. If C is true, x is evaluated and its value is returned; otherwise, y is evaluated and its value is returned.\n",
    "\n",
    "Resources:\n",
    " - https://docs.python.org/3/reference/expressions.html#conditional-expressions\n",
    " - https://www.geeksforgeeks.org/ternary-operator-in-python/"
   ]
  },
  {
   "cell_type": "code",
   "execution_count": null,
   "metadata": {
    "id": "txGPw0RRV5zX"
   },
   "outputs": [],
   "source": [
    "a = 10\n",
    "b = 20"
   ]
  },
  {
   "cell_type": "code",
   "execution_count": null,
   "metadata": {
    "id": "k08xzM28V5zX"
   },
   "outputs": [],
   "source": [
    "min = a if a < b else b\n",
    "min"
   ]
  },
  {
   "cell_type": "markdown",
   "metadata": {
    "id": "r19ZAEjbV5zY"
   },
   "source": [
    "### More than one passing test\n",
    "\n",
    "In all of the examples we have seen so far, only one test can pass. As soon as the first test passes, the rest of the tests are ignored. This is really good, because it allows our code to run more efficiently. Many times only one condition can be true, so testing every condition after one passes would be meaningless.\n",
    "\n",
    "There are situations in which you want to run a series of tests, where every single test runs. These are situations where any or all of the tests could pass, and you want to respond to each passing test. Consider the following example, where we want to greet each dog that is present:"
   ]
  },
  {
   "cell_type": "code",
   "execution_count": null,
   "metadata": {
    "id": "6Ck-3OtUV5zY"
   },
   "outputs": [],
   "source": [
    "dogs = ['willie', 'hootz']\n",
    "\n",
    "if 'willie' in dogs:\n",
    "    print(\"Hello, Willie!\")\n",
    "if 'hootz' in dogs:\n",
    "    print(\"Hello, Hootz!\")\n",
    "if 'peso' in dogs:\n",
    "    print(\"Hello, Peso!\")\n",
    "if 'monty' in dogs:\n",
    "    print(\"Hello, Monty!\")"
   ]
  },
  {
   "cell_type": "markdown",
   "metadata": {
    "id": "brhnqsD4V5zY"
   },
   "source": [
    "If we had done this using an if-elif-else chain, only the first dog that is present would be greeted:"
   ]
  },
  {
   "cell_type": "code",
   "execution_count": null,
   "metadata": {
    "id": "1gROytYRV5zY"
   },
   "outputs": [],
   "source": [
    "dogs = ['willie', 'hootz']\n",
    "\n",
    "if 'willie' in dogs:\n",
    "    print(\"Hello, Willie!\")\n",
    "elif 'hootz' in dogs:\n",
    "    print(\"Hello, Hootz!\")\n",
    "elif 'peso' in dogs:\n",
    "    print(\"Hello, Peso!\")\n",
    "elif 'monty' in dogs:\n",
    "    print(\"Hello, Monty!\")"
   ]
  },
  {
   "cell_type": "markdown",
   "metadata": {
    "id": "mhUFwQ3AV5zZ"
   },
   "source": [
    "Of course, this could be written much more cleanly using lists and for loops. See if you can follow this code."
   ]
  },
  {
   "cell_type": "code",
   "execution_count": null,
   "metadata": {
    "id": "WELxF-LQV5zZ"
   },
   "outputs": [],
   "source": [
    "dogs_we_know = ['willie', 'hootz', 'peso', 'monty', 'juno', 'turkey']\n",
    "dogs_present = ['willie', 'hootz']\n",
    "\n",
    "# Go through all the dogs that are present, and greet the dogs we know.\n",
    "for dog in dogs_present:\n",
    "    if dog in dogs_we_know:\n",
    "        print(\"Hello, {}!\".format(dog.title()))"
   ]
  },
  {
   "cell_type": "markdown",
   "metadata": {
    "id": "YutqhxLGV5zZ"
   },
   "source": [
    "This is the kind of code you should be aiming to write. It is fine to come up with code that is less efficient at first. When you notice yourself writing the same kind of code repeatedly in one program, look to see if you can use a loop or a function to make your code more efficient."
   ]
  },
  {
   "cell_type": "markdown",
   "metadata": {
    "id": "vamHUQjNV5zZ"
   },
   "source": [
    "### True and False values\n",
    "\n",
    "Every value can be evaluated as True or False. The general rule is that any non-zero or non-empty value will evaluate to True. If you are ever unsure, you can open a Python terminal and write two lines to find out if the value you are considering is True or False."
   ]
  },
  {
   "cell_type": "code",
   "execution_count": null,
   "metadata": {
    "id": "UcallSA9V5zZ"
   },
   "outputs": [],
   "source": [
    "if 0:\n",
    "    print(\"This evaluates to True.\")\n",
    "else:\n",
    "    print(\"This evaluates to False.\")"
   ]
  },
  {
   "cell_type": "markdown",
   "metadata": {
    "id": "2fYb_4ONV5zZ"
   },
   "source": [
    "Or you can use Python's built-in function **bool()** to find out if the value you are considering is True or False:"
   ]
  },
  {
   "cell_type": "code",
   "execution_count": null,
   "metadata": {
    "id": "yJtnn4B2V5zZ",
    "scrolled": true
   },
   "outputs": [],
   "source": [
    "bool(0)"
   ]
  },
  {
   "cell_type": "code",
   "execution_count": null,
   "metadata": {
    "id": "mumdfrmaV5za"
   },
   "outputs": [],
   "source": [
    "bool(1)"
   ]
  },
  {
   "cell_type": "code",
   "execution_count": null,
   "metadata": {
    "id": "5iKejUDqV5za"
   },
   "outputs": [],
   "source": [
    "# Arbitrary non-zero numbers evaluate to True.\n",
    "bool(1253756)"
   ]
  },
  {
   "cell_type": "code",
   "execution_count": null,
   "metadata": {
    "id": "Bm-jIhSNV5za"
   },
   "outputs": [],
   "source": [
    "# Negative numbers are not zero, so they evaluate to True.\n",
    "bool(-1)"
   ]
  },
  {
   "cell_type": "code",
   "execution_count": null,
   "metadata": {
    "id": "JCPzsbnWV5za"
   },
   "outputs": [],
   "source": [
    "# An empty string evaluates to False.\n",
    "bool('')"
   ]
  },
  {
   "cell_type": "code",
   "execution_count": null,
   "metadata": {
    "id": "qoalGmgOV5za"
   },
   "outputs": [],
   "source": [
    "# Any other string, including a space, evaluates to True.\n",
    "bool(' ')"
   ]
  },
  {
   "cell_type": "code",
   "execution_count": null,
   "metadata": {
    "id": "RI3g_Nb2V5zb"
   },
   "outputs": [],
   "source": [
    "# Any other string, including a space, evaluates to True.\n",
    "bool('hello')"
   ]
  },
  {
   "cell_type": "code",
   "execution_count": null,
   "metadata": {
    "id": "b6CNZP1bV5zb"
   },
   "outputs": [],
   "source": [
    "# None is a special object in Python. It evaluates to False.\n",
    "bool(None)"
   ]
  },
  {
   "cell_type": "markdown",
   "metadata": {
    "id": "Z05a2JwLV5zb"
   },
   "source": [
    "## License"
   ]
  },
  {
   "cell_type": "markdown",
   "metadata": {
    "id": "gzHPy3x0V5zb"
   },
   "source": [
    "The MIT License (MIT)\n",
    "\n",
    "Original work Copyright (c) 2013 Eric Matthes  \n",
    "Modified work Copyright 2017 Fabian Flöck, Florian Lemmerich  \n",
    "Modified work Copyright 2019 Arnim Bleier, Indira Sen, Kenan Erdogan\n",
    "\n",
    "Permission is hereby granted, free of charge, to any person obtaining a copy of\n",
    "this software and associated documentation files (the \"Software\"), to deal in\n",
    "the Software without restriction, including without limitation the rights to\n",
    "use, copy, modify, merge, publish, distribute, sublicense, and/or sell copies of\n",
    "the Software, and to permit persons to whom the Software is furnished to do so,\n",
    "subject to the following conditions:\n",
    "\n",
    "The above copyright notice and this permission notice shall be included in all\n",
    "copies or substantial portions of the Software.\n",
    "\n",
    "THE SOFTWARE IS PROVIDED \"AS IS\", WITHOUT WARRANTY OF ANY KIND, EXPRESS OR\n",
    "IMPLIED, INCLUDING BUT NOT LIMITED TO THE WARRANTIES OF MERCHANTABILITY, FITNESS\n",
    "FOR A PARTICULAR PURPOSE AND NONINFRINGEMENT. IN NO EVENT SHALL THE AUTHORS OR\n",
    "COPYRIGHT HOLDERS BE LIABLE FOR ANY CLAIM, DAMAGES OR OTHER LIABILITY, WHETHER\n",
    "IN AN ACTION OF CONTRACT, TORT OR OTHERWISE, ARISING FROM, OUT OF OR IN\n",
    "CONNECTION WITH THE SOFTWARE OR THE USE OR OTHER DEALINGS IN THE SOFTWARE."
   ]
  }
 ],
 "metadata": {
  "colab": {
   "provenance": []
  },
  "kernelspec": {
   "display_name": "Python 3 (ipykernel)",
   "language": "python",
   "name": "python3"
  },
  "language_info": {
   "codemirror_mode": {
    "name": "ipython",
    "version": 3
   },
   "file_extension": ".py",
   "mimetype": "text/x-python",
   "name": "python",
   "nbconvert_exporter": "python",
   "pygments_lexer": "ipython3",
   "version": "3.11.5"
  },
  "nav_menu": {},
  "toc": {
   "base_numbering": 1,
   "nav_menu": {},
   "number_sections": true,
   "sideBar": true,
   "skip_h1_title": true,
   "title_cell": "Table of Contents",
   "title_sidebar": "Contents",
   "toc_cell": true,
   "toc_position": {
    "height": "calc(100% - 180px)",
    "left": "10px",
    "top": "150px",
    "width": "319px"
   },
   "toc_section_display": true,
   "toc_window_display": true
  },
  "varInspector": {
   "cols": {
    "lenName": 16,
    "lenType": 16,
    "lenVar": 40
   },
   "kernels_config": {
    "python": {
     "delete_cmd_postfix": "",
     "delete_cmd_prefix": "del ",
     "library": "var_list.py",
     "varRefreshCmd": "print(var_dic_list())"
    },
    "r": {
     "delete_cmd_postfix": ") ",
     "delete_cmd_prefix": "rm(",
     "library": "var_list.r",
     "varRefreshCmd": "cat(var_dic_list()) "
    }
   },
   "types_to_exclude": [
    "module",
    "function",
    "builtin_function_or_method",
    "instance",
    "_Feature"
   ],
   "window_display": false
  }
 },
 "nbformat": 4,
 "nbformat_minor": 1
}
