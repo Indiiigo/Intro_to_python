{
 "cells": [
  {
   "cell_type": "markdown",
   "metadata": {
    "id": "SN-mb9j3Yc1X"
   },
   "source": [
    "# Assignment 2: Python basics and programming fundamentals\n",
    "Indira Sen, Claire Jordan, Elena Solar, Andri Rutschmann\n",
    "\n",
    "Winter Term 2023 / 2024\n",
    "\n",
    "In this first assignment we will practice how to use more advanced data structure like dictionaries as well more intricate programming concepts such as functions. You can score up to 15 points in this assignment. Please submit your solutions inside this notebook in your repository on GitHub. Be sure to add your name, email and matriculation number. The deadline for submission is on Tuesday, October 17, 23:00 hours. You will get individual feedback in your repository."
   ]
  },
  {
   "cell_type": "markdown",
   "metadata": {
    "id": "72ZcTAGWYc1b"
   },
   "source": [
    "## Ex 1 (Total: 4 points)\n",
    "This exercise covers variables, lists, and if-statements. You will repeat the first exercise of the first assignment but this time with functions."
   ]
  },
  {
   "cell_type": "markdown",
   "metadata": {
    "id": "-7-5-5waYc1b"
   },
   "source": [
    "Note: Please try to utilize functions during this exercise (instead of repeating tests!).\n",
    "\n",
    "A. Make a list of names that includes at least four people. (0.5 points)\n",
    "\n",
    "B. Write an if test that prints a message about the room being crowded, if there are more than three people in your list. (0.5 points)\n",
    "\n",
    "C. Modify your list so that there are only two people in it. Use one of the methods for removing people from the list, don't just redefine the list. (0.5 points)\n",
    "\n",
    "D. Run your if test again. There should be no output this time, because there are less than three people in the list. (1 point)\n",
    "\n",
    "E. Add an `else` statement to your if tests. If the `else` statement is run, have it print a message that the room is not very crowded. (0.5 point)\n",
    "\n",
    "F. Add some names to your list, so that there are at least six people in the list. Use one of the methods for appending people from the list, don't just redefine the list. (0.5 point)\n",
    "\n",
    "G. Modify your tests so that\n",
    "  - If there are more than 5 people, a message is printed about the room being very crowded.\n",
    "  - If there are 3-5 people, a message is printed about the room being crowded.\n",
    "  - If there are 1 or 2 people, a message is printed about the room not being crowded.\n",
    "  - If there are no people in the room, a message is printed abou the room being empty.\n",
    "  (0.5 points)"
   ]
  },
  {
   "cell_type": "code",
   "execution_count": null,
   "metadata": {
    "id": "BRivZfxYYc1b"
   },
   "outputs": [],
   "source": []
  },
  {
   "cell_type": "markdown",
   "metadata": {
    "id": "K8UhXKdwYc1b"
   },
   "source": [
    "## Ex 2 (Total: 5.5 points)"
   ]
  },
  {
   "cell_type": "markdown",
   "metadata": {
    "id": "vCY9U6Q2Yc1b"
   },
   "source": [
    "<a id=\"Exercises-nesting\"></a>\n",
    "#### Mountain Heights 2\n",
    "- This is an extension of [Mountain Heights](#exercise_mountain_heights). Make sure you save this program under a different filename, such as *mountain\\_heights_3.py*, so that you can go back to your original program if you need to.\n",
    "\n",
    "A. The list of [tallest mountains in the world](http://en.wikipedia.org/wiki/List_of_mountains_by_elevation) provided all elevations in meters. Convert each of these elevations to feet, given that a meter is approximately 3.28 feet. You can do these calculations by hand at this point. (1 point)\n",
    "\n",
    "B. Create a new dictionary, where the keys of the dictionary are still the mountains' names. This time however, the values of the dictionary should be a list of each mountain's elevation in meters, and then in feet: {'everest': [8848, 29029]} (1 point)\n",
    "\n",
    "C. Print out just the mountains' names, by looping through the keys of your dictionary. (0.5 points)\n",
    "\n",
    "D. Print out just the mountains' elevations in meters, by looping through the values of your dictionary and pulling out the first number from each list. (0.5 points)\n",
    "\n",
    "E. Print out just the mountains' elevations in feet, by looping through the values of your dictionary and pulling out the second number from each list. (0.5 points)\n",
    "\n",
    "F. Print out a series of statements telling how tall each mountain is: \"Everest is 8848 meters tall, or 29029 feet.\" (1 point)\n",
    "\n",
    "G. Bonus: Start with your original program from [Mountain Heights](#exercise_mountain_heights). Write a function that reads through the elevations in meters, and returns a list of elevations in feet. Use this list to create the nested dictionary described above. (1 point)"
   ]
  },
  {
   "cell_type": "code",
   "execution_count": null,
   "metadata": {
    "id": "ubkwD2i09qKN"
   },
   "outputs": [],
   "source": []
  },
  {
   "cell_type": "markdown",
   "metadata": {
    "id": "drk1BMvSYc1c"
   },
   "source": [
    "## Ex 3 (Total: 5.5 points)"
   ]
  },
  {
   "cell_type": "markdown",
   "metadata": {
    "id": "u8IfFneKYc1c"
   },
   "source": [
    "#### Mountain Heights 2\n",
    "- This is one more extension of Mountain Heights.\n",
    "\n",
    "A. Create a new dictionary, where the keys of the dictionary are once again the mountains' names. This time, the values of the dictionary are another dictionary. This dictionary should contain the elevation in either meters or feet, and the range that contains the mountain. For example: {'everest': {'elevation': 8848, 'range': 'himalaya'}}. (2 points)\n",
    "\n",
    "B. Print out just the mountains' names. (0.5 points)\n",
    "\n",
    "C. Print out just the mountains' elevations. (0.5 points)\n",
    "\n",
    "D. Print out just the range for each mountain. (0.5 points)\n",
    "\n",
    "E. Print out a series of statements that say everything you know about each mountain: \"Everest is an 8848-meter tall mountain in the Himalaya range.\" (2 points)"
   ]
  },
  {
   "cell_type": "code",
   "execution_count": null,
   "metadata": {
    "id": "wPiWEzm1Yc1c"
   },
   "outputs": [],
   "source": []
  }
 ],
 "metadata": {
  "colab": {
   "provenance": []
  },
  "kernelspec": {
   "display_name": "Python 3 (ipykernel)",
   "language": "python",
   "name": "python3"
  },
  "language_info": {
   "codemirror_mode": {
    "name": "ipython",
    "version": 3
   },
   "file_extension": ".py",
   "mimetype": "text/x-python",
   "name": "python",
   "nbconvert_exporter": "python",
   "pygments_lexer": "ipython3",
   "version": "3.11.5"
  },
  "toc": {
   "base_numbering": 1,
   "nav_menu": {},
   "number_sections": false,
   "sideBar": false,
   "skip_h1_title": true,
   "title_cell": "Table of Contents",
   "title_sidebar": "Contents",
   "toc_cell": false,
   "toc_position": {},
   "toc_section_display": false,
   "toc_window_display": false
  }
 },
 "nbformat": 4,
 "nbformat_minor": 1
}
