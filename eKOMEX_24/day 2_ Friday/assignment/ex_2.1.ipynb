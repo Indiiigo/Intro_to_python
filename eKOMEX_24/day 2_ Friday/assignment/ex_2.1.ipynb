{
 "cells": [
  {
   "cell_type": "markdown",
   "metadata": {
    "id": "SN-mb9j3Yc1X"
   },
   "source": [
    "# Exercise: Lists, Dictionaries, and Functions"
   ]
  },
  {
   "cell_type": "markdown",
   "metadata": {
    "id": "72ZcTAGWYc1b"
   },
   "source": [
    "## Exercise 1\n",
    "This exercise covers variables, lists, and if-statements. You will repeat the first exercise of the first assignment but this time with functions."
   ]
  },
  {
   "cell_type": "markdown",
   "metadata": {
    "id": "-7-5-5waYc1b"
   },
   "source": [
    "Note: Please try to utilize functions during this exercise (instead of repeating tests!).\n",
    "\n",
    "1. Make a list of names that includes at least four people.\n",
    "2. Write an if test that prints a message about the room being crowded, if there are more than three people in your list.\n",
    "3. Modify your list so that there are only two people in it. Use one of the methods for removing people from the list, don't just redefine the list.\n",
    "4. Run your if test again. There should be no output this time, because there are less than three people in the list.\n",
    "5. Add an `else` statement to your if tests. If the `else` statement is run, have it print a message that the room is not very crowded.\n",
    "6. Add some names to your list, so that there are at least six people in the list. Use one of the methods for appending people from the list, don't just redefine the list.\n",
    "7. Modify your tests so that\n",
    "  - If there are more than 5 people, a message is printed about the room being very crowded.\n",
    "  - If there are 3-5 people, a message is printed about the room being crowded.\n",
    "  - If there are 1 or 2 people, a message is printed about the room not being crowded.\n",
    "  - If there are no people in the room, a message is printed abou the room being empty."
   ]
  },
  {
   "cell_type": "code",
   "execution_count": null,
   "metadata": {},
   "outputs": [],
   "source": []
  },
  {
   "cell_type": "markdown",
   "metadata": {
    "id": "K8UhXKdwYc1b"
   },
   "source": [
    "## Exercise 2: Dictionary Exercises 1"
   ]
  },
  {
   "cell_type": "markdown",
   "metadata": {
    "id": "vCY9U6Q2Yc1b"
   },
   "source": [
    "<a id=\"Exercises-nesting\"></a>\n",
    "#### Mountain Heights 3\n",
    "- This is an extension of Mountain Heights. Make sure you save this program under a different filename, such as *mountain\\_heights_3.py*, so that you can go back to your original program if you need to.\n",
    "    - The list of [tallest mountains in the world](http://en.wikipedia.org/wiki/List_of_mountains_by_elevation) provided all elevations in meters. Convert each of these elevations to feet, given that a meter is approximately 3.28 feet. You can do these calculations by hand at this point.\n",
    "    - Create a new dictionary, where the keys of the dictionary are still the mountains' names. This time however, the values of the dictionary should be a list of each mountain's elevation in meters, and then in feet: {'everest': [8848, 29029]}\n",
    "    - Print out just the mountains' names, by looping through the keys of your dictionary.\n",
    "    - Print out just the mountains' elevations in meters, by looping through the values of your dictionary and pulling out the first number from each list.\n",
    "    - Print out just the mountains' elevations in feet, by looping through the values of your dictionary and pulling out the second number from each list.\n",
    "    - Print out a series of statements telling how tall each mountain is: \"Everest is 8848 meters tall, or 29029 feet.\"\n",
    "- Bonus:\n",
    "    - Start with your original program from Mountain Heights. Write a function that reads through the elevations in meters, and returns a list of elevations in feet. Use this list to create the nested dictionary described above."
   ]
  },
  {
   "cell_type": "code",
   "execution_count": null,
   "metadata": {},
   "outputs": [],
   "source": []
  }
 ],
 "metadata": {
  "colab": {
   "provenance": []
  },
  "kernelspec": {
   "display_name": "Python 3 (ipykernel)",
   "language": "python",
   "name": "python3"
  },
  "language_info": {
   "codemirror_mode": {
    "name": "ipython",
    "version": 3
   },
   "file_extension": ".py",
   "mimetype": "text/x-python",
   "name": "python",
   "nbconvert_exporter": "python",
   "pygments_lexer": "ipython3",
   "version": "3.11.5"
  },
  "toc": {
   "base_numbering": 1,
   "nav_menu": {},
   "number_sections": false,
   "sideBar": false,
   "skip_h1_title": true,
   "title_cell": "Table of Contents",
   "title_sidebar": "Contents",
   "toc_cell": false,
   "toc_position": {},
   "toc_section_display": false,
   "toc_window_display": false
  }
 },
 "nbformat": 4,
 "nbformat_minor": 1
}
