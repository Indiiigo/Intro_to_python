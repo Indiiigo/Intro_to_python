{
 "cells": [
  {
   "cell_type": "markdown",
   "metadata": {
    "id": "LkIbCCN7YI0U"
   },
   "source": [
    "This lecture is adapted from the great 'Introduction to Python' course from Eric Matthes (http://introtopython.org/) and, like the original, is available under an [MIT license](#License)."
   ]
  },
  {
   "cell_type": "markdown",
   "metadata": {
    "id": "l8muMFZmYI0V"
   },
   "source": [
    "# Variables, Strings and Numbers\n",
    "\n",
    "In this section, you will learn to store information in variables. You will learn about two types of data: strings, which are sets of characters, and numerical data types."
   ]
  },
  {
   "cell_type": "markdown",
   "metadata": {
    "id": "XeAA1BnVYI0V"
   },
   "source": [
    "## Variables\n",
    "A variable holds a value."
   ]
  },
  {
   "cell_type": "markdown",
   "metadata": {
    "id": "YJTAHiEmYI0V"
   },
   "source": [
    "### Example"
   ]
  },
  {
   "cell_type": "code",
   "execution_count": null,
   "metadata": {
    "id": "uAphCe_HYI0V"
   },
   "outputs": [],
   "source": [
    "message = \"Hello Python world!\"\n",
    "print(message)"
   ]
  },
  {
   "cell_type": "markdown",
   "metadata": {
    "id": "IqTWLpAxYI0W"
   },
   "source": [
    "A variable holds a value. You can change the value of a variable at any point ('reassign' the variable)."
   ]
  },
  {
   "cell_type": "code",
   "execution_count": null,
   "metadata": {
    "id": "BSVNzChCYI0W"
   },
   "outputs": [],
   "source": [
    "message = \"Hello Python world!\"\n",
    "print(message)\n",
    "\n",
    "message = \"Python is my favorite language!\"\n",
    "print(message)"
   ]
  },
  {
   "cell_type": "markdown",
   "metadata": {
    "id": "P58azswPYI0W"
   },
   "source": [
    "### Naming rules\n",
    "\n",
    "- Variables can only contain letters, numbers, and underscores. Variable names can start with a letter or an underscore, but can not start with a number. Variable names cannot contain \"-\" (minus), because it is an arithmatic operator in Python.\n",
    "- Spaces are not allowed in variable names, so we use underscores instead of spaces. For example, use student_name instead of \"student name\".\n",
    "- You cannot use [Python keywords](http://docs.python.org/3/reference/lexical_analysis.html#keywords) as variable names.\n",
    "- Variable names should be descriptive, without being too long. For example mc_wheels is better than just \"wheels\", and number_of_wheels_on_a_motorycle.\n",
    "- Be careful about using the lowercase letter l and the uppercase letter O in places where they could be confused with the numbers 1 and 0."
   ]
  },
  {
   "cell_type": "markdown",
   "metadata": {
    "id": "1z6kRbV9YI0W"
   },
   "source": [
    "### NameError\n",
    "\n",
    "There is one common error when using variables, that you will almost certainly encounter at some point. Take a look at this code, and see if you can figure out why it causes an error."
   ]
  },
  {
   "cell_type": "code",
   "execution_count": null,
   "metadata": {
    "id": "LN7WXliLYI0W"
   },
   "outputs": [],
   "source": [
    "message = \"Thank you for sharing Python with the world, Guido!\"\n",
    "print(mesage)"
   ]
  },
  {
   "cell_type": "markdown",
   "metadata": {
    "id": "PS4-FZ3KYI0W"
   },
   "source": [
    "Let's look through this error message. First, we see it is a NameError. Then we see the file that caused the error, and a green arrow shows us what line in that file caused the error. Then we get some more specific feedback, that \"name 'mesage' is not defined\".\n",
    "\n",
    "You may have already spotted the source of the error. We spelled message two different ways. Python does not care whether we use the variable name \"message\" or \"mesage\". Python only cares that the spellings of our variable names match every time we use them.\n",
    "\n",
    "This is pretty important, because it allows us to have a variable \"name\" with a single name in it, and then another variable \"names\" with a bunch of names in it.\n",
    "\n",
    "We can fix NameErrors by making sure all of our variable names are spelled consistently."
   ]
  },
  {
   "cell_type": "code",
   "execution_count": null,
   "metadata": {
    "id": "j6CFjlOPYI0X"
   },
   "outputs": [],
   "source": [
    "message = \"Thank you for sharing Python with the world, Guido!\"\n",
    "print(message)"
   ]
  },
  {
   "cell_type": "markdown",
   "metadata": {
    "id": "30JJVPpPYI0X"
   },
   "source": [
    "In case you didn't know [Guido](http://en.wikipedia.org/wiki/Guido_van_Rossum) [van Rossum](http://www.python.org/~guido/) created the Python language over 20 years ago, and he is considered Python's [Benevolent Dictator for Life](http://en.wikipedia.org/wiki/Benevolent_Dictator_for_Life). Guido still signs off on all major changes to the core Python language."
   ]
  },
  {
   "cell_type": "markdown",
   "metadata": {
    "id": "FEsALorkYI0X"
   },
   "source": [
    "### Ex 1.1\n",
    "1. Store a message in a variable, and then print that message.\n",
    "2. Store a new message in the same variable, and then print that new message."
   ]
  },
  {
   "cell_type": "code",
   "execution_count": null,
   "metadata": {
    "id": "cqq10zBYYI0X"
   },
   "outputs": [],
   "source": [
    "# %load \"11_var_string_num_ex1_1.py\"\n",
    "# Store a message in a variable\n",
    "msg = \"Hey\"\n",
    "# Print that message\n",
    "print(msg)\n",
    "\n",
    "# Store a new message in the same variable\n",
    "msg = \"How are you?\"\n",
    "# Print that new message\n",
    "print(msg)"
   ]
  },
  {
   "cell_type": "markdown",
   "metadata": {
    "id": "_Yhu_tOUYI0X"
   },
   "source": [
    "## Overview of the most basic data types\n",
    "\n",
    "| type | description |\n",
    "|----|---|\n",
    "| string | text |\n",
    "| int | integer number |\n",
    "| float  | floating point number |\n",
    "| boolean | True or False |\n",
    "\n",
    "We can check the type of a variable with the built-in function `type()`."
   ]
  },
  {
   "cell_type": "code",
   "execution_count": 2,
   "metadata": {
    "id": "YWIwcPgCYI0X"
   },
   "outputs": [
    {
     "data": {
      "text/plain": [
       "int"
      ]
     },
     "execution_count": 2,
     "metadata": {},
     "output_type": "execute_result"
    }
   ],
   "source": [
    "my_var = 5\n",
    "type(my_var)"
   ]
  },
  {
   "cell_type": "code",
   "execution_count": 3,
   "metadata": {
    "id": "lNIe949SYI0X"
   },
   "outputs": [
    {
     "data": {
      "text/plain": [
       "str"
      ]
     },
     "execution_count": 3,
     "metadata": {},
     "output_type": "execute_result"
    }
   ],
   "source": [
    "my_var = \"5\"\n",
    "type(my_var)"
   ]
  },
  {
   "cell_type": "code",
   "execution_count": 4,
   "metadata": {
    "id": "NBojTkfjYI0X"
   },
   "outputs": [
    {
     "data": {
      "text/plain": [
       "float"
      ]
     },
     "execution_count": 4,
     "metadata": {},
     "output_type": "execute_result"
    }
   ],
   "source": [
    "type(5.0)"
   ]
  },
  {
   "cell_type": "code",
   "execution_count": 6,
   "metadata": {
    "id": "bApaxMJkYI0X"
   },
   "outputs": [
    {
     "data": {
      "text/plain": [
       "str"
      ]
     },
     "execution_count": 6,
     "metadata": {},
     "output_type": "execute_result"
    }
   ],
   "source": [
    "type('True')"
   ]
  },
  {
   "cell_type": "markdown",
   "metadata": {
    "id": "WAvZVGopYI0X"
   },
   "source": [
    "## Strings\n",
    "\n",
    "Strings are sets of characters. Strings are easier to understand by looking at some examples."
   ]
  },
  {
   "cell_type": "markdown",
   "metadata": {
    "id": "qEjndem6YI0X"
   },
   "source": [
    "### Single and double quotes\n",
    "\n",
    "Strings are contained by either single or double quotes."
   ]
  },
  {
   "cell_type": "code",
   "execution_count": 7,
   "metadata": {
    "id": "UcYJ9WVRYI0X"
   },
   "outputs": [],
   "source": [
    "my_string = \"This is a double-quoted string.\"\n",
    "my_string = 'This is a single-quoted string.'"
   ]
  },
  {
   "cell_type": "markdown",
   "metadata": {
    "id": "FrzlTTxhYI0Y"
   },
   "source": [
    "This lets us make strings that contain quotations."
   ]
  },
  {
   "cell_type": "code",
   "execution_count": 8,
   "metadata": {
    "id": "Df-ubeO7YI0Y"
   },
   "outputs": [
    {
     "name": "stdout",
     "output_type": "stream",
     "text": [
      "Linus Torvalds once said, 'Any program is only as good as it is useful.'\n"
     ]
    }
   ],
   "source": [
    "quote = \"Linus Torvalds once said, 'Any program is only as good as it is useful.'\"\n",
    "# NOTE: single quotes are part of the variable\n",
    "print(quote)"
   ]
  },
  {
   "cell_type": "code",
   "execution_count": 10,
   "metadata": {},
   "outputs": [
    {
     "name": "stdout",
     "output_type": "stream",
     "text": [
      "Linus Torvalds once said, \"Any program is only as good as it is useful.\"\n"
     ]
    }
   ],
   "source": [
    "quote = \"Linus Torvalds once said, \\\"Any program is only as good as it is useful.\\\"\"\n",
    "# NOTE: single quotes are part of the variable\n",
    "print(quote)"
   ]
  },
  {
   "cell_type": "markdown",
   "metadata": {
    "id": "qmoLzvj-YI0Y"
   },
   "source": [
    "### Changing case\n",
    "\n",
    "You can easily change the case of a string, to present it the way you want it to look."
   ]
  },
  {
   "cell_type": "code",
   "execution_count": 11,
   "metadata": {
    "id": "QpvB5PV5YI0Y",
    "scrolled": true
   },
   "outputs": [
    {
     "name": "stdout",
     "output_type": "stream",
     "text": [
      "eric\n",
      "Eric\n"
     ]
    }
   ],
   "source": [
    "first_name = 'eric'\n",
    "\n",
    "print(first_name)\n",
    "first_name = first_name.title()\n",
    "print(first_name)"
   ]
  },
  {
   "cell_type": "markdown",
   "metadata": {
    "id": "brvIRTsSYI0Y"
   },
   "source": [
    "It is often good to store data in lower case, and then change the case as you want to for presentation. This catches some typos. It also makes sure that 'eric', 'Eric', and 'ERIC' are not considered three different people.\n",
    "\n",
    "Some of the most common cases are lower, title, and upper."
   ]
  },
  {
   "cell_type": "code",
   "execution_count": 12,
   "metadata": {
    "id": "blSFSnayYI0Y"
   },
   "outputs": [
    {
     "name": "stdout",
     "output_type": "stream",
     "text": [
      "ERIC\n",
      "eric\n"
     ]
    }
   ],
   "source": [
    "first_name = 'eric'\n",
    "\n",
    "first_name = first_name.upper()\n",
    "print(first_name)\n",
    "\n",
    "first_name = first_name.lower()\n",
    "print(first_name)"
   ]
  },
  {
   "cell_type": "code",
   "execution_count": 15,
   "metadata": {},
   "outputs": [
    {
     "data": {
      "text/plain": [
       "False"
      ]
     },
     "execution_count": 15,
     "metadata": {},
     "output_type": "execute_result"
    }
   ],
   "source": [
    "first_name.startswith('E')"
   ]
  },
  {
   "cell_type": "markdown",
   "metadata": {
    "id": "19omJ5NaYI0Y"
   },
   "source": [
    "You will see this syntax quite often, where a variable name is followed by a dot and then the name of an action, followed by a set of parentheses. The parentheses may be empty, or they may contain some values.\n",
    "\n",
    "variable_name.action()\n",
    "\n",
    "In this example, the word \"action\" is the name of a method. A method is something that can be done to a variable. The methods 'lower', 'title', and 'upper' are all functions that have been written into the Python language, which do something to strings. Later on, you will learn to write your own methods."
   ]
  },
  {
   "cell_type": "markdown",
   "metadata": {
    "id": "RFdx22hwYI0Y"
   },
   "source": [
    "### Combining strings (concatenation)\n",
    "\n",
    "It is often very useful to be able to combine strings into a message or page element that we want to display. Again, this is easier to understand through an example."
   ]
  },
  {
   "cell_type": "code",
   "execution_count": 16,
   "metadata": {
    "id": "fFXl-u1uYI0Y"
   },
   "outputs": [
    {
     "name": "stdout",
     "output_type": "stream",
     "text": [
      "Ada Lovelace\n"
     ]
    }
   ],
   "source": [
    "first_name = 'ada'\n",
    "last_name = 'lovelace'\n",
    "\n",
    "full_name = first_name + ' ' + last_name\n",
    "\n",
    "print(full_name.title())"
   ]
  },
  {
   "cell_type": "markdown",
   "metadata": {
    "id": "vkzw4AEdYI0Y"
   },
   "source": [
    "The plus sign combines two strings into one, which is called \"concatenation\". You can use as many plus signs as you want in composing messages. In fact, many web pages are written as giant strings which are put together through a long series of string concatenations."
   ]
  },
  {
   "cell_type": "code",
   "execution_count": 17,
   "metadata": {
    "id": "eKJcyq95YI0Y"
   },
   "outputs": [
    {
     "name": "stdout",
     "output_type": "stream",
     "text": [
      "Ada Lovelace was considered the world's first computer programmer.\n"
     ]
    }
   ],
   "source": [
    "first_name = 'ada'\n",
    "last_name = 'lovelace'\n",
    "full_name = first_name + ' ' + last_name\n",
    "\n",
    "message = full_name.title() + ' ' + \"was considered the world's first computer programmer.\"\n",
    "\n",
    "print(message)"
   ]
  },
  {
   "cell_type": "markdown",
   "metadata": {
    "id": "VzgApJtKYI0Y"
   },
   "source": [
    "If you don't know who Ada Lovelace is, you might want to go read what [Wikipedia](http://en.wikipedia.org/wiki/Ada_Lovelace) or the [Computer History Museum](http://www.computerhistory.org/babbage/adalovelace/) have to say about her. Her life and her work are also the inspiration for the [Ada Initiative](http://adainitiative.org/faq/about-ada-lovelace/), which supports women who are involved in technical fields."
   ]
  },
  {
   "cell_type": "markdown",
   "metadata": {
    "id": "jIvnQoC_YI0Y"
   },
   "source": [
    "### Whitespace\n",
    "\n",
    "The term \"whitespace\" refers to characters that the computer is aware of, but are invisible to readers. The most common whitespace characters are spaces, tabs, and newlines.\n",
    "\n",
    "Spaces are easy to create, because you have been using them as long as you have been using computers. Tabs and newlines are represented by special character combinations.\n",
    "\n",
    "The two-character combination \"\\t\" makes a tab appear in a string. Tabs can be used anywhere you like in a string."
   ]
  },
  {
   "cell_type": "code",
   "execution_count": 18,
   "metadata": {
    "id": "r_7FMThMYI0Z"
   },
   "outputs": [
    {
     "name": "stdout",
     "output_type": "stream",
     "text": [
      "Hello everyone!\n"
     ]
    }
   ],
   "source": [
    "print(\"Hello everyone!\")"
   ]
  },
  {
   "cell_type": "code",
   "execution_count": 19,
   "metadata": {
    "id": "BnwnBRAMYI0Z"
   },
   "outputs": [
    {
     "name": "stdout",
     "output_type": "stream",
     "text": [
      "\tHello everyone!\n"
     ]
    }
   ],
   "source": [
    "print(\"\\tHello everyone!\")"
   ]
  },
  {
   "cell_type": "code",
   "execution_count": 20,
   "metadata": {
    "id": "p-A1sETXYI0d"
   },
   "outputs": [
    {
     "name": "stdout",
     "output_type": "stream",
     "text": [
      "Hello \teveryone!\n"
     ]
    }
   ],
   "source": [
    "print(\"Hello \\teveryone!\")"
   ]
  },
  {
   "cell_type": "markdown",
   "metadata": {
    "id": "Txw2-0gIYI0e"
   },
   "source": [
    "The combination \"\\n\" makes a newline appear in a string. You can use newlines anywhere you like in a string."
   ]
  },
  {
   "cell_type": "code",
   "execution_count": 21,
   "metadata": {
    "id": "04mhkxvUYI0e"
   },
   "outputs": [
    {
     "name": "stdout",
     "output_type": "stream",
     "text": [
      "Hello everyone!\n"
     ]
    }
   ],
   "source": [
    "print(\"Hello everyone!\")"
   ]
  },
  {
   "cell_type": "code",
   "execution_count": 22,
   "metadata": {
    "id": "_H8vypqUYI0e"
   },
   "outputs": [
    {
     "name": "stdout",
     "output_type": "stream",
     "text": [
      "\n",
      "Hello everyone!\n"
     ]
    }
   ],
   "source": [
    "print(\"\\nHello everyone!\")"
   ]
  },
  {
   "cell_type": "code",
   "execution_count": 23,
   "metadata": {
    "id": "Ra9GTlnaYI0e"
   },
   "outputs": [
    {
     "name": "stdout",
     "output_type": "stream",
     "text": [
      "Hello \n",
      "everyone!\n"
     ]
    }
   ],
   "source": [
    "print(\"Hello \\neveryone!\")"
   ]
  },
  {
   "cell_type": "code",
   "execution_count": 24,
   "metadata": {
    "id": "-66ZVCc2YI0e",
    "scrolled": true
   },
   "outputs": [
    {
     "name": "stdout",
     "output_type": "stream",
     "text": [
      "\n",
      "\n",
      "\n",
      "Hello everyone!\n"
     ]
    }
   ],
   "source": [
    "print(\"\\n\\n\\nHello everyone!\")"
   ]
  },
  {
   "cell_type": "markdown",
   "metadata": {
    "id": "v4rIxtQIYI0e"
   },
   "source": [
    "#### Stripping whitespace\n",
    "\n",
    "Many times you will allow users to enter text into a box, and then you will read that text and use it. It is really easy for people to include extra whitespace at the beginning or end of their text. Whitespace includes spaces, tabs, and newlines.\n",
    "\n",
    "It is often a good idea to strip this whitespace from strings before you start working with them. For example, you might want to let people log in, and you probably want to treat 'eric ' as 'eric' when you are trying to see if a person named as \"Eric\" exists on your system.\n",
    "\n",
    "You can strip whitespace from the left side, the right side, or both sides of a string."
   ]
  },
  {
   "cell_type": "code",
   "execution_count": 25,
   "metadata": {
    "id": "jxZ8dQ7zYI0e"
   },
   "outputs": [],
   "source": [
    "name = ' \\neric '"
   ]
  },
  {
   "cell_type": "code",
   "execution_count": 26,
   "metadata": {
    "id": "QKrUCp5jYI0e"
   },
   "outputs": [
    {
     "name": "stdout",
     "output_type": "stream",
     "text": [
      "- \n",
      "eric -\n"
     ]
    }
   ],
   "source": [
    "print('-' + name + '-')"
   ]
  },
  {
   "cell_type": "code",
   "execution_count": 27,
   "metadata": {
    "id": "PCifsGvEYI0e"
   },
   "outputs": [
    {
     "name": "stdout",
     "output_type": "stream",
     "text": [
      "-eric-\n"
     ]
    }
   ],
   "source": [
    "print('-' + name.strip() + '-')"
   ]
  },
  {
   "cell_type": "markdown",
   "metadata": {
    "id": "9CHe5VbrYI0e"
   },
   "source": [
    "### More string methods"
   ]
  },
  {
   "cell_type": "code",
   "execution_count": 28,
   "metadata": {
    "id": "43sK2Q8HYI0e"
   },
   "outputs": [
    {
     "name": "stdout",
     "output_type": "stream",
     "text": [
      "python is the new favorite language of someone\n"
     ]
    }
   ],
   "source": [
    "favorite_language = \"python\"\n",
    "person = \"someone\"\n",
    "# create a new string by using .format() method\n",
    "sent = \"{} is the new favorite language of {}\".format(favorite_language, person)\n",
    "print(sent)\n",
    "# sent = favorite_language + \" is the new favorite language of \" + person"
   ]
  },
  {
   "cell_type": "code",
   "execution_count": 29,
   "metadata": {
    "id": "Ywc6ezr9YI0e"
   },
   "outputs": [],
   "source": [
    "s = \"Python is my new favorite language\""
   ]
  },
  {
   "cell_type": "code",
   "execution_count": 30,
   "metadata": {
    "id": "qxiXtaaDYI0f"
   },
   "outputs": [
    {
     "data": {
      "text/plain": [
       "True"
      ]
     },
     "execution_count": 30,
     "metadata": {},
     "output_type": "execute_result"
    }
   ],
   "source": [
    "s.startswith('P')"
   ]
  },
  {
   "cell_type": "code",
   "execution_count": 31,
   "metadata": {
    "id": "Rh8ZTF-5YI0f"
   },
   "outputs": [
    {
     "data": {
      "text/plain": [
       "False"
      ]
     },
     "execution_count": 31,
     "metadata": {},
     "output_type": "execute_result"
    }
   ],
   "source": [
    "s.startswith('p')  # Be careful, its case sensitive"
   ]
  },
  {
   "cell_type": "code",
   "execution_count": 32,
   "metadata": {
    "id": "16aiLfP_YI0f"
   },
   "outputs": [
    {
     "data": {
      "text/plain": [
       "True"
      ]
     },
     "execution_count": 32,
     "metadata": {},
     "output_type": "execute_result"
    }
   ],
   "source": [
    "s.endswith('language')"
   ]
  },
  {
   "cell_type": "code",
   "execution_count": 33,
   "metadata": {
    "id": "YWTdzQ8eYI0f"
   },
   "outputs": [
    {
     "data": {
      "text/plain": [
       "'Python is your new favorite language'"
      ]
     },
     "execution_count": 33,
     "metadata": {},
     "output_type": "execute_result"
    }
   ],
   "source": [
    "s.replace(\"my\", \"your\")"
   ]
  },
  {
   "cell_type": "code",
   "execution_count": 34,
   "metadata": {
    "id": "HtCk_e7aYI0f"
   },
   "outputs": [
    {
     "data": {
      "text/plain": [
       "'Python is my new f4vorite l4ngu4ge'"
      ]
     },
     "execution_count": 34,
     "metadata": {},
     "output_type": "execute_result"
    }
   ],
   "source": [
    "s.replace(\"a\", \"4\")  # replaces all occurences"
   ]
  },
  {
   "cell_type": "code",
   "execution_count": 35,
   "metadata": {
    "id": "kCSVZMZ2YI0f"
   },
   "outputs": [
    {
     "data": {
      "text/plain": [
       "'Python is my new favorite language'"
      ]
     },
     "execution_count": 35,
     "metadata": {},
     "output_type": "execute_result"
    }
   ],
   "source": [
    "# but be careful: replace() does not change the variable holding the string until you reassign 's'\n",
    "# it just returns the result of the operation (it is not a \"in-place\" operation)\n",
    "s"
   ]
  },
  {
   "cell_type": "code",
   "execution_count": 36,
   "metadata": {
    "id": "MkbZvdKEYI0f"
   },
   "outputs": [
    {
     "data": {
      "text/plain": [
       "'Pyth0n is my new f4v0rite l4ngu4ge'"
      ]
     },
     "execution_count": 36,
     "metadata": {},
     "output_type": "execute_result"
    }
   ],
   "source": [
    "s = s.replace(\"a\", \"4\")\n",
    "s = s.replace(\"o\", \"0\")\n",
    "\n",
    "s"
   ]
  },
  {
   "cell_type": "code",
   "execution_count": 40,
   "metadata": {
    "id": "rY-e937BYI0f"
   },
   "outputs": [
    {
     "data": {
      "text/plain": [
       "['Pyth0n is my new f', 'v0rite l', 'ngu', 'ge']"
      ]
     },
     "execution_count": 40,
     "metadata": {},
     "output_type": "execute_result"
    }
   ],
   "source": [
    "s.split('4')"
   ]
  },
  {
   "cell_type": "markdown",
   "metadata": {
    "id": "9XRQgOOAYI0f"
   },
   "source": [
    "We can split strings at defined characters"
   ]
  },
  {
   "cell_type": "code",
   "execution_count": 44,
   "metadata": {
    "id": "SFt6A7QlYI0f"
   },
   "outputs": [
    {
     "data": {
      "text/plain": [
       "['dog', ' cat', ' tiger', ' mouse', ' liger', ' bear']"
      ]
     },
     "execution_count": 44,
     "metadata": {},
     "output_type": "execute_result"
    }
   ],
   "source": [
    "s = \"dog, cat, tiger, mouse, liger, bear\"\n",
    "s.split(\",\")"
   ]
  },
  {
   "cell_type": "markdown",
   "metadata": {
    "id": "3dk7rGuiYI0f"
   },
   "source": [
    "### Ex 1.2\n",
    "\n",
    "1. Find a quote that you like.\n",
    "\n",
    " 1. Store the quote in a variable.\n",
    " 2. Store the full name of the person in another variable.\n",
    " 3. Print a sentence in such format \"X once said, 'quote comes here'.\" (use .format() method)\n",
    "\n",
    "2. Store a first name and a last name, in lowercase, in 2 different variables.\n",
    " 1. Using that variables store the full name in another variable (concatenation)\n",
    " 2. Print the full name in lowercase, Titlecase, and UPPERCASE."
   ]
  },
  {
   "cell_type": "code",
   "execution_count": 45,
   "metadata": {},
   "outputs": [
    {
     "name": "stdout",
     "output_type": "stream",
     "text": [
      "someone smart once said 'live in the moment'\n"
     ]
    }
   ],
   "source": [
    "fab_quote = 'live in the moment'\n",
    "person = 'someone smart'\n",
    "quote = \"{} once said '{}'\".format(person, fab_quote)\n",
    "print(quote)"
   ]
  },
  {
   "cell_type": "code",
   "execution_count": 46,
   "metadata": {},
   "outputs": [
    {
     "data": {
      "text/plain": [
       "'Anna Smith'"
      ]
     },
     "execution_count": 46,
     "metadata": {},
     "output_type": "execute_result"
    }
   ],
   "source": [
    "fname = 'Anna'\n",
    "lname = 'Smith'\n",
    "fullname = fname + ' ' + lname\n",
    "fullname"
   ]
  },
  {
   "cell_type": "code",
   "execution_count": 48,
   "metadata": {},
   "outputs": [
    {
     "data": {
      "text/plain": [
       "'anna smith'"
      ]
     },
     "execution_count": 48,
     "metadata": {},
     "output_type": "execute_result"
    }
   ],
   "source": [
    "fullname.lower()"
   ]
  },
  {
   "cell_type": "code",
   "execution_count": null,
   "metadata": {
    "id": "1c3W2gKuYI0f"
   },
   "outputs": [],
   "source": [
    "# %load \"11_var_string_num_ex1_2.py\"\n",
    "print(\"####### Part 1:\")\n",
    "# Store the quote in a variable.\n",
    "quote = \"One of my most productive days was throwing away 1000 lines of code\"\n",
    "# Store the full name of the person in another variable.\n",
    "person = \"Ken Thompson\"\n",
    "\n",
    "# Print a sentence in such format \"X once said, 'quote comes here'.\" \n",
    "sentence = \"{} once said, '{}'.\".format(person, quote)\n",
    "print(sentence)\n",
    "\n",
    "print(\"####### Part 2:\")\n",
    "# Store a first name and a last name, in lowercase, in 2 different variables.\n",
    "first_name = \"name\"\n",
    "last_name = \"surname\"\n",
    "# Using that variables store the full name in another variable (concatenation)\n",
    "full_name = first_name + \" \" + last_name\n",
    "# full_name = \"{} {}\".format(first_name, last_name)\n",
    "\n",
    "# Print the full name in lowercase, Titlecase, and UPPERCASE.\n",
    "print(full_name)\n",
    "print(full_name.lower())\n",
    "print(full_name.title())\n",
    "print(full_name.upper())"
   ]
  },
  {
   "cell_type": "markdown",
   "metadata": {
    "id": "gZ0ZmLy7YI0g"
   },
   "source": [
    "## Numbers\n",
    "\n",
    "Dealing with simple numerical data is fairly straightforward in Python, but there are a few things you should know about.\n",
    "\n",
    "Some Arithmetic Operators:\n",
    "\n",
    "| Symbol | Task Performed |\n",
    "|----|---|\n",
    "| +  | Addition |\n",
    "| -  | Subtraction |\n",
    "| *  | multiplication |\n",
    "| /  | division |\n",
    "| //  | floor division |\n",
    "| %  | modulus |\n",
    "| **  | to the power of |"
   ]
  },
  {
   "cell_type": "code",
   "execution_count": 50,
   "metadata": {},
   "outputs": [
    {
     "data": {
      "text/plain": [
       "1.6666666666666667"
      ]
     },
     "execution_count": 50,
     "metadata": {},
     "output_type": "execute_result"
    }
   ],
   "source": [
    "5 / 3"
   ]
  },
  {
   "cell_type": "code",
   "execution_count": 51,
   "metadata": {},
   "outputs": [
    {
     "data": {
      "text/plain": [
       "1"
      ]
     },
     "execution_count": 51,
     "metadata": {},
     "output_type": "execute_result"
    }
   ],
   "source": [
    "5 // 3"
   ]
  },
  {
   "cell_type": "code",
   "execution_count": 52,
   "metadata": {},
   "outputs": [
    {
     "data": {
      "text/plain": [
       "2"
      ]
     },
     "execution_count": 52,
     "metadata": {},
     "output_type": "execute_result"
    }
   ],
   "source": [
    "5 % 3"
   ]
  },
  {
   "cell_type": "markdown",
   "metadata": {
    "id": "_nGE67G2YI0g"
   },
   "source": [
    "### Integers\n",
    "\n",
    "You can do all of the basic operations with integers, and everything should behave as you expect. Addition and subtraction use the standard plus and minus symbols. Multiplication uses the asterisk, and division uses a forward slash. Exponents use two asterisks."
   ]
  },
  {
   "cell_type": "code",
   "execution_count": 53,
   "metadata": {
    "id": "-uSMI76AYI0g"
   },
   "outputs": [
    {
     "data": {
      "text/plain": [
       "5"
      ]
     },
     "execution_count": 53,
     "metadata": {},
     "output_type": "execute_result"
    }
   ],
   "source": [
    "3+2"
   ]
  },
  {
   "cell_type": "code",
   "execution_count": 54,
   "metadata": {
    "id": "IoW1kf43YI0g"
   },
   "outputs": [
    {
     "data": {
      "text/plain": [
       "1"
      ]
     },
     "execution_count": 54,
     "metadata": {},
     "output_type": "execute_result"
    }
   ],
   "source": [
    "3-2"
   ]
  },
  {
   "cell_type": "code",
   "execution_count": 55,
   "metadata": {
    "id": "xQjJ_1etYI0g"
   },
   "outputs": [
    {
     "data": {
      "text/plain": [
       "6"
      ]
     },
     "execution_count": 55,
     "metadata": {},
     "output_type": "execute_result"
    }
   ],
   "source": [
    "3*2"
   ]
  },
  {
   "cell_type": "code",
   "execution_count": 56,
   "metadata": {
    "id": "wEYGYX5YYI0g"
   },
   "outputs": [
    {
     "data": {
      "text/plain": [
       "2.5"
      ]
     },
     "execution_count": 56,
     "metadata": {},
     "output_type": "execute_result"
    }
   ],
   "source": [
    "5/2  # Note that result is float"
   ]
  },
  {
   "cell_type": "code",
   "execution_count": 57,
   "metadata": {
    "id": "2RlzVcCEYI0g"
   },
   "outputs": [
    {
     "data": {
      "text/plain": [
       "2"
      ]
     },
     "execution_count": 57,
     "metadata": {},
     "output_type": "execute_result"
    }
   ],
   "source": [
    "5//2"
   ]
  },
  {
   "cell_type": "code",
   "execution_count": 58,
   "metadata": {
    "id": "Fzaxy826YI0g"
   },
   "outputs": [
    {
     "data": {
      "text/plain": [
       "1"
      ]
     },
     "execution_count": 58,
     "metadata": {},
     "output_type": "execute_result"
    }
   ],
   "source": [
    "5%2"
   ]
  },
  {
   "cell_type": "code",
   "execution_count": 59,
   "metadata": {
    "id": "ELQWNch1YI0g"
   },
   "outputs": [
    {
     "data": {
      "text/plain": [
       "9"
      ]
     },
     "execution_count": 59,
     "metadata": {},
     "output_type": "execute_result"
    }
   ],
   "source": [
    "3**2"
   ]
  },
  {
   "cell_type": "markdown",
   "metadata": {
    "id": "km86cKklYI0g"
   },
   "source": [
    "You can use parentheses to modify the standard order of operations."
   ]
  },
  {
   "cell_type": "code",
   "execution_count": 60,
   "metadata": {
    "id": "0SuRXdp8YI0g"
   },
   "outputs": [
    {
     "data": {
      "text/plain": [
       "14"
      ]
     },
     "execution_count": 60,
     "metadata": {},
     "output_type": "execute_result"
    }
   ],
   "source": [
    "standard_order = 2+3*4\n",
    "standard_order"
   ]
  },
  {
   "cell_type": "code",
   "execution_count": 61,
   "metadata": {
    "id": "2UwqPjPBYI0g"
   },
   "outputs": [
    {
     "data": {
      "text/plain": [
       "20"
      ]
     },
     "execution_count": 61,
     "metadata": {},
     "output_type": "execute_result"
    }
   ],
   "source": [
    "my_order = (2+3)*4\n",
    "my_order"
   ]
  },
  {
   "cell_type": "markdown",
   "metadata": {
    "id": "txWPcKW1YI0g"
   },
   "source": [
    "### Floating-Point numbers\n",
    "\n",
    "Floating-point numbers refer to any number with a decimal point. Most of the time, you can think of floating point numbers as decimals, and they will behave as you expect them to."
   ]
  },
  {
   "cell_type": "code",
   "execution_count": 62,
   "metadata": {
    "id": "WmEqn9ExYI0h"
   },
   "outputs": [
    {
     "data": {
      "text/plain": [
       "0.2"
      ]
     },
     "execution_count": 62,
     "metadata": {},
     "output_type": "execute_result"
    }
   ],
   "source": [
    "0.1+0.1"
   ]
  },
  {
   "cell_type": "code",
   "execution_count": 63,
   "metadata": {
    "id": "WbmCrsWFYI0h"
   },
   "outputs": [
    {
     "data": {
      "text/plain": [
       "1.5"
      ]
     },
     "execution_count": 63,
     "metadata": {},
     "output_type": "execute_result"
    }
   ],
   "source": [
    "3/2"
   ]
  },
  {
   "cell_type": "markdown",
   "metadata": {
    "id": "31eQv2tfYI0h"
   },
   "source": [
    "## Some built-in functions"
   ]
  },
  {
   "cell_type": "markdown",
   "metadata": {
    "id": "fwm1_BguYI0h"
   },
   "source": [
    "There are several built-in functions in Python that you can always call, see https://docs.python.org/3/library/functions.html for a full list. Here are some examples to apply on numbers and strings:"
   ]
  },
  {
   "cell_type": "code",
   "execution_count": 64,
   "metadata": {
    "id": "agTq6JPzYI0h"
   },
   "outputs": [
    {
     "data": {
      "text/plain": [
       "24"
      ]
     },
     "execution_count": 64,
     "metadata": {},
     "output_type": "execute_result"
    }
   ],
   "source": [
    "len(\"How long is this string?\")"
   ]
  },
  {
   "cell_type": "code",
   "execution_count": 65,
   "metadata": {
    "id": "M8WH-wQgYI0h"
   },
   "outputs": [
    {
     "data": {
      "text/plain": [
       "'10'"
      ]
     },
     "execution_count": 65,
     "metadata": {},
     "output_type": "execute_result"
    }
   ],
   "source": [
    "str(10)"
   ]
  },
  {
   "cell_type": "code",
   "execution_count": 66,
   "metadata": {
    "id": "zbrDwc5PYI0h"
   },
   "outputs": [
    {
     "data": {
      "text/plain": [
       "10"
      ]
     },
     "execution_count": 66,
     "metadata": {},
     "output_type": "execute_result"
    }
   ],
   "source": [
    "int(\"10\")"
   ]
  },
  {
   "cell_type": "code",
   "execution_count": 67,
   "metadata": {},
   "outputs": [
    {
     "ename": "ValueError",
     "evalue": "invalid literal for int() with base 10: 'a'",
     "output_type": "error",
     "traceback": [
      "\u001b[1;31m---------------------------------------------------------------------------\u001b[0m",
      "\u001b[1;31mValueError\u001b[0m                                Traceback (most recent call last)",
      "Cell \u001b[1;32mIn[67], line 1\u001b[0m\n\u001b[1;32m----> 1\u001b[0m \u001b[38;5;28mint\u001b[39m(\u001b[38;5;124m'\u001b[39m\u001b[38;5;124ma\u001b[39m\u001b[38;5;124m'\u001b[39m)\n",
      "\u001b[1;31mValueError\u001b[0m: invalid literal for int() with base 10: 'a'"
     ]
    }
   ],
   "source": [
    "int('a')"
   ]
  },
  {
   "cell_type": "code",
   "execution_count": 68,
   "metadata": {
    "id": "fFucpqbzYI0h"
   },
   "outputs": [
    {
     "data": {
      "text/plain": [
       "5"
      ]
     },
     "execution_count": 68,
     "metadata": {},
     "output_type": "execute_result"
    }
   ],
   "source": [
    "max(3, 5)"
   ]
  },
  {
   "cell_type": "code",
   "execution_count": 69,
   "metadata": {
    "id": "B29asoEPYI0h"
   },
   "outputs": [
    {
     "data": {
      "text/plain": [
       "5.5"
      ]
     },
     "execution_count": 69,
     "metadata": {},
     "output_type": "execute_result"
    }
   ],
   "source": [
    "max(3, 5, 5.5)"
   ]
  },
  {
   "cell_type": "code",
   "execution_count": 70,
   "metadata": {
    "id": "oaXq9juaYI0h"
   },
   "outputs": [
    {
     "data": {
      "text/plain": [
       "1"
      ]
     },
     "execution_count": 70,
     "metadata": {},
     "output_type": "execute_result"
    }
   ],
   "source": [
    "min(3, 5, 1)"
   ]
  },
  {
   "cell_type": "code",
   "execution_count": 71,
   "metadata": {
    "id": "A7xO7O9sYI0h"
   },
   "outputs": [
    {
     "data": {
      "text/plain": [
       "5"
      ]
     },
     "execution_count": 71,
     "metadata": {},
     "output_type": "execute_result"
    }
   ],
   "source": [
    "abs(-5)"
   ]
  },
  {
   "cell_type": "markdown",
   "metadata": {
    "id": "JV6IKqXZYI0i"
   },
   "source": [
    "## Comments\n",
    "\n",
    "As you begin to write more complicated code, you will have to spend more time thinking about how to code solutions to the problems you want to solve. Once you come up with an idea, you will spend a fair amount of time troubleshooting your code, and revising your overall approach.\n",
    "\n",
    "Comments allow you to write in human language, within your program. In Python, any line that starts with a **hash** (`#`) symbol is ignored by the Python interpreter."
   ]
  },
  {
   "cell_type": "code",
   "execution_count": 72,
   "metadata": {
    "id": "IBtb3hqTYI0i"
   },
   "outputs": [
    {
     "name": "stdout",
     "output_type": "stream",
     "text": [
      "This line is not a comment, it is code.\n"
     ]
    }
   ],
   "source": [
    "# This line is a comment.\n",
    "print(\"This line is not a comment, it is code.\")  # This is another comment."
   ]
  },
  {
   "cell_type": "code",
   "execution_count": 75,
   "metadata": {},
   "outputs": [
    {
     "name": "stdout",
     "output_type": "stream",
     "text": [
      "apple\n"
     ]
    }
   ],
   "source": [
    "'''\n",
    "and it spans multiple lines\n",
    "i have a lot to say\n",
    "'''\n",
    "\n",
    "a = 'apple'\n",
    "print(a)"
   ]
  },
  {
   "cell_type": "code",
   "execution_count": null,
   "metadata": {},
   "outputs": [],
   "source": []
  },
  {
   "cell_type": "markdown",
   "metadata": {
    "id": "PFN9MxVhYI0i"
   },
   "source": [
    "### What makes a good comment?\n",
    "\n",
    "- It is short and to the point, but a complete thought. Most comments should be written in complete sentences.\n",
    "- It explains your thinking, so that when you return to the code later you will understand how you were approaching the problem.\n",
    "- It explains your thinking, so that others who work with your code will understand your overall approach to a problem.\n",
    "- It explains particularly difficult sections of code in detail.\n",
    "\n",
    "### When should you write comments?\n",
    "\n",
    "- When you have to think about code before writing it.\n",
    "- When you are likely to forget later exactly how you were approaching a problem.\n",
    "- When there is more than one way to solve a problem.\n",
    "- When others are unlikely to anticipate your way of thinking about a problem.\n",
    "\n",
    "Writing good comments is one of the clear signs of a good programmer. If you have any real interest in taking programming seriously, start using comments now. You will see them throughout the examples in these notebooks."
   ]
  },
  {
   "cell_type": "markdown",
   "metadata": {
    "id": "pHphGVauYI0i"
   },
   "source": [
    "NOTE: Please comment your code from now on in each exercise!"
   ]
  },
  {
   "cell_type": "markdown",
   "metadata": {
    "id": "vqzhlCKrYI0i"
   },
   "source": [
    "## Optional"
   ]
  },
  {
   "cell_type": "markdown",
   "metadata": {
    "id": "7X9Q_nfZYI0i"
   },
   "source": [
    "### Stripping whitespace\n"
   ]
  },
  {
   "cell_type": "markdown",
   "metadata": {
    "id": "g_5AoR55YI0i"
   },
   "source": [
    "Check *lstrip* and *rstrip* methods:"
   ]
  },
  {
   "cell_type": "code",
   "execution_count": null,
   "metadata": {
    "id": "Agj1TThjYI0i"
   },
   "outputs": [],
   "source": [
    "name = ' \\neric '\n",
    "\n",
    "# strips only left side\n",
    "print('-' + name.lstrip() + '-')\n",
    "\n",
    "# strips only right side\n",
    "print('-' + name.rstrip() + '-')\n",
    "\n",
    "# strips on both sides\n",
    "print('-' + name.strip() + '-')"
   ]
  },
  {
   "cell_type": "markdown",
   "metadata": {
    "id": "kKXIoFqIYI0i"
   },
   "source": [
    "###  Floating-Point numbers"
   ]
  },
  {
   "cell_type": "markdown",
   "metadata": {
    "id": "YSe_BwnBYI0i"
   },
   "source": [
    "Sometimes you will get an answer with an unexpectly long decimal part:"
   ]
  },
  {
   "cell_type": "code",
   "execution_count": null,
   "metadata": {
    "id": "hQg0nlcCYI0i"
   },
   "outputs": [],
   "source": [
    "0.1+0.2"
   ]
  },
  {
   "cell_type": "markdown",
   "metadata": {
    "id": "SXhpcSaeYI0i"
   },
   "source": [
    "This happens because of the way computers represent numbers internally; this has nothing to do with Python itself. Basically, we are used to working in powers of ten, where one tenth plus two tenths is just three tenths. But computers work in powers of two. So your computer has to represent 0.1 in a power of two, and then 0.2 as a power of two, and express their sum as a power of two. There is no exact representation for 0.3 in powers of two, and we see that in the answer to 0.1+0.2.\n",
    "\n",
    "Python tries to hide this kind of stuff when possible. Don't worry about it much for now; just don't be surprised by it, and know that we will learn to clean up our results a little later on.\n",
    "\n",
    "You can also get the same kind of result with other operations."
   ]
  },
  {
   "cell_type": "code",
   "execution_count": null,
   "metadata": {
    "id": "RCdAdjcZYI0i"
   },
   "outputs": [],
   "source": [
    "3*0.1"
   ]
  },
  {
   "cell_type": "markdown",
   "metadata": {
    "id": "zFuP04EFYI0i"
   },
   "source": [
    "## License"
   ]
  },
  {
   "cell_type": "markdown",
   "metadata": {
    "id": "OS4b7syHYI0j"
   },
   "source": [
    "The MIT License (MIT)\n",
    "\n",
    "Original work Copyright (c) 2013 Eric Matthes  \n",
    "Modified work Copyright 2017 Fabian Flöck, Florian Lemmerich  \n",
    "Modified work Copyright 2019 Arnim Bleier, Indira Sen, Kenan Erdogan\\\n",
    "Modified work Copyright 2023 Indira Sen, Elena Solar, Claire Jordan, Andri Rutschmann\\\n",
    "Modified work Copyright 2023 Indira Sen, Ana Sanchez Acosta\n",
    "\n",
    "\n",
    "Permission is hereby granted, free of charge, to any person obtaining a copy of\n",
    "this software and associated documentation files (the \"Software\"), to deal in\n",
    "the Software without restriction, including without limitation the rights to\n",
    "use, copy, modify, merge, publish, distribute, sublicense, and/or sell copies of\n",
    "the Software, and to permit persons to whom the Software is furnished to do so,\n",
    "subject to the following conditions:\n",
    "\n",
    "The above copyright notice and this permission notice shall be included in all\n",
    "copies or substantial portions of the Software.\n",
    "\n",
    "THE SOFTWARE IS PROVIDED \"AS IS\", WITHOUT WARRANTY OF ANY KIND, EXPRESS OR\n",
    "IMPLIED, INCLUDING BUT NOT LIMITED TO THE WARRANTIES OF MERCHANTABILITY, FITNESS\n",
    "FOR A PARTICULAR PURPOSE AND NONINFRINGEMENT. IN NO EVENT SHALL THE AUTHORS OR\n",
    "COPYRIGHT HOLDERS BE LIABLE FOR ANY CLAIM, DAMAGES OR OTHER LIABILITY, WHETHER\n",
    "IN AN ACTION OF CONTRACT, TORT OR OTHERWISE, ARISING FROM, OUT OF OR IN\n",
    "CONNECTION WITH THE SOFTWARE OR THE USE OR OTHER DEALINGS IN THE SOFTWARE."
   ]
  },
  {
   "cell_type": "code",
   "execution_count": null,
   "metadata": {
    "id": "a0CFUEqYVyWH"
   },
   "outputs": [],
   "source": []
  }
 ],
 "metadata": {
  "colab": {
   "provenance": []
  },
  "hide_input": false,
  "kernelspec": {
   "display_name": "Python 3 (ipykernel)",
   "language": "python",
   "name": "python3"
  },
  "language_info": {
   "codemirror_mode": {
    "name": "ipython",
    "version": 3
   },
   "file_extension": ".py",
   "mimetype": "text/x-python",
   "name": "python",
   "nbconvert_exporter": "python",
   "pygments_lexer": "ipython3",
   "version": "3.11.5"
  },
  "nav_menu": {},
  "toc": {
   "base_numbering": 1,
   "nav_menu": {},
   "number_sections": true,
   "sideBar": true,
   "skip_h1_title": true,
   "title_cell": "Table of Contents",
   "title_sidebar": "Contents",
   "toc_cell": true,
   "toc_position": {
    "height": "calc(100% - 180px)",
    "left": "10px",
    "top": "150px",
    "width": "302px"
   },
   "toc_section_display": true,
   "toc_window_display": false
  },
  "varInspector": {
   "cols": {
    "lenName": 16,
    "lenType": 16,
    "lenVar": 40
   },
   "kernels_config": {
    "python": {
     "delete_cmd_postfix": "",
     "delete_cmd_prefix": "del ",
     "library": "var_list.py",
     "varRefreshCmd": "print(var_dic_list())"
    },
    "r": {
     "delete_cmd_postfix": ") ",
     "delete_cmd_prefix": "rm(",
     "library": "var_list.r",
     "varRefreshCmd": "cat(var_dic_list()) "
    }
   },
   "types_to_exclude": [
    "module",
    "function",
    "builtin_function_or_method",
    "instance",
    "_Feature"
   ],
   "window_display": false
  }
 },
 "nbformat": 4,
 "nbformat_minor": 4
}
