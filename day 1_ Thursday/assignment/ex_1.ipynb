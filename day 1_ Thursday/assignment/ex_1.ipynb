{
 "cells": [
  {
   "cell_type": "markdown",
   "metadata": {
    "id": "SN-mb9j3Yc1X"
   },
   "source": [
    "# Exercise: Introduction to Python & Basic Concepts"
   ]
  },
  {
   "cell_type": "markdown",
   "metadata": {
    "id": "QjcesK4dZSw4"
   },
   "source": [
    "## Ex 1\n",
    "\n",
    "This exercise covers variables.\n",
    "\n",
    "1. Use some of the arithmetic operations you want and do some calculations.\n",
    " 1. Optional: By using `.format()` method to print outputs in such a format \"1+1=2\"\n",
    "\n",
    "2. Define variables a = 16, b = 4 and c = 2.\n",
    " 1. Print result of a/b*c+c\n",
    " 2. Do the same calculation but force multiplication to be first and then sum and finally division (by using parentheses)\n",
    "\n",
    "3. Define a sentence and print it's length in a sentence in format of \"The length of 'sentence' is 8.\" (use `.format()` method)"
   ]
  },
  {
   "cell_type": "code",
   "execution_count": null,
   "metadata": {},
   "outputs": [],
   "source": []
  },
  {
   "cell_type": "markdown",
   "metadata": {
    "id": "SeX48MfjYc1Z"
   },
   "source": [
    "## Ex 2\n",
    "This exercise covers variables and lists"
   ]
  },
  {
   "cell_type": "markdown",
   "metadata": {
    "id": "0SF9mdqjYc1a"
   },
   "source": [
    "1. Make a list of names that includes at least five people.\n",
    "2. Write an if test that prints a message about the room being crowded, if there are more than four people in your list.\n",
    "3. Modify your list so that there are only two people in it. Use one of the methods for accessing people from the list.\n",
    "4. Add some names to your list, so that there are at least seven people in the list. Use one of the methods for appending people from the list, don't just redefine the list."
   ]
  },
  {
   "cell_type": "code",
   "execution_count": null,
   "metadata": {},
   "outputs": [],
   "source": []
  },
  {
   "cell_type": "markdown",
   "metadata": {
    "id": "72ZcTAGWYc1b"
   },
   "source": [
    "## Ex 3\n",
    "This exercise covers variables and lists"
   ]
  },
  {
   "cell_type": "markdown",
   "metadata": {
    "id": "-7-5-5waYc1b"
   },
   "source": [
    "1. Create a list of lists where each sub list holds the arguments for the function bellow. Loop this list of lists and first check if the length of inner list is not 2, then print an error message \"Length of numbers must be 2!\". Otherwise call the function and print the result of the function.\n",
    "\n",
    "2. Test your code by this list of lists: `number_lists = [[1, 1], [\"five\", 3], [5, \"three\"], [2, 2, 2], [5.5, 8]]`\n"
   ]
  },
  {
   "cell_type": "code",
   "execution_count": 1,
   "metadata": {},
   "outputs": [],
   "source": [
    "#The function is defined here \n",
    "def function(a,b): \n",
    "    print(f\"Function successfully called! The input was {a} and {b}\")"
   ]
  },
  {
   "cell_type": "code",
   "execution_count": null,
   "metadata": {},
   "outputs": [],
   "source": []
  },
  {
   "cell_type": "code",
   "execution_count": null,
   "metadata": {
    "id": "9EkA-bAZ7EC-"
   },
   "outputs": [],
   "source": []
  }
 ],
 "metadata": {
  "colab": {
   "provenance": []
  },
  "kernelspec": {
   "display_name": "Python 3 (ipykernel)",
   "language": "python",
   "name": "python3"
  },
  "language_info": {
   "codemirror_mode": {
    "name": "ipython",
    "version": 3
   },
   "file_extension": ".py",
   "mimetype": "text/x-python",
   "name": "python",
   "nbconvert_exporter": "python",
   "pygments_lexer": "ipython3",
   "version": "3.11.4"
  },
  "toc": {
   "base_numbering": 1,
   "nav_menu": {},
   "number_sections": false,
   "sideBar": false,
   "skip_h1_title": true,
   "title_cell": "Table of Contents",
   "title_sidebar": "Contents",
   "toc_cell": false,
   "toc_position": {},
   "toc_section_display": false,
   "toc_window_display": false
  }
 },
 "nbformat": 4,
 "nbformat_minor": 4
}
