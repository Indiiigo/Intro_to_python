{
 "cells": [
  {
   "cell_type": "markdown",
   "metadata": {
    "id": "SN-mb9j3Yc1X"
   },
   "source": [
    "# Exercise: Introduction to Python & Basic Concepts"
   ]
  },
  {
   "cell_type": "markdown",
   "metadata": {
    "id": "QjcesK4dZSw4"
   },
   "source": [
    "## Ex 1\n",
    "\n",
    "This exercise covers variables.\n",
    "\n",
    "1. Use some of the arithmetic operations you want and do some calculations.\n",
    " 1. Optional: By using `.format()` method to print outputs in such a format \"1+1=2\"\n",
    "\n",
    "2. Define variables a = 16, b = 4 and c = 2.\n",
    " 1. Print result of a/b*c+c\n",
    " 2. Do the same calculation but force multiplication to be first and then sum and finally division (by using parentheses)\n",
    "\n",
    "3. Define a sentence and print it's length in a sentence in format of \"The length of 'sentence' is 8.\" (use `.format()` method)"
   ]
  },
  {
   "cell_type": "code",
   "execution_count": 1,
   "metadata": {
    "colab": {
     "base_uri": "https://localhost:8080/"
    },
    "executionInfo": {
     "elapsed": 7,
     "status": "ok",
     "timestamp": 1696845936792,
     "user": {
      "displayName": "Indira Sen",
      "userId": "11191672663586892835"
     },
     "user_tz": -120
    },
    "id": "VscuYWW0ZWlM",
    "outputId": "dc77e4cd-485a-4a44-d3d7-ce1df88483b7"
   },
   "outputs": [
    {
     "name": "stdout",
     "output_type": "stream",
     "text": [
      "######## Part 1:\n",
      "1+1=2\n",
      "5-1=4\n",
      "6*3=18\n",
      "6/3=2.0\n",
      "5//3=1\n",
      "5%3=2\n",
      "2**3=8\n",
      "######## Part 2:\n",
      "a/b*c+c=10.0\n",
      "a/((b*c)+c)=1.6\n",
      "######## Part 3:\n",
      "The length of 'Define a sentence and print it's length.' is 40.\n"
     ]
    }
   ],
   "source": [
    "print(\"######## Part 1:\")\n",
    "#Use some of the arithmetic operations you want and do some calculations.\n",
    "result = 1+1\n",
    "print(\"1+1={}\".format(result))\n",
    "result = 5-1\n",
    "print(\"5-1={}\".format(result))\n",
    "result = 6*3\n",
    "print(\"6*3={}\".format(result))\n",
    "result = 6/3\n",
    "print(\"6/3={}\".format(result))\n",
    "result = 5//3\n",
    "print(\"5//3={}\".format(result))\n",
    "result = 5%3\n",
    "print(\"5%3={}\".format(result))\n",
    "result = 2**3\n",
    "print(\"2**3={}\".format(result))\n",
    "\n",
    "print(\"######## Part 2:\")\n",
    "# Define variables a = 16, b = 4 and c = 2.\n",
    "a = 16\n",
    "b = 4\n",
    "c = 2\n",
    "\n",
    "# Print result of a/b*c+c\n",
    "result = a/b*c+c\n",
    "print(\"a/b*c+c={}\".format(result))\n",
    "\n",
    "# Do the same calculation but force multiplication to be first and then sumd and finally division (by using parentheses)\n",
    "result = a/((b*c)+c)\n",
    "print(\"a/((b*c)+c)={}\".format(result))\n",
    "\n",
    "print(\"######## Part 3:\")\n",
    "# Define a sentence and print it's length.\n",
    "sent = \"Define a sentence and print it's length.\"\n",
    "print(\"The length of '{}' is {}.\".format(sent, len(sent)))"
   ]
  },
  {
   "cell_type": "markdown",
   "metadata": {
    "id": "SeX48MfjYc1Z"
   },
   "source": [
    "## Ex 2\n",
    "This exercise covers variables and lists"
   ]
  },
  {
   "cell_type": "markdown",
   "metadata": {
    "id": "0SF9mdqjYc1a"
   },
   "source": [
    "1. Make a list of names that includes at least five people.\n",
    "2. Write an if test that prints a message about the room being crowded, if there are more than four people in your list.\n",
    "3. Modify your list so that there are only two people in it. Use one of the methods for removing people from the list, don't just redefine the list.\n",
    "4. Add some names to your list, so that there are at least seven people in the list. Use one of the methods for appending people from the list, don't just redefine the list."
   ]
  },
  {
   "cell_type": "code",
   "execution_count": 1,
   "metadata": {
    "colab": {
     "base_uri": "https://localhost:8080/"
    },
    "executionInfo": {
     "elapsed": 264,
     "status": "ok",
     "timestamp": 1696846043604,
     "user": {
      "displayName": "Indira Sen",
      "userId": "11191672663586892835"
     },
     "user_tz": -120
    },
    "id": "t4SnJYWHYc1a",
    "outputId": "50561fcb-a29f-4872-9c4f-61e126a64a6f"
   },
   "outputs": [
    {
     "name": "stdout",
     "output_type": "stream",
     "text": [
      "####### step 1\n",
      "['adele', 'ken', 'cody', 'caroline', 'tiana']\n",
      "####### step 2\n",
      "The room is crowded, there are 5 people.\n",
      "####### step 3\n",
      "['adele', 'tiana']\n",
      "####### step 4\n"
     ]
    }
   ],
   "source": [
    "print(\"####### step 1\")\n",
    "# Make a list of names that includes at least five people.\n",
    "people = [\"adele\", \"ken\", \"cody\", \"caroline\", \"tiana\"]\n",
    "print(people)\n",
    "\n",
    "print(\"####### step 2\")\n",
    "# Write an if test that prints a message about the room being crowded, if there are more than four people in your list.\n",
    "if len(people) >= 4:\n",
    "    print(\"The room is crowded, there are {} people.\".format(len(people)))\n",
    "\n",
    "print(\"####### step 3\")\n",
    "# Modify your list so that there are only two people in it.\n",
    "people.remove(\"cody\")\n",
    "people.remove(\"caroline\")\n",
    "people.remove(\"ken\")\n",
    "print(people)\n",
    "\n",
    "print(\"####### step 4\")\n",
    "# Add some names to your list, so that there are at least seven people in the list.\n",
    "people.append(\"cody\")\n",
    "people.append(\"caroline\")\n",
    "people.append(\"adriana\")\n",
    "people.append(\"billy\")"
   ]
  },
  {
   "cell_type": "markdown",
   "metadata": {
    "id": "72ZcTAGWYc1b"
   },
   "source": [
    "## Ex 3\n",
    "This exercise covers variables and lists"
   ]
  },
  {
   "cell_type": "markdown",
   "metadata": {
    "id": "-7-5-5waYc1b"
   },
   "source": [
    "1. Create a list of lists where each sub list holds the arguments for the function. Loop this list of lists and first check if the length of inner list is not 2, then print an error message \"Length of numbers must be 2!\" and continue to the next iteration (use the `continue` statement). Otherwise call the function and print the result of the function.\n",
    "\n",
    "2. Test your code by this list of lists: `number_lists = [[1, 1], [\"five\", 3], [5, \"three\"], [2, 2, 2], [5.5, 8]]`\n",
    "\n",
    "3. Replace `continue` statement with `break` statement and run your code again. Could you notice the difference?"
   ]
  },
  {
   "cell_type": "code",
   "execution_count": 4,
   "metadata": {
    "colab": {
     "base_uri": "https://localhost:8080/"
    },
    "executionInfo": {
     "elapsed": 236,
     "status": "ok",
     "timestamp": 1696846318095,
     "user": {
      "displayName": "Indira Sen",
      "userId": "11191672663586892835"
     },
     "user_tz": -120
    },
    "id": "BRivZfxYYc1b",
    "outputId": "98fde862-86c0-4658-b4c5-46d781fd3fcd"
   },
   "outputs": [
    {
     "name": "stdout",
     "output_type": "stream",
     "text": [
      "1 1 : 1\n",
      "Invalid input: five\n",
      "five 3 : 0\n",
      "Invalid input: three\n",
      "5 three : 0\n",
      "Length of numbers must be 2!\n",
      "5.5 8 : 44.0\n"
     ]
    }
   ],
   "source": [
    "number_lists = [[1, 1], [\"five\", 3], [5, \"three\"], [2, 2, 2], [5.5, 8]]\n",
    "for numbers in number_lists:\n",
    "    if len(numbers) != 2:\n",
    "        print(\"Length of numbers must be 2!\")\n",
    "        continue\n",
    "    else:\n",
    "        result = 0\n",
    "        # check type of first number, it must be int or float\n",
    "        n1 = numbers[0]\n",
    "        n2 = numbers[1]\n",
    "        if type(n1) != int and type(n1) != float:\n",
    "          print(\"Invalid input: {}\".format(n1))\n",
    "        # check type of second number, it must be int or float\n",
    "        elif type(n2) != int and type(n2) != float:\n",
    "          print(\"Invalid input: {}\".format(n2))\n",
    "        else:\n",
    "          # do the calculation and return the result\n",
    "          result = n1 * n2\n",
    "\n",
    "        print(numbers[0], numbers[1], \":\", result)"
   ]
  },
  {
   "cell_type": "code",
   "execution_count": 5,
   "metadata": {
    "colab": {
     "base_uri": "https://localhost:8080/"
    },
    "executionInfo": {
     "elapsed": 257,
     "status": "ok",
     "timestamp": 1696846332965,
     "user": {
      "displayName": "Indira Sen",
      "userId": "11191672663586892835"
     },
     "user_tz": -120
    },
    "id": "wPiWEzm1Yc1c",
    "outputId": "a6cbc065-a6d3-4272-a06c-acd4392a4b89"
   },
   "outputs": [
    {
     "name": "stdout",
     "output_type": "stream",
     "text": [
      "1 1 : 1\n",
      "Invalid input: five\n",
      "five 3 : 0\n",
      "Invalid input: three\n",
      "5 three : 0\n",
      "Length of numbers must be 2!\n"
     ]
    }
   ],
   "source": [
    "number_lists = [[1, 1], [\"five\", 3], [5, \"three\"], [2, 2, 2], [5.5, 8]]\n",
    "for numbers in number_lists:\n",
    "    if len(numbers) != 2:\n",
    "        print(\"Length of numbers must be 2!\")\n",
    "        break\n",
    "    else:\n",
    "        result = 0\n",
    "        # check type of first number, it must be int or float\n",
    "        n1 = numbers[0]\n",
    "        n2 = numbers[1]\n",
    "        if type(n1) != int and type(n1) != float:\n",
    "          print(\"Invalid input: {}\".format(n1))\n",
    "        # check type of second number, it must be int or float\n",
    "        elif type(n2) != int and type(n2) != float:\n",
    "          print(\"Invalid input: {}\".format(n2))\n",
    "        else:\n",
    "          # do the calculation and return the result\n",
    "          result = n1 * n2\n",
    "\n",
    "        print(numbers[0], numbers[1], \":\", result)"
   ]
  },
  {
   "cell_type": "code",
   "execution_count": null,
   "metadata": {
    "id": "9EkA-bAZ7EC-"
   },
   "outputs": [],
   "source": []
  }
 ],
 "metadata": {
  "colab": {
   "provenance": []
  },
  "kernelspec": {
   "display_name": "Python 3 (ipykernel)",
   "language": "python",
   "name": "python3"
  },
  "language_info": {
   "codemirror_mode": {
    "name": "ipython",
    "version": 3
   },
   "file_extension": ".py",
   "mimetype": "text/x-python",
   "name": "python",
   "nbconvert_exporter": "python",
   "pygments_lexer": "ipython3",
   "version": "3.10.7"
  },
  "toc": {
   "base_numbering": 1,
   "nav_menu": {},
   "number_sections": false,
   "sideBar": false,
   "skip_h1_title": true,
   "title_cell": "Table of Contents",
   "title_sidebar": "Contents",
   "toc_cell": false,
   "toc_position": {},
   "toc_section_display": false,
   "toc_window_display": false
  }
 },
 "nbformat": 4,
 "nbformat_minor": 4
}
